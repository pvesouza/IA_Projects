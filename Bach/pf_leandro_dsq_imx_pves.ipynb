{
  "cells": [
    {
      "cell_type": "markdown",
      "metadata": {
        "id": "NsZi92fXNNaK"
      },
      "source": [
        "**Projeto Final:** Análise exploratória dos dados\n",
        "\n",
        "**Alunos:** Daniel de Souza Queiroga, Igor de Melo Xavier, Pedro Victor Eugenio Souza\n",
        "\n",
        "**Disciplina:** IN1102 - APRENDIZAGEM DE MÁQUINA\n",
        "\n",
        "**Professor:** Leandro Maciel Almeida"
      ]
    },
    {
      "cell_type": "code",
      "execution_count": null,
      "metadata": {
        "id": "ebCIGqPusUJk"
      },
      "outputs": [],
      "source": [
        "!wget -q https://dansq.github.io/dataset_choral.csv"
      ]
    },
    {
      "cell_type": "code",
      "source": [
        "pip install scikit-posthocs"
      ],
      "metadata": {
        "colab": {
          "base_uri": "https://localhost:8080/"
        },
        "id": "WgxSluGV0EGu",
        "outputId": "e5815bb4-b41e-46e9-bbef-1b97e7d39e27"
      },
      "execution_count": null,
      "outputs": [
        {
          "output_type": "stream",
          "name": "stdout",
          "text": [
            "Looking in indexes: https://pypi.org/simple, https://us-python.pkg.dev/colab-wheels/public/simple/\n",
            "Collecting scikit-posthocs\n",
            "  Downloading scikit_posthocs-0.7.0-py3-none-any.whl (38 kB)\n",
            "Requirement already satisfied: numpy in /usr/local/lib/python3.7/dist-packages (from scikit-posthocs) (1.21.6)\n",
            "Requirement already satisfied: statsmodels in /usr/local/lib/python3.7/dist-packages (from scikit-posthocs) (0.10.2)\n",
            "Requirement already satisfied: matplotlib in /usr/local/lib/python3.7/dist-packages (from scikit-posthocs) (3.2.2)\n",
            "Requirement already satisfied: scipy in /usr/local/lib/python3.7/dist-packages (from scikit-posthocs) (1.4.1)\n",
            "Requirement already satisfied: seaborn in /usr/local/lib/python3.7/dist-packages (from scikit-posthocs) (0.11.2)\n",
            "Requirement already satisfied: pandas>=0.20.0 in /usr/local/lib/python3.7/dist-packages (from scikit-posthocs) (1.3.5)\n",
            "Requirement already satisfied: pytz>=2017.3 in /usr/local/lib/python3.7/dist-packages (from pandas>=0.20.0->scikit-posthocs) (2022.1)\n",
            "Requirement already satisfied: python-dateutil>=2.7.3 in /usr/local/lib/python3.7/dist-packages (from pandas>=0.20.0->scikit-posthocs) (2.8.2)\n",
            "Requirement already satisfied: six>=1.5 in /usr/local/lib/python3.7/dist-packages (from python-dateutil>=2.7.3->pandas>=0.20.0->scikit-posthocs) (1.15.0)\n",
            "Requirement already satisfied: cycler>=0.10 in /usr/local/lib/python3.7/dist-packages (from matplotlib->scikit-posthocs) (0.11.0)\n",
            "Requirement already satisfied: kiwisolver>=1.0.1 in /usr/local/lib/python3.7/dist-packages (from matplotlib->scikit-posthocs) (1.4.3)\n",
            "Requirement already satisfied: pyparsing!=2.0.4,!=2.1.2,!=2.1.6,>=2.0.1 in /usr/local/lib/python3.7/dist-packages (from matplotlib->scikit-posthocs) (3.0.9)\n",
            "Requirement already satisfied: typing-extensions in /usr/local/lib/python3.7/dist-packages (from kiwisolver>=1.0.1->matplotlib->scikit-posthocs) (4.1.1)\n",
            "Requirement already satisfied: patsy>=0.4.0 in /usr/local/lib/python3.7/dist-packages (from statsmodels->scikit-posthocs) (0.5.2)\n",
            "Installing collected packages: scikit-posthocs\n",
            "Successfully installed scikit-posthocs-0.7.0\n"
          ]
        }
      ]
    },
    {
      "cell_type": "code",
      "source": [
        "!pip install sklvq"
      ],
      "metadata": {
        "id": "meRuyEvdk4mI",
        "colab": {
          "base_uri": "https://localhost:8080/"
        },
        "outputId": "df9efa88-bb86-4015-fbbb-ce988ac8b414"
      },
      "execution_count": null,
      "outputs": [
        {
          "output_type": "stream",
          "name": "stdout",
          "text": [
            "Looking in indexes: https://pypi.org/simple, https://us-python.pkg.dev/colab-wheels/public/simple/\n",
            "Collecting sklvq\n",
            "  Downloading sklvq-0.1.2-py3-none-any.whl (71 kB)\n",
            "\u001b[K     |████████████████████████████████| 71 kB 5.1 MB/s \n",
            "\u001b[?25hRequirement already satisfied: scipy>=1.1.0 in /usr/local/lib/python3.7/dist-packages (from sklvq) (1.4.1)\n",
            "Requirement already satisfied: scikit-learn>=0.23.2 in /usr/local/lib/python3.7/dist-packages (from sklvq) (1.0.2)\n",
            "Requirement already satisfied: numpy>=1.14.0 in /usr/local/lib/python3.7/dist-packages (from sklvq) (1.21.6)\n",
            "Requirement already satisfied: threadpoolctl>=2.0.0 in /usr/local/lib/python3.7/dist-packages (from scikit-learn>=0.23.2->sklvq) (3.1.0)\n",
            "Requirement already satisfied: joblib>=0.11 in /usr/local/lib/python3.7/dist-packages (from scikit-learn>=0.23.2->sklvq) (1.1.0)\n",
            "Installing collected packages: sklvq\n",
            "Successfully installed sklvq-0.1.2\n"
          ]
        }
      ]
    },
    {
      "cell_type": "code",
      "execution_count": null,
      "metadata": {
        "id": "Y3x-P2Co3hCx"
      },
      "outputs": [],
      "source": [
        "import pandas as pd\n",
        "import matplotlib.pyplot as plt\n",
        "import seaborn as sns\n",
        "import numpy as np\n",
        "import scikit_posthocs as sp\n",
        "\n",
        "from scipy import stats\n",
        "\n",
        "from sklvq import GLVQ\n",
        "from sklearn.neighbors import KNeighborsClassifier\n",
        "from sklearn.svm import SVC\n",
        "from sklearn.tree import DecisionTreeClassifier\n",
        "from sklearn.ensemble import RandomForestClassifier, VotingClassifier, BaggingClassifier\n",
        "from sklearn.neural_network import MLPClassifier\n",
        "\n",
        "from sklearn.metrics import classification_report, confusion_matrix, RocCurveDisplay, ConfusionMatrixDisplay\n",
        "\n",
        "from sklearn.feature_selection import SelectKBest, chi2\n",
        "from sklearn.preprocessing import MinMaxScaler\n",
        "from sklearn.model_selection import RepeatedStratifiedKFold, RandomizedSearchCV, \\\n",
        "                                    StratifiedKFold, train_test_split, cross_val_score\n",
        "\n",
        "seed_value = 65879\n",
        "import random\n",
        "random.seed(seed_value)\n",
        "\n",
        "from warnings import filterwarnings\n",
        "filterwarnings('ignore')\n",
        "\n"
      ]
    },
    {
      "cell_type": "code",
      "execution_count": null,
      "metadata": {
        "id": "tHNKlx23O7he"
      },
      "outputs": [],
      "source": [
        "ds_path = '/content/dataset_choral.csv'\n",
        "choral_df = pd.read_csv(ds_path)"
      ]
    },
    {
      "cell_type": "code",
      "execution_count": null,
      "metadata": {
        "colab": {
          "base_uri": "https://localhost:8080/",
          "height": 485
        },
        "id": "oA67mfOT3t7P",
        "outputId": "bbfce175-437e-4d7c-c12b-b3746fe70e4a"
      },
      "outputs": [
        {
          "output_type": "execute_result",
          "data": {
            "text/plain": [
              "     Choral ID  Event number Pitch classe: C  Pitch classe: C#/Db   \\\n",
              "0     000106b_             1              YES                   NO   \n",
              "1     000106b_             2              YES                   NO   \n",
              "2     000106b_             3              YES                   NO   \n",
              "3     000106b_             4              YES                   NO   \n",
              "4     000106b_             5              YES                   NO   \n",
              "...        ...           ...              ...                  ...   \n",
              "5660  015505b_           105               NO                   NO   \n",
              "5661  015505b_           106               NO                   NO   \n",
              "5662  015505b_           107              YES                   NO   \n",
              "5663  015505b_           108              YES                   NO   \n",
              "5664  015505b_           109               NO                   NO   \n",
              "\n",
              "     Pitch classe: D  Pitch classe: D#  Pitch classe: E Pitch classe: F   \\\n",
              "0                  NO                NO              NO              YES   \n",
              "1                  NO                NO             YES               NO   \n",
              "2                  NO                NO             YES               NO   \n",
              "3                  NO                NO              NO              YES   \n",
              "4                  NO                NO              NO              YES   \n",
              "...               ...               ...             ...              ...   \n",
              "5660              YES                NO              NO               NO   \n",
              "5661              YES                NO              NO               NO   \n",
              "5662               NO                NO             YES               NO   \n",
              "5663               NO                NO             YES               NO   \n",
              "5664               NO                NO              NO              YES   \n",
              "\n",
              "     Pitch classe: F# Pitch classe: G Pitch classe: G# Pitch classe: A  \\\n",
              "0                  NO              NO               NO             YES   \n",
              "1                  NO             YES               NO              NO   \n",
              "2                  NO             YES               NO              NO   \n",
              "3                  NO              NO               NO             YES   \n",
              "4                  NO              NO               NO             YES   \n",
              "...               ...             ...              ...             ...   \n",
              "5660               NO             YES               NO              NO   \n",
              "5661               NO             YES               NO             YES   \n",
              "5662               NO             YES               NO              NO   \n",
              "5663               NO             YES               NO              NO   \n",
              "5664               NO              NO               NO             YES   \n",
              "\n",
              "     Pitch classe: A# Pitch classe: B Bass  Meter Chord label  \n",
              "0                  NO              NO    F      3         F_M  \n",
              "1                  NO              NO    E      5         C_M  \n",
              "2                  NO              NO    E      2         C_M  \n",
              "3                  NO              NO    F      3         F_M  \n",
              "4                  NO              NO    F      2         F_M  \n",
              "...               ...             ...  ...    ...         ...  \n",
              "5660              YES              NO    G      4         G_m  \n",
              "5661               NO              NO    G      3         G_m  \n",
              "5662               NO              NO    C      5         C_M  \n",
              "5663              YES              NO    C      3         C_M  \n",
              "5664               NO              NO    F      4         F_M  \n",
              "\n",
              "[5665 rows x 17 columns]"
            ],
            "text/html": [
              "\n",
              "  <div id=\"df-3fb24e22-69cb-45ae-89f3-ebb2356e8e6c\">\n",
              "    <div class=\"colab-df-container\">\n",
              "      <div>\n",
              "<style scoped>\n",
              "    .dataframe tbody tr th:only-of-type {\n",
              "        vertical-align: middle;\n",
              "    }\n",
              "\n",
              "    .dataframe tbody tr th {\n",
              "        vertical-align: top;\n",
              "    }\n",
              "\n",
              "    .dataframe thead th {\n",
              "        text-align: right;\n",
              "    }\n",
              "</style>\n",
              "<table border=\"1\" class=\"dataframe\">\n",
              "  <thead>\n",
              "    <tr style=\"text-align: right;\">\n",
              "      <th></th>\n",
              "      <th>Choral ID</th>\n",
              "      <th>Event number</th>\n",
              "      <th>Pitch classe: C</th>\n",
              "      <th>Pitch classe: C#/Db</th>\n",
              "      <th>Pitch classe: D</th>\n",
              "      <th>Pitch classe: D#</th>\n",
              "      <th>Pitch classe: E</th>\n",
              "      <th>Pitch classe: F</th>\n",
              "      <th>Pitch classe: F#</th>\n",
              "      <th>Pitch classe: G</th>\n",
              "      <th>Pitch classe: G#</th>\n",
              "      <th>Pitch classe: A</th>\n",
              "      <th>Pitch classe: A#</th>\n",
              "      <th>Pitch classe: B</th>\n",
              "      <th>Bass</th>\n",
              "      <th>Meter</th>\n",
              "      <th>Chord label</th>\n",
              "    </tr>\n",
              "  </thead>\n",
              "  <tbody>\n",
              "    <tr>\n",
              "      <th>0</th>\n",
              "      <td>000106b_</td>\n",
              "      <td>1</td>\n",
              "      <td>YES</td>\n",
              "      <td>NO</td>\n",
              "      <td>NO</td>\n",
              "      <td>NO</td>\n",
              "      <td>NO</td>\n",
              "      <td>YES</td>\n",
              "      <td>NO</td>\n",
              "      <td>NO</td>\n",
              "      <td>NO</td>\n",
              "      <td>YES</td>\n",
              "      <td>NO</td>\n",
              "      <td>NO</td>\n",
              "      <td>F</td>\n",
              "      <td>3</td>\n",
              "      <td>F_M</td>\n",
              "    </tr>\n",
              "    <tr>\n",
              "      <th>1</th>\n",
              "      <td>000106b_</td>\n",
              "      <td>2</td>\n",
              "      <td>YES</td>\n",
              "      <td>NO</td>\n",
              "      <td>NO</td>\n",
              "      <td>NO</td>\n",
              "      <td>YES</td>\n",
              "      <td>NO</td>\n",
              "      <td>NO</td>\n",
              "      <td>YES</td>\n",
              "      <td>NO</td>\n",
              "      <td>NO</td>\n",
              "      <td>NO</td>\n",
              "      <td>NO</td>\n",
              "      <td>E</td>\n",
              "      <td>5</td>\n",
              "      <td>C_M</td>\n",
              "    </tr>\n",
              "    <tr>\n",
              "      <th>2</th>\n",
              "      <td>000106b_</td>\n",
              "      <td>3</td>\n",
              "      <td>YES</td>\n",
              "      <td>NO</td>\n",
              "      <td>NO</td>\n",
              "      <td>NO</td>\n",
              "      <td>YES</td>\n",
              "      <td>NO</td>\n",
              "      <td>NO</td>\n",
              "      <td>YES</td>\n",
              "      <td>NO</td>\n",
              "      <td>NO</td>\n",
              "      <td>NO</td>\n",
              "      <td>NO</td>\n",
              "      <td>E</td>\n",
              "      <td>2</td>\n",
              "      <td>C_M</td>\n",
              "    </tr>\n",
              "    <tr>\n",
              "      <th>3</th>\n",
              "      <td>000106b_</td>\n",
              "      <td>4</td>\n",
              "      <td>YES</td>\n",
              "      <td>NO</td>\n",
              "      <td>NO</td>\n",
              "      <td>NO</td>\n",
              "      <td>NO</td>\n",
              "      <td>YES</td>\n",
              "      <td>NO</td>\n",
              "      <td>NO</td>\n",
              "      <td>NO</td>\n",
              "      <td>YES</td>\n",
              "      <td>NO</td>\n",
              "      <td>NO</td>\n",
              "      <td>F</td>\n",
              "      <td>3</td>\n",
              "      <td>F_M</td>\n",
              "    </tr>\n",
              "    <tr>\n",
              "      <th>4</th>\n",
              "      <td>000106b_</td>\n",
              "      <td>5</td>\n",
              "      <td>YES</td>\n",
              "      <td>NO</td>\n",
              "      <td>NO</td>\n",
              "      <td>NO</td>\n",
              "      <td>NO</td>\n",
              "      <td>YES</td>\n",
              "      <td>NO</td>\n",
              "      <td>NO</td>\n",
              "      <td>NO</td>\n",
              "      <td>YES</td>\n",
              "      <td>NO</td>\n",
              "      <td>NO</td>\n",
              "      <td>F</td>\n",
              "      <td>2</td>\n",
              "      <td>F_M</td>\n",
              "    </tr>\n",
              "    <tr>\n",
              "      <th>...</th>\n",
              "      <td>...</td>\n",
              "      <td>...</td>\n",
              "      <td>...</td>\n",
              "      <td>...</td>\n",
              "      <td>...</td>\n",
              "      <td>...</td>\n",
              "      <td>...</td>\n",
              "      <td>...</td>\n",
              "      <td>...</td>\n",
              "      <td>...</td>\n",
              "      <td>...</td>\n",
              "      <td>...</td>\n",
              "      <td>...</td>\n",
              "      <td>...</td>\n",
              "      <td>...</td>\n",
              "      <td>...</td>\n",
              "      <td>...</td>\n",
              "    </tr>\n",
              "    <tr>\n",
              "      <th>5660</th>\n",
              "      <td>015505b_</td>\n",
              "      <td>105</td>\n",
              "      <td>NO</td>\n",
              "      <td>NO</td>\n",
              "      <td>YES</td>\n",
              "      <td>NO</td>\n",
              "      <td>NO</td>\n",
              "      <td>NO</td>\n",
              "      <td>NO</td>\n",
              "      <td>YES</td>\n",
              "      <td>NO</td>\n",
              "      <td>NO</td>\n",
              "      <td>YES</td>\n",
              "      <td>NO</td>\n",
              "      <td>G</td>\n",
              "      <td>4</td>\n",
              "      <td>G_m</td>\n",
              "    </tr>\n",
              "    <tr>\n",
              "      <th>5661</th>\n",
              "      <td>015505b_</td>\n",
              "      <td>106</td>\n",
              "      <td>NO</td>\n",
              "      <td>NO</td>\n",
              "      <td>YES</td>\n",
              "      <td>NO</td>\n",
              "      <td>NO</td>\n",
              "      <td>NO</td>\n",
              "      <td>NO</td>\n",
              "      <td>YES</td>\n",
              "      <td>NO</td>\n",
              "      <td>YES</td>\n",
              "      <td>NO</td>\n",
              "      <td>NO</td>\n",
              "      <td>G</td>\n",
              "      <td>3</td>\n",
              "      <td>G_m</td>\n",
              "    </tr>\n",
              "    <tr>\n",
              "      <th>5662</th>\n",
              "      <td>015505b_</td>\n",
              "      <td>107</td>\n",
              "      <td>YES</td>\n",
              "      <td>NO</td>\n",
              "      <td>NO</td>\n",
              "      <td>NO</td>\n",
              "      <td>YES</td>\n",
              "      <td>NO</td>\n",
              "      <td>NO</td>\n",
              "      <td>YES</td>\n",
              "      <td>NO</td>\n",
              "      <td>NO</td>\n",
              "      <td>NO</td>\n",
              "      <td>NO</td>\n",
              "      <td>C</td>\n",
              "      <td>5</td>\n",
              "      <td>C_M</td>\n",
              "    </tr>\n",
              "    <tr>\n",
              "      <th>5663</th>\n",
              "      <td>015505b_</td>\n",
              "      <td>108</td>\n",
              "      <td>YES</td>\n",
              "      <td>NO</td>\n",
              "      <td>NO</td>\n",
              "      <td>NO</td>\n",
              "      <td>YES</td>\n",
              "      <td>NO</td>\n",
              "      <td>NO</td>\n",
              "      <td>YES</td>\n",
              "      <td>NO</td>\n",
              "      <td>NO</td>\n",
              "      <td>YES</td>\n",
              "      <td>NO</td>\n",
              "      <td>C</td>\n",
              "      <td>3</td>\n",
              "      <td>C_M</td>\n",
              "    </tr>\n",
              "    <tr>\n",
              "      <th>5664</th>\n",
              "      <td>015505b_</td>\n",
              "      <td>109</td>\n",
              "      <td>NO</td>\n",
              "      <td>NO</td>\n",
              "      <td>NO</td>\n",
              "      <td>NO</td>\n",
              "      <td>NO</td>\n",
              "      <td>YES</td>\n",
              "      <td>NO</td>\n",
              "      <td>NO</td>\n",
              "      <td>NO</td>\n",
              "      <td>YES</td>\n",
              "      <td>NO</td>\n",
              "      <td>NO</td>\n",
              "      <td>F</td>\n",
              "      <td>4</td>\n",
              "      <td>F_M</td>\n",
              "    </tr>\n",
              "  </tbody>\n",
              "</table>\n",
              "<p>5665 rows × 17 columns</p>\n",
              "</div>\n",
              "      <button class=\"colab-df-convert\" onclick=\"convertToInteractive('df-3fb24e22-69cb-45ae-89f3-ebb2356e8e6c')\"\n",
              "              title=\"Convert this dataframe to an interactive table.\"\n",
              "              style=\"display:none;\">\n",
              "        \n",
              "  <svg xmlns=\"http://www.w3.org/2000/svg\" height=\"24px\"viewBox=\"0 0 24 24\"\n",
              "       width=\"24px\">\n",
              "    <path d=\"M0 0h24v24H0V0z\" fill=\"none\"/>\n",
              "    <path d=\"M18.56 5.44l.94 2.06.94-2.06 2.06-.94-2.06-.94-.94-2.06-.94 2.06-2.06.94zm-11 1L8.5 8.5l.94-2.06 2.06-.94-2.06-.94L8.5 2.5l-.94 2.06-2.06.94zm10 10l.94 2.06.94-2.06 2.06-.94-2.06-.94-.94-2.06-.94 2.06-2.06.94z\"/><path d=\"M17.41 7.96l-1.37-1.37c-.4-.4-.92-.59-1.43-.59-.52 0-1.04.2-1.43.59L10.3 9.45l-7.72 7.72c-.78.78-.78 2.05 0 2.83L4 21.41c.39.39.9.59 1.41.59.51 0 1.02-.2 1.41-.59l7.78-7.78 2.81-2.81c.8-.78.8-2.07 0-2.86zM5.41 20L4 18.59l7.72-7.72 1.47 1.35L5.41 20z\"/>\n",
              "  </svg>\n",
              "      </button>\n",
              "      \n",
              "  <style>\n",
              "    .colab-df-container {\n",
              "      display:flex;\n",
              "      flex-wrap:wrap;\n",
              "      gap: 12px;\n",
              "    }\n",
              "\n",
              "    .colab-df-convert {\n",
              "      background-color: #E8F0FE;\n",
              "      border: none;\n",
              "      border-radius: 50%;\n",
              "      cursor: pointer;\n",
              "      display: none;\n",
              "      fill: #1967D2;\n",
              "      height: 32px;\n",
              "      padding: 0 0 0 0;\n",
              "      width: 32px;\n",
              "    }\n",
              "\n",
              "    .colab-df-convert:hover {\n",
              "      background-color: #E2EBFA;\n",
              "      box-shadow: 0px 1px 2px rgba(60, 64, 67, 0.3), 0px 1px 3px 1px rgba(60, 64, 67, 0.15);\n",
              "      fill: #174EA6;\n",
              "    }\n",
              "\n",
              "    [theme=dark] .colab-df-convert {\n",
              "      background-color: #3B4455;\n",
              "      fill: #D2E3FC;\n",
              "    }\n",
              "\n",
              "    [theme=dark] .colab-df-convert:hover {\n",
              "      background-color: #434B5C;\n",
              "      box-shadow: 0px 1px 3px 1px rgba(0, 0, 0, 0.15);\n",
              "      filter: drop-shadow(0px 1px 2px rgba(0, 0, 0, 0.3));\n",
              "      fill: #FFFFFF;\n",
              "    }\n",
              "  </style>\n",
              "\n",
              "      <script>\n",
              "        const buttonEl =\n",
              "          document.querySelector('#df-3fb24e22-69cb-45ae-89f3-ebb2356e8e6c button.colab-df-convert');\n",
              "        buttonEl.style.display =\n",
              "          google.colab.kernel.accessAllowed ? 'block' : 'none';\n",
              "\n",
              "        async function convertToInteractive(key) {\n",
              "          const element = document.querySelector('#df-3fb24e22-69cb-45ae-89f3-ebb2356e8e6c');\n",
              "          const dataTable =\n",
              "            await google.colab.kernel.invokeFunction('convertToInteractive',\n",
              "                                                     [key], {});\n",
              "          if (!dataTable) return;\n",
              "\n",
              "          const docLinkHtml = 'Like what you see? Visit the ' +\n",
              "            '<a target=\"_blank\" href=https://colab.research.google.com/notebooks/data_table.ipynb>data table notebook</a>'\n",
              "            + ' to learn more about interactive tables.';\n",
              "          element.innerHTML = '';\n",
              "          dataTable['output_type'] = 'display_data';\n",
              "          await google.colab.output.renderOutput(dataTable, element);\n",
              "          const docLink = document.createElement('div');\n",
              "          docLink.innerHTML = docLinkHtml;\n",
              "          element.appendChild(docLink);\n",
              "        }\n",
              "      </script>\n",
              "    </div>\n",
              "  </div>\n",
              "  "
            ]
          },
          "metadata": {},
          "execution_count": 6
        }
      ],
      "source": [
        "choral_df"
      ]
    },
    {
      "cell_type": "markdown",
      "metadata": {
        "id": "lNoHjWWG4Iqw"
      },
      "source": [
        "# Verificando a distribuição das classes reposta"
      ]
    },
    {
      "cell_type": "code",
      "execution_count": null,
      "metadata": {
        "id": "gVWEg3764HKY"
      },
      "outputs": [],
      "source": [
        "chords_frequencies = choral_df['Chord label'].value_counts()\n",
        "chords_percentages = choral_df['Chord label'].value_counts(normalize = True) * 100"
      ]
    },
    {
      "cell_type": "code",
      "execution_count": null,
      "metadata": {
        "colab": {
          "base_uri": "https://localhost:8080/",
          "height": 424
        },
        "id": "eRdnYYyH44EW",
        "outputId": "c684efdb-820b-41a2-933a-5327a1fb43a7"
      },
      "outputs": [
        {
          "output_type": "execute_result",
          "data": {
            "text/plain": [
              "      frequency  percentage (%)\n",
              "D_M         503        8.879082\n",
              "G_M         489        8.631951\n",
              "C_M         488        8.614298\n",
              "F_M         389        6.866726\n",
              "A_M         352        6.213592\n",
              "...         ...             ...\n",
              "F_d7          1        0.017652\n",
              "DbM7          1        0.017652\n",
              "Ebd           1        0.017652\n",
              "Abd           1        0.017652\n",
              "F#d7          1        0.017652\n",
              "\n",
              "[102 rows x 2 columns]"
            ],
            "text/html": [
              "\n",
              "  <div id=\"df-d6aecfd0-fe6a-440e-9390-ea75a2fbf173\">\n",
              "    <div class=\"colab-df-container\">\n",
              "      <div>\n",
              "<style scoped>\n",
              "    .dataframe tbody tr th:only-of-type {\n",
              "        vertical-align: middle;\n",
              "    }\n",
              "\n",
              "    .dataframe tbody tr th {\n",
              "        vertical-align: top;\n",
              "    }\n",
              "\n",
              "    .dataframe thead th {\n",
              "        text-align: right;\n",
              "    }\n",
              "</style>\n",
              "<table border=\"1\" class=\"dataframe\">\n",
              "  <thead>\n",
              "    <tr style=\"text-align: right;\">\n",
              "      <th></th>\n",
              "      <th>frequency</th>\n",
              "      <th>percentage (%)</th>\n",
              "    </tr>\n",
              "  </thead>\n",
              "  <tbody>\n",
              "    <tr>\n",
              "      <th>D_M</th>\n",
              "      <td>503</td>\n",
              "      <td>8.879082</td>\n",
              "    </tr>\n",
              "    <tr>\n",
              "      <th>G_M</th>\n",
              "      <td>489</td>\n",
              "      <td>8.631951</td>\n",
              "    </tr>\n",
              "    <tr>\n",
              "      <th>C_M</th>\n",
              "      <td>488</td>\n",
              "      <td>8.614298</td>\n",
              "    </tr>\n",
              "    <tr>\n",
              "      <th>F_M</th>\n",
              "      <td>389</td>\n",
              "      <td>6.866726</td>\n",
              "    </tr>\n",
              "    <tr>\n",
              "      <th>A_M</th>\n",
              "      <td>352</td>\n",
              "      <td>6.213592</td>\n",
              "    </tr>\n",
              "    <tr>\n",
              "      <th>...</th>\n",
              "      <td>...</td>\n",
              "      <td>...</td>\n",
              "    </tr>\n",
              "    <tr>\n",
              "      <th>F_d7</th>\n",
              "      <td>1</td>\n",
              "      <td>0.017652</td>\n",
              "    </tr>\n",
              "    <tr>\n",
              "      <th>DbM7</th>\n",
              "      <td>1</td>\n",
              "      <td>0.017652</td>\n",
              "    </tr>\n",
              "    <tr>\n",
              "      <th>Ebd</th>\n",
              "      <td>1</td>\n",
              "      <td>0.017652</td>\n",
              "    </tr>\n",
              "    <tr>\n",
              "      <th>Abd</th>\n",
              "      <td>1</td>\n",
              "      <td>0.017652</td>\n",
              "    </tr>\n",
              "    <tr>\n",
              "      <th>F#d7</th>\n",
              "      <td>1</td>\n",
              "      <td>0.017652</td>\n",
              "    </tr>\n",
              "  </tbody>\n",
              "</table>\n",
              "<p>102 rows × 2 columns</p>\n",
              "</div>\n",
              "      <button class=\"colab-df-convert\" onclick=\"convertToInteractive('df-d6aecfd0-fe6a-440e-9390-ea75a2fbf173')\"\n",
              "              title=\"Convert this dataframe to an interactive table.\"\n",
              "              style=\"display:none;\">\n",
              "        \n",
              "  <svg xmlns=\"http://www.w3.org/2000/svg\" height=\"24px\"viewBox=\"0 0 24 24\"\n",
              "       width=\"24px\">\n",
              "    <path d=\"M0 0h24v24H0V0z\" fill=\"none\"/>\n",
              "    <path d=\"M18.56 5.44l.94 2.06.94-2.06 2.06-.94-2.06-.94-.94-2.06-.94 2.06-2.06.94zm-11 1L8.5 8.5l.94-2.06 2.06-.94-2.06-.94L8.5 2.5l-.94 2.06-2.06.94zm10 10l.94 2.06.94-2.06 2.06-.94-2.06-.94-.94-2.06-.94 2.06-2.06.94z\"/><path d=\"M17.41 7.96l-1.37-1.37c-.4-.4-.92-.59-1.43-.59-.52 0-1.04.2-1.43.59L10.3 9.45l-7.72 7.72c-.78.78-.78 2.05 0 2.83L4 21.41c.39.39.9.59 1.41.59.51 0 1.02-.2 1.41-.59l7.78-7.78 2.81-2.81c.8-.78.8-2.07 0-2.86zM5.41 20L4 18.59l7.72-7.72 1.47 1.35L5.41 20z\"/>\n",
              "  </svg>\n",
              "      </button>\n",
              "      \n",
              "  <style>\n",
              "    .colab-df-container {\n",
              "      display:flex;\n",
              "      flex-wrap:wrap;\n",
              "      gap: 12px;\n",
              "    }\n",
              "\n",
              "    .colab-df-convert {\n",
              "      background-color: #E8F0FE;\n",
              "      border: none;\n",
              "      border-radius: 50%;\n",
              "      cursor: pointer;\n",
              "      display: none;\n",
              "      fill: #1967D2;\n",
              "      height: 32px;\n",
              "      padding: 0 0 0 0;\n",
              "      width: 32px;\n",
              "    }\n",
              "\n",
              "    .colab-df-convert:hover {\n",
              "      background-color: #E2EBFA;\n",
              "      box-shadow: 0px 1px 2px rgba(60, 64, 67, 0.3), 0px 1px 3px 1px rgba(60, 64, 67, 0.15);\n",
              "      fill: #174EA6;\n",
              "    }\n",
              "\n",
              "    [theme=dark] .colab-df-convert {\n",
              "      background-color: #3B4455;\n",
              "      fill: #D2E3FC;\n",
              "    }\n",
              "\n",
              "    [theme=dark] .colab-df-convert:hover {\n",
              "      background-color: #434B5C;\n",
              "      box-shadow: 0px 1px 3px 1px rgba(0, 0, 0, 0.15);\n",
              "      filter: drop-shadow(0px 1px 2px rgba(0, 0, 0, 0.3));\n",
              "      fill: #FFFFFF;\n",
              "    }\n",
              "  </style>\n",
              "\n",
              "      <script>\n",
              "        const buttonEl =\n",
              "          document.querySelector('#df-d6aecfd0-fe6a-440e-9390-ea75a2fbf173 button.colab-df-convert');\n",
              "        buttonEl.style.display =\n",
              "          google.colab.kernel.accessAllowed ? 'block' : 'none';\n",
              "\n",
              "        async function convertToInteractive(key) {\n",
              "          const element = document.querySelector('#df-d6aecfd0-fe6a-440e-9390-ea75a2fbf173');\n",
              "          const dataTable =\n",
              "            await google.colab.kernel.invokeFunction('convertToInteractive',\n",
              "                                                     [key], {});\n",
              "          if (!dataTable) return;\n",
              "\n",
              "          const docLinkHtml = 'Like what you see? Visit the ' +\n",
              "            '<a target=\"_blank\" href=https://colab.research.google.com/notebooks/data_table.ipynb>data table notebook</a>'\n",
              "            + ' to learn more about interactive tables.';\n",
              "          element.innerHTML = '';\n",
              "          dataTable['output_type'] = 'display_data';\n",
              "          await google.colab.output.renderOutput(dataTable, element);\n",
              "          const docLink = document.createElement('div');\n",
              "          docLink.innerHTML = docLinkHtml;\n",
              "          element.appendChild(docLink);\n",
              "        }\n",
              "      </script>\n",
              "    </div>\n",
              "  </div>\n",
              "  "
            ]
          },
          "metadata": {},
          "execution_count": 8
        }
      ],
      "source": [
        "df_freq_perc = pd.DataFrame({'frequency': chords_frequencies, 'percentage (%)': chords_percentages})\n",
        "df_freq_perc "
      ]
    },
    {
      "cell_type": "code",
      "execution_count": null,
      "metadata": {
        "id": "9dtOXvi5FN1k"
      },
      "outputs": [],
      "source": [
        "chords = ['D_M', 'G_M', 'C_M', 'F_M', 'A_M', 'BbM', 'E_M', 'A_m', 'E_m', 'B_m', 'G_m' ,'D_m', 'EbM', 'C_m', 'F#m', 'B_M', 'F#M', 'C_M7', 'D_M7', 'A_M7', 'G_M7', 'B_M7',\n",
        "          'E_M7', 'F_m', 'C#M']"
      ]
    },
    {
      "cell_type": "code",
      "execution_count": null,
      "metadata": {
        "id": "2Uyl639JGUV7"
      },
      "outputs": [],
      "source": [
        "new_df = choral_df['Chord label'].isin(chords)"
      ]
    },
    {
      "cell_type": "code",
      "execution_count": null,
      "metadata": {
        "colab": {
          "base_uri": "https://localhost:8080/"
        },
        "id": "JdAJUgloGmzF",
        "outputId": "00314194-f592-4ee4-b266-25fa07e221d3"
      },
      "outputs": [
        {
          "output_type": "execute_result",
          "data": {
            "text/plain": [
              "0       True\n",
              "1       True\n",
              "2       True\n",
              "3       True\n",
              "4       True\n",
              "        ... \n",
              "5660    True\n",
              "5661    True\n",
              "5662    True\n",
              "5663    True\n",
              "5664    True\n",
              "Name: Chord label, Length: 5665, dtype: bool"
            ]
          },
          "metadata": {},
          "execution_count": 11
        }
      ],
      "source": [
        "new_df"
      ]
    },
    {
      "cell_type": "code",
      "execution_count": null,
      "metadata": {
        "colab": {
          "base_uri": "https://localhost:8080/",
          "height": 815
        },
        "id": "UwRykabdAPhV",
        "outputId": "de58f4da-cf96-450e-eb71-b92812c5fd8d"
      },
      "outputs": [
        {
          "output_type": "execute_result",
          "data": {
            "text/plain": [
              "<matplotlib.axes._subplots.AxesSubplot at 0x7f8038c643d0>"
            ]
          },
          "metadata": {},
          "execution_count": 12
        },
        {
          "output_type": "display_data",
          "data": {
            "text/plain": [
              "<Figure size 2520x1080 with 1 Axes>"
            ],
            "image/png": "[encoded data removed]"
          },
          "metadata": {
            "needs_background": "light"
          }
        }
      ],
      "source": [
        "choral_df['Chord label'].hist(figsize=(35,15),bins=102,xrot=45)"
      ]
    },
    {
      "cell_type": "markdown",
      "metadata": {
        "id": "dphRVrtE500x"
      },
      "source": [
        "Podemos observar que a distribuição das classes das amostras não é muito equilibrada"
      ]
    },
    {
      "cell_type": "code",
      "execution_count": null,
      "metadata": {
        "colab": {
          "base_uri": "https://localhost:8080/"
        },
        "id": "XdX9RrSvBYqr",
        "outputId": "12fe1f13-979f-4582-e26f-36855844879c"
      },
      "outputs": [
        {
          "output_type": "execute_result",
          "data": {
            "text/plain": [
              "count     5665\n",
              "unique     102\n",
              "top        D_M\n",
              "freq       503\n",
              "Name: Chord label, dtype: object"
            ]
          },
          "metadata": {},
          "execution_count": 13
        }
      ],
      "source": [
        "choral_df['Chord label'].describe()"
      ]
    },
    {
      "cell_type": "code",
      "execution_count": null,
      "metadata": {
        "colab": {
          "base_uri": "https://localhost:8080/",
          "height": 455
        },
        "id": "vmu9KLUV6Vnq",
        "outputId": "dd7c0db4-9fa9-4e51-befd-b722783c4b01"
      },
      "outputs": [
        {
          "output_type": "execute_result",
          "data": {
            "text/plain": [
              "Bass           A  A#  Ab   B  Bb  C  C#   D  D#  Db   E  Eb   F  F#    G  G#\n",
              "Chord label                                                                 \n",
              "A#d            0   0   0   0   0  0   3   2   0   0   0   0   0   0    0   0\n",
              "A#d7           0   1   0   1   0  0   0   0   0   0   1   0   0   0    1   0\n",
              "A_M          229   0   0  10   0  0  58  14   3   0  13   0   0   3    9  13\n",
              "A_M4          15   0   0   0   0  0   0   0   0   0   0   0   0   0    1   0\n",
              "A_M6           2   0   0   0   0  0   0   0   0   0   0   0   0   0    0   0\n",
              "...          ...  ..  ..  ..  .. ..  ..  ..  ..  ..  ..  ..  ..  ..  ...  ..\n",
              "G_M7           0   0   0  16   1  3   0   9   0   0   2   0  14   0    7   0\n",
              "G_d            0   1   0   0   0  0   0   0   0   0   0   0   0   0    2   0\n",
              "G_m            7   0   0   0  31  8   0   8   0   0   0   1  14   1  109   0\n",
              "G_m6           0   0   0   0   0  0   0   1   0   0   1   1   0   0    0   0\n",
              "G_m7           0   0   0   0   4  0   0   2   0   0   0   0   1   0   11   0\n",
              "\n",
              "[102 rows x 16 columns]"
            ],
            "text/html": [
              "\n",
              "  <div id=\"df-0fce5599-0df5-45bc-aa5c-2366e6100679\">\n",
              "    <div class=\"colab-df-container\">\n",
              "      <div>\n",
              "<style scoped>\n",
              "    .dataframe tbody tr th:only-of-type {\n",
              "        vertical-align: middle;\n",
              "    }\n",
              "\n",
              "    .dataframe tbody tr th {\n",
              "        vertical-align: top;\n",
              "    }\n",
              "\n",
              "    .dataframe thead th {\n",
              "        text-align: right;\n",
              "    }\n",
              "</style>\n",
              "<table border=\"1\" class=\"dataframe\">\n",
              "  <thead>\n",
              "    <tr style=\"text-align: right;\">\n",
              "      <th>Bass</th>\n",
              "      <th>A</th>\n",
              "      <th>A#</th>\n",
              "      <th>Ab</th>\n",
              "      <th>B</th>\n",
              "      <th>Bb</th>\n",
              "      <th>C</th>\n",
              "      <th>C#</th>\n",
              "      <th>D</th>\n",
              "      <th>D#</th>\n",
              "      <th>Db</th>\n",
              "      <th>E</th>\n",
              "      <th>Eb</th>\n",
              "      <th>F</th>\n",
              "      <th>F#</th>\n",
              "      <th>G</th>\n",
              "      <th>G#</th>\n",
              "    </tr>\n",
              "    <tr>\n",
              "      <th>Chord label</th>\n",
              "      <th></th>\n",
              "      <th></th>\n",
              "      <th></th>\n",
              "      <th></th>\n",
              "      <th></th>\n",
              "      <th></th>\n",
              "      <th></th>\n",
              "      <th></th>\n",
              "      <th></th>\n",
              "      <th></th>\n",
              "      <th></th>\n",
              "      <th></th>\n",
              "      <th></th>\n",
              "      <th></th>\n",
              "      <th></th>\n",
              "      <th></th>\n",
              "    </tr>\n",
              "  </thead>\n",
              "  <tbody>\n",
              "    <tr>\n",
              "      <th>A#d</th>\n",
              "      <td>0</td>\n",
              "      <td>0</td>\n",
              "      <td>0</td>\n",
              "      <td>0</td>\n",
              "      <td>0</td>\n",
              "      <td>0</td>\n",
              "      <td>3</td>\n",
              "      <td>2</td>\n",
              "      <td>0</td>\n",
              "      <td>0</td>\n",
              "      <td>0</td>\n",
              "      <td>0</td>\n",
              "      <td>0</td>\n",
              "      <td>0</td>\n",
              "      <td>0</td>\n",
              "      <td>0</td>\n",
              "    </tr>\n",
              "    <tr>\n",
              "      <th>A#d7</th>\n",
              "      <td>0</td>\n",
              "      <td>1</td>\n",
              "      <td>0</td>\n",
              "      <td>1</td>\n",
              "      <td>0</td>\n",
              "      <td>0</td>\n",
              "      <td>0</td>\n",
              "      <td>0</td>\n",
              "      <td>0</td>\n",
              "      <td>0</td>\n",
              "      <td>1</td>\n",
              "      <td>0</td>\n",
              "      <td>0</td>\n",
              "      <td>0</td>\n",
              "      <td>1</td>\n",
              "      <td>0</td>\n",
              "    </tr>\n",
              "    <tr>\n",
              "      <th>A_M</th>\n",
              "      <td>229</td>\n",
              "      <td>0</td>\n",
              "      <td>0</td>\n",
              "      <td>10</td>\n",
              "      <td>0</td>\n",
              "      <td>0</td>\n",
              "      <td>58</td>\n",
              "      <td>14</td>\n",
              "      <td>3</td>\n",
              "      <td>0</td>\n",
              "      <td>13</td>\n",
              "      <td>0</td>\n",
              "      <td>0</td>\n",
              "      <td>3</td>\n",
              "      <td>9</td>\n",
              "      <td>13</td>\n",
              "    </tr>\n",
              "    <tr>\n",
              "      <th>A_M4</th>\n",
              "      <td>15</td>\n",
              "      <td>0</td>\n",
              "      <td>0</td>\n",
              "      <td>0</td>\n",
              "      <td>0</td>\n",
              "      <td>0</td>\n",
              "      <td>0</td>\n",
              "      <td>0</td>\n",
              "      <td>0</td>\n",
              "      <td>0</td>\n",
              "      <td>0</td>\n",
              "      <td>0</td>\n",
              "      <td>0</td>\n",
              "      <td>0</td>\n",
              "      <td>1</td>\n",
              "      <td>0</td>\n",
              "    </tr>\n",
              "    <tr>\n",
              "      <th>A_M6</th>\n",
              "      <td>2</td>\n",
              "      <td>0</td>\n",
              "      <td>0</td>\n",
              "      <td>0</td>\n",
              "      <td>0</td>\n",
              "      <td>0</td>\n",
              "      <td>0</td>\n",
              "      <td>0</td>\n",
              "      <td>0</td>\n",
              "      <td>0</td>\n",
              "      <td>0</td>\n",
              "      <td>0</td>\n",
              "      <td>0</td>\n",
              "      <td>0</td>\n",
              "      <td>0</td>\n",
              "      <td>0</td>\n",
              "    </tr>\n",
              "    <tr>\n",
              "      <th>...</th>\n",
              "      <td>...</td>\n",
              "      <td>...</td>\n",
              "      <td>...</td>\n",
              "      <td>...</td>\n",
              "      <td>...</td>\n",
              "      <td>...</td>\n",
              "      <td>...</td>\n",
              "      <td>...</td>\n",
              "      <td>...</td>\n",
              "      <td>...</td>\n",
              "      <td>...</td>\n",
              "      <td>...</td>\n",
              "      <td>...</td>\n",
              "      <td>...</td>\n",
              "      <td>...</td>\n",
              "      <td>...</td>\n",
              "    </tr>\n",
              "    <tr>\n",
              "      <th>G_M7</th>\n",
              "      <td>0</td>\n",
              "      <td>0</td>\n",
              "      <td>0</td>\n",
              "      <td>16</td>\n",
              "      <td>1</td>\n",
              "      <td>3</td>\n",
              "      <td>0</td>\n",
              "      <td>9</td>\n",
              "      <td>0</td>\n",
              "      <td>0</td>\n",
              "      <td>2</td>\n",
              "      <td>0</td>\n",
              "      <td>14</td>\n",
              "      <td>0</td>\n",
              "      <td>7</td>\n",
              "      <td>0</td>\n",
              "    </tr>\n",
              "    <tr>\n",
              "      <th>G_d</th>\n",
              "      <td>0</td>\n",
              "      <td>1</td>\n",
              "      <td>0</td>\n",
              "      <td>0</td>\n",
              "      <td>0</td>\n",
              "      <td>0</td>\n",
              "      <td>0</td>\n",
              "      <td>0</td>\n",
              "      <td>0</td>\n",
              "      <td>0</td>\n",
              "      <td>0</td>\n",
              "      <td>0</td>\n",
              "      <td>0</td>\n",
              "      <td>0</td>\n",
              "      <td>2</td>\n",
              "      <td>0</td>\n",
              "    </tr>\n",
              "    <tr>\n",
              "      <th>G_m</th>\n",
              "      <td>7</td>\n",
              "      <td>0</td>\n",
              "      <td>0</td>\n",
              "      <td>0</td>\n",
              "      <td>31</td>\n",
              "      <td>8</td>\n",
              "      <td>0</td>\n",
              "      <td>8</td>\n",
              "      <td>0</td>\n",
              "      <td>0</td>\n",
              "      <td>0</td>\n",
              "      <td>1</td>\n",
              "      <td>14</td>\n",
              "      <td>1</td>\n",
              "      <td>109</td>\n",
              "      <td>0</td>\n",
              "    </tr>\n",
              "    <tr>\n",
              "      <th>G_m6</th>\n",
              "      <td>0</td>\n",
              "      <td>0</td>\n",
              "      <td>0</td>\n",
              "      <td>0</td>\n",
              "      <td>0</td>\n",
              "      <td>0</td>\n",
              "      <td>0</td>\n",
              "      <td>1</td>\n",
              "      <td>0</td>\n",
              "      <td>0</td>\n",
              "      <td>1</td>\n",
              "      <td>1</td>\n",
              "      <td>0</td>\n",
              "      <td>0</td>\n",
              "      <td>0</td>\n",
              "      <td>0</td>\n",
              "    </tr>\n",
              "    <tr>\n",
              "      <th>G_m7</th>\n",
              "      <td>0</td>\n",
              "      <td>0</td>\n",
              "      <td>0</td>\n",
              "      <td>0</td>\n",
              "      <td>4</td>\n",
              "      <td>0</td>\n",
              "      <td>0</td>\n",
              "      <td>2</td>\n",
              "      <td>0</td>\n",
              "      <td>0</td>\n",
              "      <td>0</td>\n",
              "      <td>0</td>\n",
              "      <td>1</td>\n",
              "      <td>0</td>\n",
              "      <td>11</td>\n",
              "      <td>0</td>\n",
              "    </tr>\n",
              "  </tbody>\n",
              "</table>\n",
              "<p>102 rows × 16 columns</p>\n",
              "</div>\n",
              "      <button class=\"colab-df-convert\" onclick=\"convertToInteractive('df-0fce5599-0df5-45bc-aa5c-2366e6100679')\"\n",
              "              title=\"Convert this dataframe to an interactive table.\"\n",
              "              style=\"display:none;\">\n",
              "        \n",
              "  <svg xmlns=\"http://www.w3.org/2000/svg\" height=\"24px\"viewBox=\"0 0 24 24\"\n",
              "       width=\"24px\">\n",
              "    <path d=\"M0 0h24v24H0V0z\" fill=\"none\"/>\n",
              "    <path d=\"M18.56 5.44l.94 2.06.94-2.06 2.06-.94-2.06-.94-.94-2.06-.94 2.06-2.06.94zm-11 1L8.5 8.5l.94-2.06 2.06-.94-2.06-.94L8.5 2.5l-.94 2.06-2.06.94zm10 10l.94 2.06.94-2.06 2.06-.94-2.06-.94-.94-2.06-.94 2.06-2.06.94z\"/><path d=\"M17.41 7.96l-1.37-1.37c-.4-.4-.92-.59-1.43-.59-.52 0-1.04.2-1.43.59L10.3 9.45l-7.72 7.72c-.78.78-.78 2.05 0 2.83L4 21.41c.39.39.9.59 1.41.59.51 0 1.02-.2 1.41-.59l7.78-7.78 2.81-2.81c.8-.78.8-2.07 0-2.86zM5.41 20L4 18.59l7.72-7.72 1.47 1.35L5.41 20z\"/>\n",
              "  </svg>\n",
              "      </button>\n",
              "      \n",
              "  <style>\n",
              "    .colab-df-container {\n",
              "      display:flex;\n",
              "      flex-wrap:wrap;\n",
              "      gap: 12px;\n",
              "    }\n",
              "\n",
              "    .colab-df-convert {\n",
              "      background-color: #E8F0FE;\n",
              "      border: none;\n",
              "      border-radius: 50%;\n",
              "      cursor: pointer;\n",
              "      display: none;\n",
              "      fill: #1967D2;\n",
              "      height: 32px;\n",
              "      padding: 0 0 0 0;\n",
              "      width: 32px;\n",
              "    }\n",
              "\n",
              "    .colab-df-convert:hover {\n",
              "      background-color: #E2EBFA;\n",
              "      box-shadow: 0px 1px 2px rgba(60, 64, 67, 0.3), 0px 1px 3px 1px rgba(60, 64, 67, 0.15);\n",
              "      fill: #174EA6;\n",
              "    }\n",
              "\n",
              "    [theme=dark] .colab-df-convert {\n",
              "      background-color: #3B4455;\n",
              "      fill: #D2E3FC;\n",
              "    }\n",
              "\n",
              "    [theme=dark] .colab-df-convert:hover {\n",
              "      background-color: #434B5C;\n",
              "      box-shadow: 0px 1px 3px 1px rgba(0, 0, 0, 0.15);\n",
              "      filter: drop-shadow(0px 1px 2px rgba(0, 0, 0, 0.3));\n",
              "      fill: #FFFFFF;\n",
              "    }\n",
              "  </style>\n",
              "\n",
              "      <script>\n",
              "        const buttonEl =\n",
              "          document.querySelector('#df-0fce5599-0df5-45bc-aa5c-2366e6100679 button.colab-df-convert');\n",
              "        buttonEl.style.display =\n",
              "          google.colab.kernel.accessAllowed ? 'block' : 'none';\n",
              "\n",
              "        async function convertToInteractive(key) {\n",
              "          const element = document.querySelector('#df-0fce5599-0df5-45bc-aa5c-2366e6100679');\n",
              "          const dataTable =\n",
              "            await google.colab.kernel.invokeFunction('convertToInteractive',\n",
              "                                                     [key], {});\n",
              "          if (!dataTable) return;\n",
              "\n",
              "          const docLinkHtml = 'Like what you see? Visit the ' +\n",
              "            '<a target=\"_blank\" href=https://colab.research.google.com/notebooks/data_table.ipynb>data table notebook</a>'\n",
              "            + ' to learn more about interactive tables.';\n",
              "          element.innerHTML = '';\n",
              "          dataTable['output_type'] = 'display_data';\n",
              "          await google.colab.output.renderOutput(dataTable, element);\n",
              "          const docLink = document.createElement('div');\n",
              "          docLink.innerHTML = docLinkHtml;\n",
              "          element.appendChild(docLink);\n",
              "        }\n",
              "      </script>\n",
              "    </div>\n",
              "  </div>\n",
              "  "
            ]
          },
          "metadata": {},
          "execution_count": 14
        }
      ],
      "source": [
        "freq = pd.crosstab(choral_df['Chord label'], choral_df['Bass'])\n",
        "freq"
      ]
    },
    {
      "cell_type": "code",
      "execution_count": null,
      "metadata": {
        "colab": {
          "base_uri": "https://localhost:8080/",
          "height": 1000
        },
        "id": "QdbebKug68eh",
        "outputId": "3fb3ebe6-c64c-41f3-9a7e-00db53748ca0"
      },
      "outputs": [
        {
          "output_type": "execute_result",
          "data": {
            "text/plain": [
              "<seaborn.axisgrid.FacetGrid at 0x7f803ae2ea50>"
            ]
          },
          "metadata": {},
          "execution_count": 15
        },
        {
          "output_type": "display_data",
          "data": {
            "text/plain": [
              "<Figure size 2384.93x1296 with 1 Axes>"
            ],
            "image/png": "[encoded data removed]"
          },
          "metadata": {
            "needs_background": "light"
          }
        }
      ],
      "source": [
        "#fig, ax = plt.subplots(figsize=(30,30))\n",
        "\n",
        "sns.displot(data=choral_df, x=\"Bass\", y=\"Chord label\", hue=\"Bass\", height=18, aspect=1.8)\n",
        "\n",
        "#ax.tick_params(axis='y', labelrotation=45)"
      ]
    },
    {
      "cell_type": "code",
      "execution_count": null,
      "metadata": {
        "colab": {
          "base_uri": "https://localhost:8080/"
        },
        "id": "bxSjOuw8AKYN",
        "outputId": "d8e1866e-94bf-4574-aeea-074ac386cf82"
      },
      "outputs": [
        {
          "output_type": "stream",
          "name": "stdout",
          "text": [
            "0    D\n",
            "dtype: object\n",
            "0    3\n",
            "dtype: int64\n",
            "0    D_M\n",
            "dtype: object\n"
          ]
        }
      ],
      "source": [
        "choral_df['Chord label'].mode()\n",
        "columns = choral_df.columns[-3:]\n",
        "for column in columns:\n",
        "  print(choral_df[column].mode())"
      ]
    },
    {
      "cell_type": "markdown",
      "metadata": {
        "id": "VizHaXTsxMoo"
      },
      "source": [
        "# 03 - Preparação dos dados - Entrega de relatório a respeito da preparação dos dados"
      ]
    },
    {
      "cell_type": "markdown",
      "metadata": {
        "id": "G-owC4f638P8"
      },
      "source": [
        "# Como a base é muito desbalanceada, vamos criar duas bases além da original,  para fazermos comparações dos modelos com as diferentes bases.\n",
        "\n",
        "**A primeira** vai ter oversampling das classes minoritárias.\n",
        "\n",
        "**A segunda** vai ter undersampling das classe majoritárias e oversampling das classes minoritárias.\n",
        "\n",
        "Decidimos fazer um undersampling para 143 amostras das classes com muitos exemplos e um oversampling para 55 amostras das classes com poucos exemplos."
      ]
    },
    {
      "cell_type": "code",
      "execution_count": null,
      "metadata": {
        "id": "PU3-4RlX5OdG"
      },
      "outputs": [],
      "source": [
        "oversampling_df = choral_df.drop(columns=['Choral ID', 'Event number'])\n",
        "\n"
      ]
    },
    {
      "cell_type": "markdown",
      "metadata": {
        "id": "vqxhKq7QLM57"
      },
      "source": [
        "# Abaixo vamos verificar que classes tem poucas amostras e fazer o **oversampling**.\n",
        "\n",
        "Para classes minoritárias com mais de 27 amostras, fazemos o oversampling sem repetição das amostras, para evitar repetição exagerada de um mesmo exemplo. Já para as que tem menos de 27 amostras, não temos como fazer o ovesampling sem repeti-las."
      ]
    },
    {
      "cell_type": "code",
      "execution_count": null,
      "metadata": {
        "id": "Q-cyhAh_5711"
      },
      "outputs": [],
      "source": [
        "def oversample(n, df_samples, df_total, replace):\n",
        "  samples = df_samples.sample(n, replace=replace)\n",
        "  dfs = [df_total, samples]\n",
        "  return pd.concat(dfs)\n",
        "\n",
        "for chord_label in df_freq_perc.index.values:\n",
        "  n_samples = df_freq_perc.loc[chord_label][0]\n",
        "  aux_df_samples = oversampling_df.loc[oversampling_df['Chord label'] == chord_label]\n",
        "  if n_samples < 55 and n_samples > 27:\n",
        "    aux_n = int(55 - n_samples)\n",
        "    replace = False\n",
        "    oversampling_df = oversample(aux_n, aux_df_samples, oversampling_df, replace)\n",
        "  elif n_samples < 55 and n_samples <= 27:\n",
        "    aux_n = int(55 - n_samples)\n",
        "    replace = True\n",
        "    oversampling_df = oversample(aux_n, aux_df_samples, oversampling_df, replace)\n",
        "\n",
        "\n",
        "\n"
      ]
    },
    {
      "cell_type": "code",
      "execution_count": null,
      "metadata": {
        "id": "D-t1VKUlArxf"
      },
      "outputs": [],
      "source": [
        "chords_frequencies = oversampling_df['Chord label'].value_counts()\n",
        "chords_percentages = oversampling_df['Chord label'].value_counts(normalize = True) * 100\n",
        "over_freq_perc = pd.DataFrame({'frequency': chords_frequencies, 'percentage (%)': chords_percentages})"
      ]
    },
    {
      "cell_type": "markdown",
      "metadata": {
        "id": "zf3aDpCXLeDQ"
      },
      "source": [
        "# Como podemos ver abaixo, agora todas as classes tem no mínimo 55 amostras"
      ]
    },
    {
      "cell_type": "code",
      "execution_count": null,
      "metadata": {
        "colab": {
          "base_uri": "https://localhost:8080/",
          "height": 424
        },
        "id": "6Pe6C2X-BG3l",
        "outputId": "83b4038a-5c8b-4540-bfee-5af6a4666ccd"
      },
      "outputs": [
        {
          "output_type": "execute_result",
          "data": {
            "text/plain": [
              "      frequency  percentage (%)\n",
              "D_M         503        5.441367\n",
              "G_M         489        5.289918\n",
              "C_M         488        5.279100\n",
              "F_M         389        4.208135\n",
              "A_M         352        3.807875\n",
              "...         ...             ...\n",
              "E_m6         55        0.594981\n",
              "E_m7         55        0.594981\n",
              "G_m7         55        0.594981\n",
              "D_M4         55        0.594981\n",
              "D#d7         55        0.594981\n",
              "\n",
              "[102 rows x 2 columns]"
            ],
            "text/html": [
              "\n",
              "  <div id=\"df-969f0a11-cc48-45ce-92cb-a120e145f9d1\">\n",
              "    <div class=\"colab-df-container\">\n",
              "      <div>\n",
              "<style scoped>\n",
              "    .dataframe tbody tr th:only-of-type {\n",
              "        vertical-align: middle;\n",
              "    }\n",
              "\n",
              "    .dataframe tbody tr th {\n",
              "        vertical-align: top;\n",
              "    }\n",
              "\n",
              "    .dataframe thead th {\n",
              "        text-align: right;\n",
              "    }\n",
              "</style>\n",
              "<table border=\"1\" class=\"dataframe\">\n",
              "  <thead>\n",
              "    <tr style=\"text-align: right;\">\n",
              "      <th></th>\n",
              "      <th>frequency</th>\n",
              "      <th>percentage (%)</th>\n",
              "    </tr>\n",
              "  </thead>\n",
              "  <tbody>\n",
              "    <tr>\n",
              "      <th>D_M</th>\n",
              "      <td>503</td>\n",
              "      <td>5.441367</td>\n",
              "    </tr>\n",
              "    <tr>\n",
              "      <th>G_M</th>\n",
              "      <td>489</td>\n",
              "      <td>5.289918</td>\n",
              "    </tr>\n",
              "    <tr>\n",
              "      <th>C_M</th>\n",
              "      <td>488</td>\n",
              "      <td>5.279100</td>\n",
              "    </tr>\n",
              "    <tr>\n",
              "      <th>F_M</th>\n",
              "      <td>389</td>\n",
              "      <td>4.208135</td>\n",
              "    </tr>\n",
              "    <tr>\n",
              "      <th>A_M</th>\n",
              "      <td>352</td>\n",
              "      <td>3.807875</td>\n",
              "    </tr>\n",
              "    <tr>\n",
              "      <th>...</th>\n",
              "      <td>...</td>\n",
              "      <td>...</td>\n",
              "    </tr>\n",
              "    <tr>\n",
              "      <th>E_m6</th>\n",
              "      <td>55</td>\n",
              "      <td>0.594981</td>\n",
              "    </tr>\n",
              "    <tr>\n",
              "      <th>E_m7</th>\n",
              "      <td>55</td>\n",
              "      <td>0.594981</td>\n",
              "    </tr>\n",
              "    <tr>\n",
              "      <th>G_m7</th>\n",
              "      <td>55</td>\n",
              "      <td>0.594981</td>\n",
              "    </tr>\n",
              "    <tr>\n",
              "      <th>D_M4</th>\n",
              "      <td>55</td>\n",
              "      <td>0.594981</td>\n",
              "    </tr>\n",
              "    <tr>\n",
              "      <th>D#d7</th>\n",
              "      <td>55</td>\n",
              "      <td>0.594981</td>\n",
              "    </tr>\n",
              "  </tbody>\n",
              "</table>\n",
              "<p>102 rows × 2 columns</p>\n",
              "</div>\n",
              "      <button class=\"colab-df-convert\" onclick=\"convertToInteractive('df-969f0a11-cc48-45ce-92cb-a120e145f9d1')\"\n",
              "              title=\"Convert this dataframe to an interactive table.\"\n",
              "              style=\"display:none;\">\n",
              "        \n",
              "  <svg xmlns=\"http://www.w3.org/2000/svg\" height=\"24px\"viewBox=\"0 0 24 24\"\n",
              "       width=\"24px\">\n",
              "    <path d=\"M0 0h24v24H0V0z\" fill=\"none\"/>\n",
              "    <path d=\"M18.56 5.44l.94 2.06.94-2.06 2.06-.94-2.06-.94-.94-2.06-.94 2.06-2.06.94zm-11 1L8.5 8.5l.94-2.06 2.06-.94-2.06-.94L8.5 2.5l-.94 2.06-2.06.94zm10 10l.94 2.06.94-2.06 2.06-.94-2.06-.94-.94-2.06-.94 2.06-2.06.94z\"/><path d=\"M17.41 7.96l-1.37-1.37c-.4-.4-.92-.59-1.43-.59-.52 0-1.04.2-1.43.59L10.3 9.45l-7.72 7.72c-.78.78-.78 2.05 0 2.83L4 21.41c.39.39.9.59 1.41.59.51 0 1.02-.2 1.41-.59l7.78-7.78 2.81-2.81c.8-.78.8-2.07 0-2.86zM5.41 20L4 18.59l7.72-7.72 1.47 1.35L5.41 20z\"/>\n",
              "  </svg>\n",
              "      </button>\n",
              "      \n",
              "  <style>\n",
              "    .colab-df-container {\n",
              "      display:flex;\n",
              "      flex-wrap:wrap;\n",
              "      gap: 12px;\n",
              "    }\n",
              "\n",
              "    .colab-df-convert {\n",
              "      background-color: #E8F0FE;\n",
              "      border: none;\n",
              "      border-radius: 50%;\n",
              "      cursor: pointer;\n",
              "      display: none;\n",
              "      fill: #1967D2;\n",
              "      height: 32px;\n",
              "      padding: 0 0 0 0;\n",
              "      width: 32px;\n",
              "    }\n",
              "\n",
              "    .colab-df-convert:hover {\n",
              "      background-color: #E2EBFA;\n",
              "      box-shadow: 0px 1px 2px rgba(60, 64, 67, 0.3), 0px 1px 3px 1px rgba(60, 64, 67, 0.15);\n",
              "      fill: #174EA6;\n",
              "    }\n",
              "\n",
              "    [theme=dark] .colab-df-convert {\n",
              "      background-color: #3B4455;\n",
              "      fill: #D2E3FC;\n",
              "    }\n",
              "\n",
              "    [theme=dark] .colab-df-convert:hover {\n",
              "      background-color: #434B5C;\n",
              "      box-shadow: 0px 1px 3px 1px rgba(0, 0, 0, 0.15);\n",
              "      filter: drop-shadow(0px 1px 2px rgba(0, 0, 0, 0.3));\n",
              "      fill: #FFFFFF;\n",
              "    }\n",
              "  </style>\n",
              "\n",
              "      <script>\n",
              "        const buttonEl =\n",
              "          document.querySelector('#df-969f0a11-cc48-45ce-92cb-a120e145f9d1 button.colab-df-convert');\n",
              "        buttonEl.style.display =\n",
              "          google.colab.kernel.accessAllowed ? 'block' : 'none';\n",
              "\n",
              "        async function convertToInteractive(key) {\n",
              "          const element = document.querySelector('#df-969f0a11-cc48-45ce-92cb-a120e145f9d1');\n",
              "          const dataTable =\n",
              "            await google.colab.kernel.invokeFunction('convertToInteractive',\n",
              "                                                     [key], {});\n",
              "          if (!dataTable) return;\n",
              "\n",
              "          const docLinkHtml = 'Like what you see? Visit the ' +\n",
              "            '<a target=\"_blank\" href=https://colab.research.google.com/notebooks/data_table.ipynb>data table notebook</a>'\n",
              "            + ' to learn more about interactive tables.';\n",
              "          element.innerHTML = '';\n",
              "          dataTable['output_type'] = 'display_data';\n",
              "          await google.colab.output.renderOutput(dataTable, element);\n",
              "          const docLink = document.createElement('div');\n",
              "          docLink.innerHTML = docLinkHtml;\n",
              "          element.appendChild(docLink);\n",
              "        }\n",
              "      </script>\n",
              "    </div>\n",
              "  </div>\n",
              "  "
            ]
          },
          "metadata": {},
          "execution_count": 20
        }
      ],
      "source": [
        "over_freq_perc"
      ]
    },
    {
      "cell_type": "markdown",
      "metadata": {
        "id": "Fd7-WR3LMYdU"
      },
      "source": [
        "# Agora vamos verificar que classes tem muitas amostras e fazer o **undersampling**.\n",
        "\n",
        "Para evitar remover informações cruciais, não vamos reduzir as classes majoritárias para 55 exemplos também. Decidimos reduzir para 143 amostras."
      ]
    },
    {
      "cell_type": "code",
      "execution_count": null,
      "metadata": {
        "id": "txznedLeBaO5"
      },
      "outputs": [],
      "source": [
        "def undersample(n, df_samples):\n",
        "  return df_samples.sample(n)\n",
        "\n",
        "undersample_df = oversampling_df.copy(deep=True)\n",
        "\n",
        "temp_df = pd.DataFrame()\n",
        "for chord_label in df_freq_perc.index.values:\n",
        "  n_samples = df_freq_perc.loc[chord_label][0]\n",
        "  aux_df_samples = undersample_df.loc[oversampling_df['Chord label'] == chord_label]\n",
        "  if n_samples > 143:\n",
        "    aux_under = undersample(143, aux_df_samples)\n",
        "    \n",
        "    aux_dfs = [temp_df, aux_under]\n",
        "    temp_df = pd.concat(aux_dfs, ignore_index=True)\n",
        "  else:\n",
        "    aux_dfs = [temp_df, aux_df_samples]\n",
        "    temp_df = pd.concat(aux_dfs, ignore_index=True)\n",
        "    \n",
        "undersample_df = temp_df"
      ]
    },
    {
      "cell_type": "markdown",
      "metadata": {
        "id": "trbtAmWeMxUE"
      },
      "source": [
        "# Como podemos observar, agora todas as classes tem no mínimo 55 amostras e no máximo 143 amostras"
      ]
    },
    {
      "cell_type": "code",
      "execution_count": null,
      "metadata": {
        "colab": {
          "base_uri": "https://localhost:8080/",
          "height": 424
        },
        "id": "1FUIHMIyD7q2",
        "outputId": "5a165212-d77d-415f-90be-441577633433"
      },
      "outputs": [
        {
          "output_type": "execute_result",
          "data": {
            "text/plain": [
              "      frequency  percentage (%)\n",
              "D_M         143        2.023203\n",
              "G_M         143        2.023203\n",
              "B_M         143        2.023203\n",
              "F#m         143        2.023203\n",
              "C_m         143        2.023203\n",
              "...         ...             ...\n",
              "F#d          55        0.778155\n",
              "E_M4         55        0.778155\n",
              "C#d7         55        0.778155\n",
              "D_M4         55        0.778155\n",
              "F#d7         55        0.778155\n",
              "\n",
              "[102 rows x 2 columns]"
            ],
            "text/html": [
              "\n",
              "  <div id=\"df-b243e462-8894-4674-b04f-25eda5857ff0\">\n",
              "    <div class=\"colab-df-container\">\n",
              "      <div>\n",
              "<style scoped>\n",
              "    .dataframe tbody tr th:only-of-type {\n",
              "        vertical-align: middle;\n",
              "    }\n",
              "\n",
              "    .dataframe tbody tr th {\n",
              "        vertical-align: top;\n",
              "    }\n",
              "\n",
              "    .dataframe thead th {\n",
              "        text-align: right;\n",
              "    }\n",
              "</style>\n",
              "<table border=\"1\" class=\"dataframe\">\n",
              "  <thead>\n",
              "    <tr style=\"text-align: right;\">\n",
              "      <th></th>\n",
              "      <th>frequency</th>\n",
              "      <th>percentage (%)</th>\n",
              "    </tr>\n",
              "  </thead>\n",
              "  <tbody>\n",
              "    <tr>\n",
              "      <th>D_M</th>\n",
              "      <td>143</td>\n",
              "      <td>2.023203</td>\n",
              "    </tr>\n",
              "    <tr>\n",
              "      <th>G_M</th>\n",
              "      <td>143</td>\n",
              "      <td>2.023203</td>\n",
              "    </tr>\n",
              "    <tr>\n",
              "      <th>B_M</th>\n",
              "      <td>143</td>\n",
              "      <td>2.023203</td>\n",
              "    </tr>\n",
              "    <tr>\n",
              "      <th>F#m</th>\n",
              "      <td>143</td>\n",
              "      <td>2.023203</td>\n",
              "    </tr>\n",
              "    <tr>\n",
              "      <th>C_m</th>\n",
              "      <td>143</td>\n",
              "      <td>2.023203</td>\n",
              "    </tr>\n",
              "    <tr>\n",
              "      <th>...</th>\n",
              "      <td>...</td>\n",
              "      <td>...</td>\n",
              "    </tr>\n",
              "    <tr>\n",
              "      <th>F#d</th>\n",
              "      <td>55</td>\n",
              "      <td>0.778155</td>\n",
              "    </tr>\n",
              "    <tr>\n",
              "      <th>E_M4</th>\n",
              "      <td>55</td>\n",
              "      <td>0.778155</td>\n",
              "    </tr>\n",
              "    <tr>\n",
              "      <th>C#d7</th>\n",
              "      <td>55</td>\n",
              "      <td>0.778155</td>\n",
              "    </tr>\n",
              "    <tr>\n",
              "      <th>D_M4</th>\n",
              "      <td>55</td>\n",
              "      <td>0.778155</td>\n",
              "    </tr>\n",
              "    <tr>\n",
              "      <th>F#d7</th>\n",
              "      <td>55</td>\n",
              "      <td>0.778155</td>\n",
              "    </tr>\n",
              "  </tbody>\n",
              "</table>\n",
              "<p>102 rows × 2 columns</p>\n",
              "</div>\n",
              "      <button class=\"colab-df-convert\" onclick=\"convertToInteractive('df-b243e462-8894-4674-b04f-25eda5857ff0')\"\n",
              "              title=\"Convert this dataframe to an interactive table.\"\n",
              "              style=\"display:none;\">\n",
              "        \n",
              "  <svg xmlns=\"http://www.w3.org/2000/svg\" height=\"24px\"viewBox=\"0 0 24 24\"\n",
              "       width=\"24px\">\n",
              "    <path d=\"M0 0h24v24H0V0z\" fill=\"none\"/>\n",
              "    <path d=\"M18.56 5.44l.94 2.06.94-2.06 2.06-.94-2.06-.94-.94-2.06-.94 2.06-2.06.94zm-11 1L8.5 8.5l.94-2.06 2.06-.94-2.06-.94L8.5 2.5l-.94 2.06-2.06.94zm10 10l.94 2.06.94-2.06 2.06-.94-2.06-.94-.94-2.06-.94 2.06-2.06.94z\"/><path d=\"M17.41 7.96l-1.37-1.37c-.4-.4-.92-.59-1.43-.59-.52 0-1.04.2-1.43.59L10.3 9.45l-7.72 7.72c-.78.78-.78 2.05 0 2.83L4 21.41c.39.39.9.59 1.41.59.51 0 1.02-.2 1.41-.59l7.78-7.78 2.81-2.81c.8-.78.8-2.07 0-2.86zM5.41 20L4 18.59l7.72-7.72 1.47 1.35L5.41 20z\"/>\n",
              "  </svg>\n",
              "      </button>\n",
              "      \n",
              "  <style>\n",
              "    .colab-df-container {\n",
              "      display:flex;\n",
              "      flex-wrap:wrap;\n",
              "      gap: 12px;\n",
              "    }\n",
              "\n",
              "    .colab-df-convert {\n",
              "      background-color: #E8F0FE;\n",
              "      border: none;\n",
              "      border-radius: 50%;\n",
              "      cursor: pointer;\n",
              "      display: none;\n",
              "      fill: #1967D2;\n",
              "      height: 32px;\n",
              "      padding: 0 0 0 0;\n",
              "      width: 32px;\n",
              "    }\n",
              "\n",
              "    .colab-df-convert:hover {\n",
              "      background-color: #E2EBFA;\n",
              "      box-shadow: 0px 1px 2px rgba(60, 64, 67, 0.3), 0px 1px 3px 1px rgba(60, 64, 67, 0.15);\n",
              "      fill: #174EA6;\n",
              "    }\n",
              "\n",
              "    [theme=dark] .colab-df-convert {\n",
              "      background-color: #3B4455;\n",
              "      fill: #D2E3FC;\n",
              "    }\n",
              "\n",
              "    [theme=dark] .colab-df-convert:hover {\n",
              "      background-color: #434B5C;\n",
              "      box-shadow: 0px 1px 3px 1px rgba(0, 0, 0, 0.15);\n",
              "      filter: drop-shadow(0px 1px 2px rgba(0, 0, 0, 0.3));\n",
              "      fill: #FFFFFF;\n",
              "    }\n",
              "  </style>\n",
              "\n",
              "      <script>\n",
              "        const buttonEl =\n",
              "          document.querySelector('#df-b243e462-8894-4674-b04f-25eda5857ff0 button.colab-df-convert');\n",
              "        buttonEl.style.display =\n",
              "          google.colab.kernel.accessAllowed ? 'block' : 'none';\n",
              "\n",
              "        async function convertToInteractive(key) {\n",
              "          const element = document.querySelector('#df-b243e462-8894-4674-b04f-25eda5857ff0');\n",
              "          const dataTable =\n",
              "            await google.colab.kernel.invokeFunction('convertToInteractive',\n",
              "                                                     [key], {});\n",
              "          if (!dataTable) return;\n",
              "\n",
              "          const docLinkHtml = 'Like what you see? Visit the ' +\n",
              "            '<a target=\"_blank\" href=https://colab.research.google.com/notebooks/data_table.ipynb>data table notebook</a>'\n",
              "            + ' to learn more about interactive tables.';\n",
              "          element.innerHTML = '';\n",
              "          dataTable['output_type'] = 'display_data';\n",
              "          await google.colab.output.renderOutput(dataTable, element);\n",
              "          const docLink = document.createElement('div');\n",
              "          docLink.innerHTML = docLinkHtml;\n",
              "          element.appendChild(docLink);\n",
              "        }\n",
              "      </script>\n",
              "    </div>\n",
              "  </div>\n",
              "  "
            ]
          },
          "metadata": {},
          "execution_count": 22
        }
      ],
      "source": [
        "chords_frequencies = undersample_df['Chord label'].value_counts()\n",
        "chords_percentages = undersample_df['Chord label'].value_counts(normalize = True) * 100\n",
        "under_freq_perc = pd.DataFrame({'frequency': chords_frequencies, 'percentage (%)': chords_percentages})\n",
        "under_freq_perc"
      ]
    },
    {
      "cell_type": "markdown",
      "metadata": {
        "id": "Ov5zl3sMxiV7"
      },
      "source": [
        "#Continuando da análise exploratória anterior\n",
        "\n",
        "Vamos remover as colunas ***Choral ID*** e ***Event number***  do original por não terem relação com o problema (nos dataframes de undersample e oversample já foi feito anteriormente). Depois separamos em atributos e repostas e seguiremos com a normalização dos dados"
      ]
    },
    {
      "cell_type": "code",
      "execution_count": null,
      "metadata": {
        "id": "0rHr1t9wxKoQ"
      },
      "outputs": [],
      "source": [
        "treated_oversample_df = oversampling_df.drop(columns=['Chord label'])\n",
        "oversample_chords = oversampling_df['Chord label']\n",
        "\n",
        "treated_undersample_df = undersample_df.drop(columns=['Chord label'])\n",
        "undersample_chords = undersample_df['Chord label']\n",
        "\n",
        "treated_original_df = choral_df.drop(columns=['Choral ID', 'Event number', 'Chord label'])\n",
        "original_chords = choral_df['Chord label']\n"
      ]
    },
    {
      "cell_type": "markdown",
      "metadata": {
        "id": "W1ei2TUm3Spj"
      },
      "source": [
        "Agora vamos conveter os atributos booleanos ***Pitch classe*** em 0 e 1, para padronizar os dados para os modelos."
      ]
    },
    {
      "cell_type": "code",
      "execution_count": null,
      "metadata": {
        "id": "RlfOnw461SN8"
      },
      "outputs": [],
      "source": [
        "pitch_columns = treated_original_df.columns[:-2]\n",
        "\n",
        "for pitch in pitch_columns:\n",
        "  treated_original_df[pitch] = treated_original_df[pitch].eq('YES').mul(1)\n",
        "  treated_undersample_df[pitch] = treated_undersample_df[pitch].eq('YES').mul(1)\n",
        "  treated_oversample_df[pitch] = treated_oversample_df[pitch].eq('YES').mul(1)"
      ]
    },
    {
      "cell_type": "markdown",
      "metadata": {
        "id": "mEAHShkHyyoB"
      },
      "source": [
        "Em seguida vamos converter o atributo categóricos ***Bass*** (16 categorias) utilizando o método ```get_dummies``` do pandas."
      ]
    },
    {
      "cell_type": "code",
      "execution_count": null,
      "metadata": {
        "id": "BdayCk4n4RAO"
      },
      "outputs": [],
      "source": [
        "treated_original_df = pd.get_dummies(treated_original_df, columns=['Bass'])\n",
        "treated_undersample_df = pd.get_dummies(treated_undersample_df, columns=['Bass'])\n",
        "treated_oversample_df = pd.get_dummies(treated_oversample_df, columns=['Bass'])"
      ]
    },
    {
      "cell_type": "code",
      "execution_count": null,
      "metadata": {
        "colab": {
          "base_uri": "https://localhost:8080/"
        },
        "id": "a2hkka2p7vX4",
        "outputId": "c2371550-90fe-4497-c837-c8ca2eded687"
      },
      "outputs": [
        {
          "output_type": "execute_result",
          "data": {
            "text/plain": [
              "Index(['Pitch classe: C ', 'Pitch classe: C#/Db ', 'Pitch classe: D ',\n",
              "       'Pitch classe: D# ', 'Pitch classe: E', 'Pitch classe: F ',\n",
              "       'Pitch classe: F#', 'Pitch classe: G', 'Pitch classe: G#',\n",
              "       'Pitch classe: A', 'Pitch classe: A#', 'Pitch classe: B', 'Meter',\n",
              "       'Bass_A', 'Bass_A#', 'Bass_Ab', 'Bass_B', 'Bass_Bb', 'Bass_C',\n",
              "       'Bass_C#', 'Bass_D', 'Bass_D#', 'Bass_Db', 'Bass_E', 'Bass_Eb',\n",
              "       'Bass_F', 'Bass_F#', 'Bass_G', 'Bass_G#'],\n",
              "      dtype='object')"
            ]
          },
          "metadata": {},
          "execution_count": 26
        }
      ],
      "source": [
        "column_names = treated_original_df.columns\n",
        "column_names"
      ]
    },
    {
      "cell_type": "markdown",
      "metadata": {
        "id": "iJSa38XN54rd"
      },
      "source": [
        " Normalizando o atributo ***Meter*** (varia de 1 até 5)."
      ]
    },
    {
      "cell_type": "code",
      "execution_count": null,
      "metadata": {
        "id": "h_jm_Mg14b4j"
      },
      "outputs": [],
      "source": [
        "minmax_scaler = MinMaxScaler()\n",
        "treated_original_array = minmax_scaler.fit_transform(treated_original_df) # now it's a numpy array, not a pandas df\n",
        "treated_undersample_array = minmax_scaler.fit_transform(treated_undersample_df) # now it's a numpy array, not a pandas df\n",
        "treated_oversample_array = minmax_scaler.fit_transform(treated_oversample_df) # now it's a numpy array, not a pandas df\n",
        "\n",
        "treated_original_df = pd.DataFrame(treated_original_array)\n",
        "treated_undersample_df = pd.DataFrame(treated_undersample_array)\n",
        "treated_oversample_df = pd.DataFrame(treated_oversample_array)\n"
      ]
    },
    {
      "cell_type": "code",
      "execution_count": null,
      "metadata": {
        "id": "xyraBTQf6iXL"
      },
      "outputs": [],
      "source": [
        "treated_original_df.columns = column_names\n",
        "treated_undersample_df.columns = column_names\n",
        "treated_oversample_df.columns = column_names\n",
        "\n",
        "treated_original_df.to_csv('/content/treated_og_choral.csv')\n",
        "treated_undersample_df.to_csv('/content/treated_us_choral.csv')\n",
        "treated_oversample_df.to_csv('/content/treated_os_choral.csv')"
      ]
    },
    {
      "cell_type": "markdown",
      "metadata": {
        "id": "iu3qaJlBNMS1"
      },
      "source": [
        "# Dessa forma obtemos 3 datasets normalizados para serem aplicados nos modelos."
      ]
    },
    {
      "cell_type": "code",
      "execution_count": null,
      "metadata": {
        "colab": {
          "base_uri": "https://localhost:8080/",
          "height": 503
        },
        "id": "RMLD4HK28CVP",
        "outputId": "99746aec-8a36-4812-cb3c-2f16d039a054"
      },
      "outputs": [
        {
          "output_type": "execute_result",
          "data": {
            "text/plain": [
              "      Pitch classe: C   Pitch classe: C#/Db   Pitch classe: D   \\\n",
              "0                  1.0                   0.0               0.0   \n",
              "1                  1.0                   0.0               0.0   \n",
              "2                  1.0                   0.0               0.0   \n",
              "3                  1.0                   0.0               0.0   \n",
              "4                  1.0                   0.0               0.0   \n",
              "...                ...                   ...               ...   \n",
              "9239               1.0                   0.0               0.0   \n",
              "9240               1.0                   0.0               0.0   \n",
              "9241               1.0                   0.0               0.0   \n",
              "9242               1.0                   0.0               0.0   \n",
              "9243               1.0                   0.0               0.0   \n",
              "\n",
              "      Pitch classe: D#   Pitch classe: E  Pitch classe: F   Pitch classe: F#  \\\n",
              "0                   0.0              0.0               1.0               0.0   \n",
              "1                   0.0              1.0               0.0               0.0   \n",
              "2                   0.0              1.0               0.0               0.0   \n",
              "3                   0.0              0.0               1.0               0.0   \n",
              "4                   0.0              0.0               1.0               0.0   \n",
              "...                 ...              ...               ...               ...   \n",
              "9239                1.0              0.0               0.0               1.0   \n",
              "9240                1.0              0.0               0.0               1.0   \n",
              "9241                1.0              0.0               0.0               1.0   \n",
              "9242                1.0              0.0               0.0               1.0   \n",
              "9243                1.0              0.0               0.0               1.0   \n",
              "\n",
              "      Pitch classe: G  Pitch classe: G#  Pitch classe: A  ...  Bass_C#  \\\n",
              "0                 0.0               0.0              1.0  ...      0.0   \n",
              "1                 1.0               0.0              0.0  ...      0.0   \n",
              "2                 1.0               0.0              0.0  ...      0.0   \n",
              "3                 0.0               0.0              1.0  ...      0.0   \n",
              "4                 0.0               0.0              1.0  ...      0.0   \n",
              "...               ...               ...              ...  ...      ...   \n",
              "9239              0.0               0.0              1.0  ...      0.0   \n",
              "9240              0.0               0.0              1.0  ...      0.0   \n",
              "9241              0.0               0.0              1.0  ...      0.0   \n",
              "9242              0.0               0.0              1.0  ...      0.0   \n",
              "9243              0.0               0.0              1.0  ...      0.0   \n",
              "\n",
              "      Bass_D  Bass_D#  Bass_Db  Bass_E  Bass_Eb  Bass_F  Bass_F#  Bass_G  \\\n",
              "0        0.0      0.0      0.0     0.0      0.0     1.0      0.0     0.0   \n",
              "1        0.0      0.0      0.0     1.0      0.0     0.0      0.0     0.0   \n",
              "2        0.0      0.0      0.0     1.0      0.0     0.0      0.0     0.0   \n",
              "3        0.0      0.0      0.0     0.0      0.0     1.0      0.0     0.0   \n",
              "4        0.0      0.0      0.0     0.0      0.0     1.0      0.0     0.0   \n",
              "...      ...      ...      ...     ...      ...     ...      ...     ...   \n",
              "9239     0.0      0.0      0.0     0.0      0.0     0.0      1.0     0.0   \n",
              "9240     0.0      0.0      0.0     0.0      0.0     0.0      1.0     0.0   \n",
              "9241     0.0      0.0      0.0     0.0      0.0     0.0      1.0     0.0   \n",
              "9242     0.0      0.0      0.0     0.0      0.0     0.0      1.0     0.0   \n",
              "9243     0.0      0.0      0.0     0.0      0.0     0.0      1.0     0.0   \n",
              "\n",
              "      Bass_G#  \n",
              "0         0.0  \n",
              "1         0.0  \n",
              "2         0.0  \n",
              "3         0.0  \n",
              "4         0.0  \n",
              "...       ...  \n",
              "9239      0.0  \n",
              "9240      0.0  \n",
              "9241      0.0  \n",
              "9242      0.0  \n",
              "9243      0.0  \n",
              "\n",
              "[9244 rows x 29 columns]"
            ],
            "text/html": [
              "\n",
              "  <div id=\"df-722ba56e-12a2-45e1-b9c5-04583a66e8cf\">\n",
              "    <div class=\"colab-df-container\">\n",
              "      <div>\n",
              "<style scoped>\n",
              "    .dataframe tbody tr th:only-of-type {\n",
              "        vertical-align: middle;\n",
              "    }\n",
              "\n",
              "    .dataframe tbody tr th {\n",
              "        vertical-align: top;\n",
              "    }\n",
              "\n",
              "    .dataframe thead th {\n",
              "        text-align: right;\n",
              "    }\n",
              "</style>\n",
              "<table border=\"1\" class=\"dataframe\">\n",
              "  <thead>\n",
              "    <tr style=\"text-align: right;\">\n",
              "      <th></th>\n",
              "      <th>Pitch classe: C</th>\n",
              "      <th>Pitch classe: C#/Db</th>\n",
              "      <th>Pitch classe: D</th>\n",
              "      <th>Pitch classe: D#</th>\n",
              "      <th>Pitch classe: E</th>\n",
              "      <th>Pitch classe: F</th>\n",
              "      <th>Pitch classe: F#</th>\n",
              "      <th>Pitch classe: G</th>\n",
              "      <th>Pitch classe: G#</th>\n",
              "      <th>Pitch classe: A</th>\n",
              "      <th>...</th>\n",
              "      <th>Bass_C#</th>\n",
              "      <th>Bass_D</th>\n",
              "      <th>Bass_D#</th>\n",
              "      <th>Bass_Db</th>\n",
              "      <th>Bass_E</th>\n",
              "      <th>Bass_Eb</th>\n",
              "      <th>Bass_F</th>\n",
              "      <th>Bass_F#</th>\n",
              "      <th>Bass_G</th>\n",
              "      <th>Bass_G#</th>\n",
              "    </tr>\n",
              "  </thead>\n",
              "  <tbody>\n",
              "    <tr>\n",
              "      <th>0</th>\n",
              "      <td>1.0</td>\n",
              "      <td>0.0</td>\n",
              "      <td>0.0</td>\n",
              "      <td>0.0</td>\n",
              "      <td>0.0</td>\n",
              "      <td>1.0</td>\n",
              "      <td>0.0</td>\n",
              "      <td>0.0</td>\n",
              "      <td>0.0</td>\n",
              "      <td>1.0</td>\n",
              "      <td>...</td>\n",
              "      <td>0.0</td>\n",
              "      <td>0.0</td>\n",
              "      <td>0.0</td>\n",
              "      <td>0.0</td>\n",
              "      <td>0.0</td>\n",
              "      <td>0.0</td>\n",
              "      <td>1.0</td>\n",
              "      <td>0.0</td>\n",
              "      <td>0.0</td>\n",
              "      <td>0.0</td>\n",
              "    </tr>\n",
              "    <tr>\n",
              "      <th>1</th>\n",
              "      <td>1.0</td>\n",
              "      <td>0.0</td>\n",
              "      <td>0.0</td>\n",
              "      <td>0.0</td>\n",
              "      <td>1.0</td>\n",
              "      <td>0.0</td>\n",
              "      <td>0.0</td>\n",
              "      <td>1.0</td>\n",
              "      <td>0.0</td>\n",
              "      <td>0.0</td>\n",
              "      <td>...</td>\n",
              "      <td>0.0</td>\n",
              "      <td>0.0</td>\n",
              "      <td>0.0</td>\n",
              "      <td>0.0</td>\n",
              "      <td>1.0</td>\n",
              "      <td>0.0</td>\n",
              "      <td>0.0</td>\n",
              "      <td>0.0</td>\n",
              "      <td>0.0</td>\n",
              "      <td>0.0</td>\n",
              "    </tr>\n",
              "    <tr>\n",
              "      <th>2</th>\n",
              "      <td>1.0</td>\n",
              "      <td>0.0</td>\n",
              "      <td>0.0</td>\n",
              "      <td>0.0</td>\n",
              "      <td>1.0</td>\n",
              "      <td>0.0</td>\n",
              "      <td>0.0</td>\n",
              "      <td>1.0</td>\n",
              "      <td>0.0</td>\n",
              "      <td>0.0</td>\n",
              "      <td>...</td>\n",
              "      <td>0.0</td>\n",
              "      <td>0.0</td>\n",
              "      <td>0.0</td>\n",
              "      <td>0.0</td>\n",
              "      <td>1.0</td>\n",
              "      <td>0.0</td>\n",
              "      <td>0.0</td>\n",
              "      <td>0.0</td>\n",
              "      <td>0.0</td>\n",
              "      <td>0.0</td>\n",
              "    </tr>\n",
              "    <tr>\n",
              "      <th>3</th>\n",
              "      <td>1.0</td>\n",
              "      <td>0.0</td>\n",
              "      <td>0.0</td>\n",
              "      <td>0.0</td>\n",
              "      <td>0.0</td>\n",
              "      <td>1.0</td>\n",
              "      <td>0.0</td>\n",
              "      <td>0.0</td>\n",
              "      <td>0.0</td>\n",
              "      <td>1.0</td>\n",
              "      <td>...</td>\n",
              "      <td>0.0</td>\n",
              "      <td>0.0</td>\n",
              "      <td>0.0</td>\n",
              "      <td>0.0</td>\n",
              "      <td>0.0</td>\n",
              "      <td>0.0</td>\n",
              "      <td>1.0</td>\n",
              "      <td>0.0</td>\n",
              "      <td>0.0</td>\n",
              "      <td>0.0</td>\n",
              "    </tr>\n",
              "    <tr>\n",
              "      <th>4</th>\n",
              "      <td>1.0</td>\n",
              "      <td>0.0</td>\n",
              "      <td>0.0</td>\n",
              "      <td>0.0</td>\n",
              "      <td>0.0</td>\n",
              "      <td>1.0</td>\n",
              "      <td>0.0</td>\n",
              "      <td>0.0</td>\n",
              "      <td>0.0</td>\n",
              "      <td>1.0</td>\n",
              "      <td>...</td>\n",
              "      <td>0.0</td>\n",
              "      <td>0.0</td>\n",
              "      <td>0.0</td>\n",
              "      <td>0.0</td>\n",
              "      <td>0.0</td>\n",
              "      <td>0.0</td>\n",
              "      <td>1.0</td>\n",
              "      <td>0.0</td>\n",
              "      <td>0.0</td>\n",
              "      <td>0.0</td>\n",
              "    </tr>\n",
              "    <tr>\n",
              "      <th>...</th>\n",
              "      <td>...</td>\n",
              "      <td>...</td>\n",
              "      <td>...</td>\n",
              "      <td>...</td>\n",
              "      <td>...</td>\n",
              "      <td>...</td>\n",
              "      <td>...</td>\n",
              "      <td>...</td>\n",
              "      <td>...</td>\n",
              "      <td>...</td>\n",
              "      <td>...</td>\n",
              "      <td>...</td>\n",
              "      <td>...</td>\n",
              "      <td>...</td>\n",
              "      <td>...</td>\n",
              "      <td>...</td>\n",
              "      <td>...</td>\n",
              "      <td>...</td>\n",
              "      <td>...</td>\n",
              "      <td>...</td>\n",
              "      <td>...</td>\n",
              "    </tr>\n",
              "    <tr>\n",
              "      <th>9239</th>\n",
              "      <td>1.0</td>\n",
              "      <td>0.0</td>\n",
              "      <td>0.0</td>\n",
              "      <td>1.0</td>\n",
              "      <td>0.0</td>\n",
              "      <td>0.0</td>\n",
              "      <td>1.0</td>\n",
              "      <td>0.0</td>\n",
              "      <td>0.0</td>\n",
              "      <td>1.0</td>\n",
              "      <td>...</td>\n",
              "      <td>0.0</td>\n",
              "      <td>0.0</td>\n",
              "      <td>0.0</td>\n",
              "      <td>0.0</td>\n",
              "      <td>0.0</td>\n",
              "      <td>0.0</td>\n",
              "      <td>0.0</td>\n",
              "      <td>1.0</td>\n",
              "      <td>0.0</td>\n",
              "      <td>0.0</td>\n",
              "    </tr>\n",
              "    <tr>\n",
              "      <th>9240</th>\n",
              "      <td>1.0</td>\n",
              "      <td>0.0</td>\n",
              "      <td>0.0</td>\n",
              "      <td>1.0</td>\n",
              "      <td>0.0</td>\n",
              "      <td>0.0</td>\n",
              "      <td>1.0</td>\n",
              "      <td>0.0</td>\n",
              "      <td>0.0</td>\n",
              "      <td>1.0</td>\n",
              "      <td>...</td>\n",
              "      <td>0.0</td>\n",
              "      <td>0.0</td>\n",
              "      <td>0.0</td>\n",
              "      <td>0.0</td>\n",
              "      <td>0.0</td>\n",
              "      <td>0.0</td>\n",
              "      <td>0.0</td>\n",
              "      <td>1.0</td>\n",
              "      <td>0.0</td>\n",
              "      <td>0.0</td>\n",
              "    </tr>\n",
              "    <tr>\n",
              "      <th>9241</th>\n",
              "      <td>1.0</td>\n",
              "      <td>0.0</td>\n",
              "      <td>0.0</td>\n",
              "      <td>1.0</td>\n",
              "      <td>0.0</td>\n",
              "      <td>0.0</td>\n",
              "      <td>1.0</td>\n",
              "      <td>0.0</td>\n",
              "      <td>0.0</td>\n",
              "      <td>1.0</td>\n",
              "      <td>...</td>\n",
              "      <td>0.0</td>\n",
              "      <td>0.0</td>\n",
              "      <td>0.0</td>\n",
              "      <td>0.0</td>\n",
              "      <td>0.0</td>\n",
              "      <td>0.0</td>\n",
              "      <td>0.0</td>\n",
              "      <td>1.0</td>\n",
              "      <td>0.0</td>\n",
              "      <td>0.0</td>\n",
              "    </tr>\n",
              "    <tr>\n",
              "      <th>9242</th>\n",
              "      <td>1.0</td>\n",
              "      <td>0.0</td>\n",
              "      <td>0.0</td>\n",
              "      <td>1.0</td>\n",
              "      <td>0.0</td>\n",
              "      <td>0.0</td>\n",
              "      <td>1.0</td>\n",
              "      <td>0.0</td>\n",
              "      <td>0.0</td>\n",
              "      <td>1.0</td>\n",
              "      <td>...</td>\n",
              "      <td>0.0</td>\n",
              "      <td>0.0</td>\n",
              "      <td>0.0</td>\n",
              "      <td>0.0</td>\n",
              "      <td>0.0</td>\n",
              "      <td>0.0</td>\n",
              "      <td>0.0</td>\n",
              "      <td>1.0</td>\n",
              "      <td>0.0</td>\n",
              "      <td>0.0</td>\n",
              "    </tr>\n",
              "    <tr>\n",
              "      <th>9243</th>\n",
              "      <td>1.0</td>\n",
              "      <td>0.0</td>\n",
              "      <td>0.0</td>\n",
              "      <td>1.0</td>\n",
              "      <td>0.0</td>\n",
              "      <td>0.0</td>\n",
              "      <td>1.0</td>\n",
              "      <td>0.0</td>\n",
              "      <td>0.0</td>\n",
              "      <td>1.0</td>\n",
              "      <td>...</td>\n",
              "      <td>0.0</td>\n",
              "      <td>0.0</td>\n",
              "      <td>0.0</td>\n",
              "      <td>0.0</td>\n",
              "      <td>0.0</td>\n",
              "      <td>0.0</td>\n",
              "      <td>0.0</td>\n",
              "      <td>1.0</td>\n",
              "      <td>0.0</td>\n",
              "      <td>0.0</td>\n",
              "    </tr>\n",
              "  </tbody>\n",
              "</table>\n",
              "<p>9244 rows × 29 columns</p>\n",
              "</div>\n",
              "      <button class=\"colab-df-convert\" onclick=\"convertToInteractive('df-722ba56e-12a2-45e1-b9c5-04583a66e8cf')\"\n",
              "              title=\"Convert this dataframe to an interactive table.\"\n",
              "              style=\"display:none;\">\n",
              "        \n",
              "  <svg xmlns=\"http://www.w3.org/2000/svg\" height=\"24px\"viewBox=\"0 0 24 24\"\n",
              "       width=\"24px\">\n",
              "    <path d=\"M0 0h24v24H0V0z\" fill=\"none\"/>\n",
              "    <path d=\"M18.56 5.44l.94 2.06.94-2.06 2.06-.94-2.06-.94-.94-2.06-.94 2.06-2.06.94zm-11 1L8.5 8.5l.94-2.06 2.06-.94-2.06-.94L8.5 2.5l-.94 2.06-2.06.94zm10 10l.94 2.06.94-2.06 2.06-.94-2.06-.94-.94-2.06-.94 2.06-2.06.94z\"/><path d=\"M17.41 7.96l-1.37-1.37c-.4-.4-.92-.59-1.43-.59-.52 0-1.04.2-1.43.59L10.3 9.45l-7.72 7.72c-.78.78-.78 2.05 0 2.83L4 21.41c.39.39.9.59 1.41.59.51 0 1.02-.2 1.41-.59l7.78-7.78 2.81-2.81c.8-.78.8-2.07 0-2.86zM5.41 20L4 18.59l7.72-7.72 1.47 1.35L5.41 20z\"/>\n",
              "  </svg>\n",
              "      </button>\n",
              "      \n",
              "  <style>\n",
              "    .colab-df-container {\n",
              "      display:flex;\n",
              "      flex-wrap:wrap;\n",
              "      gap: 12px;\n",
              "    }\n",
              "\n",
              "    .colab-df-convert {\n",
              "      background-color: #E8F0FE;\n",
              "      border: none;\n",
              "      border-radius: 50%;\n",
              "      cursor: pointer;\n",
              "      display: none;\n",
              "      fill: #1967D2;\n",
              "      height: 32px;\n",
              "      padding: 0 0 0 0;\n",
              "      width: 32px;\n",
              "    }\n",
              "\n",
              "    .colab-df-convert:hover {\n",
              "      background-color: #E2EBFA;\n",
              "      box-shadow: 0px 1px 2px rgba(60, 64, 67, 0.3), 0px 1px 3px 1px rgba(60, 64, 67, 0.15);\n",
              "      fill: #174EA6;\n",
              "    }\n",
              "\n",
              "    [theme=dark] .colab-df-convert {\n",
              "      background-color: #3B4455;\n",
              "      fill: #D2E3FC;\n",
              "    }\n",
              "\n",
              "    [theme=dark] .colab-df-convert:hover {\n",
              "      background-color: #434B5C;\n",
              "      box-shadow: 0px 1px 3px 1px rgba(0, 0, 0, 0.15);\n",
              "      filter: drop-shadow(0px 1px 2px rgba(0, 0, 0, 0.3));\n",
              "      fill: #FFFFFF;\n",
              "    }\n",
              "  </style>\n",
              "\n",
              "      <script>\n",
              "        const buttonEl =\n",
              "          document.querySelector('#df-722ba56e-12a2-45e1-b9c5-04583a66e8cf button.colab-df-convert');\n",
              "        buttonEl.style.display =\n",
              "          google.colab.kernel.accessAllowed ? 'block' : 'none';\n",
              "\n",
              "        async function convertToInteractive(key) {\n",
              "          const element = document.querySelector('#df-722ba56e-12a2-45e1-b9c5-04583a66e8cf');\n",
              "          const dataTable =\n",
              "            await google.colab.kernel.invokeFunction('convertToInteractive',\n",
              "                                                     [key], {});\n",
              "          if (!dataTable) return;\n",
              "\n",
              "          const docLinkHtml = 'Like what you see? Visit the ' +\n",
              "            '<a target=\"_blank\" href=https://colab.research.google.com/notebooks/data_table.ipynb>data table notebook</a>'\n",
              "            + ' to learn more about interactive tables.';\n",
              "          element.innerHTML = '';\n",
              "          dataTable['output_type'] = 'display_data';\n",
              "          await google.colab.output.renderOutput(dataTable, element);\n",
              "          const docLink = document.createElement('div');\n",
              "          docLink.innerHTML = docLinkHtml;\n",
              "          element.appendChild(docLink);\n",
              "        }\n",
              "      </script>\n",
              "    </div>\n",
              "  </div>\n",
              "  "
            ]
          },
          "metadata": {},
          "execution_count": 29
        }
      ],
      "source": [
        "#treated_original_df\n",
        "#treated_undersample_df\n",
        "treated_oversample_df"
      ]
    },
    {
      "cell_type": "markdown",
      "metadata": {
        "id": "xpCeKtkwaNA1"
      },
      "source": [
        "# 04 - Variação paramétrica - Relatório sobre evoluções da variação paramétrica\n",
        "\n"
      ]
    },
    {
      "cell_type": "markdown",
      "metadata": {
        "id": "cCDzsfKDcHZs"
      },
      "source": [
        "K-NN, LVQ, Árvore de decisão simples, SVM, Random Forest, Rede Neural MLP e um Comitê de Redes Neurais e um comitê heterogêneo"
      ]
    },
    {
      "cell_type": "code",
      "execution_count": null,
      "metadata": {
        "id": "FjV9O5SzcvbL"
      },
      "outputs": [],
      "source": [
        "from numpy.random.mtrand import shuffle\n",
        "X_orig = treated_original_df\n",
        "Y_orig = original_chords\n",
        "\n",
        "#6. Divisao da base de dados em treinamento, validacao e teste\n",
        "X_train_orig, X_test_orig, y_train_orig, y_test_orig = train_test_split(X_orig, Y_orig, test_size=.2, random_state=seed_value)\n",
        "\n",
        "X_over = treated_oversample_df\n",
        "Y_over = oversample_chords\n",
        "\n",
        "#6. Divisao da base de dados em treinamento, validacao e teste\n",
        "X_train_over, X_test_over, y_train_over, y_test_over = train_test_split(X_over, Y_over, test_size=.2, random_state=seed_value)\n",
        "\n",
        "X_under = treated_undersample_df\n",
        "Y_under = undersample_chords\n",
        "\n",
        "#6. Divisao da base de dados em treinamento, validacao e teste\n",
        "X_train_under, X_test_under, y_train_under, y_test_under = train_test_split(X_under, Y_under, test_size=.2, random_state=seed_value)\n",
        "\n",
        "cv = StratifiedKFold(n_splits=10, shuffle=True, random_state=seed_value)"
      ]
    },
    {
      "cell_type": "markdown",
      "metadata": {
        "id": "7hkctOr6whmw"
      },
      "source": [
        "# Busca por parâmetros\n",
        "\n",
        "Para definição dos parâemtros, utilizaremos o método ```RandomizedSearchCV``` do módulo scikit-learn, usando como métrica a acurácia. Além disso, utilizaremos o K-fold estratificado com 10 splits para a validação cruzada.\n",
        "\n",
        "Inicialmente faremos a busca utilizando somente a base de dados original. No próximo passo faremos comparações com as duas bases geradas, com undersampling e oversampling."
      ]
    },
    {
      "cell_type": "markdown",
      "metadata": {
        "id": "9z6q96GAwPYJ"
      },
      "source": [
        "# K-NN\n",
        "Para k-NN, vamos buscar o melhor número de vizinhos; o melhor peso (uniforme ou baseado na distância); e a melhor métrica de distância a ser utilizada."
      ]
    },
    {
      "cell_type": "code",
      "execution_count": null,
      "metadata": {
        "colab": {
          "base_uri": "https://localhost:8080/"
        },
        "id": "rXhEuqBlchyf",
        "outputId": "5fc2c137-213b-48d7-d236-d8456f7410bd"
      },
      "outputs": [
        {
          "name": "stderr",
          "output_type": "stream",
          "text": [
            "/usr/local/lib/python3.7/dist-packages/sklearn/model_selection/_split.py:680: UserWarning: The least populated class in y has only 1 members, which is less than n_splits=10.\n",
            "  UserWarning,\n"
          ]
        },
        {
          "name": "stdout",
          "output_type": "stream",
          "text": [
            "=========Random Search Results for k-NN==========\n",
            "Best Score: 0.7460211414845718\n",
            "Best Hyperparameters: {'weights': 'distance', 'n_neighbors': 70, 'metric': 'minkowski'}\n"
          ]
        },
        {
          "name": "stderr",
          "output_type": "stream",
          "text": [
            "/usr/local/lib/python3.7/dist-packages/sklearn/model_selection/_search.py:972: UserWarning: One or more of the test scores are non-finite: [0.74359483        nan        nan        nan        nan 0.72064601\n",
            " 0.74271183 0.74602114        nan 0.70719141]\n",
            "  category=UserWarning,\n"
          ]
        }
      ],
      "source": [
        "knn = KNeighborsClassifier()\n",
        "# defining parameter range for knn\n",
        "param_grid = {'n_neighbors': [n for n in range(1,100)],\n",
        "              'weights':['uniform', 'distance'],\n",
        "              'metric':['mahalanobis', 'minkowski', 'euclidean', 'chebyshev']}\n",
        "\n",
        "# define random search for SVM\n",
        "search = RandomizedSearchCV(knn, param_grid, n_iter=10, scoring='accuracy', n_jobs=4, cv=cv, random_state=seed_value)\n",
        "\n",
        "# execute search\n",
        "result_knn = search.fit(X_train_orig, y_train_orig)\n",
        "\n",
        "# summarize result for SVM\n",
        "print('=========Random Search Results for k-NN==========')\n",
        "print('Best Score: %s' % result_knn.best_score_)\n",
        "print('Best Hyperparameters: %s' % result_knn.best_params_)"
      ]
    },
    {
      "cell_type": "markdown",
      "metadata": {
        "id": "uv-TypFyxJfp"
      },
      "source": [
        "Nessa primeira exploração, encontramos que os melhores parâmetros foram: 70 vizinhos, distância de minkowski e e peso baseado na distância, com acurácia de 74.6%."
      ]
    },
    {
      "cell_type": "markdown",
      "metadata": {
        "id": "Kw2mOlWxx8jq"
      },
      "source": [
        "#Árvore de decisão\n",
        "\n",
        "Para Árvore de decisão, vamos variar: o critério de divisão; o número de amostras mínimos para dividir um nó interno; a profundidade máxima da árvore; o número mínimo de amostras nas folhas."
      ]
    },
    {
      "cell_type": "code",
      "execution_count": null,
      "metadata": {
        "colab": {
          "base_uri": "https://localhost:8080/"
        },
        "id": "pPq5lxXgfQph",
        "outputId": "d0250b8e-66f4-4634-ee32-dc6b21a95801"
      },
      "outputs": [
        {
          "name": "stderr",
          "output_type": "stream",
          "text": [
            "/usr/local/lib/python3.7/dist-packages/sklearn/model_selection/_split.py:680: UserWarning: The least populated class in y has only 1 members, which is less than n_splits=10.\n",
            "  UserWarning,\n"
          ]
        },
        {
          "name": "stdout",
          "output_type": "stream",
          "text": [
            "=========Random Search Results fro TREE==========\n",
            "Best Score: 0.7305807587206192\n",
            "Best Hyperparameters: {'min_samples_split': 3, 'min_samples_leaf': 2, 'max_depth': 17, 'criterion': 'entropy'}\n"
          ]
        }
      ],
      "source": [
        "decisionTree = DecisionTreeClassifier()\n",
        "\n",
        "# define search space for decision tree\n",
        "space = dict()\n",
        "space['criterion'] = ['gini', 'entropy']\n",
        "space['min_samples_split'] = [2,3,4,5,6,7,8,9]\n",
        "space['max_depth'] = [3,5,6,7,9,11,13,15,17,19,20,21,22,23,24,25]\n",
        "space['min_samples_leaf'] = [2,3,4,5,6]\n",
        "\n",
        "# define random search for decision tree\n",
        "search = RandomizedSearchCV(decisionTree, space, n_iter=50, scoring='accuracy', n_jobs=4, cv=cv, random_state=seed_value)\n",
        "\n",
        "# execute search\n",
        "result_tree = search.fit(X_train_orig, y_train_orig)\n",
        "\n",
        "# summarize result for decision tree\n",
        "print('=========Random Search Results fro TREE==========')\n",
        "print('Best Score: %s' % result_tree.best_score_)\n",
        "print('Best Hyperparameters: %s' % result_tree.best_params_)"
      ]
    },
    {
      "cell_type": "markdown",
      "metadata": {
        "id": "Ryn9Dxpb8kvb"
      },
      "source": [
        "Os melhores hiperparâmetros encontrados foram: min_samples_split': 5, 'min_samples_leaf': 3, 'max_depth': 13, 'criterion': 'entropy'; com acurácia de 73.06%\n",
        "\n"
      ]
    },
    {
      "cell_type": "markdown",
      "metadata": {
        "id": "do344G2JOEJI"
      },
      "source": [
        "# LVQ\n",
        "\n",
        "Foi utilizado o algoritmo LVQ generalizado"
      ]
    },
    {
      "cell_type": "code",
      "execution_count": null,
      "metadata": {
        "colab": {
          "base_uri": "https://localhost:8080/"
        },
        "id": "Tc3Vgn8kspn_",
        "outputId": "24bf8663-0eb0-4b31-80a2-e2610c5f4fa6"
      },
      "outputs": [
        {
          "output_type": "stream",
          "name": "stdout",
          "text": [
            "=========Random Search Results for LVQ==========\n",
            "Best Score: 0.7266028726745827\n",
            "Best Hyperparameters: {'solver_type': 'lbfgs', 'prototype_n_per_class': 4, 'distance_type': 'squared-euclidean', 'activation_type': 'sigmoid'}\n"
          ]
        }
      ],
      "source": [
        "lvq = GLVQ()\n",
        "# defining parameter range for LVQ\n",
        "param_grid = {\"distance_type\":[\"euclidean\", \"squared-euclidean\"],\n",
        "              \"solver_type\":['sgd', 'wgd', 'adam', 'lbfgs'], #, 'lbfgs', 'bfgs'\n",
        "              \"activation_type\":['identity', 'sigmoid'],\n",
        "              \"prototype_n_per_class\": [1,2,3,4,5],\n",
        "              }\n",
        "\n",
        "# define random search for LVQ\n",
        "search = RandomizedSearchCV(lvq, param_grid, n_iter=10, scoring='accuracy', n_jobs=-1, cv=cv, random_state=seed_value)\n",
        "\n",
        "# execute search\n",
        "result_lvq = search.fit(X_train_orig, y_train_orig)\n",
        "\n",
        "# summarize result for LVQ\n",
        "print('=========Random Search Results for LVQ==========')\n",
        "print('Best Score: %s' % result_lvq.best_score_)\n",
        "print('Best Hyperparameters: %s' % result_lvq.best_params_)"
      ]
    },
    {
      "cell_type": "markdown",
      "metadata": {
        "id": "Sz0rEEIa28sV"
      },
      "source": [
        "#Resultados LVQ\n",
        "Obtivemos o melhor resultado com os seguintes parâmetros: 'solver_type': 'lbfgs', 'prototype_n_per_class': 4, 'distance_type': 'squared-euclidean', 'activation_type': 'sigmoid'.\n",
        "\n",
        "A acurácia foi de 72.66%"
      ]
    },
    {
      "cell_type": "markdown",
      "metadata": {
        "id": "uEhd5eUwy4m5"
      },
      "source": [
        "#SVM\n",
        "\n",
        "Para SVM será variado: C, gamma, e o tipo de kernel a ser utilizado."
      ]
    },
    {
      "cell_type": "code",
      "execution_count": null,
      "metadata": {
        "colab": {
          "base_uri": "https://localhost:8080/"
        },
        "id": "H_RMhl4Ehta9",
        "outputId": "6ed1329b-96a3-44db-d66d-d3b5bc0a31f9"
      },
      "outputs": [
        {
          "name": "stderr",
          "output_type": "stream",
          "text": [
            "/usr/local/lib/python3.7/dist-packages/sklearn/model_selection/_split.py:680: UserWarning: The least populated class in y has only 1 members, which is less than n_splits=10.\n",
            "  UserWarning,\n"
          ]
        },
        {
          "name": "stdout",
          "output_type": "stream",
          "text": [
            "=========Random Search Results for SVM==========\n",
            "Best Score: 0.7376369966255313\n",
            "Best Hyperparameters: {'kernel': 'rbf', 'gamma': 1, 'C': 1}\n"
          ]
        }
      ],
      "source": [
        "svc = SVC()\n",
        "# defining parameter range for svm\n",
        "param_grid = {'C': [0.1, 1, 10,],\n",
        "              'gamma': [1, 0.1, 0.01, 0.001],\n",
        "              'kernel': ['linear', 'poly', 'rbf', 'sigmoid',]}\n",
        "\n",
        "\n",
        "# define random search for SVM\n",
        "search = RandomizedSearchCV(svc, param_grid, n_iter=10, scoring='accuracy', n_jobs=4, cv=cv, random_state=seed_value)\n",
        "\n",
        "# execute search\n",
        "result_svc = search.fit(X_train_orig, y_train_orig)\n",
        "\n",
        "# summarize result for SVM\n",
        "print('=========Random Search Results for SVM==========')\n",
        "print('Best Score: %s' % result_svc.best_score_)\n",
        "print('Best Hyperparameters: %s' % result_svc.best_params_)"
      ]
    },
    {
      "cell_type": "markdown",
      "metadata": {
        "id": "TQ2h9X2E8yPN"
      },
      "source": [
        "Os melhores hiperparâmetros encontrados foram: 'kernel': 'rbf', 'gamma': 1, 'C': 1; com acurácia de 73.76%"
      ]
    },
    {
      "cell_type": "markdown",
      "metadata": {
        "id": "6Symu9iY83w8"
      },
      "source": [
        "# MLP\n",
        "\n",
        "Para MLP variamos a quantidade de neurônios na camada escondida e quantidade de cmamadas escondidas, além da função de ativação, solver e taxa de aprendizagem alfa."
      ]
    },
    {
      "cell_type": "code",
      "execution_count": null,
      "metadata": {
        "colab": {
          "base_uri": "https://localhost:8080/"
        },
        "id": "Cr_MP-k8iFDe",
        "outputId": "b40b9506-48c6-4a05-e633-3e5d18b55b32"
      },
      "outputs": [
        {
          "name": "stderr",
          "output_type": "stream",
          "text": [
            "/usr/local/lib/python3.7/dist-packages/sklearn/model_selection/_split.py:680: UserWarning: The least populated class in y has only 1 members, which is less than n_splits=10.\n",
            "  UserWarning,\n"
          ]
        },
        {
          "name": "stdout",
          "output_type": "stream",
          "text": [
            "=========Random Search Results for MLP==========\n",
            "Best Score: 0.7389614999367895\n",
            "Best Hyperparameters: {'solver': 'lbfgs', 'hidden_layer_sizes': (30, 30, 30), 'alpha': 1.0, 'activation': 'relu'}\n"
          ]
        },
        {
          "name": "stderr",
          "output_type": "stream",
          "text": [
            "/usr/local/lib/python3.7/dist-packages/sklearn/neural_network/_multilayer_perceptron.py:549: ConvergenceWarning: lbfgs failed to converge (status=1):\n",
            "STOP: TOTAL NO. of ITERATIONS REACHED LIMIT.\n",
            "\n",
            "Increase the number of iterations (max_iter) or scale the data as shown in:\n",
            "    https://scikit-learn.org/stable/modules/preprocessing.html\n",
            "  self.n_iter_ = _check_optimize_result(\"lbfgs\", opt_res, self.max_iter)\n"
          ]
        }
      ],
      "source": [
        "mlp = MLPClassifier()\n",
        "# defining parameter range for MLP\n",
        "layer_details = [(10,),\n",
        "                 (20,),\n",
        "                 (30,),\n",
        "                 (10,10,),\n",
        "                 (20,20,),\n",
        "                 (30,30,),\n",
        "                 (10,10,10,),\n",
        "                 (20,20,20,),\n",
        "                 (30,30,30,),\n",
        "                 (10,10,10,10,),\n",
        "                 (20,20,20,20,),\n",
        "                 (30,30,30,30,),\n",
        "                 (10,10,10,10,10,),\n",
        "                 (20,20,20,20,20,),\n",
        "                 (30,30,30,30,30,)]\n",
        "param_grid = {'activation':['identity', 'logistic', 'tanh', 'relu'],\n",
        "              'hidden_layer_sizes':layer_details,\n",
        "              'solver':['lbfgs', 'sgd', 'adam'],\n",
        "              'alpha':[1., .1, .01, .001, .0001, .00001],}\n",
        "\n",
        "\n",
        "# define random search for MLP\n",
        "search = RandomizedSearchCV(mlp, param_grid, n_iter=10, scoring='accuracy', n_jobs=4, cv=cv, random_state=seed_value)\n",
        "\n",
        "# execute search\n",
        "result_mlp = search.fit(X_train_orig, y_train_orig)\n",
        "\n",
        "# summarize result for MLP\n",
        "print('=========Random Search Results for MLP==========')\n",
        "print('Best Score: %s' % result_mlp.best_score_)\n",
        "print('Best Hyperparameters: %s' % result_mlp.best_params_)"
      ]
    },
    {
      "cell_type": "markdown",
      "metadata": {
        "id": "NR_CTj9M9IEJ"
      },
      "source": [
        "Os melhores parâmetros encontrados foram 'solver': 'lbfgs', 'hidden_layer_sizes': (30, 30, 30), 'alpha': 1.0, 'activation': 'relu'; com acurária de 73.9%.\n",
        "\n",
        "Apesar disso, como usando solver lbfgs não convergeu, precisamos analisar isso melhor no próximo passo."
      ]
    },
    {
      "cell_type": "markdown",
      "metadata": {
        "id": "bkC2kfYi9tLM"
      },
      "source": [
        "# Random Forest\n",
        "\n",
        "Para Rando Forest vamos variar somente o número de árvores que compõem o comitê."
      ]
    },
    {
      "cell_type": "code",
      "execution_count": null,
      "metadata": {
        "colab": {
          "base_uri": "https://localhost:8080/"
        },
        "id": "blWwix2qiMwM",
        "outputId": "1ca888e4-9b95-45cd-94f3-b97397d29285"
      },
      "outputs": [
        {
          "name": "stderr",
          "output_type": "stream",
          "text": [
            "/usr/local/lib/python3.7/dist-packages/sklearn/model_selection/_split.py:680: UserWarning: The least populated class in y has only 1 members, which is less than n_splits=10.\n",
            "  UserWarning,\n"
          ]
        },
        {
          "name": "stdout",
          "output_type": "stream",
          "text": [
            "=========Random Search Results for RFC==========\n",
            "Best Score: 0.7506539856658012\n",
            "Best Hyperparameters: {'n_estimators': 31}\n"
          ]
        }
      ],
      "source": [
        "RFC = RandomForestClassifier()\n",
        "# defining parameter range for RFC\n",
        "param_grid = {'n_estimators': [n for n in range(1,50)],}\n",
        "\n",
        "# define random search for RFc\n",
        "search = RandomizedSearchCV(RFC, param_grid, n_iter=10, scoring='accuracy', n_jobs=4, cv=cv, random_state=seed_value)\n",
        "\n",
        "# execute search\n",
        "result_rfc = search.fit(X_train_orig, y_train_orig)\n",
        "\n",
        "# summarize result for RFC\n",
        "print('=========Random Search Results for RFC==========')\n",
        "print('Best Score: %s' % result_rfc.best_score_)\n",
        "print('Best Hyperparameters: %s' % result_rfc.best_params_)"
      ]
    },
    {
      "cell_type": "markdown",
      "metadata": {
        "id": "TFDZTNZH94C-"
      },
      "source": [
        "Enctonramos que o melhor número de membros do comitê foi de 31 árvores com acurácia de 75.06%"
      ]
    },
    {
      "cell_type": "markdown",
      "metadata": {
        "id": "FFlQ7oea-bmi"
      },
      "source": [
        "#Comitê de RNA\n",
        "\n",
        "Fizemos um comitê utilizando bagging com MLPs.\n",
        "Vamos utilizar os parâmetros do melhor resultado para MLP encontrando anteriormente e vamos variar a quantidade de MLPs que vão compor o comitê."
      ]
    },
    {
      "cell_type": "code",
      "execution_count": null,
      "metadata": {
        "colab": {
          "base_uri": "https://localhost:8080/"
        },
        "id": "rrAhmGGMiUPZ",
        "outputId": "b428c3b2-f215-4624-c622-2e523a07519e"
      },
      "outputs": [
        {
          "name": "stderr",
          "output_type": "stream",
          "text": [
            "/usr/local/lib/python3.7/dist-packages/sklearn/model_selection/_search.py:296: UserWarning: The total space of parameters 9 is smaller than n_iter=10. Running 9 iterations. For exhaustive searches, use GridSearchCV.\n",
            "  UserWarning,\n",
            "/usr/local/lib/python3.7/dist-packages/sklearn/model_selection/_split.py:680: UserWarning: The least populated class in y has only 1 members, which is less than n_splits=10.\n",
            "  UserWarning,\n",
            "/usr/local/lib/python3.7/dist-packages/sklearn/neural_network/_multilayer_perceptron.py:549: ConvergenceWarning: lbfgs failed to converge (status=1):\n",
            "STOP: TOTAL NO. of ITERATIONS REACHED LIMIT.\n",
            "\n",
            "Increase the number of iterations (max_iter) or scale the data as shown in:\n",
            "    https://scikit-learn.org/stable/modules/preprocessing.html\n",
            "  self.n_iter_ = _check_optimize_result(\"lbfgs\", opt_res, self.max_iter)\n",
            "/usr/local/lib/python3.7/dist-packages/sklearn/neural_network/_multilayer_perceptron.py:549: ConvergenceWarning: lbfgs failed to converge (status=1):\n",
            "STOP: TOTAL NO. of ITERATIONS REACHED LIMIT.\n",
            "\n",
            "Increase the number of iterations (max_iter) or scale the data as shown in:\n",
            "    https://scikit-learn.org/stable/modules/preprocessing.html\n",
            "  self.n_iter_ = _check_optimize_result(\"lbfgs\", opt_res, self.max_iter)\n",
            "/usr/local/lib/python3.7/dist-packages/sklearn/neural_network/_multilayer_perceptron.py:549: ConvergenceWarning: lbfgs failed to converge (status=1):\n",
            "STOP: TOTAL NO. of ITERATIONS REACHED LIMIT.\n",
            "\n",
            "Increase the number of iterations (max_iter) or scale the data as shown in:\n",
            "    https://scikit-learn.org/stable/modules/preprocessing.html\n",
            "  self.n_iter_ = _check_optimize_result(\"lbfgs\", opt_res, self.max_iter)\n",
            "/usr/local/lib/python3.7/dist-packages/sklearn/neural_network/_multilayer_perceptron.py:549: ConvergenceWarning: lbfgs failed to converge (status=1):\n",
            "STOP: TOTAL NO. of ITERATIONS REACHED LIMIT.\n",
            "\n",
            "Increase the number of iterations (max_iter) or scale the data as shown in:\n",
            "    https://scikit-learn.org/stable/modules/preprocessing.html\n",
            "  self.n_iter_ = _check_optimize_result(\"lbfgs\", opt_res, self.max_iter)\n",
            "/usr/local/lib/python3.7/dist-packages/sklearn/neural_network/_multilayer_perceptron.py:549: ConvergenceWarning: lbfgs failed to converge (status=1):\n",
            "STOP: TOTAL NO. of ITERATIONS REACHED LIMIT.\n",
            "\n",
            "Increase the number of iterations (max_iter) or scale the data as shown in:\n",
            "    https://scikit-learn.org/stable/modules/preprocessing.html\n",
            "  self.n_iter_ = _check_optimize_result(\"lbfgs\", opt_res, self.max_iter)\n",
            "/usr/local/lib/python3.7/dist-packages/sklearn/neural_network/_multilayer_perceptron.py:549: ConvergenceWarning: lbfgs failed to converge (status=1):\n",
            "STOP: TOTAL NO. of ITERATIONS REACHED LIMIT.\n",
            "\n",
            "Increase the number of iterations (max_iter) or scale the data as shown in:\n",
            "    https://scikit-learn.org/stable/modules/preprocessing.html\n",
            "  self.n_iter_ = _check_optimize_result(\"lbfgs\", opt_res, self.max_iter)\n",
            "/usr/local/lib/python3.7/dist-packages/sklearn/neural_network/_multilayer_perceptron.py:549: ConvergenceWarning: lbfgs failed to converge (status=1):\n",
            "STOP: TOTAL NO. of ITERATIONS REACHED LIMIT.\n",
            "\n",
            "Increase the number of iterations (max_iter) or scale the data as shown in:\n",
            "    https://scikit-learn.org/stable/modules/preprocessing.html\n",
            "  self.n_iter_ = _check_optimize_result(\"lbfgs\", opt_res, self.max_iter)\n",
            "/usr/local/lib/python3.7/dist-packages/sklearn/neural_network/_multilayer_perceptron.py:549: ConvergenceWarning: lbfgs failed to converge (status=1):\n",
            "STOP: TOTAL NO. of ITERATIONS REACHED LIMIT.\n",
            "\n",
            "Increase the number of iterations (max_iter) or scale the data as shown in:\n",
            "    https://scikit-learn.org/stable/modules/preprocessing.html\n",
            "  self.n_iter_ = _check_optimize_result(\"lbfgs\", opt_res, self.max_iter)\n"
          ]
        },
        {
          "name": "stdout",
          "output_type": "stream",
          "text": [
            "=========Random Search Results for BLMP==========\n",
            "Best Score: 0.754401882700742\n",
            "Best Hyperparameters: {'n_estimators': 9, 'base_estimator': MLPClassifier(alpha=1.0, hidden_layer_sizes=(30, 30, 30), solver='lbfgs')}\n"
          ]
        },
        {
          "name": "stderr",
          "output_type": "stream",
          "text": [
            "/usr/local/lib/python3.7/dist-packages/sklearn/neural_network/_multilayer_perceptron.py:549: ConvergenceWarning: lbfgs failed to converge (status=1):\n",
            "STOP: TOTAL NO. of ITERATIONS REACHED LIMIT.\n",
            "\n",
            "Increase the number of iterations (max_iter) or scale the data as shown in:\n",
            "    https://scikit-learn.org/stable/modules/preprocessing.html\n",
            "  self.n_iter_ = _check_optimize_result(\"lbfgs\", opt_res, self.max_iter)\n"
          ]
        }
      ],
      "source": [
        "BMLP = BaggingClassifier()\n",
        "# defining parameter range for BMLP\n",
        "param_grid = {'base_estimator':[result_mlp.best_estimator_],\n",
        "              'n_estimators':[n for n in range(1,10)],}\n",
        "\n",
        "# define random search for BMLP\n",
        "search = RandomizedSearchCV(BMLP, param_grid, n_iter=10, scoring='accuracy', n_jobs=4, cv=cv, random_state=seed_value)\n",
        "\n",
        "# execute search\n",
        "result_bmlp = search.fit(X_train_orig, y_train_orig)\n",
        "\n",
        "# summarize result for BMLP\n",
        "print('=========Random Search Results for BLMP==========')\n",
        "print('Best Score: %s' % result_bmlp.best_score_)\n",
        "print('Best Hyperparameters: %s' % result_bmlp.best_params_)"
      ]
    },
    {
      "cell_type": "markdown",
      "metadata": {
        "id": "MBA0YHcECCYB"
      },
      "source": [
        "Mais uma vez não convergiu, porém o melhor número de estimadores foi 9, com 75.44% de acurácia."
      ]
    },
    {
      "cell_type": "markdown",
      "metadata": {
        "id": "Sb2F-7sXCNTf"
      },
      "source": [
        "# Resumindo\n",
        "\n",
        "Nesse primeiro momento observamos os desempenhos utilizando somente a base de dados original. os resultados encontrados foram:\n",
        "\n",
        "- 75.44%: Bagging de MLPs\n",
        "- 75.06%: Random Forest Classifier\n",
        "- 74.6%: k-NN\n",
        "- 73.9%: Multi-Layer Perceptron\n",
        "- 73.76%: Support Vector Machine\n",
        "- 73.08%: Árvore de decisão\n",
        "\n",
        "Na próxima exploração vamos verificar o comportamento dos modelos com as bases tratadas com undersampling e oversampling, comparando com os resultados obtidos usando a base original."
      ]
    },
    {
      "cell_type": "markdown",
      "metadata": {
        "id": "DSUysPgu9bDy"
      },
      "source": [
        "# 05 - Variação paramétrica - Relatório sobre evoluções da variação paramétrica (parte 2)"
      ]
    },
    {
      "cell_type": "markdown",
      "source": [
        "Fazendo a busca de parâmetros com os outros bancos de dados.\n",
        "\n",
        "O banco ***oversample*** representa o banco de dados onde só aumentamos artificialmente as amostras de classes com poucos exemplos.\n",
        "\n",
        "Já o banco ***undersample*** representa o banco de dados onde aumentamos o artificialmente o número de amostras de classes pouco representadas e também diminuímos o número de amostras de classes com muitos exemplos.\n"
      ],
      "metadata": {
        "id": "lsuIYpSCR8S9"
      }
    },
    {
      "cell_type": "markdown",
      "source": [
        "K-NN\n",
        "---\n",
        "\n",
        "oversample\n",
        "\n",
        "\n",
        "\n"
      ],
      "metadata": {
        "id": "Mrx0OdqRSMFH"
      }
    },
    {
      "cell_type": "code",
      "source": [
        "knn = KNeighborsClassifier()\n",
        "# defining parameter range for knn\n",
        "param_grid = {'n_neighbors': [n for n in range(1,100)],\n",
        "              'weights':['uniform', 'distance'],\n",
        "              'metric':['mahalanobis', 'minkowski', 'euclidean', 'chebyshev']}\n",
        "\n",
        "# define random search for SVM\n",
        "search = RandomizedSearchCV(knn, param_grid, n_iter=10, scoring='accuracy', n_jobs=4, cv=cv, random_state=seed_value)\n",
        "\n",
        "# execute search\n",
        "result_knn_over = search.fit(X_train_over, y_train_over)\n",
        "\n",
        "# summarize result for SVM\n",
        "print('=========Random Search Results for k-NN==========')\n",
        "print('Best Score: %s' % result_knn_over.best_score_)\n",
        "print('Best Hyperparameters: %s' % result_knn_over.best_params_)"
      ],
      "metadata": {
        "colab": {
          "base_uri": "https://localhost:8080/"
        },
        "id": "2M6VnIM2RrF7",
        "outputId": "04d91ec1-8232-4fe7-f0c9-736ccd8919d6"
      },
      "execution_count": null,
      "outputs": [
        {
          "output_type": "stream",
          "name": "stdout",
          "text": [
            "=========Random Search Results for k-NN==========\n",
            "Best Score: 0.8044592765973009\n",
            "Best Hyperparameters: {'weights': 'distance', 'n_neighbors': 82, 'metric': 'minkowski'}\n"
          ]
        }
      ]
    },
    {
      "cell_type": "markdown",
      "source": [
        "Com  ***oversample*** encontramos uma acurácia de 80.45%, com os seguintes parâmetros: ```'weights': 'distance', 'n_neighbors': 82, 'metric': 'minkowski'```\n",
        "\n",
        "---\n",
        "\n",
        "undersample"
      ],
      "metadata": {
        "id": "l5q3RNixSOVZ"
      }
    },
    {
      "cell_type": "code",
      "source": [
        "knn = KNeighborsClassifier()\n",
        "# defining parameter range for knn\n",
        "param_grid = {'n_neighbors': [n for n in range(1,100)],\n",
        "              'weights':['uniform', 'distance'],\n",
        "              'metric':['mahalanobis', 'minkowski', 'euclidean', 'chebyshev']}\n",
        "\n",
        "# define random search for SVM\n",
        "search = RandomizedSearchCV(knn, param_grid, n_iter=10, scoring='accuracy', n_jobs=4, cv=cv, random_state=seed_value)\n",
        "\n",
        "# execute search\n",
        "result_knn_under = search.fit(X_train_under, y_train_under)\n",
        "\n",
        "# summarize result for SVM\n",
        "print('=========Random Search Results for k-NN==========')\n",
        "print('Best Score: %s' % result_knn_under.best_score_)\n",
        "print('Best Hyperparameters: %s' % result_knn_under.best_params_)"
      ],
      "metadata": {
        "colab": {
          "base_uri": "https://localhost:8080/"
        },
        "id": "FlIpY0sdSQoz",
        "outputId": "52ac07b0-065e-4599-f95e-9b3447fa1ce9"
      },
      "execution_count": null,
      "outputs": [
        {
          "output_type": "stream",
          "name": "stdout",
          "text": [
            "=========Random Search Results for k-NN==========\n",
            "Best Score: 0.7997864223396604\n",
            "Best Hyperparameters: {'weights': 'distance', 'n_neighbors': 90, 'metric': 'euclidean'}\n"
          ]
        }
      ]
    },
    {
      "cell_type": "markdown",
      "source": [
        "Já com ***undersample***, obtivemos uma acurácia de 79.98% com os seguintes parâmetros: ```'weights': 'distance', 'n_neighbors': 90, 'metric': 'euclidean'```"
      ],
      "metadata": {
        "id": "Vj3T2Z4bKzbw"
      }
    },
    {
      "cell_type": "markdown",
      "source": [
        "Árvore de decisão\n",
        "---\n",
        "\n",
        "oversample"
      ],
      "metadata": {
        "id": "tVfkMG-zSSxT"
      }
    },
    {
      "cell_type": "code",
      "source": [
        "decisionTree = DecisionTreeClassifier()\n",
        "\n",
        "# define search space for decision tree\n",
        "space = dict()\n",
        "space['criterion'] = ['gini', 'entropy']\n",
        "space['min_samples_split'] = [2,3,4,5,6,7,8,9]\n",
        "space['max_depth'] = [3,5,6,7,9,11,13,15,17,19,20,21,22,23,24,25]\n",
        "space['min_samples_leaf'] = [2,3,4,5,6]\n",
        "\n",
        "# define random search for decision tree\n",
        "search = RandomizedSearchCV(decisionTree, space, n_iter=50, scoring='accuracy', n_jobs=4, cv=cv, random_state=seed_value)\n",
        "\n",
        "# execute search\n",
        "result_tree_over = search.fit(X_train_over, y_train_over)\n",
        "\n",
        "# summarize result for decision tree\n",
        "print('=========Random Search Results fro TREE==========')\n",
        "print('Best Score: %s' % result_tree_over.best_score_)\n",
        "print('Best Hyperparameters: %s' % result_tree_over.best_params_)"
      ],
      "metadata": {
        "colab": {
          "base_uri": "https://localhost:8080/"
        },
        "id": "Ji8m2wCKSSgV",
        "outputId": "b5208e0b-1eb6-4a44-e178-8da2b249637d"
      },
      "execution_count": null,
      "outputs": [
        {
          "output_type": "stream",
          "name": "stdout",
          "text": [
            "=========Random Search Results fro TREE==========\n",
            "Best Score: 0.7853913250192004\n",
            "Best Hyperparameters: {'min_samples_split': 3, 'min_samples_leaf': 2, 'max_depth': 21, 'criterion': 'gini'}\n"
          ]
        }
      ]
    },
    {
      "cell_type": "markdown",
      "source": [
        "Utilizando a base ***oversample*** obtivemos 78.54% de acurácia com os seguintes parâmetros: ```'min_samples_split': 3, 'min_samples_leaf': 2, 'max_depth': 21, 'criterion': 'gini'```\n",
        "\n",
        "---\n",
        "\n",
        "undersample"
      ],
      "metadata": {
        "id": "2515tkDySSMz"
      }
    },
    {
      "cell_type": "code",
      "source": [
        "decisionTree = DecisionTreeClassifier()\n",
        "\n",
        "# define search space for decision tree\n",
        "space = dict()\n",
        "space['criterion'] = ['gini', 'entropy']\n",
        "space['min_samples_split'] = [2,3,4,5,6,7,8,9]\n",
        "space['max_depth'] = [3,5,6,7,9,11,13,15,17,19,20,21,22,23,24,25]\n",
        "space['min_samples_leaf'] = [2,3,4,5,6]\n",
        "\n",
        "# define random search for decision tree\n",
        "search = RandomizedSearchCV(decisionTree, space, n_iter=50, scoring='accuracy', n_jobs=4, cv=cv, random_state=seed_value)\n",
        "\n",
        "# execute search\n",
        "result_tree_under = search.fit(X_train_under, y_train_under)\n",
        "\n",
        "# summarize result for decision tree\n",
        "print('=========Random Search Results fro TREE==========')\n",
        "print('Best Score: %s' % result_tree_under.best_score_)\n",
        "print('Best Hyperparameters: %s' % result_tree_under.best_params_)"
      ],
      "metadata": {
        "colab": {
          "base_uri": "https://localhost:8080/"
        },
        "id": "ap3-kXxRS6I1",
        "outputId": "af957846-65c2-4e54-e863-d3ee0ebad81e"
      },
      "execution_count": null,
      "outputs": [
        {
          "output_type": "stream",
          "name": "stdout",
          "text": [
            "=========Random Search Results fro TREE==========\n",
            "Best Score: 0.7863454141780544\n",
            "Best Hyperparameters: {'min_samples_split': 3, 'min_samples_leaf': 2, 'max_depth': 13, 'criterion': 'entropy'}\n"
          ]
        }
      ]
    },
    {
      "cell_type": "markdown",
      "source": [
        "Para ***undersample***, conseguimos 78.63% de acurácia utilizando os seguintes parâmetros: ```'min_samples_split': 3, 'min_samples_leaf': 2, 'max_depth': 13, 'criterion': 'entropy'```"
      ],
      "metadata": {
        "id": "Oeg_n5JRKBPw"
      }
    },
    {
      "cell_type": "markdown",
      "source": [
        "LVQ\n",
        "---\n",
        "\n",
        "oversample"
      ],
      "metadata": {
        "id": "V7UBmZi6TJJw"
      }
    },
    {
      "cell_type": "code",
      "source": [
        "lvq = GLVQ()\n",
        "# defining parameter range for LVQ\n",
        "param_grid = {\"distance_type\":[\"euclidean\", \"squared-euclidean\"],\n",
        "              \"solver_type\":['sgd', 'wgd', 'adam', 'lbfgs'], #, 'lbfgs', 'bfgs'\n",
        "              \"activation_type\":['identity', 'sigmoid'],\n",
        "              \"prototype_n_per_class\": [1,2,3,4,5],\n",
        "              }\n",
        "\n",
        "# define random search for LVQ\n",
        "search = RandomizedSearchCV(lvq, param_grid, n_iter=10, scoring='accuracy', n_jobs=-1, cv=cv, random_state=seed_value)\n",
        "\n",
        "# execute search\n",
        "result_lvq_over = search.fit(X_train_over, y_train_over)\n",
        "\n",
        "# summarize result for LVQ\n",
        "print('=========Random Search Results for LVQ==========')\n",
        "print('Best Score: %s' % result_lvq_over.best_score_)\n",
        "print('Best Hyperparameters: %s' % result_lvq_over.best_params_)"
      ],
      "metadata": {
        "colab": {
          "base_uri": "https://localhost:8080/"
        },
        "id": "Xz5xmC_0TI9W",
        "outputId": "93feb4a4-0262-4a90-f582-ce6d54967828"
      },
      "execution_count": null,
      "outputs": [
        {
          "output_type": "stream",
          "name": "stdout",
          "text": [
            "=========Random Search Results for LVQ==========\n",
            "Best Score: 0.7528001682331859\n",
            "Best Hyperparameters: {'solver_type': 'lbfgs', 'prototype_n_per_class': 4, 'distance_type': 'squared-euclidean', 'activation_type': 'sigmoid'}\n"
          ]
        }
      ]
    },
    {
      "cell_type": "markdown",
      "source": [
        "Com ***oversample*** obtivemos 75.28% de acurácia com parâmetros: ```'solver_type': 'lbfgs', 'prototype_n_per_class': 4, 'distance_type': 'squared-euclidean', 'activation_type': 'sigmoid'```\n",
        "\n",
        "---\n",
        "\n",
        "undersample"
      ],
      "metadata": {
        "id": "Ion-vqumTIa6"
      }
    },
    {
      "cell_type": "code",
      "source": [
        "lvq = GLVQ()\n",
        "# defining parameter range for LVQ\n",
        "param_grid = {\"distance_type\":[\"euclidean\", \"squared-euclidean\"],\n",
        "              \"solver_type\":['sgd', 'wgd', 'adam', 'lbfgs'], #, 'lbfgs', 'bfgs'\n",
        "              \"activation_type\":['identity', 'sigmoid'],\n",
        "              \"prototype_n_per_class\": [1,2,3,4,5],\n",
        "              }\n",
        "\n",
        "# define random search for LVQ\n",
        "search = RandomizedSearchCV(lvq, param_grid, n_iter=10, scoring='accuracy', n_jobs=-1, cv=cv, random_state=seed_value)\n",
        "\n",
        "# execute search\n",
        "result_lvq_under = search.fit(X_train_under, y_train_under)\n",
        "\n",
        "# summarize result for LVQ\n",
        "print('=========Random Search Results for LVQ==========')\n",
        "print('Best Score: %s' % result_lvq_under.best_score_)\n",
        "print('Best Hyperparameters: %s' % result_lvq_under.best_params_)"
      ],
      "metadata": {
        "colab": {
          "base_uri": "https://localhost:8080/"
        },
        "id": "br75CtfZTIJd",
        "outputId": "fc539174-b7dd-4bdc-c179-740bd1e2a6dc"
      },
      "execution_count": null,
      "outputs": [
        {
          "output_type": "stream",
          "name": "stdout",
          "text": [
            "=========Random Search Results for LVQ==========\n",
            "Best Score: 0.7504362237718503\n",
            "Best Hyperparameters: {'solver_type': 'lbfgs', 'prototype_n_per_class': 4, 'distance_type': 'squared-euclidean', 'activation_type': 'sigmoid'}\n"
          ]
        }
      ]
    },
    {
      "cell_type": "markdown",
      "source": [
        "Já com ***undersample***, temos 75.04% de acurácia com parâmetros: ```'solver_type': 'lbfgs', 'prototype_n_per_class': 4, 'distance_type': 'squared-euclidean', 'activation_type': 'sigmoid'```"
      ],
      "metadata": {
        "id": "m122B5M5LbW_"
      }
    },
    {
      "cell_type": "markdown",
      "source": [
        "SVM\n",
        "---\n",
        "\n",
        "oversample"
      ],
      "metadata": {
        "id": "VrN1co_ZTH7r"
      }
    },
    {
      "cell_type": "code",
      "source": [
        "svc = SVC()\n",
        "# defining parameter range for svm\n",
        "param_grid = {'C': [0.1, 1, 10,],\n",
        "              'gamma': [1, 0.1, 0.01, 0.001],\n",
        "              'kernel': ['linear', 'poly', 'rbf', 'sigmoid',]}\n",
        "\n",
        "\n",
        "# define random search for SVM\n",
        "search = RandomizedSearchCV(svc, param_grid, n_iter=10, scoring='accuracy', n_jobs=4, cv=cv, random_state=seed_value)\n",
        "\n",
        "# execute search\n",
        "result_svc_over = search.fit(X_train_over, y_train_over)\n",
        "\n",
        "# summarize result for SVM\n",
        "print('=========Random Search Results for SVM==========')\n",
        "print('Best Score: %s' % result_svc_over.best_score_)\n",
        "print('Best Hyperparameters: %s' % result_svc_over.best_params_)"
      ],
      "metadata": {
        "colab": {
          "base_uri": "https://localhost:8080/"
        },
        "id": "A6ud7sWeTZn8",
        "outputId": "0208fe8d-c400-4be5-d796-d1a1742232ec"
      },
      "execution_count": null,
      "outputs": [
        {
          "output_type": "stream",
          "name": "stdout",
          "text": [
            "=========Random Search Results for SVM==========\n",
            "Best Score: 0.7698372526789307\n",
            "Best Hyperparameters: {'kernel': 'rbf', 'gamma': 1, 'C': 1}\n"
          ]
        }
      ]
    },
    {
      "cell_type": "markdown",
      "source": [
        "Para ***oversample*** conseguimos 76.98% de acurácia, para parâmetros: ```'kernel': 'rbf', 'gamma': 1, 'C': 1```\n",
        "\n",
        "---\n",
        "\n",
        "undersample"
      ],
      "metadata": {
        "id": "EOLPFxX3TaGr"
      }
    },
    {
      "cell_type": "code",
      "source": [
        "svc = SVC()\n",
        "# defining parameter range for svm\n",
        "param_grid = {'C': [0.1, 1, 10,],\n",
        "              'gamma': [1, 0.1, 0.01, 0.001],\n",
        "              'kernel': ['linear', 'poly', 'rbf', 'sigmoid',]}\n",
        "\n",
        "\n",
        "# define random search for SVM\n",
        "search = RandomizedSearchCV(svc, param_grid, n_iter=10, scoring='accuracy', n_jobs=4, cv=cv, random_state=seed_value)\n",
        "\n",
        "# execute search\n",
        "result_svc_under = search.fit(X_train_under, y_train_under)\n",
        "\n",
        "# summarize result for SVM\n",
        "print('=========Random Search Results for SVM==========')\n",
        "print('Best Score: %s' % result_svc_under.best_score_)\n",
        "print('Best Hyperparameters: %s' % result_svc_under.best_params_)"
      ],
      "metadata": {
        "colab": {
          "base_uri": "https://localhost:8080/"
        },
        "id": "9OLA8U2ZTavj",
        "outputId": "155467ca-32fd-4070-ab83-f16647b46556"
      },
      "execution_count": null,
      "outputs": [
        {
          "output_type": "stream",
          "name": "stdout",
          "text": [
            "=========Random Search Results for SVM==========\n",
            "Best Score: 0.7679442759310798\n",
            "Best Hyperparameters: {'kernel': 'rbf', 'gamma': 1, 'C': 1}\n"
          ]
        }
      ]
    },
    {
      "cell_type": "markdown",
      "source": [
        "Para ***undersample*** temos acurácia de 76.79% com parâmetros ```'kernel': 'rbf', 'gamma': 1, 'C': 1```"
      ],
      "metadata": {
        "id": "jsF5szflNx4g"
      }
    },
    {
      "cell_type": "markdown",
      "source": [
        "MLP\n",
        "---\n",
        "\n",
        "oversample"
      ],
      "metadata": {
        "id": "S2lB_dCsThFU"
      }
    },
    {
      "cell_type": "code",
      "source": [
        "mlp = MLPClassifier()\n",
        "# defining parameter range for MLP\n",
        "layer_details = [(10,),\n",
        "                 (20,),\n",
        "                 (30,),\n",
        "                 (10,10,),\n",
        "                 (20,20,),\n",
        "                 (30,30,),\n",
        "                 (10,10,10,),\n",
        "                 (20,20,20,),\n",
        "                 (30,30,30,),\n",
        "                 (10,10,10,10,),\n",
        "                 (20,20,20,20,),\n",
        "                 (30,30,30,30,),\n",
        "                 (10,10,10,10,10,),\n",
        "                 (20,20,20,20,20,),\n",
        "                 (30,30,30,30,30,)]\n",
        "param_grid = {'activation':['identity', 'logistic', 'tanh', 'relu'],\n",
        "              'hidden_layer_sizes':layer_details,\n",
        "              'solver':['lbfgs', 'sgd', 'adam'],\n",
        "              'alpha':[1., .1, .01, .001, .0001, .00001],}\n",
        "\n",
        "\n",
        "# define random search for MLP\n",
        "search = RandomizedSearchCV(mlp, param_grid, n_iter=10, scoring='accuracy', n_jobs=4, cv=cv, random_state=seed_value)\n",
        "\n",
        "# execute search\n",
        "result_mlp_over = search.fit(X_train_over, y_train_over)\n",
        "\n",
        "# summarize result for MLP\n",
        "print('=========Random Search Results for MLP==========')\n",
        "print('Best Score: %s' % result_mlp_over.best_score_)\n",
        "print('Best Hyperparameters: %s' % result_mlp_over.best_params_)"
      ],
      "metadata": {
        "colab": {
          "base_uri": "https://localhost:8080/"
        },
        "id": "9rm4m7-WThaq",
        "outputId": "f8d646d3-b1b3-4753-d874-7f8cd4df84eb"
      },
      "execution_count": null,
      "outputs": [
        {
          "output_type": "stream",
          "name": "stdout",
          "text": [
            "=========Random Search Results for MLP==========\n",
            "Best Score: 0.7860684635921442\n",
            "Best Hyperparameters: {'solver': 'lbfgs', 'hidden_layer_sizes': (30, 30, 30), 'alpha': 1.0, 'activation': 'relu'}\n"
          ]
        }
      ]
    },
    {
      "cell_type": "markdown",
      "source": [
        "Para ***oversample*** temos acurácia de 78.61% com parâmetros ```'solver': 'lbfgs', 'hidden_layer_sizes': (30, 30, 30), 'alpha': 1.0, 'activation': 'relu```"
      ],
      "metadata": {
        "id": "I16g1LVhVYCk"
      }
    },
    {
      "cell_type": "markdown",
      "source": [
        "undersample"
      ],
      "metadata": {
        "id": "9yEtpAzOTh4G"
      }
    },
    {
      "cell_type": "code",
      "source": [
        "mlp = MLPClassifier()\n",
        "# defining parameter range for MLP\n",
        "layer_details = [(10,),\n",
        "                 (20,),\n",
        "                 (30,),\n",
        "                 (10,10,),\n",
        "                 (20,20,),\n",
        "                 (30,30,),\n",
        "                 (10,10,10,),\n",
        "                 (20,20,20,),\n",
        "                 (30,30,30,),\n",
        "                 (10,10,10,10,),\n",
        "                 (20,20,20,20,),\n",
        "                 (30,30,30,30,),\n",
        "                 (10,10,10,10,10,),\n",
        "                 (20,20,20,20,20,),\n",
        "                 (30,30,30,30,30,)]\n",
        "param_grid = {'activation':['identity', 'logistic', 'tanh', 'relu'],\n",
        "              'hidden_layer_sizes':layer_details,\n",
        "              'solver':['lbfgs', 'sgd', 'adam'],\n",
        "              'alpha':[1., .1, .01, .001, .0001, .00001],}\n",
        "\n",
        "\n",
        "# define random search for MLP\n",
        "search = RandomizedSearchCV(mlp, param_grid, n_iter=10, scoring='accuracy', n_jobs=4, cv=cv, random_state=seed_value)\n",
        "\n",
        "# execute search\n",
        "result_mlp_under = search.fit(X_train_under, y_train_under)\n",
        "\n",
        "# summarize result for MLP\n",
        "print('=========Random Search Results for MLP==========')\n",
        "print('Best Score: %s' % result_mlp_under.best_score_)\n",
        "print('Best Hyperparameters: %s' % result_mlp_under.best_params_)"
      ],
      "metadata": {
        "colab": {
          "base_uri": "https://localhost:8080/"
        },
        "id": "1aT7OHfDTiM6",
        "outputId": "e0ee6a64-cee7-4edd-d6ef-d2d5e61982fe"
      },
      "execution_count": null,
      "outputs": [
        {
          "output_type": "stream",
          "name": "stdout",
          "text": [
            "=========Random Search Results for MLP==========\n",
            "Best Score: 0.7854626473623315\n",
            "Best Hyperparameters: {'solver': 'lbfgs', 'hidden_layer_sizes': (30, 30, 30), 'alpha': 1.0, 'activation': 'relu'}\n"
          ]
        }
      ]
    },
    {
      "cell_type": "markdown",
      "source": [
        "Para ***undersample*** temos acurácia de 78.55% com parâmetros ```'solver': 'lbfgs', 'hidden_layer_sizes': (30, 30, 30), 'alpha': 1.0, 'activation': 'relu```"
      ],
      "metadata": {
        "id": "BGbtVd5lV6-R"
      }
    },
    {
      "cell_type": "markdown",
      "source": [
        "RFC\n",
        "---\n",
        "\n",
        "oversample"
      ],
      "metadata": {
        "id": "uYvGpgbGTteS"
      }
    },
    {
      "cell_type": "code",
      "source": [
        "RFC = RandomForestClassifier()\n",
        "# defining parameter range for RFC\n",
        "param_grid = {'n_estimators': [n for n in range(1,50)],}\n",
        "\n",
        "# define random search for RFc\n",
        "search = RandomizedSearchCV(RFC, param_grid, n_iter=10, scoring='accuracy', n_jobs=4, cv=cv, random_state=seed_value)\n",
        "\n",
        "# execute search\n",
        "result_rfc_over = search.fit(X_train_over, y_train_over)\n",
        "\n",
        "# summarize result for RFC\n",
        "print('=========Random Search Results for RFC==========')\n",
        "print('Best Score: %s' % result_rfc_over.best_score_)\n",
        "print('Best Hyperparameters: %s' % result_rfc_over.best_params_)"
      ],
      "metadata": {
        "colab": {
          "base_uri": "https://localhost:8080/"
        },
        "id": "EkMDK6w1TtwP",
        "outputId": "4ff6c248-42fb-41e1-8984-c0ee5e0925d4"
      },
      "execution_count": null,
      "outputs": [
        {
          "output_type": "stream",
          "name": "stdout",
          "text": [
            "=========Random Search Results for RFC==========\n",
            "Best Score: 0.8077050799107633\n",
            "Best Hyperparameters: {'n_estimators': 47}\n"
          ]
        }
      ]
    },
    {
      "cell_type": "markdown",
      "source": [
        "Para ***oversample*** temos acurácia de 80.08% com parâmetro: ```'n_estimators': 47```"
      ],
      "metadata": {
        "id": "F73BFKUxWFdS"
      }
    },
    {
      "cell_type": "markdown",
      "source": [
        "undersample"
      ],
      "metadata": {
        "id": "ApmUvJScTuId"
      }
    },
    {
      "cell_type": "code",
      "source": [
        "RFC = RandomForestClassifier()\n",
        "# defining parameter range for RFC\n",
        "param_grid = {'n_estimators': [n for n in range(1,50)],}\n",
        "\n",
        "# define random search for RFc\n",
        "search = RandomizedSearchCV(RFC, param_grid, n_iter=10, scoring='accuracy', n_jobs=4, cv=cv, random_state=seed_value)\n",
        "\n",
        "# execute search\n",
        "result_rfc_under = search.fit(X_train_under, y_train_under)\n",
        "\n",
        "# summarize result for RFC\n",
        "print('=========Random Search Results for RFC==========')\n",
        "print('Best Score: %s' % result_rfc_under.best_score_)\n",
        "print('Best Hyperparameters: %s' % result_rfc_under.best_params_)"
      ],
      "metadata": {
        "colab": {
          "base_uri": "https://localhost:8080/"
        },
        "id": "LUzv_GBLTud1",
        "outputId": "56ec04e1-a541-4d2d-87a5-8759124a0312"
      },
      "execution_count": null,
      "outputs": [
        {
          "output_type": "stream",
          "name": "stdout",
          "text": [
            "=========Random Search Results for RFC==========\n",
            "Best Score: 0.802258357046812\n",
            "Best Hyperparameters: {'n_estimators': 15}\n"
          ]
        }
      ]
    },
    {
      "cell_type": "markdown",
      "source": [
        "Para ***undersample*** temos acurácia de 80.23% com parâmetro: ```'n_estimators': 15```"
      ],
      "metadata": {
        "id": "TXsm6cp0WR3P"
      }
    },
    {
      "cell_type": "markdown",
      "source": [
        "Bagging RNA\n",
        "---\n",
        "\n",
        "oversample"
      ],
      "metadata": {
        "id": "sOQpfc7UT60c"
      }
    },
    {
      "cell_type": "code",
      "source": [
        "BMLP = BaggingClassifier()\n",
        "# defining parameter range for BMLP\n",
        "param_grid = {'base_estimator':[result_mlp_over.best_estimator_],\n",
        "              'n_estimators':[n for n in range(1,10)],}\n",
        "\n",
        "# define random search for BMLP\n",
        "search = RandomizedSearchCV(BMLP, param_grid, n_iter=10, scoring='accuracy', n_jobs=4, cv=cv, random_state=seed_value)\n",
        "\n",
        "# execute search\n",
        "result_bmlp_over = search.fit(X_train_over, y_train_over)\n",
        "\n",
        "# summarize result for BMLP\n",
        "print('=========Random Search Results for BLMP==========')\n",
        "print('Best Score: %s' % result_bmlp_over.best_score_)\n",
        "print('Best Hyperparameters: %s' % result_bmlp_over.best_params_)"
      ],
      "metadata": {
        "colab": {
          "base_uri": "https://localhost:8080/"
        },
        "id": "6MfIS7IRUGdQ",
        "outputId": "7fbbb4f3-3aa5-4cc4-af3e-018d8be799bb"
      },
      "execution_count": null,
      "outputs": [
        {
          "output_type": "stream",
          "name": "stdout",
          "text": [
            "=========Random Search Results for BLMP==========\n",
            "Best Score: 0.7978325348352412\n",
            "Best Hyperparameters: {'n_estimators': 9, 'base_estimator': MLPClassifier(alpha=1.0, hidden_layer_sizes=(30, 30, 30), solver='lbfgs')}\n"
          ]
        }
      ]
    },
    {
      "cell_type": "markdown",
      "source": [
        "Para ***oversample*** temos acurácia de 79.78% com parâmetro: ```'n_estimators': 9, 'base_estimator': MLPClassifier(alpha=1.0, hidden_layer_sizes=(30, 30, 30), solver='lbfgs')```"
      ],
      "metadata": {
        "id": "4K6fdFK3WbC2"
      }
    },
    {
      "cell_type": "markdown",
      "source": [
        "undersample"
      ],
      "metadata": {
        "id": "50LEwvIPUOQe"
      }
    },
    {
      "cell_type": "code",
      "source": [
        "BMLP = BaggingClassifier()\n",
        "# defining parameter range for BMLP\n",
        "param_grid = {'base_estimator':[result_mlp_under.best_estimator_],\n",
        "              'n_estimators':[n for n in range(1,10)],}\n",
        "\n",
        "# define random search for BMLP\n",
        "search = RandomizedSearchCV(BMLP, param_grid, n_iter=10, scoring='accuracy', n_jobs=4, cv=cv, random_state=seed_value)\n",
        "\n",
        "# execute search\n",
        "result_bmlp_under = search.fit(X_train_under, y_train_under)\n",
        "\n",
        "# summarize result for BMLP\n",
        "print('=========Random Search Results for BLMP==========')\n",
        "print('Best Score: %s' % result_bmlp_under.best_score_)\n",
        "print('Best Hyperparameters: %s' % result_bmlp_under.best_params_)"
      ],
      "metadata": {
        "colab": {
          "base_uri": "https://localhost:8080/"
        },
        "id": "LF0O9tKXUPVN",
        "outputId": "c7622019-326a-471f-a421-1e581a2bce31"
      },
      "execution_count": null,
      "outputs": [
        {
          "output_type": "stream",
          "name": "stdout",
          "text": [
            "=========Random Search Results for BLMP==========\n",
            "Best Score: 0.7996097438944307\n",
            "Best Hyperparameters: {'n_estimators': 7, 'base_estimator': MLPClassifier(alpha=1.0, hidden_layer_sizes=(30, 30, 30), solver='lbfgs')}\n"
          ]
        }
      ]
    },
    {
      "cell_type": "markdown",
      "source": [
        "Para ***undersample*** temos acurácia de 79.96% com parâmetro: ```'n_estimators': 7, 'base_estimator': MLPClassifier(alpha=1.0, hidden_layer_sizes=(30, 30, 30), solver='lbfgs')```"
      ],
      "metadata": {
        "id": "OnafuES0Woey"
      }
    },
    {
      "cell_type": "markdown",
      "source": [
        "# Comitê heterogêneo\n",
        "\n",
        "Para o comitê heterogêneo, vamos utilizar k-NN, árvores de decisão, MLP, SVM e LVQ.\n",
        "\n",
        "Primeiro vamos treinar os modelos que irão compor o comitê com os parâmetros encontrados anteriormente.\n",
        "\n",
        "Como foi feito nos modelos anteriores, iremos treinar utilizando as três bases geradas anteriormente, mas iremos fazer variações com voto simples (**hard**) e votos baseados em probabilidades (**soft**), totalizando 12 comitês para comparações."
      ],
      "metadata": {
        "id": "j6y5tD3FW3p-"
      }
    },
    {
      "cell_type": "markdown",
      "source": [
        "**Original**\n",
        "---"
      ],
      "metadata": {
        "id": "t1tiF2tT0M_u"
      }
    },
    {
      "cell_type": "code",
      "source": [
        "knn_orig_cmt = KNeighborsClassifier(weights='distance', metric='minkowski', n_neighbors=70)\n",
        "dt_orig_cmt = DecisionTreeClassifier(min_samples_split=5, min_samples_leaf=3, max_depth=13, criterion='entropy')\n",
        "mlp_orig_cmt = MLPClassifier(solver='lbfgs', hidden_layer_sizes=(30, 30, 30), alpha=1.0, activation='relu')\n",
        "svm_orig_cmt = SVC(kernel='rbf', gamma=1, C=1, probability=True)\n",
        "lvq_orig_cmt = GLVQ(solver_type='lbfgs', prototype_n_per_class=4, distance_type='squared-euclidean', activation_type='sigmoid')"
      ],
      "metadata": {
        "id": "CzLOT1j1wtwJ"
      },
      "execution_count": null,
      "outputs": []
    },
    {
      "cell_type": "markdown",
      "source": [
        "**Hard vote**"
      ],
      "metadata": {
        "id": "iDTWLz7k0O5F"
      }
    },
    {
      "cell_type": "code",
      "source": [
        "committee_orig_hard = VotingClassifier(estimators=[('dt', dt_orig_cmt), ('knn', knn_orig_cmt), ('mlp', mlp_orig_cmt), ('svm', svm_orig_cmt), ('lvq', lvq_orig_cmt)],\n",
        "                                       voting='hard')\n",
        "\n",
        "committee_orig_hard.fit(X_train_orig, y_train_orig)\n",
        "\n",
        "committee_orig_hard.score(X_test_orig, y_test_orig)"
      ],
      "metadata": {
        "colab": {
          "base_uri": "https://localhost:8080/"
        },
        "id": "kNI7hBPqfICv",
        "outputId": "1edc945c-db54-4041-af4b-90e8df7fa17f"
      },
      "execution_count": null,
      "outputs": [
        {
          "output_type": "execute_result",
          "data": {
            "text/plain": [
              "0.7537511032656664"
            ]
          },
          "metadata": {},
          "execution_count": 43
        }
      ]
    },
    {
      "cell_type": "markdown",
      "source": [
        "**Soft vote**"
      ],
      "metadata": {
        "id": "cYiJ_QD20TlV"
      }
    },
    {
      "cell_type": "code",
      "source": [
        "#.fit(X_train_orig, y_train_orig)\n",
        "\n",
        "committee_orig_soft = VotingClassifier(estimators=[('dt', dt_orig_cmt), ('knn', knn_orig_cmt), ('mlp', mlp_orig_cmt), ('svm', svm_orig_cmt), ('lvq', lvq_orig_cmt)],\n",
        "                                  voting='soft')\n",
        "\n",
        "committee_orig_soft.fit(X_train_orig, y_train_orig)\n",
        "\n",
        "committee_orig_soft.score(X_test_orig, y_test_orig)"
      ],
      "metadata": {
        "colab": {
          "base_uri": "https://localhost:8080/"
        },
        "id": "2xQtKSfWrq-i",
        "outputId": "ea5bc342-c8a5-4164-f8b7-eacbb2f686bb"
      },
      "execution_count": null,
      "outputs": [
        {
          "output_type": "execute_result",
          "data": {
            "text/plain": [
              "0.7608120035304501"
            ]
          },
          "metadata": {},
          "execution_count": 44
        }
      ]
    },
    {
      "cell_type": "markdown",
      "source": [
        "**Oversampling**\n",
        "---"
      ],
      "metadata": {
        "id": "tvlXcRgWxn3Y"
      }
    },
    {
      "cell_type": "code",
      "source": [
        "knn_over_cmt = KNeighborsClassifier(weights='distance', n_neighbors=82, metric='minkowski')\n",
        "dt_over_cmt = DecisionTreeClassifier(min_samples_split=3, min_samples_leaf=2, max_depth=21, criterion='gini')\n",
        "mlp_over_cmt = MLPClassifier(solver='lbfgs', hidden_layer_sizes=(30, 30, 30), alpha=1.0, activation='relu')\n",
        "svm_over_cmt = SVC(kernel='rbf', gamma=1, C=1, probability=True)\n",
        "lvq_over_cmt = GLVQ(solver_type='lbfgs', prototype_n_per_class=4, distance_type='squared-euclidean', activation_type='sigmoid')"
      ],
      "metadata": {
        "id": "nKJOlTLyxBKE"
      },
      "execution_count": null,
      "outputs": []
    },
    {
      "cell_type": "markdown",
      "source": [
        "**Hard vote**"
      ],
      "metadata": {
        "id": "XPlckfu8x9OV"
      }
    },
    {
      "cell_type": "code",
      "source": [
        "committee_over_hard = VotingClassifier(estimators=[('dt', dt_over_cmt), ('knn', knn_over_cmt), ('mlp', mlp_over_cmt), ('svm', svm_over_cmt), ('lvq', lvq_over_cmt)],\n",
        "                                  voting='hard')\n",
        "\n",
        "committee_over_hard.fit(X_train_over, y_train_over)\n",
        "\n",
        "committee_over_hard.score(X_test_over, y_test_over)"
      ],
      "metadata": {
        "colab": {
          "base_uri": "https://localhost:8080/"
        },
        "id": "FrmbEMewx_eC",
        "outputId": "e41e5e4a-6c1f-42b3-ab8a-f57f083a97ee"
      },
      "execution_count": null,
      "outputs": [
        {
          "output_type": "execute_result",
          "data": {
            "text/plain": [
              "0.7934018388318009"
            ]
          },
          "metadata": {},
          "execution_count": 35
        }
      ]
    },
    {
      "cell_type": "markdown",
      "source": [
        "**Soft vote**"
      ],
      "metadata": {
        "id": "EAj6UUZeyHO8"
      }
    },
    {
      "cell_type": "code",
      "source": [
        "committee_over_soft = VotingClassifier(estimators=[('dt', dt_over_cmt), ('knn', knn_over_cmt), ('mlp', mlp_over_cmt), ('svm', svm_over_cmt), ('lvq', lvq_over_cmt)],\n",
        "                                  voting='soft')\n",
        "\n",
        "committee_over_soft.fit(X_train_over, y_train_over)\n",
        "\n",
        "committee_over_soft.score(X_test_over, y_test_over)"
      ],
      "metadata": {
        "colab": {
          "base_uri": "https://localhost:8080/"
        },
        "id": "mOt3z1RQiwNQ",
        "outputId": "3941af2f-24c3-407d-f08e-f2d9cad5d7c7"
      },
      "execution_count": null,
      "outputs": [
        {
          "output_type": "execute_result",
          "data": {
            "text/plain": [
              "0.8074634937804218"
            ]
          },
          "metadata": {},
          "execution_count": 36
        }
      ]
    },
    {
      "cell_type": "markdown",
      "source": [
        "**Undersampling**\n",
        "---"
      ],
      "metadata": {
        "id": "W-r3RTxJyKsD"
      }
    },
    {
      "cell_type": "code",
      "source": [
        "knn_under_cmt = KNeighborsClassifier(weights='distance', n_neighbors=90, metric='euclidean')\n",
        "dt_under_cmt = DecisionTreeClassifier(min_samples_split=3, min_samples_leaf=2, max_depth=13, criterion='entropy')\n",
        "mlp_under_cmt = MLPClassifier(solver='lbfgs', hidden_layer_sizes=(30, 30, 30), alpha=1.0, activation='relu')\n",
        "svm_under_cmt = SVC(kernel='rbf', gamma=1, C=1, probability=True)\n",
        "lvq_under_cmt = GLVQ(solver_type='lbfgs', prototype_n_per_class=4, distance_type='squared-euclidean', activation_type='sigmoid')"
      ],
      "metadata": {
        "id": "kcSwxcTFxDWI"
      },
      "execution_count": null,
      "outputs": []
    },
    {
      "cell_type": "markdown",
      "source": [
        "**Hard vote**"
      ],
      "metadata": {
        "id": "7lljtAXezzlq"
      }
    },
    {
      "cell_type": "code",
      "source": [
        "committee_under_hard = VotingClassifier(estimators=[('dt', dt_under_cmt), ('knn', knn_under_cmt), ('mlp', mlp_under_cmt), ('svm', svm_under_cmt), ('lvq', lvq_under_cmt)],\n",
        "                                  voting='hard')\n",
        "\n",
        "committee_under_hard.fit(X_train_under, y_train_under)\n",
        "\n",
        "committee_under_hard.score(X_test_under, y_test_under)"
      ],
      "metadata": {
        "colab": {
          "base_uri": "https://localhost:8080/"
        },
        "id": "sIqC6JCIz2GD",
        "outputId": "5fb16dc7-d4a8-45fa-a29f-629136cd0639"
      },
      "execution_count": null,
      "outputs": [
        {
          "output_type": "execute_result",
          "data": {
            "text/plain": [
              "0.804101838755304"
            ]
          },
          "metadata": {},
          "execution_count": 49
        }
      ]
    },
    {
      "cell_type": "markdown",
      "source": [
        "**Soft vote**"
      ],
      "metadata": {
        "id": "MHDb1MDoz4Pz"
      }
    },
    {
      "cell_type": "code",
      "source": [
        "committee_under_soft = VotingClassifier(estimators=[('dt', dt_under_cmt), ('knn', knn_under_cmt), ('mlp', mlp_under_cmt), ('svm', svm_under_cmt), ('lvq', lvq_under_cmt)],\n",
        "                                  voting='soft')\n",
        "\n",
        "committee_under_soft.fit(X_train_under, y_train_under)\n",
        "\n",
        "committee_under_soft.score(X_test_under, y_test_under)"
      ],
      "metadata": {
        "colab": {
          "base_uri": "https://localhost:8080/"
        },
        "id": "zewAjY_5i4j2",
        "outputId": "3bbaeef8-0a19-4f90-b97c-76a40eadd1ea"
      },
      "execution_count": null,
      "outputs": [
        {
          "output_type": "execute_result",
          "data": {
            "text/plain": [
              "0.8076379066478077"
            ]
          },
          "metadata": {},
          "execution_count": 50
        }
      ]
    },
    {
      "cell_type": "markdown",
      "source": [
        "**Análise rápida das métricas obtidas na primeira e segunda variação paramétrica**\n",
        "---"
      ],
      "metadata": {
        "id": "CcvTjtzybWKP"
      }
    },
    {
      "cell_type": "code",
      "source": [
        "            # k-nn,             dt,                 lvq,                svm,                mlp,                rfc,                crna,              chethard,           chetsoft \n",
        "orig_acc = [0.7460211414845718, 0.7305807587206192, 0.7266028726745827, 0.7376369966255313, 0.7389614999367895, 0.7506539856658012, 0.754401882700742, 0.7537511032656664, 0.7608120035304501]\n",
        "np.mean(orig_acc)"
      ],
      "metadata": {
        "colab": {
          "base_uri": "https://localhost:8080/"
        },
        "id": "xbo1mgASgnb8",
        "outputId": "86040a63-0bae-4420-9b7d-e4d09e09cb25"
      },
      "execution_count": null,
      "outputs": [
        {
          "output_type": "execute_result",
          "data": {
            "text/plain": [
              "0.7443802494005283"
            ]
          },
          "metadata": {},
          "execution_count": 45
        }
      ]
    },
    {
      "cell_type": "code",
      "source": [
        "            # k-nn,             dt,                 lvq,                svm,                mlp,                rfc,                crna,              chethard,           chetsoft \n",
        "over_acc = [0.8044592765973009, 0.7853913250192004, 0.7528001682331859, 0.7698372526789307, 0.7860684635921442, 0.8077050799107633, 0.7978325348352412, 0.7934018388318009, 0.8074634937804218]\n",
        "np.mean(over_acc)"
      ],
      "metadata": {
        "colab": {
          "base_uri": "https://localhost:8080/"
        },
        "id": "Ufly-a-PhLXa",
        "outputId": "2e487e4b-521a-4a98-c1e5-e79287668bad"
      },
      "execution_count": null,
      "outputs": [
        {
          "output_type": "execute_result",
          "data": {
            "text/plain": [
              "0.789439937053221"
            ]
          },
          "metadata": {},
          "execution_count": 46
        }
      ]
    },
    {
      "cell_type": "code",
      "source": [
        "            # k-nn,             dt,                 lvq,                svm,                mlp,                rfc,                crna,              chethard,           chetsoft \n",
        "under_acc = [0.7997864223396604, 0.7863454141780544, 0.7504362237718503, 0.7679442759310798, 0.7854626473623315, 0.802258357046812, 0.7996097438944307, 0.804101838755304, 0.8076379066478077]\n",
        "np.mean(under_acc)"
      ],
      "metadata": {
        "colab": {
          "base_uri": "https://localhost:8080/"
        },
        "id": "PyxEr2_NhK7h",
        "outputId": "0b2d9765-474e-459a-aa81-1a7ad9efbe5a"
      },
      "execution_count": null,
      "outputs": [
        {
          "output_type": "execute_result",
          "data": {
            "text/plain": [
              "0.7892869811030366"
            ]
          },
          "metadata": {},
          "execution_count": 47
        }
      ]
    },
    {
      "cell_type": "markdown",
      "source": [
        "Como podemos observar acima, a acurácia média dos métodos com o banco de dados original ficou em 74.44%, já com o banco **oversample** ficou 78.94% e com o banco **undersample** temos 78.93%. Dessa forma obtivemos um **ganho de médio de 4.5% na acurácia** quando utilizamos as bases mais balanceadas.\n",
        "\n",
        "Quando comparando somente entre mesmos modelos, vimos alguns casos com aumento na acurácia maior que 5%."
      ],
      "metadata": {
        "id": "z-S0CCaxhs4K"
      }
    },
    {
      "cell_type": "markdown",
      "source": [
        "Dessa forma,\n",
        "---\n",
        "conseguimos demonstrar que com a criação de novas bases de dados mais balanceadas fomos capazes de melhorar os resultados obtidos, em alguns casos obtendo acurácia superior à 80%.\n",
        "\n",
        "Os próximos passos incluem: \n",
        "* realizar testes dos modelos para comparar quais são estatisticamente diferentes.\n",
        "* plotar gráficos das métricas obtidas para ajudar na visualização das informações para o relatório final e identificar se mais informações podem ser extraídas."
      ],
      "metadata": {
        "id": "AebdBHa-mX40"
      }
    },
    {
      "cell_type": "markdown",
      "source": [
        "---"
      ],
      "metadata": {
        "id": "P7PllpeomY5z"
      }
    },
    {
      "cell_type": "markdown",
      "source": [
        "# Testes estatisticos\n",
        "\n",
        "Vamos utilizar o teste de Friedman para verificar se o os modelos são estatísticamente iguais ($H_0$) ou diferentes ($H_1$). Para os casos que rejeitam $H_0$, podemos verificar qual modelo é estatiscamente melhor que o outro utilizando o teste de Nemenyi.\n",
        "\n",
        "Vamos utilizar Acurácia como métrica, Precisão, Recall e F-measure (ou F1 score).\n",
        "\n",
        "Abaixo vamos capturar essas métricas utilizando os parâmetros econtrados nas estapas anteriores. Será utilizada validação cruzada utilizando *Stratified* $K$ *fold*, com $K = 10$\n",
        "\n"
      ],
      "metadata": {
        "id": "JT3-5_NVN2Uo"
      }
    },
    {
      "cell_type": "code",
      "source": [
        "scorings = ['accuracy', 'precision_micro', 'recall_micro', 'f1_micro']"
      ],
      "metadata": {
        "id": "HcVbH5ENO8g4"
      },
      "execution_count": null,
      "outputs": []
    },
    {
      "cell_type": "code",
      "source": [
        "KNN_orig = KNeighborsClassifier(n_neighbors=70, metric='minkowski',weights='distance')\n",
        "DT_orig = DecisionTreeClassifier(min_samples_split=5, min_samples_leaf=3, max_depth=13, criterion='entropy', random_state=seed_value)\n",
        "LVQ_orig = GLVQ(solver_type='lbfgs', prototype_n_per_class=4,distance_type='squared-euclidean', activation_type='sigmoid', random_state=seed_value)\n",
        "SVM_orig = SVC(kernel='rbf', gamma=1, C=1, probability=True, random_state=seed_value)\n",
        "MLP_orig = MLPClassifier(solver='lbfgs', hidden_layer_sizes=(30, 30, 30), alpha=1.0, activation='relu', random_state=seed_value)\n",
        "RFC_orig = RandomForestClassifier(n_estimators=31, n_jobs = -1, random_state=seed_value)\n",
        "BMLP_orig = BaggingClassifier(n_estimators=9, base_estimator=MLPClassifier(alpha=1.0, hidden_layer_sizes=(30, 30, 30)), random_state=seed_value)\n",
        "\n",
        "knn_orig_cmt = KNeighborsClassifier(weights='distance', metric='minkowski', n_neighbors=70)\n",
        "dt_orig_cmt = DecisionTreeClassifier(min_samples_split=5, min_samples_leaf=3, max_depth=13, criterion='entropy', random_state=seed_value)\n",
        "mlp_orig_cmt = MLPClassifier(solver='lbfgs', hidden_layer_sizes=(30, 30, 30), alpha=1.0, activation='relu', random_state=seed_value)\n",
        "svm_orig_cmt = SVC(kernel='rbf', gamma=1, C=1, probability=True, random_state=seed_value)\n",
        "lvq_orig_cmt = GLVQ(solver_type='lbfgs', prototype_n_per_class=4,distance_type='squared-euclidean', activation_type='sigmoid', random_state=seed_value)\n",
        "\n",
        "\n",
        "HETC_orig = VotingClassifier(estimators=[('dt', dt_orig_cmt), ('knn', knn_orig_cmt),\n",
        "                                         ('mlp', mlp_orig_cmt), ('svm', svm_orig_cmt),\n",
        "                                         ('lvq', lvq_orig_cmt)], \n",
        "                             voting='hard')"
      ],
      "metadata": {
        "id": "dZOLV1LIoufT"
      },
      "execution_count": null,
      "outputs": []
    },
    {
      "cell_type": "code",
      "source": [
        "models_orig = []\n",
        "models_orig.append(('KNN', KNN_orig))\n",
        "models_orig.append(('DT', DT_orig))\n",
        "models_orig.append(('SVM', SVM_orig))\n",
        "models_orig.append(('LVQ', LVQ_orig))\n",
        "models_orig.append(('MLP', MLP_orig))\n",
        "models_orig.append(('RFC', RFC_orig))\n",
        "models_orig.append(('BMLP', BMLP_orig))\n",
        "models_orig.append(('HETC', HETC_orig))\n",
        "\n",
        "results_orig = {}\n",
        "\n",
        "for scoring in scorings:\n",
        "  aux_results = []\n",
        "  print('scoring: %s' % scoring)\n",
        "  for name, model in models_orig:\n",
        "    cv_results = cross_val_score(model, X_train_orig, y_train_orig, cv=cv, scoring=scoring, n_jobs=-1)\n",
        "    aux_results.append(cv_results)\n",
        "    msg = \"%s: %f (%f)\" % (name, cv_results.mean(), cv_results.std())\n",
        "    print(msg)\n",
        "  results_orig['scoring'] = aux_results\n",
        "  print()\n"
      ],
      "metadata": {
        "colab": {
          "base_uri": "https://localhost:8080/"
        },
        "id": "NUrelGtBrZdm",
        "outputId": "bdb5640b-a92f-402c-8f97-128899af2012"
      },
      "execution_count": null,
      "outputs": [
        {
          "output_type": "stream",
          "name": "stdout",
          "text": [
            "scoring: accuracy\n",
            "KNN: 0.746906 (0.010421)\n",
            "DT: 0.726385 (0.009701)\n",
            "SVM: 0.737198 (0.019978)\n",
            "LVQ: 0.723296 (0.018153)\n",
            "MLP: 0.741385 (0.019097)\n",
            "RFC: 0.749995 (0.012766)\n",
            "BMLP: 0.719764 (0.020530)\n",
            "HETC: 0.751318 (0.016000)\n",
            "\n",
            "scoring: precision_micro\n",
            "KNN: 0.746906 (0.010421)\n",
            "DT: 0.726385 (0.009701)\n",
            "SVM: 0.737198 (0.019978)\n",
            "LVQ: 0.723296 (0.018153)\n",
            "MLP: 0.741385 (0.019097)\n",
            "RFC: 0.749995 (0.012766)\n",
            "BMLP: 0.719764 (0.020530)\n",
            "HETC: 0.751318 (0.016000)\n",
            "\n",
            "scoring: recall_micro\n",
            "KNN: 0.746906 (0.010421)\n",
            "DT: 0.726385 (0.009701)\n",
            "SVM: 0.737198 (0.019978)\n",
            "LVQ: 0.723296 (0.018153)\n",
            "MLP: 0.741385 (0.019097)\n",
            "RFC: 0.749995 (0.012766)\n",
            "BMLP: 0.719764 (0.020530)\n",
            "HETC: 0.751318 (0.016000)\n",
            "\n",
            "scoring: f1_micro\n",
            "KNN: 0.746906 (0.010421)\n",
            "DT: 0.726385 (0.009701)\n",
            "SVM: 0.737198 (0.019978)\n",
            "LVQ: 0.723296 (0.018153)\n",
            "MLP: 0.741385 (0.019097)\n",
            "RFC: 0.749995 (0.012766)\n",
            "BMLP: 0.719764 (0.020530)\n",
            "HETC: 0.751318 (0.016000)\n",
            "\n"
          ]
        }
      ]
    },
    {
      "cell_type": "markdown",
      "source": [
        "Oversample\n",
        "---"
      ],
      "metadata": {
        "id": "_WgKerA410SZ"
      }
    },
    {
      "cell_type": "code",
      "source": [
        "KNN_over = KNeighborsClassifier(n_neighbors=82, metric='minkowski',weights='distance')\n",
        "DT_over = DecisionTreeClassifier(min_samples_split=3, min_samples_leaf=2, max_depth=21, criterion='gini', random_state=seed_value)\n",
        "LVQ_over = GLVQ(solver_type='lbfgs', prototype_n_per_class=4, distance_type='squared-euclidean', activation_type='sigmoid', random_state=seed_value)\n",
        "SVM_over = SVC(kernel='rbf', gamma=1, C=1, probability=True, random_state=seed_value)\n",
        "MLP_over = MLPClassifier(solver='lbfgs', hidden_layer_sizes=(30, 30, 30), alpha=1.0, activation='relu', random_state=seed_value)\n",
        "RFC_over = RandomForestClassifier(n_estimators=47, random_state=seed_value)\n",
        "BMLP_over = BaggingClassifier(n_estimators=9, base_estimator=MLPClassifier(alpha=1.0, hidden_layer_sizes=(30, 30, 30)), random_state=seed_value)\n",
        "\n",
        "knn_over_cmt = KNeighborsClassifier(n_neighbors=82, metric='minkowski',weights='distance')\n",
        "dt_over_cmt = DecisionTreeClassifier(min_samples_split=3, min_samples_leaf=2, max_depth=21, criterion='gini', random_state=seed_value)\n",
        "mlp_over_cmt = MLPClassifier(solver='lbfgs', hidden_layer_sizes=(30, 30, 30), alpha=1.0, activation='relu', random_state=seed_value)\n",
        "svm_over_cmt = SVC(kernel='rbf', gamma=1, C=1, probability=True, random_state=seed_value)\n",
        "lvq_over_cmt = GLVQ(solver_type='lbfgs', prototype_n_per_class=4, distance_type='squared-euclidean', activation_type='sigmoid', random_state=seed_value)\n",
        "\n",
        "\n",
        "HETC_over = VotingClassifier(estimators=[('dt', dt_over_cmt), ('knn', knn_over_cmt),\n",
        "                                         ('mlp', mlp_over_cmt), ('svm', svm_over_cmt),\n",
        "                                         ('lvq', lvq_over_cmt)], \n",
        "                             voting='hard')"
      ],
      "metadata": {
        "id": "d675zpYO0C3x"
      },
      "execution_count": null,
      "outputs": []
    },
    {
      "cell_type": "code",
      "source": [
        "models_over = []\n",
        "models_over.append(('KNN', KNN_over))\n",
        "models_over.append(('DT', DT_over))\n",
        "models_over.append(('SVM', SVM_over))\n",
        "models_over.append(('LVQ', LVQ_over))\n",
        "models_over.append(('MLP', MLP_over))\n",
        "models_over.append(('RFC', RFC_over))\n",
        "models_over.append(('BMLP', BMLP_over))\n",
        "models_over.append(('HETC', HETC_over))\n",
        "\n",
        "results_over = {}\n",
        "\n",
        "for scoring in scorings:\n",
        "  aux_results = []\n",
        "  print('scoring: %s' % scoring)\n",
        "  for name, model in models_over:\n",
        "    cv_results = cross_val_score(model, X_train_over, y_train_over, cv=cv, scoring=scoring, n_jobs=-1)\n",
        "    aux_results.append(cv_results)\n",
        "    msg = \"%s: %f (%f)\" % (name, cv_results.mean(), cv_results.std())\n",
        "    print(msg)\n",
        "  results_over['scoring'] = aux_results\n",
        "  print()"
      ],
      "metadata": {
        "colab": {
          "base_uri": "https://localhost:8080/"
        },
        "id": "5QFwDw4w0Aix",
        "outputId": "e4070356-aaf3-4f92-f888-98b0f3c7b76e"
      },
      "execution_count": null,
      "outputs": [
        {
          "output_type": "stream",
          "name": "stdout",
          "text": [
            "scoring: accuracy\n",
            "KNN: 0.804057 (0.014383)\n",
            "DT: 0.784177 (0.013533)\n",
            "SVM: 0.774841 (0.015706)\n",
            "LVQ: 0.749013 (0.013880)\n",
            "MLP: 0.790531 (0.013330)\n",
            "RFC: 0.805949 (0.014773)\n",
            "BMLP: 0.726026 (0.015013)\n",
            "HETC: 0.797293 (0.014252)\n",
            "\n",
            "scoring: precision_micro\n",
            "KNN: 0.804057 (0.014383)\n",
            "DT: 0.784177 (0.013533)\n",
            "SVM: 0.774841 (0.015706)\n",
            "LVQ: 0.749013 (0.013880)\n",
            "MLP: 0.790531 (0.013330)\n",
            "RFC: 0.805949 (0.014773)\n",
            "BMLP: 0.726026 (0.015013)\n",
            "HETC: 0.797293 (0.014252)\n",
            "\n",
            "scoring: recall_micro\n",
            "KNN: 0.804057 (0.014383)\n",
            "DT: 0.784177 (0.013533)\n",
            "SVM: 0.774841 (0.015706)\n",
            "LVQ: 0.749013 (0.013880)\n",
            "MLP: 0.790531 (0.013330)\n",
            "RFC: 0.805949 (0.014773)\n",
            "BMLP: 0.726026 (0.015013)\n",
            "HETC: 0.797293 (0.014252)\n",
            "\n",
            "scoring: f1_micro\n",
            "KNN: 0.804057 (0.014383)\n",
            "DT: 0.784177 (0.013533)\n",
            "SVM: 0.774841 (0.015706)\n",
            "LVQ: 0.749013 (0.013880)\n",
            "MLP: 0.790531 (0.013330)\n",
            "RFC: 0.805949 (0.014773)\n",
            "BMLP: 0.726026 (0.015013)\n",
            "HETC: 0.797293 (0.014252)\n",
            "\n"
          ]
        }
      ]
    },
    {
      "cell_type": "markdown",
      "source": [
        "Undersample\n",
        "---"
      ],
      "metadata": {
        "id": "Ls-kpyLX12qv"
      }
    },
    {
      "cell_type": "code",
      "source": [
        "KNN_under = KNeighborsClassifier(n_neighbors=90, metric='euclidean',weights='distance')\n",
        "DT_under = DecisionTreeClassifier(min_samples_split=3, min_samples_leaf=2, max_depth=13, criterion='entropy', random_state=seed_value)\n",
        "LVQ_under = GLVQ(solver_type='lbfgs', prototype_n_per_class=4, distance_type='squared-euclidean', activation_type='sigmoid', random_state=seed_value)\n",
        "SVM_under = SVC(kernel='rbf', gamma=1, C=1, probability=True, random_state=seed_value)\n",
        "MLP_under = MLPClassifier(solver='lbfgs', hidden_layer_sizes=(30, 30, 30), alpha=1.0, activation='relu', random_state=seed_value)\n",
        "RFC_under = RandomForestClassifier(n_estimators=15, random_state=seed_value)\n",
        "BMLP_under = BaggingClassifier(n_estimators=7, base_estimator=MLPClassifier(alpha=1.0, hidden_layer_sizes=(30, 30, 30)), random_state=seed_value)\n",
        "\n",
        "knn_under_cmt = KNeighborsClassifier(n_neighbors=90, metric='euclidean',weights='distance')\n",
        "dt_under_cmt = DecisionTreeClassifier(min_samples_split=3, min_samples_leaf=2, max_depth=13, criterion='entropy', random_state=seed_value)\n",
        "mlp_under_cmt = MLPClassifier(solver='lbfgs', hidden_layer_sizes=(30, 30, 30), alpha=1.0, activation='relu', random_state=seed_value)\n",
        "svm_under_cmt = SVC(kernel='rbf', gamma=1, C=1, probability=True, random_state=seed_value)\n",
        "lvq_under_cmt = GLVQ(solver_type='lbfgs', prototype_n_per_class=4, distance_type='squared-euclidean', activation_type='sigmoid', random_state=seed_value)\n",
        "\n",
        "\n",
        "HETC_under = VotingClassifier(estimators=[('dt', dt_under_cmt), ('knn', knn_under_cmt),\n",
        "                                         ('mlp', mlp_under_cmt), ('svm', svm_under_cmt),\n",
        "                                         ('lvq', lvq_under_cmt)], \n",
        "                             voting='hard')"
      ],
      "metadata": {
        "id": "SbDhp1L12Bqo"
      },
      "execution_count": null,
      "outputs": []
    },
    {
      "cell_type": "code",
      "source": [
        "models_under = []\n",
        "models_under.append(('KNN', KNN_under))\n",
        "models_under.append(('DT', DT_under))\n",
        "models_under.append(('SVM', SVM_under))\n",
        "models_under.append(('LVQ', LVQ_under))\n",
        "models_under.append(('MLP', MLP_under))\n",
        "models_under.append(('RFC', RFC_under))\n",
        "models_under.append(('BMLP', BMLP_under))\n",
        "models_under.append(('HETC', HETC_under))\n",
        "\n",
        "results_under = {}\n",
        "\n",
        "for scoring in scorings:\n",
        "  aux_results = []\n",
        "  print('scoring: %s' % scoring)\n",
        "  for name, model in models_under:\n",
        "    cv_results = cross_val_score(model, X_train_under, y_train_under, cv=cv, scoring=scoring, n_jobs=-1)\n",
        "    aux_results.append(cv_results)\n",
        "    msg = \"%s: %f (%f)\" % (name, cv_results.mean(), cv_results.std())\n",
        "    print(msg)\n",
        "  results_under['scoring'] = aux_results\n",
        "  print()"
      ],
      "metadata": {
        "colab": {
          "base_uri": "https://localhost:8080/"
        },
        "id": "C6MYaTvU15dJ",
        "outputId": "866a2cb1-cb49-4b45-ba75-f762efa05374"
      },
      "execution_count": null,
      "outputs": [
        {
          "metadata": {
            "tags": null
          },
          "name": "stdout",
          "output_type": "stream",
          "text": [
            "scoring: accuracy\n",
            "KNN: 0.797143 (0.014951)\n",
            "DT: 0.782815 (0.016142)\n",
            "SVM: 0.767784 (0.023634)\n",
            "LVQ: 0.751863 (0.016181)\n",
            "MLP: 0.790246 (0.018737)\n",
            "RFC: 0.798736 (0.020521)\n",
            "BMLP: 0.723556 (0.017031)\n",
            "HETC: 0.794667 (0.017455)\n",
            "\n",
            "scoring: precision_micro\n",
            "KNN: 0.797143 (0.014951)\n",
            "DT: 0.782815 (0.016142)\n",
            "SVM: 0.767784 (0.023634)\n",
            "LVQ: 0.751863 (0.016181)\n",
            "MLP: 0.790246 (0.018737)\n",
            "RFC: 0.798736 (0.020521)\n",
            "BMLP: 0.723556 (0.017031)\n",
            "HETC: 0.794667 (0.017455)\n",
            "\n",
            "scoring: recall_micro\n",
            "KNN: 0.797143 (0.014951)\n",
            "DT: 0.782815 (0.016142)\n",
            "SVM: 0.767784 (0.023634)\n",
            "LVQ: 0.751863 (0.016181)\n",
            "MLP: 0.790246 (0.018737)\n",
            "RFC: 0.798736 (0.020521)\n",
            "BMLP: 0.723556 (0.017031)\n",
            "HETC: 0.794667 (0.017455)\n",
            "\n",
            "scoring: f1_micro\n",
            "KNN: 0.797143 (0.014951)\n",
            "DT: 0.782815 (0.016142)\n",
            "SVM: 0.767784 (0.023634)\n",
            "LVQ: 0.751863 (0.016181)\n",
            "MLP: 0.790246 (0.018737)\n",
            "RFC: 0.798736 (0.020521)\n",
            "BMLP: 0.723556 (0.017031)\n",
            "HETC: 0.794667 (0.017455)\n",
            "\n"
          ]
        }
      ]
    },
    {
      "cell_type": "markdown",
      "source": [
        "# Testes estatísticos"
      ],
      "metadata": {
        "id": "qT4HVlftz4r5"
      }
    },
    {
      "cell_type": "markdown",
      "source": [
        "Comparando os modelos com os dados originais"
      ],
      "metadata": {
        "id": "WpvavCG60ajx"
      }
    },
    {
      "cell_type": "code",
      "source": [
        "                    # acc,      f1,     recall,      precision\n",
        "knn_orig_metrics = [0.746906, 0.743379, 0.725228, 0.730002]\n",
        "dt_orig_metrics = [0.726385, 0.717827, 0.728373, 0.727322]\n",
        "svm_orig_metrics = [0.737198, 0.710092, 0.734771, 0.703079]\n",
        "lvq_orig_metrics = [0.726165, 0.723655, 0.725506, 0.737044]\n",
        "mlp_orig_metrics = [0.742710, 0.725115, 0.734331, 0.731564]\n",
        "rfc_orig_metrics = [0.749995, 0.730779, 0.740732, 0.737724]\n",
        "bmlp_orig_metrics = [0.719764, 0.678839, 0.718664, 0.656275]\n",
        "hetc_orig_metrics = [0.753084, 0.734637, 0.749115, 0.738453]\n",
        "\n",
        "#combine three groups into one array\n",
        "data_class = np.array([knn_orig_metrics, \n",
        "                       dt_orig_metrics,\n",
        "                       svm_orig_metrics,\n",
        "                       lvq_orig_metrics,\n",
        "                       mlp_orig_metrics,\n",
        "                       rfc_orig_metrics,\n",
        "                       bmlp_orig_metrics,\n",
        "                       hetc_orig_metrics])\n",
        "\n",
        "\n",
        "\n",
        "testResult = stats.friedmanchisquare(data_class[0], data_class[1], data_class[2], data_class[3], data_class[4], data_class[5], data_class[6], data_class[7])\n",
        "\n",
        "print(\"Resultado = {}\".format(testResult))\n",
        "\n",
        "sp.posthoc_nemenyi_friedman(data_class.T)"
      ],
      "metadata": {
        "colab": {
          "base_uri": "https://localhost:8080/",
          "height": 301
        },
        "id": "WEE0hP4Qz_xQ",
        "outputId": "abb2ac92-dc47-4654-cc84-a1f1f3715feb"
      },
      "execution_count": null,
      "outputs": [
        {
          "output_type": "stream",
          "name": "stdout",
          "text": [
            "Resultado = FriedmanchisquareResult(statistic=21.0, pvalue=0.003770150051146164)\n"
          ]
        },
        {
          "output_type": "execute_result",
          "data": {
            "text/plain": [
              "          0         1         2         3         4         5         6  \\\n",
              "0  1.000000  0.900000  0.900000  0.900000  0.900000  0.900000  0.288368   \n",
              "1  0.900000  1.000000  0.900000  0.900000  0.900000  0.469509  0.900000   \n",
              "2  0.900000  0.900000  1.000000  0.900000  0.900000  0.557628  0.816508   \n",
              "3  0.900000  0.900000  0.900000  1.000000  0.900000  0.643922  0.730216   \n",
              "4  0.900000  0.900000  0.900000  0.900000  1.000000  0.900000  0.288368   \n",
              "5  0.900000  0.469509  0.557628  0.643922  0.900000  1.000000  0.020322   \n",
              "6  0.288368  0.900000  0.816508  0.730216  0.288368  0.020322  1.000000   \n",
              "7  0.730216  0.156455  0.215676  0.288368  0.730216  0.900000  0.002470   \n",
              "\n",
              "          7  \n",
              "0  0.730216  \n",
              "1  0.156455  \n",
              "2  0.215676  \n",
              "3  0.288368  \n",
              "4  0.730216  \n",
              "5  0.900000  \n",
              "6  0.002470  \n",
              "7  1.000000  "
            ],
            "text/html": [
              "\n",
              "  <div id=\"df-e7e4d777-e444-41da-b2e6-e78e74e2fb9e\">\n",
              "    <div class=\"colab-df-container\">\n",
              "      <div>\n",
              "<style scoped>\n",
              "    .dataframe tbody tr th:only-of-type {\n",
              "        vertical-align: middle;\n",
              "    }\n",
              "\n",
              "    .dataframe tbody tr th {\n",
              "        vertical-align: top;\n",
              "    }\n",
              "\n",
              "    .dataframe thead th {\n",
              "        text-align: right;\n",
              "    }\n",
              "</style>\n",
              "<table border=\"1\" class=\"dataframe\">\n",
              "  <thead>\n",
              "    <tr style=\"text-align: right;\">\n",
              "      <th></th>\n",
              "      <th>0</th>\n",
              "      <th>1</th>\n",
              "      <th>2</th>\n",
              "      <th>3</th>\n",
              "      <th>4</th>\n",
              "      <th>5</th>\n",
              "      <th>6</th>\n",
              "      <th>7</th>\n",
              "    </tr>\n",
              "  </thead>\n",
              "  <tbody>\n",
              "    <tr>\n",
              "      <th>0</th>\n",
              "      <td>1.000000</td>\n",
              "      <td>0.900000</td>\n",
              "      <td>0.900000</td>\n",
              "      <td>0.900000</td>\n",
              "      <td>0.900000</td>\n",
              "      <td>0.900000</td>\n",
              "      <td>0.288368</td>\n",
              "      <td>0.730216</td>\n",
              "    </tr>\n",
              "    <tr>\n",
              "      <th>1</th>\n",
              "      <td>0.900000</td>\n",
              "      <td>1.000000</td>\n",
              "      <td>0.900000</td>\n",
              "      <td>0.900000</td>\n",
              "      <td>0.900000</td>\n",
              "      <td>0.469509</td>\n",
              "      <td>0.900000</td>\n",
              "      <td>0.156455</td>\n",
              "    </tr>\n",
              "    <tr>\n",
              "      <th>2</th>\n",
              "      <td>0.900000</td>\n",
              "      <td>0.900000</td>\n",
              "      <td>1.000000</td>\n",
              "      <td>0.900000</td>\n",
              "      <td>0.900000</td>\n",
              "      <td>0.557628</td>\n",
              "      <td>0.816508</td>\n",
              "      <td>0.215676</td>\n",
              "    </tr>\n",
              "    <tr>\n",
              "      <th>3</th>\n",
              "      <td>0.900000</td>\n",
              "      <td>0.900000</td>\n",
              "      <td>0.900000</td>\n",
              "      <td>1.000000</td>\n",
              "      <td>0.900000</td>\n",
              "      <td>0.643922</td>\n",
              "      <td>0.730216</td>\n",
              "      <td>0.288368</td>\n",
              "    </tr>\n",
              "    <tr>\n",
              "      <th>4</th>\n",
              "      <td>0.900000</td>\n",
              "      <td>0.900000</td>\n",
              "      <td>0.900000</td>\n",
              "      <td>0.900000</td>\n",
              "      <td>1.000000</td>\n",
              "      <td>0.900000</td>\n",
              "      <td>0.288368</td>\n",
              "      <td>0.730216</td>\n",
              "    </tr>\n",
              "    <tr>\n",
              "      <th>5</th>\n",
              "      <td>0.900000</td>\n",
              "      <td>0.469509</td>\n",
              "      <td>0.557628</td>\n",
              "      <td>0.643922</td>\n",
              "      <td>0.900000</td>\n",
              "      <td>1.000000</td>\n",
              "      <td>0.020322</td>\n",
              "      <td>0.900000</td>\n",
              "    </tr>\n",
              "    <tr>\n",
              "      <th>6</th>\n",
              "      <td>0.288368</td>\n",
              "      <td>0.900000</td>\n",
              "      <td>0.816508</td>\n",
              "      <td>0.730216</td>\n",
              "      <td>0.288368</td>\n",
              "      <td>0.020322</td>\n",
              "      <td>1.000000</td>\n",
              "      <td>0.002470</td>\n",
              "    </tr>\n",
              "    <tr>\n",
              "      <th>7</th>\n",
              "      <td>0.730216</td>\n",
              "      <td>0.156455</td>\n",
              "      <td>0.215676</td>\n",
              "      <td>0.288368</td>\n",
              "      <td>0.730216</td>\n",
              "      <td>0.900000</td>\n",
              "      <td>0.002470</td>\n",
              "      <td>1.000000</td>\n",
              "    </tr>\n",
              "  </tbody>\n",
              "</table>\n",
              "</div>\n",
              "      <button class=\"colab-df-convert\" onclick=\"convertToInteractive('df-e7e4d777-e444-41da-b2e6-e78e74e2fb9e')\"\n",
              "              title=\"Convert this dataframe to an interactive table.\"\n",
              "              style=\"display:none;\">\n",
              "        \n",
              "  <svg xmlns=\"http://www.w3.org/2000/svg\" height=\"24px\"viewBox=\"0 0 24 24\"\n",
              "       width=\"24px\">\n",
              "    <path d=\"M0 0h24v24H0V0z\" fill=\"none\"/>\n",
              "    <path d=\"M18.56 5.44l.94 2.06.94-2.06 2.06-.94-2.06-.94-.94-2.06-.94 2.06-2.06.94zm-11 1L8.5 8.5l.94-2.06 2.06-.94-2.06-.94L8.5 2.5l-.94 2.06-2.06.94zm10 10l.94 2.06.94-2.06 2.06-.94-2.06-.94-.94-2.06-.94 2.06-2.06.94z\"/><path d=\"M17.41 7.96l-1.37-1.37c-.4-.4-.92-.59-1.43-.59-.52 0-1.04.2-1.43.59L10.3 9.45l-7.72 7.72c-.78.78-.78 2.05 0 2.83L4 21.41c.39.39.9.59 1.41.59.51 0 1.02-.2 1.41-.59l7.78-7.78 2.81-2.81c.8-.78.8-2.07 0-2.86zM5.41 20L4 18.59l7.72-7.72 1.47 1.35L5.41 20z\"/>\n",
              "  </svg>\n",
              "      </button>\n",
              "      \n",
              "  <style>\n",
              "    .colab-df-container {\n",
              "      display:flex;\n",
              "      flex-wrap:wrap;\n",
              "      gap: 12px;\n",
              "    }\n",
              "\n",
              "    .colab-df-convert {\n",
              "      background-color: #E8F0FE;\n",
              "      border: none;\n",
              "      border-radius: 50%;\n",
              "      cursor: pointer;\n",
              "      display: none;\n",
              "      fill: #1967D2;\n",
              "      height: 32px;\n",
              "      padding: 0 0 0 0;\n",
              "      width: 32px;\n",
              "    }\n",
              "\n",
              "    .colab-df-convert:hover {\n",
              "      background-color: #E2EBFA;\n",
              "      box-shadow: 0px 1px 2px rgba(60, 64, 67, 0.3), 0px 1px 3px 1px rgba(60, 64, 67, 0.15);\n",
              "      fill: #174EA6;\n",
              "    }\n",
              "\n",
              "    [theme=dark] .colab-df-convert {\n",
              "      background-color: #3B4455;\n",
              "      fill: #D2E3FC;\n",
              "    }\n",
              "\n",
              "    [theme=dark] .colab-df-convert:hover {\n",
              "      background-color: #434B5C;\n",
              "      box-shadow: 0px 1px 3px 1px rgba(0, 0, 0, 0.15);\n",
              "      filter: drop-shadow(0px 1px 2px rgba(0, 0, 0, 0.3));\n",
              "      fill: #FFFFFF;\n",
              "    }\n",
              "  </style>\n",
              "\n",
              "      <script>\n",
              "        const buttonEl =\n",
              "          document.querySelector('#df-e7e4d777-e444-41da-b2e6-e78e74e2fb9e button.colab-df-convert');\n",
              "        buttonEl.style.display =\n",
              "          google.colab.kernel.accessAllowed ? 'block' : 'none';\n",
              "\n",
              "        async function convertToInteractive(key) {\n",
              "          const element = document.querySelector('#df-e7e4d777-e444-41da-b2e6-e78e74e2fb9e');\n",
              "          const dataTable =\n",
              "            await google.colab.kernel.invokeFunction('convertToInteractive',\n",
              "                                                     [key], {});\n",
              "          if (!dataTable) return;\n",
              "\n",
              "          const docLinkHtml = 'Like what you see? Visit the ' +\n",
              "            '<a target=\"_blank\" href=https://colab.research.google.com/notebooks/data_table.ipynb>data table notebook</a>'\n",
              "            + ' to learn more about interactive tables.';\n",
              "          element.innerHTML = '';\n",
              "          dataTable['output_type'] = 'display_data';\n",
              "          await google.colab.output.renderOutput(dataTable, element);\n",
              "          const docLink = document.createElement('div');\n",
              "          docLink.innerHTML = docLinkHtml;\n",
              "          element.appendChild(docLink);\n",
              "        }\n",
              "      </script>\n",
              "    </div>\n",
              "  </div>\n",
              "  "
            ]
          },
          "metadata": {},
          "execution_count": 31
        }
      ]
    },
    {
      "cell_type": "markdown",
      "source": [
        "Comparando os modelos após fazer oversample das clases minoritárias"
      ],
      "metadata": {
        "id": "fNhldAzQ0gnd"
      }
    },
    {
      "cell_type": "code",
      "source": [
        "                    # acc,      f1,     recall,      precision\n",
        "knn_over_metrics = [0.803512, 0.786221, 0.795267, 0.802863]\n",
        "dt_over_metrics = [0.783229, 0.768007, 0.777011, 0.784355]\n",
        "svm_over_metrics = [0.776871, 0.762255, 0.773090, 0.784100]\n",
        "lvq_over_metrics = [0.752664, 0.745939, 0.751724, 0.771342]\n",
        "mlp_over_metrics = [0.792554, 0.780651, 0.787018, 0.794976]\n",
        "rfc_over_metrics = [0.804865, 0.791390, 0.799053, 0.806178]\n",
        "bmlp_over_metrics = [0.725214, 0.708373, 0.725220, 0.726941]\n",
        "hetc_over_metrics = [0.799995, 0.787206, 0.795402, 0.803631]\n",
        "\n",
        "#combine three groups into one array\n",
        "data_class = np.array([knn_over_metrics, \n",
        "                       dt_over_metrics,\n",
        "                       svm_over_metrics,\n",
        "                       lvq_over_metrics,\n",
        "                       mlp_over_metrics,\n",
        "                       rfc_over_metrics,\n",
        "                       bmlp_over_metrics,\n",
        "                       hetc_over_metrics])\n",
        "\n",
        "\n",
        "\n",
        "testResult = stats.friedmanchisquare(data_class[0], data_class[1], data_class[2], data_class[3], data_class[4], data_class[5], data_class[6], data_class[7])\n",
        "\n",
        "print(\"Resultado = {}\".format(testResult))\n",
        "\n",
        "sp.posthoc_nemenyi_friedman(data_class.T)"
      ],
      "metadata": {
        "colab": {
          "base_uri": "https://localhost:8080/",
          "height": 480
        },
        "id": "_UJ6TfIo0km2",
        "outputId": "ab089ab6-74d8-4c18-c113-6c5f861d80d9"
      },
      "execution_count": null,
      "outputs": [
        {
          "output_type": "stream",
          "name": "stdout",
          "text": [
            "Resultado = FriedmanchisquareResult(statistic=27.75, pvalue=0.0002440472551294392)\n"
          ]
        },
        {
          "output_type": "execute_result",
          "data": {
            "text/plain": [
              "          0         1         2         3         4         5         6  \\\n",
              "0  1.000000  0.900000  0.557628  0.215676  0.900000  0.900000  0.049967   \n",
              "1  0.900000  1.000000  0.900000  0.900000  0.900000  0.288368  0.643922   \n",
              "2  0.557628  0.900000  1.000000  0.900000  0.900000  0.075544  0.900000   \n",
              "3  0.215676  0.900000  0.900000  1.000000  0.643922  0.012452  0.900000   \n",
              "4  0.900000  0.900000  0.900000  0.643922  1.000000  0.643922  0.288368   \n",
              "5  0.900000  0.288368  0.075544  0.012452  0.643922  1.000000  0.001374   \n",
              "6  0.049967  0.643922  0.900000  0.900000  0.288368  0.001374  1.000000   \n",
              "7  0.900000  0.730216  0.374603  0.110246  0.900000  0.900000  0.020322   \n",
              "\n",
              "          7  \n",
              "0  0.900000  \n",
              "1  0.730216  \n",
              "2  0.374603  \n",
              "3  0.110246  \n",
              "4  0.900000  \n",
              "5  0.900000  \n",
              "6  0.020322  \n",
              "7  1.000000  "
            ],
            "text/html": [
              "\n",
              "  <div id=\"df-31b283c3-8cc8-4cc6-ab41-4b401537868a\">\n",
              "    <div class=\"colab-df-container\">\n",
              "      <div>\n",
              "<style scoped>\n",
              "    .dataframe tbody tr th:only-of-type {\n",
              "        vertical-align: middle;\n",
              "    }\n",
              "\n",
              "    .dataframe tbody tr th {\n",
              "        vertical-align: top;\n",
              "    }\n",
              "\n",
              "    .dataframe thead th {\n",
              "        text-align: right;\n",
              "    }\n",
              "</style>\n",
              "<table border=\"1\" class=\"dataframe\">\n",
              "  <thead>\n",
              "    <tr style=\"text-align: right;\">\n",
              "      <th></th>\n",
              "      <th>0</th>\n",
              "      <th>1</th>\n",
              "      <th>2</th>\n",
              "      <th>3</th>\n",
              "      <th>4</th>\n",
              "      <th>5</th>\n",
              "      <th>6</th>\n",
              "      <th>7</th>\n",
              "    </tr>\n",
              "  </thead>\n",
              "  <tbody>\n",
              "    <tr>\n",
              "      <th>0</th>\n",
              "      <td>1.000000</td>\n",
              "      <td>0.900000</td>\n",
              "      <td>0.557628</td>\n",
              "      <td>0.215676</td>\n",
              "      <td>0.900000</td>\n",
              "      <td>0.900000</td>\n",
              "      <td>0.049967</td>\n",
              "      <td>0.900000</td>\n",
              "    </tr>\n",
              "    <tr>\n",
              "      <th>1</th>\n",
              "      <td>0.900000</td>\n",
              "      <td>1.000000</td>\n",
              "      <td>0.900000</td>\n",
              "      <td>0.900000</td>\n",
              "      <td>0.900000</td>\n",
              "      <td>0.288368</td>\n",
              "      <td>0.643922</td>\n",
              "      <td>0.730216</td>\n",
              "    </tr>\n",
              "    <tr>\n",
              "      <th>2</th>\n",
              "      <td>0.557628</td>\n",
              "      <td>0.900000</td>\n",
              "      <td>1.000000</td>\n",
              "      <td>0.900000</td>\n",
              "      <td>0.900000</td>\n",
              "      <td>0.075544</td>\n",
              "      <td>0.900000</td>\n",
              "      <td>0.374603</td>\n",
              "    </tr>\n",
              "    <tr>\n",
              "      <th>3</th>\n",
              "      <td>0.215676</td>\n",
              "      <td>0.900000</td>\n",
              "      <td>0.900000</td>\n",
              "      <td>1.000000</td>\n",
              "      <td>0.643922</td>\n",
              "      <td>0.012452</td>\n",
              "      <td>0.900000</td>\n",
              "      <td>0.110246</td>\n",
              "    </tr>\n",
              "    <tr>\n",
              "      <th>4</th>\n",
              "      <td>0.900000</td>\n",
              "      <td>0.900000</td>\n",
              "      <td>0.900000</td>\n",
              "      <td>0.643922</td>\n",
              "      <td>1.000000</td>\n",
              "      <td>0.643922</td>\n",
              "      <td>0.288368</td>\n",
              "      <td>0.900000</td>\n",
              "    </tr>\n",
              "    <tr>\n",
              "      <th>5</th>\n",
              "      <td>0.900000</td>\n",
              "      <td>0.288368</td>\n",
              "      <td>0.075544</td>\n",
              "      <td>0.012452</td>\n",
              "      <td>0.643922</td>\n",
              "      <td>1.000000</td>\n",
              "      <td>0.001374</td>\n",
              "      <td>0.900000</td>\n",
              "    </tr>\n",
              "    <tr>\n",
              "      <th>6</th>\n",
              "      <td>0.049967</td>\n",
              "      <td>0.643922</td>\n",
              "      <td>0.900000</td>\n",
              "      <td>0.900000</td>\n",
              "      <td>0.288368</td>\n",
              "      <td>0.001374</td>\n",
              "      <td>1.000000</td>\n",
              "      <td>0.020322</td>\n",
              "    </tr>\n",
              "    <tr>\n",
              "      <th>7</th>\n",
              "      <td>0.900000</td>\n",
              "      <td>0.730216</td>\n",
              "      <td>0.374603</td>\n",
              "      <td>0.110246</td>\n",
              "      <td>0.900000</td>\n",
              "      <td>0.900000</td>\n",
              "      <td>0.020322</td>\n",
              "      <td>1.000000</td>\n",
              "    </tr>\n",
              "  </tbody>\n",
              "</table>\n",
              "</div>\n",
              "      <button class=\"colab-df-convert\" onclick=\"convertToInteractive('df-31b283c3-8cc8-4cc6-ab41-4b401537868a')\"\n",
              "              title=\"Convert this dataframe to an interactive table.\"\n",
              "              style=\"display:none;\">\n",
              "        \n",
              "  <svg xmlns=\"http://www.w3.org/2000/svg\" height=\"24px\"viewBox=\"0 0 24 24\"\n",
              "       width=\"24px\">\n",
              "    <path d=\"M0 0h24v24H0V0z\" fill=\"none\"/>\n",
              "    <path d=\"M18.56 5.44l.94 2.06.94-2.06 2.06-.94-2.06-.94-.94-2.06-.94 2.06-2.06.94zm-11 1L8.5 8.5l.94-2.06 2.06-.94-2.06-.94L8.5 2.5l-.94 2.06-2.06.94zm10 10l.94 2.06.94-2.06 2.06-.94-2.06-.94-.94-2.06-.94 2.06-2.06.94z\"/><path d=\"M17.41 7.96l-1.37-1.37c-.4-.4-.92-.59-1.43-.59-.52 0-1.04.2-1.43.59L10.3 9.45l-7.72 7.72c-.78.78-.78 2.05 0 2.83L4 21.41c.39.39.9.59 1.41.59.51 0 1.02-.2 1.41-.59l7.78-7.78 2.81-2.81c.8-.78.8-2.07 0-2.86zM5.41 20L4 18.59l7.72-7.72 1.47 1.35L5.41 20z\"/>\n",
              "  </svg>\n",
              "      </button>\n",
              "      \n",
              "  <style>\n",
              "    .colab-df-container {\n",
              "      display:flex;\n",
              "      flex-wrap:wrap;\n",
              "      gap: 12px;\n",
              "    }\n",
              "\n",
              "    .colab-df-convert {\n",
              "      background-color: #E8F0FE;\n",
              "      border: none;\n",
              "      border-radius: 50%;\n",
              "      cursor: pointer;\n",
              "      display: none;\n",
              "      fill: #1967D2;\n",
              "      height: 32px;\n",
              "      padding: 0 0 0 0;\n",
              "      width: 32px;\n",
              "    }\n",
              "\n",
              "    .colab-df-convert:hover {\n",
              "      background-color: #E2EBFA;\n",
              "      box-shadow: 0px 1px 2px rgba(60, 64, 67, 0.3), 0px 1px 3px 1px rgba(60, 64, 67, 0.15);\n",
              "      fill: #174EA6;\n",
              "    }\n",
              "\n",
              "    [theme=dark] .colab-df-convert {\n",
              "      background-color: #3B4455;\n",
              "      fill: #D2E3FC;\n",
              "    }\n",
              "\n",
              "    [theme=dark] .colab-df-convert:hover {\n",
              "      background-color: #434B5C;\n",
              "      box-shadow: 0px 1px 3px 1px rgba(0, 0, 0, 0.15);\n",
              "      filter: drop-shadow(0px 1px 2px rgba(0, 0, 0, 0.3));\n",
              "      fill: #FFFFFF;\n",
              "    }\n",
              "  </style>\n",
              "\n",
              "      <script>\n",
              "        const buttonEl =\n",
              "          document.querySelector('#df-31b283c3-8cc8-4cc6-ab41-4b401537868a button.colab-df-convert');\n",
              "        buttonEl.style.display =\n",
              "          google.colab.kernel.accessAllowed ? 'block' : 'none';\n",
              "\n",
              "        async function convertToInteractive(key) {\n",
              "          const element = document.querySelector('#df-31b283c3-8cc8-4cc6-ab41-4b401537868a');\n",
              "          const dataTable =\n",
              "            await google.colab.kernel.invokeFunction('convertToInteractive',\n",
              "                                                     [key], {});\n",
              "          if (!dataTable) return;\n",
              "\n",
              "          const docLinkHtml = 'Like what you see? Visit the ' +\n",
              "            '<a target=\"_blank\" href=https://colab.research.google.com/notebooks/data_table.ipynb>data table notebook</a>'\n",
              "            + ' to learn more about interactive tables.';\n",
              "          element.innerHTML = '';\n",
              "          dataTable['output_type'] = 'display_data';\n",
              "          await google.colab.output.renderOutput(dataTable, element);\n",
              "          const docLink = document.createElement('div');\n",
              "          docLink.innerHTML = docLinkHtml;\n",
              "          element.appendChild(docLink);\n",
              "        }\n",
              "      </script>\n",
              "    </div>\n",
              "  </div>\n",
              "  "
            ]
          },
          "metadata": {},
          "execution_count": 32
        }
      ]
    },
    {
      "cell_type": "markdown",
      "source": [
        "Comparando os modelos após fazer oversamplme das classes minoritárias **e** undersample das classes majoritárias"
      ],
      "metadata": {
        "id": "JDtz4PJl0pLt"
      }
    },
    {
      "cell_type": "code",
      "source": [
        "                    # acc,      f1,     recall,      precision\n",
        "knn_under_metrics = [0.799614, 0.783553, 0.792715, 0.805304]\n",
        "dt_under_metrics = [0.779454, 0.767525, 0.776265, 0.789964]\n",
        "svm_under_metrics = [0.771134, 0.754466, 0.764238, 0.779781]\n",
        "lvq_under_metrics = [0.753270, 0.749232, 0.759109, 0.772770]\n",
        "mlp_under_metrics = [0.790244, 0.782555, 0.790415, 0.800761]\n",
        "rfc_under_metrics = [0.798905, 0.788497, 0.796605, 0.807287]\n",
        "bmlp_under_metrics = [0.729042, 0.716935, 0.730277, 0.744659]\n",
        "hetc_under_metrics = [0.796785, 0.786311, 0.793777, 0.806537]\n",
        "\n",
        "#combine three groups into one array\n",
        "data_class = np.array([knn_under_metrics, \n",
        "                       dt_under_metrics,\n",
        "                       svm_under_metrics,\n",
        "                       lvq_under_metrics,\n",
        "                       mlp_under_metrics,\n",
        "                       rfc_under_metrics,\n",
        "                       bmlp_under_metrics,\n",
        "                       hetc_under_metrics])\n",
        "\n",
        "\n",
        "\n",
        "testResult = stats.friedmanchisquare(data_class[0], data_class[1], data_class[2], data_class[3], data_class[4], data_class[5], data_class[6], data_class[7])\n",
        "\n",
        "print(\"Resultado = {}\".format(testResult))\n",
        "\n",
        "sp.posthoc_nemenyi_friedman(data_class.T)"
      ],
      "metadata": {
        "colab": {
          "base_uri": "https://localhost:8080/",
          "height": 318
        },
        "id": "oQdUwq6Q0wQM",
        "outputId": "8ef7c0fe-edf1-40fe-bb3d-8320a5cfd079"
      },
      "execution_count": null,
      "outputs": [
        {
          "output_type": "stream",
          "name": "stdout",
          "text": [
            "Resultado = FriedmanchisquareResult(statistic=27.25, pvalue=0.000300451692719203)\n"
          ]
        },
        {
          "output_type": "execute_result",
          "data": {
            "text/plain": [
              "          0         1         2         3         4         5         6  \\\n",
              "0  1.000000  0.816508  0.469509  0.156455  0.900000  0.900000  0.032317   \n",
              "1  0.816508  1.000000  0.900000  0.900000  0.900000  0.374603  0.643922   \n",
              "2  0.469509  0.900000  1.000000  0.900000  0.900000  0.110246  0.900000   \n",
              "3  0.156455  0.900000  0.900000  1.000000  0.643922  0.020322  0.900000   \n",
              "4  0.900000  0.900000  0.900000  0.643922  1.000000  0.730216  0.288368   \n",
              "5  0.900000  0.374603  0.110246  0.020322  0.730216  1.000000  0.002470   \n",
              "6  0.032317  0.643922  0.900000  0.900000  0.288368  0.002470  1.000000   \n",
              "7  0.900000  0.730216  0.374603  0.110246  0.900000  0.900000  0.020322   \n",
              "\n",
              "          7  \n",
              "0  0.900000  \n",
              "1  0.730216  \n",
              "2  0.374603  \n",
              "3  0.110246  \n",
              "4  0.900000  \n",
              "5  0.900000  \n",
              "6  0.020322  \n",
              "7  1.000000  "
            ],
            "text/html": [
              "\n",
              "  <div id=\"df-b35eee34-768a-483b-9e51-9e410d3ad8ca\">\n",
              "    <div class=\"colab-df-container\">\n",
              "      <div>\n",
              "<style scoped>\n",
              "    .dataframe tbody tr th:only-of-type {\n",
              "        vertical-align: middle;\n",
              "    }\n",
              "\n",
              "    .dataframe tbody tr th {\n",
              "        vertical-align: top;\n",
              "    }\n",
              "\n",
              "    .dataframe thead th {\n",
              "        text-align: right;\n",
              "    }\n",
              "</style>\n",
              "<table border=\"1\" class=\"dataframe\">\n",
              "  <thead>\n",
              "    <tr style=\"text-align: right;\">\n",
              "      <th></th>\n",
              "      <th>0</th>\n",
              "      <th>1</th>\n",
              "      <th>2</th>\n",
              "      <th>3</th>\n",
              "      <th>4</th>\n",
              "      <th>5</th>\n",
              "      <th>6</th>\n",
              "      <th>7</th>\n",
              "    </tr>\n",
              "  </thead>\n",
              "  <tbody>\n",
              "    <tr>\n",
              "      <th>0</th>\n",
              "      <td>1.000000</td>\n",
              "      <td>0.816508</td>\n",
              "      <td>0.469509</td>\n",
              "      <td>0.156455</td>\n",
              "      <td>0.900000</td>\n",
              "      <td>0.900000</td>\n",
              "      <td>0.032317</td>\n",
              "      <td>0.900000</td>\n",
              "    </tr>\n",
              "    <tr>\n",
              "      <th>1</th>\n",
              "      <td>0.816508</td>\n",
              "      <td>1.000000</td>\n",
              "      <td>0.900000</td>\n",
              "      <td>0.900000</td>\n",
              "      <td>0.900000</td>\n",
              "      <td>0.374603</td>\n",
              "      <td>0.643922</td>\n",
              "      <td>0.730216</td>\n",
              "    </tr>\n",
              "    <tr>\n",
              "      <th>2</th>\n",
              "      <td>0.469509</td>\n",
              "      <td>0.900000</td>\n",
              "      <td>1.000000</td>\n",
              "      <td>0.900000</td>\n",
              "      <td>0.900000</td>\n",
              "      <td>0.110246</td>\n",
              "      <td>0.900000</td>\n",
              "      <td>0.374603</td>\n",
              "    </tr>\n",
              "    <tr>\n",
              "      <th>3</th>\n",
              "      <td>0.156455</td>\n",
              "      <td>0.900000</td>\n",
              "      <td>0.900000</td>\n",
              "      <td>1.000000</td>\n",
              "      <td>0.643922</td>\n",
              "      <td>0.020322</td>\n",
              "      <td>0.900000</td>\n",
              "      <td>0.110246</td>\n",
              "    </tr>\n",
              "    <tr>\n",
              "      <th>4</th>\n",
              "      <td>0.900000</td>\n",
              "      <td>0.900000</td>\n",
              "      <td>0.900000</td>\n",
              "      <td>0.643922</td>\n",
              "      <td>1.000000</td>\n",
              "      <td>0.730216</td>\n",
              "      <td>0.288368</td>\n",
              "      <td>0.900000</td>\n",
              "    </tr>\n",
              "    <tr>\n",
              "      <th>5</th>\n",
              "      <td>0.900000</td>\n",
              "      <td>0.374603</td>\n",
              "      <td>0.110246</td>\n",
              "      <td>0.020322</td>\n",
              "      <td>0.730216</td>\n",
              "      <td>1.000000</td>\n",
              "      <td>0.002470</td>\n",
              "      <td>0.900000</td>\n",
              "    </tr>\n",
              "    <tr>\n",
              "      <th>6</th>\n",
              "      <td>0.032317</td>\n",
              "      <td>0.643922</td>\n",
              "      <td>0.900000</td>\n",
              "      <td>0.900000</td>\n",
              "      <td>0.288368</td>\n",
              "      <td>0.002470</td>\n",
              "      <td>1.000000</td>\n",
              "      <td>0.020322</td>\n",
              "    </tr>\n",
              "    <tr>\n",
              "      <th>7</th>\n",
              "      <td>0.900000</td>\n",
              "      <td>0.730216</td>\n",
              "      <td>0.374603</td>\n",
              "      <td>0.110246</td>\n",
              "      <td>0.900000</td>\n",
              "      <td>0.900000</td>\n",
              "      <td>0.020322</td>\n",
              "      <td>1.000000</td>\n",
              "    </tr>\n",
              "  </tbody>\n",
              "</table>\n",
              "</div>\n",
              "      <button class=\"colab-df-convert\" onclick=\"convertToInteractive('df-b35eee34-768a-483b-9e51-9e410d3ad8ca')\"\n",
              "              title=\"Convert this dataframe to an interactive table.\"\n",
              "              style=\"display:none;\">\n",
              "        \n",
              "  <svg xmlns=\"http://www.w3.org/2000/svg\" height=\"24px\"viewBox=\"0 0 24 24\"\n",
              "       width=\"24px\">\n",
              "    <path d=\"M0 0h24v24H0V0z\" fill=\"none\"/>\n",
              "    <path d=\"M18.56 5.44l.94 2.06.94-2.06 2.06-.94-2.06-.94-.94-2.06-.94 2.06-2.06.94zm-11 1L8.5 8.5l.94-2.06 2.06-.94-2.06-.94L8.5 2.5l-.94 2.06-2.06.94zm10 10l.94 2.06.94-2.06 2.06-.94-2.06-.94-.94-2.06-.94 2.06-2.06.94z\"/><path d=\"M17.41 7.96l-1.37-1.37c-.4-.4-.92-.59-1.43-.59-.52 0-1.04.2-1.43.59L10.3 9.45l-7.72 7.72c-.78.78-.78 2.05 0 2.83L4 21.41c.39.39.9.59 1.41.59.51 0 1.02-.2 1.41-.59l7.78-7.78 2.81-2.81c.8-.78.8-2.07 0-2.86zM5.41 20L4 18.59l7.72-7.72 1.47 1.35L5.41 20z\"/>\n",
              "  </svg>\n",
              "      </button>\n",
              "      \n",
              "  <style>\n",
              "    .colab-df-container {\n",
              "      display:flex;\n",
              "      flex-wrap:wrap;\n",
              "      gap: 12px;\n",
              "    }\n",
              "\n",
              "    .colab-df-convert {\n",
              "      background-color: #E8F0FE;\n",
              "      border: none;\n",
              "      border-radius: 50%;\n",
              "      cursor: pointer;\n",
              "      display: none;\n",
              "      fill: #1967D2;\n",
              "      height: 32px;\n",
              "      padding: 0 0 0 0;\n",
              "      width: 32px;\n",
              "    }\n",
              "\n",
              "    .colab-df-convert:hover {\n",
              "      background-color: #E2EBFA;\n",
              "      box-shadow: 0px 1px 2px rgba(60, 64, 67, 0.3), 0px 1px 3px 1px rgba(60, 64, 67, 0.15);\n",
              "      fill: #174EA6;\n",
              "    }\n",
              "\n",
              "    [theme=dark] .colab-df-convert {\n",
              "      background-color: #3B4455;\n",
              "      fill: #D2E3FC;\n",
              "    }\n",
              "\n",
              "    [theme=dark] .colab-df-convert:hover {\n",
              "      background-color: #434B5C;\n",
              "      box-shadow: 0px 1px 3px 1px rgba(0, 0, 0, 0.15);\n",
              "      filter: drop-shadow(0px 1px 2px rgba(0, 0, 0, 0.3));\n",
              "      fill: #FFFFFF;\n",
              "    }\n",
              "  </style>\n",
              "\n",
              "      <script>\n",
              "        const buttonEl =\n",
              "          document.querySelector('#df-b35eee34-768a-483b-9e51-9e410d3ad8ca button.colab-df-convert');\n",
              "        buttonEl.style.display =\n",
              "          google.colab.kernel.accessAllowed ? 'block' : 'none';\n",
              "\n",
              "        async function convertToInteractive(key) {\n",
              "          const element = document.querySelector('#df-b35eee34-768a-483b-9e51-9e410d3ad8ca');\n",
              "          const dataTable =\n",
              "            await google.colab.kernel.invokeFunction('convertToInteractive',\n",
              "                                                     [key], {});\n",
              "          if (!dataTable) return;\n",
              "\n",
              "          const docLinkHtml = 'Like what you see? Visit the ' +\n",
              "            '<a target=\"_blank\" href=https://colab.research.google.com/notebooks/data_table.ipynb>data table notebook</a>'\n",
              "            + ' to learn more about interactive tables.';\n",
              "          element.innerHTML = '';\n",
              "          dataTable['output_type'] = 'display_data';\n",
              "          await google.colab.output.renderOutput(dataTable, element);\n",
              "          const docLink = document.createElement('div');\n",
              "          docLink.innerHTML = docLinkHtml;\n",
              "          element.appendChild(docLink);\n",
              "        }\n",
              "      </script>\n",
              "    </div>\n",
              "  </div>\n",
              "  "
            ]
          },
          "metadata": {},
          "execution_count": 33
        }
      ]
    },
    {
      "cell_type": "markdown",
      "source": [
        "Comparando as alterações da base"
      ],
      "metadata": {
        "id": "MEht3Kjh1XKx"
      }
    },
    {
      "cell_type": "code",
      "source": [
        "# KNN\n",
        "data_knn = np.array([knn_orig_metrics,\n",
        "                     knn_over_metrics,\n",
        "                     knn_under_metrics,])\n",
        "\n",
        "testResult = stats.friedmanchisquare(data_knn[0], data_knn[1], data_knn[2])\n",
        "\n",
        "print(\"Resultado KNN = {}\".format(testResult))\n",
        "\n",
        "print(sp.posthoc_nemenyi_friedman(data_knn.T))\n",
        "\n",
        "# DT\n",
        "data_dt = np.array([dt_orig_metrics,\n",
        "                    dt_over_metrics,\n",
        "                    dt_under_metrics,])\n",
        "\n",
        "testResult_dt = stats.friedmanchisquare(data_dt[0], data_dt[1], data_dt[2])\n",
        "\n",
        "print('---')\n",
        "print(\"Resultado DT = {}\".format(testResult_dt))\n",
        "\n",
        "print(sp.posthoc_nemenyi_friedman(data_dt.T))\n",
        "\n",
        "#SVM\n",
        "data_svm = np.array([svm_orig_metrics,\n",
        "                    svm_over_metrics,\n",
        "                    svm_under_metrics,])\n",
        "\n",
        "testResult_svm = stats.friedmanchisquare(data_svm[0], data_svm[1], data_svm[2])\n",
        "\n",
        "print('---')\n",
        "print(\"Resultado SVM = {}\".format(testResult_svm))\n",
        "\n",
        "print(sp.posthoc_nemenyi_friedman(data_svm.T))\n",
        "\n",
        "#LVQ\n",
        "data_lvq = np.array([lvq_orig_metrics,\n",
        "                    lvq_over_metrics,\n",
        "                    lvq_under_metrics,])\n",
        "\n",
        "testResult_lvq = stats.friedmanchisquare(data_lvq[0], data_lvq[1], data_lvq[2])\n",
        "\n",
        "print('---')\n",
        "print(\"Resultado LVQ = {}\".format(testResult_lvq))\n",
        "\n",
        "print(sp.posthoc_nemenyi_friedman(data_lvq.T))\n",
        "\n",
        "#MLP\n",
        "data_mlp = np.array([mlp_orig_metrics,\n",
        "                    mlp_over_metrics,\n",
        "                    mlp_under_metrics,])\n",
        "\n",
        "testResult_mlp = stats.friedmanchisquare(data_mlp[0], data_mlp[1], data_mlp[2])\n",
        "\n",
        "print('---')\n",
        "print(\"Resultado MLP = {}\".format(testResult_mlp))\n",
        "\n",
        "print(sp.posthoc_nemenyi_friedman(data_mlp.T))\n",
        "\n",
        "#RFC\n",
        "data_rfc = np.array([rfc_orig_metrics,\n",
        "                    rfc_over_metrics,\n",
        "                    rfc_under_metrics,])\n",
        "\n",
        "testResult_rfc = stats.friedmanchisquare(data_rfc[0], data_rfc[1], data_rfc[2])\n",
        "\n",
        "print('---')\n",
        "print(\"Resultado RFC = {}\".format(testResult_rfc))\n",
        "\n",
        "print(sp.posthoc_nemenyi_friedman(data_rfc.T))\n",
        "\n",
        "#BMLP\n",
        "data_bmlp = np.array([bmlp_orig_metrics,\n",
        "                      bmlp_over_metrics,\n",
        "                      bmlp_under_metrics,])\n",
        "\n",
        "testResult_bmlp = stats.friedmanchisquare(data_bmlp[0], data_bmlp[1], data_bmlp[2])\n",
        "\n",
        "print('---')\n",
        "print(\"Resultado BMLP = {}\".format(testResult_bmlp))\n",
        "\n",
        "print(sp.posthoc_nemenyi_friedman(data_bmlp.T))\n",
        "\n",
        "#HETC\n",
        "data_hetc = np.array([hetc_orig_metrics,\n",
        "                      hetc_over_metrics,\n",
        "                      hetc_under_metrics,])\n",
        "\n",
        "testResult_hetc = stats.friedmanchisquare(data_hetc[0], data_hetc[1], data_hetc[2])\n",
        "\n",
        "print('---')\n",
        "print(\"Resultado HETC = {}\".format(testResult_hetc))\n",
        "\n",
        "print(sp.posthoc_nemenyi_friedman(data_hetc.T))"
      ],
      "metadata": {
        "colab": {
          "base_uri": "https://localhost:8080/"
        },
        "id": "aHMkRrFB1ay6",
        "outputId": "073ddad0-cf90-4f5c-f39f-c131e65abbb6"
      },
      "execution_count": null,
      "outputs": [
        {
          "output_type": "stream",
          "name": "stdout",
          "text": [
            "Resultado KNN = FriedmanchisquareResult(statistic=6.5, pvalue=0.03877420783172202)\n",
            "          0         1         2\n",
            "0  1.000000  0.035567  0.180637\n",
            "1  0.035567  1.000000  0.739010\n",
            "2  0.180637  0.739010  1.000000\n",
            "---\n",
            "Resultado DT = FriedmanchisquareResult(statistic=6.5, pvalue=0.03877420783172202)\n",
            "          0         1         2\n",
            "0  1.000000  0.035567  0.180637\n",
            "1  0.035567  1.000000  0.739010\n",
            "2  0.180637  0.739010  1.000000\n",
            "---\n",
            "Resultado SVM = FriedmanchisquareResult(statistic=8.0, pvalue=0.018315638888734182)\n",
            "          0         1         2\n",
            "0  1.000000  0.012992  0.334141\n",
            "1  0.012992  1.000000  0.334141\n",
            "2  0.334141  0.334141  1.000000\n",
            "---\n",
            "Resultado LVQ = FriedmanchisquareResult(statistic=8.0, pvalue=0.018315638888734182)\n",
            "          0         1         2\n",
            "0  1.000000  0.334141  0.012992\n",
            "1  0.334141  1.000000  0.334141\n",
            "2  0.012992  0.334141  1.000000\n",
            "---\n",
            "Resultado MLP = FriedmanchisquareResult(statistic=6.5, pvalue=0.03877420783172202)\n",
            "          0         1         2\n",
            "0  1.000000  0.180637  0.035567\n",
            "1  0.180637  1.000000  0.739010\n",
            "2  0.035567  0.739010  1.000000\n",
            "---\n",
            "Resultado RFC = FriedmanchisquareResult(statistic=6.5, pvalue=0.03877420783172202)\n",
            "          0         1         2\n",
            "0  1.000000  0.035567  0.180637\n",
            "1  0.035567  1.000000  0.739010\n",
            "2  0.180637  0.739010  1.000000\n",
            "---\n",
            "Resultado BMLP = FriedmanchisquareResult(statistic=8.0, pvalue=0.018315638888734182)\n",
            "          0         1         2\n",
            "0  1.000000  0.334141  0.012992\n",
            "1  0.334141  1.000000  0.334141\n",
            "2  0.012992  0.334141  1.000000\n",
            "---\n",
            "Resultado HETC = FriedmanchisquareResult(statistic=6.5, pvalue=0.03877420783172202)\n",
            "          0         1         2\n",
            "0  1.000000  0.035567  0.180637\n",
            "1  0.035567  1.000000  0.739010\n",
            "2  0.180637  0.739010  1.000000\n"
          ]
        }
      ]
    },
    {
      "cell_type": "markdown",
      "source": [
        "Como podemos observar pelos resultados obtidos, os modelos treinados com as bases de dados tratadas com oversample e undersample são estatísticamente diferentes dos modelos treinados com a base de dados originais. Porém, comparando entre os modelos gerados com as bases tratadas, não podemos afirmar que são estatísticamente diferentes.\n",
        "\n",
        "Desa forma, só mostraremos as matrizes de confusão para os modelos treinados com a base de dados marcada como ***oversample***, já que para todas as variações teríamos 24 matrizes para exibir."
      ],
      "metadata": {
        "id": "dI6hk0vS447h"
      }
    },
    {
      "cell_type": "markdown",
      "source": [
        "# Matrizes de confusão\n",
        "Base de dados tratadas com *oversample* das classes minoritárias."
      ],
      "metadata": {
        "id": "3b4SxbTr02tf"
      }
    },
    {
      "cell_type": "code",
      "source": [
        "KNN_over = KNeighborsClassifier(n_neighbors=82, metric='minkowski',weights='distance').fit(X_train_over, y_train_over)\n",
        "DT_over = DecisionTreeClassifier(min_samples_split=3, min_samples_leaf=2, max_depth=21, criterion='gini', random_state=seed_value).fit(X_train_over, y_train_over)\n",
        "LVQ_over = GLVQ(solver_type='lbfgs', prototype_n_per_class=4, distance_type='squared-euclidean', activation_type='sigmoid', random_state=seed_value).fit(X_train_over, y_train_over)\n",
        "SVM_over = SVC(kernel='rbf', gamma=1, C=1, probability=True, random_state=seed_value).fit(X_train_over, y_train_over)\n",
        "MLP_over = MLPClassifier(solver='lbfgs', hidden_layer_sizes=(30, 30, 30), alpha=1.0, activation='relu', random_state=seed_value).fit(X_train_over, y_train_over)\n",
        "RFC_over = RandomForestClassifier(n_estimators=47, random_state=seed_value).fit(X_train_over, y_train_over)\n",
        "BMLP_over = BaggingClassifier(n_estimators=9, base_estimator=MLPClassifier(alpha=1.0, hidden_layer_sizes=(30, 30, 30)), random_state=seed_value).fit(X_train_over, y_train_over)\n",
        "\n",
        "knn_over_cmt = KNeighborsClassifier(n_neighbors=82, metric='minkowski',weights='distance')\n",
        "dt_over_cmt = DecisionTreeClassifier(min_samples_split=3, min_samples_leaf=2, max_depth=21, criterion='gini', random_state=seed_value)\n",
        "mlp_over_cmt = MLPClassifier(solver='lbfgs', hidden_layer_sizes=(30, 30, 30), alpha=1.0, activation='relu', random_state=seed_value)\n",
        "svm_over_cmt = SVC(kernel='rbf', gamma=1, C=1, probability=True, random_state=seed_value)\n",
        "lvq_over_cmt = GLVQ(solver_type='lbfgs', prototype_n_per_class=4, distance_type='squared-euclidean', activation_type='sigmoid', random_state=seed_value)\n",
        "\n",
        "\n",
        "HETC_over = VotingClassifier(estimators=[('dt', dt_over_cmt), ('knn', knn_over_cmt),\n",
        "                                         ('mlp', mlp_over_cmt), ('svm', svm_over_cmt),\n",
        "                                         ('lvq', lvq_over_cmt)], \n",
        "                             voting='hard').fit(X_train_over, y_train_over)"
      ],
      "metadata": {
        "id": "jHH4oMT66Ql-"
      },
      "execution_count": null,
      "outputs": []
    },
    {
      "cell_type": "code",
      "source": [
        "knn_y = KNN_over.predict(X_test_over)\n",
        "dt_y = DT_over.predict(X_test_over)\n",
        "lvq_y = LVQ_over.predict(X_test_over)\n",
        "svm_y = SVM_over.predict(X_test_over)\n",
        "mlp_y = MLP_over.predict(X_test_over)\n",
        "rfc_y = RFC_over.predict(X_test_over)\n",
        "bmlp_y = BMLP_over.predict(X_test_over)\n",
        "hetc_y = HETC_over.predict(X_test_over)"
      ],
      "metadata": {
        "id": "ZvpjMK1k6eEH"
      },
      "execution_count": null,
      "outputs": []
    },
    {
      "cell_type": "code",
      "source": [
        "disp = ConfusionMatrixDisplay(confusion_matrix(y_test_over, knn_y))"
      ],
      "metadata": {
        "id": "Y-adnexB6Ij2"
      },
      "execution_count": null,
      "outputs": []
    },
    {
      "cell_type": "code",
      "source": [
        "fig, ax = plt.subplots(figsize=(25,25))\n",
        "disp.plot(ax=ax)"
      ],
      "metadata": {
        "colab": {
          "base_uri": "https://localhost:8080/",
          "height": 1000
        },
        "id": "gbEvgSRc9UNL",
        "outputId": "3b81dfec-d6db-4d12-bcb3-8c52f01df174"
      },
      "execution_count": null,
      "outputs": [
        {
          "output_type": "execute_result",
          "data": {
            "text/plain": [
              "<sklearn.metrics._plot.confusion_matrix.ConfusionMatrixDisplay at 0x7f802d7f1a50>"
            ]
          },
          "metadata": {},
          "execution_count": 65
        },
        {
          "output_type": "display_data",
          "data": {
            "text/plain": [
              "<Figure size 1800x1800 with 2 Axes>"
            ],
            "image/png": "[encoded data removed]"
          },
          "metadata": {
            "needs_background": "light"
          }
        }
      ]
    },
    {
      "cell_type": "code",
      "source": [
        "print(confusion_matrix(y_test_over, dt_y))"
      ],
      "metadata": {
        "colab": {
          "base_uri": "https://localhost:8080/"
        },
        "id": "iRk0ml5v02bQ",
        "outputId": "df7caead-8734-4456-e9c2-55effb7e1c8f"
      },
      "execution_count": null,
      "outputs": [
        {
          "output_type": "stream",
          "name": "stdout",
          "text": [
            "[[12  0  0 ...  0  0  0]\n",
            " [ 0 14  0 ...  0  0  0]\n",
            " [ 0  0 46 ...  0  0  0]\n",
            " ...\n",
            " [ 0  0  0 ... 28  0  0]\n",
            " [ 0  0  0 ...  0 11  0]\n",
            " [ 0  0  0 ...  2  0  6]]\n"
          ]
        }
      ]
    },
    {
      "cell_type": "code",
      "source": [
        "confusion_matrix(y_test_over, lvq_y)"
      ],
      "metadata": {
        "colab": {
          "base_uri": "https://localhost:8080/"
        },
        "id": "LFu4TM847O1i",
        "outputId": "f2153f39-607d-4ed9-fcac-b07c72a13b12"
      },
      "execution_count": null,
      "outputs": [
        {
          "output_type": "execute_result",
          "data": {
            "text/plain": [
              "array([[12,  0,  0, ...,  0,  0,  0],\n",
              "       [ 0, 14,  0, ...,  0,  0,  0],\n",
              "       [ 0,  0, 39, ...,  0,  0,  0],\n",
              "       ...,\n",
              "       [ 0,  0,  0, ..., 28,  0,  0],\n",
              "       [ 0,  0,  0, ...,  0,  6,  0],\n",
              "       [ 0,  0,  0, ...,  2,  0,  7]])"
            ]
          },
          "metadata": {},
          "execution_count": 49
        }
      ]
    },
    {
      "cell_type": "code",
      "source": [
        "confusion_matrix(y_test_over, svm_y)"
      ],
      "metadata": {
        "colab": {
          "base_uri": "https://localhost:8080/"
        },
        "id": "LA_TFCQs7WeS",
        "outputId": "ee723331-911b-43f1-afa1-90b800050c10"
      },
      "execution_count": null,
      "outputs": [
        {
          "output_type": "execute_result",
          "data": {
            "text/plain": [
              "array([[12,  0,  0, ...,  0,  0,  0],\n",
              "       [ 0, 14,  0, ...,  0,  0,  0],\n",
              "       [ 0,  0, 44, ...,  0,  0,  0],\n",
              "       ...,\n",
              "       [ 0,  0,  0, ..., 30,  0,  0],\n",
              "       [ 0,  0,  0, ...,  0,  6,  0],\n",
              "       [ 0,  0,  0, ...,  2,  0,  7]])"
            ]
          },
          "metadata": {},
          "execution_count": 50
        }
      ]
    },
    {
      "cell_type": "code",
      "source": [
        "confusion_matrix(y_test_over, mlp_y)"
      ],
      "metadata": {
        "colab": {
          "base_uri": "https://localhost:8080/"
        },
        "id": "qqHGRgIF7YfU",
        "outputId": "6e014a62-fb48-4f41-c074-5439408b83dd"
      },
      "execution_count": null,
      "outputs": [
        {
          "output_type": "execute_result",
          "data": {
            "text/plain": [
              "array([[12,  0,  0, ...,  0,  0,  0],\n",
              "       [ 0, 14,  0, ...,  0,  0,  0],\n",
              "       [ 0,  0, 45, ...,  0,  0,  0],\n",
              "       ...,\n",
              "       [ 0,  0,  0, ..., 30,  0,  1],\n",
              "       [ 0,  0,  0, ...,  0,  6,  0],\n",
              "       [ 0,  0,  0, ...,  4,  0,  7]])"
            ]
          },
          "metadata": {},
          "execution_count": 51
        }
      ]
    },
    {
      "cell_type": "code",
      "source": [
        "confusion_matrix(y_test_over, rfc_y)"
      ],
      "metadata": {
        "colab": {
          "base_uri": "https://localhost:8080/"
        },
        "id": "emRemb9b7aSc",
        "outputId": "5520209c-8a97-4826-ebc9-023b3fffe95d"
      },
      "execution_count": null,
      "outputs": [
        {
          "output_type": "execute_result",
          "data": {
            "text/plain": [
              "array([[12,  0,  0, ...,  0,  0,  0],\n",
              "       [ 0, 14,  0, ...,  0,  0,  0],\n",
              "       [ 0,  0, 43, ...,  0,  0,  0],\n",
              "       ...,\n",
              "       [ 0,  0,  0, ..., 29,  0,  1],\n",
              "       [ 0,  0,  0, ...,  0, 11,  0],\n",
              "       [ 0,  0,  0, ...,  4,  0,  7]])"
            ]
          },
          "metadata": {},
          "execution_count": 52
        }
      ]
    },
    {
      "cell_type": "code",
      "source": [
        "confusion_matrix(y_test_over, bmlp_y)"
      ],
      "metadata": {
        "colab": {
          "base_uri": "https://localhost:8080/"
        },
        "id": "e6CsMLEe7bXc",
        "outputId": "9b9c2a51-5b2e-47d2-8307-3d0e7e0cb63b"
      },
      "execution_count": null,
      "outputs": [
        {
          "output_type": "execute_result",
          "data": {
            "text/plain": [
              "array([[12,  0,  0, ...,  0,  0,  0],\n",
              "       [ 0,  7,  0, ...,  0,  0,  0],\n",
              "       [ 0,  0, 43, ...,  0,  0,  0],\n",
              "       ...,\n",
              "       [ 0,  0,  0, ..., 27,  0,  1],\n",
              "       [ 0,  0,  0, ...,  0,  6,  0],\n",
              "       [ 0,  0,  0, ...,  3,  0,  6]])"
            ]
          },
          "metadata": {},
          "execution_count": 53
        }
      ]
    },
    {
      "cell_type": "code",
      "source": [
        "confusion_matrix(y_test_over, hetc_y)"
      ],
      "metadata": {
        "colab": {
          "base_uri": "https://localhost:8080/"
        },
        "id": "C_Fha9Lj7dN1",
        "outputId": "65cddd69-6351-468c-c9f6-b91ad3d3ba6c"
      },
      "execution_count": null,
      "outputs": [
        {
          "output_type": "execute_result",
          "data": {
            "text/plain": [
              "array([[12,  0,  0, ...,  0,  0,  0],\n",
              "       [ 0, 14,  0, ...,  0,  0,  0],\n",
              "       [ 0,  0, 45, ...,  0,  0,  0],\n",
              "       ...,\n",
              "       [ 0,  0,  0, ..., 29,  0,  0],\n",
              "       [ 0,  0,  0, ...,  0,  6,  0],\n",
              "       [ 0,  0,  0, ...,  2,  0,  7]])"
            ]
          },
          "metadata": {},
          "execution_count": 54
        }
      ]
    },
    {
      "cell_type": "code",
      "source": [
        "# KNN original\n",
        "\n",
        "\n",
        "knn.fit(X_train_orig, y_train_orig)\n",
        "\n",
        "# KNN oversample\n",
        "\n",
        "# KNN undersample"
      ],
      "metadata": {
        "id": "UieDQmJakCuu"
      },
      "execution_count": null,
      "outputs": []
    },
    {
      "cell_type": "markdown",
      "source": [
        ""
      ],
      "metadata": {
        "id": "R87HMMvkiyRy"
      }
    },
    {
      "cell_type": "code",
      "execution_count": null,
      "metadata": {
        "colab": {
          "base_uri": "https://localhost:8080/",
          "height": 424
        },
        "id": "C43axNe3AvYo",
        "outputId": "2bb4f3bc-3e7c-4a57-d778-3302f21af749"
      },
      "outputs": [
        {
          "data": {
            "text/html": [
              "\n",
              "  <div id=\"df-66b7e719-95c5-4b63-8cad-800b18013362\">\n",
              "    <div class=\"colab-df-container\">\n",
              "      <div>\n",
              "<style scoped>\n",
              "    .dataframe tbody tr th:only-of-type {\n",
              "        vertical-align: middle;\n",
              "    }\n",
              "\n",
              "    .dataframe tbody tr th {\n",
              "        vertical-align: top;\n",
              "    }\n",
              "\n",
              "    .dataframe thead th {\n",
              "        text-align: right;\n",
              "    }\n",
              "</style>\n",
              "<table border=\"1\" class=\"dataframe\">\n",
              "  <thead>\n",
              "    <tr style=\"text-align: right;\">\n",
              "      <th></th>\n",
              "      <th>0</th>\n",
              "      <th>1</th>\n",
              "      <th>2</th>\n",
              "      <th>3</th>\n",
              "      <th>4</th>\n",
              "      <th>5</th>\n",
              "      <th>6</th>\n",
              "      <th>7</th>\n",
              "      <th>8</th>\n",
              "      <th>9</th>\n",
              "      <th>...</th>\n",
              "      <th>92</th>\n",
              "      <th>93</th>\n",
              "      <th>94</th>\n",
              "      <th>95</th>\n",
              "      <th>96</th>\n",
              "      <th>97</th>\n",
              "      <th>98</th>\n",
              "      <th>99</th>\n",
              "      <th>100</th>\n",
              "      <th>101</th>\n",
              "    </tr>\n",
              "  </thead>\n",
              "  <tbody>\n",
              "    <tr>\n",
              "      <th>0</th>\n",
              "      <td>10</td>\n",
              "      <td>0</td>\n",
              "      <td>0</td>\n",
              "      <td>0</td>\n",
              "      <td>0</td>\n",
              "      <td>0</td>\n",
              "      <td>0</td>\n",
              "      <td>0</td>\n",
              "      <td>0</td>\n",
              "      <td>0</td>\n",
              "      <td>...</td>\n",
              "      <td>0</td>\n",
              "      <td>0</td>\n",
              "      <td>0</td>\n",
              "      <td>0</td>\n",
              "      <td>0</td>\n",
              "      <td>0</td>\n",
              "      <td>0</td>\n",
              "      <td>0</td>\n",
              "      <td>0</td>\n",
              "      <td>0</td>\n",
              "    </tr>\n",
              "    <tr>\n",
              "      <th>1</th>\n",
              "      <td>0</td>\n",
              "      <td>10</td>\n",
              "      <td>0</td>\n",
              "      <td>0</td>\n",
              "      <td>0</td>\n",
              "      <td>0</td>\n",
              "      <td>0</td>\n",
              "      <td>0</td>\n",
              "      <td>0</td>\n",
              "      <td>0</td>\n",
              "      <td>...</td>\n",
              "      <td>0</td>\n",
              "      <td>0</td>\n",
              "      <td>0</td>\n",
              "      <td>0</td>\n",
              "      <td>0</td>\n",
              "      <td>0</td>\n",
              "      <td>0</td>\n",
              "      <td>0</td>\n",
              "      <td>0</td>\n",
              "      <td>0</td>\n",
              "    </tr>\n",
              "    <tr>\n",
              "      <th>2</th>\n",
              "      <td>0</td>\n",
              "      <td>0</td>\n",
              "      <td>25</td>\n",
              "      <td>0</td>\n",
              "      <td>0</td>\n",
              "      <td>0</td>\n",
              "      <td>0</td>\n",
              "      <td>0</td>\n",
              "      <td>0</td>\n",
              "      <td>0</td>\n",
              "      <td>...</td>\n",
              "      <td>0</td>\n",
              "      <td>0</td>\n",
              "      <td>0</td>\n",
              "      <td>0</td>\n",
              "      <td>0</td>\n",
              "      <td>0</td>\n",
              "      <td>0</td>\n",
              "      <td>0</td>\n",
              "      <td>0</td>\n",
              "      <td>0</td>\n",
              "    </tr>\n",
              "    <tr>\n",
              "      <th>3</th>\n",
              "      <td>0</td>\n",
              "      <td>0</td>\n",
              "      <td>0</td>\n",
              "      <td>11</td>\n",
              "      <td>0</td>\n",
              "      <td>1</td>\n",
              "      <td>0</td>\n",
              "      <td>0</td>\n",
              "      <td>0</td>\n",
              "      <td>0</td>\n",
              "      <td>...</td>\n",
              "      <td>0</td>\n",
              "      <td>0</td>\n",
              "      <td>0</td>\n",
              "      <td>0</td>\n",
              "      <td>0</td>\n",
              "      <td>0</td>\n",
              "      <td>0</td>\n",
              "      <td>0</td>\n",
              "      <td>0</td>\n",
              "      <td>0</td>\n",
              "    </tr>\n",
              "    <tr>\n",
              "      <th>4</th>\n",
              "      <td>0</td>\n",
              "      <td>0</td>\n",
              "      <td>0</td>\n",
              "      <td>0</td>\n",
              "      <td>8</td>\n",
              "      <td>0</td>\n",
              "      <td>0</td>\n",
              "      <td>0</td>\n",
              "      <td>0</td>\n",
              "      <td>0</td>\n",
              "      <td>...</td>\n",
              "      <td>0</td>\n",
              "      <td>0</td>\n",
              "      <td>0</td>\n",
              "      <td>0</td>\n",
              "      <td>0</td>\n",
              "      <td>0</td>\n",
              "      <td>0</td>\n",
              "      <td>0</td>\n",
              "      <td>0</td>\n",
              "      <td>0</td>\n",
              "    </tr>\n",
              "    <tr>\n",
              "      <th>...</th>\n",
              "      <td>...</td>\n",
              "      <td>...</td>\n",
              "      <td>...</td>\n",
              "      <td>...</td>\n",
              "      <td>...</td>\n",
              "      <td>...</td>\n",
              "      <td>...</td>\n",
              "      <td>...</td>\n",
              "      <td>...</td>\n",
              "      <td>...</td>\n",
              "      <td>...</td>\n",
              "      <td>...</td>\n",
              "      <td>...</td>\n",
              "      <td>...</td>\n",
              "      <td>...</td>\n",
              "      <td>...</td>\n",
              "      <td>...</td>\n",
              "      <td>...</td>\n",
              "      <td>...</td>\n",
              "      <td>...</td>\n",
              "      <td>...</td>\n",
              "    </tr>\n",
              "    <tr>\n",
              "      <th>97</th>\n",
              "      <td>0</td>\n",
              "      <td>0</td>\n",
              "      <td>0</td>\n",
              "      <td>0</td>\n",
              "      <td>0</td>\n",
              "      <td>0</td>\n",
              "      <td>0</td>\n",
              "      <td>0</td>\n",
              "      <td>0</td>\n",
              "      <td>0</td>\n",
              "      <td>...</td>\n",
              "      <td>0</td>\n",
              "      <td>0</td>\n",
              "      <td>0</td>\n",
              "      <td>0</td>\n",
              "      <td>0</td>\n",
              "      <td>9</td>\n",
              "      <td>0</td>\n",
              "      <td>0</td>\n",
              "      <td>0</td>\n",
              "      <td>0</td>\n",
              "    </tr>\n",
              "    <tr>\n",
              "      <th>98</th>\n",
              "      <td>0</td>\n",
              "      <td>0</td>\n",
              "      <td>0</td>\n",
              "      <td>0</td>\n",
              "      <td>0</td>\n",
              "      <td>0</td>\n",
              "      <td>0</td>\n",
              "      <td>0</td>\n",
              "      <td>0</td>\n",
              "      <td>0</td>\n",
              "      <td>...</td>\n",
              "      <td>0</td>\n",
              "      <td>0</td>\n",
              "      <td>0</td>\n",
              "      <td>0</td>\n",
              "      <td>0</td>\n",
              "      <td>0</td>\n",
              "      <td>4</td>\n",
              "      <td>0</td>\n",
              "      <td>0</td>\n",
              "      <td>0</td>\n",
              "    </tr>\n",
              "    <tr>\n",
              "      <th>99</th>\n",
              "      <td>0</td>\n",
              "      <td>0</td>\n",
              "      <td>0</td>\n",
              "      <td>0</td>\n",
              "      <td>0</td>\n",
              "      <td>0</td>\n",
              "      <td>0</td>\n",
              "      <td>0</td>\n",
              "      <td>0</td>\n",
              "      <td>0</td>\n",
              "      <td>...</td>\n",
              "      <td>0</td>\n",
              "      <td>0</td>\n",
              "      <td>1</td>\n",
              "      <td>0</td>\n",
              "      <td>0</td>\n",
              "      <td>0</td>\n",
              "      <td>0</td>\n",
              "      <td>24</td>\n",
              "      <td>0</td>\n",
              "      <td>1</td>\n",
              "    </tr>\n",
              "    <tr>\n",
              "      <th>100</th>\n",
              "      <td>0</td>\n",
              "      <td>0</td>\n",
              "      <td>0</td>\n",
              "      <td>0</td>\n",
              "      <td>0</td>\n",
              "      <td>0</td>\n",
              "      <td>0</td>\n",
              "      <td>0</td>\n",
              "      <td>0</td>\n",
              "      <td>0</td>\n",
              "      <td>...</td>\n",
              "      <td>0</td>\n",
              "      <td>0</td>\n",
              "      <td>0</td>\n",
              "      <td>0</td>\n",
              "      <td>0</td>\n",
              "      <td>0</td>\n",
              "      <td>0</td>\n",
              "      <td>0</td>\n",
              "      <td>16</td>\n",
              "      <td>0</td>\n",
              "    </tr>\n",
              "    <tr>\n",
              "      <th>101</th>\n",
              "      <td>0</td>\n",
              "      <td>0</td>\n",
              "      <td>0</td>\n",
              "      <td>0</td>\n",
              "      <td>0</td>\n",
              "      <td>0</td>\n",
              "      <td>0</td>\n",
              "      <td>0</td>\n",
              "      <td>0</td>\n",
              "      <td>0</td>\n",
              "      <td>...</td>\n",
              "      <td>0</td>\n",
              "      <td>0</td>\n",
              "      <td>0</td>\n",
              "      <td>0</td>\n",
              "      <td>0</td>\n",
              "      <td>0</td>\n",
              "      <td>0</td>\n",
              "      <td>0</td>\n",
              "      <td>0</td>\n",
              "      <td>5</td>\n",
              "    </tr>\n",
              "  </tbody>\n",
              "</table>\n",
              "<p>102 rows × 102 columns</p>\n",
              "</div>\n",
              "      <button class=\"colab-df-convert\" onclick=\"convertToInteractive('df-66b7e719-95c5-4b63-8cad-800b18013362')\"\n",
              "              title=\"Convert this dataframe to an interactive table.\"\n",
              "              style=\"display:none;\">\n",
              "        \n",
              "  <svg xmlns=\"http://www.w3.org/2000/svg\" height=\"24px\"viewBox=\"0 0 24 24\"\n",
              "       width=\"24px\">\n",
              "    <path d=\"M0 0h24v24H0V0z\" fill=\"none\"/>\n",
              "    <path d=\"M18.56 5.44l.94 2.06.94-2.06 2.06-.94-2.06-.94-.94-2.06-.94 2.06-2.06.94zm-11 1L8.5 8.5l.94-2.06 2.06-.94-2.06-.94L8.5 2.5l-.94 2.06-2.06.94zm10 10l.94 2.06.94-2.06 2.06-.94-2.06-.94-.94-2.06-.94 2.06-2.06.94z\"/><path d=\"M17.41 7.96l-1.37-1.37c-.4-.4-.92-.59-1.43-.59-.52 0-1.04.2-1.43.59L10.3 9.45l-7.72 7.72c-.78.78-.78 2.05 0 2.83L4 21.41c.39.39.9.59 1.41.59.51 0 1.02-.2 1.41-.59l7.78-7.78 2.81-2.81c.8-.78.8-2.07 0-2.86zM5.41 20L4 18.59l7.72-7.72 1.47 1.35L5.41 20z\"/>\n",
              "  </svg>\n",
              "      </button>\n",
              "      \n",
              "  <style>\n",
              "    .colab-df-container {\n",
              "      display:flex;\n",
              "      flex-wrap:wrap;\n",
              "      gap: 12px;\n",
              "    }\n",
              "\n",
              "    .colab-df-convert {\n",
              "      background-color: #E8F0FE;\n",
              "      border: none;\n",
              "      border-radius: 50%;\n",
              "      cursor: pointer;\n",
              "      display: none;\n",
              "      fill: #1967D2;\n",
              "      height: 32px;\n",
              "      padding: 0 0 0 0;\n",
              "      width: 32px;\n",
              "    }\n",
              "\n",
              "    .colab-df-convert:hover {\n",
              "      background-color: #E2EBFA;\n",
              "      box-shadow: 0px 1px 2px rgba(60, 64, 67, 0.3), 0px 1px 3px 1px rgba(60, 64, 67, 0.15);\n",
              "      fill: #174EA6;\n",
              "    }\n",
              "\n",
              "    [theme=dark] .colab-df-convert {\n",
              "      background-color: #3B4455;\n",
              "      fill: #D2E3FC;\n",
              "    }\n",
              "\n",
              "    [theme=dark] .colab-df-convert:hover {\n",
              "      background-color: #434B5C;\n",
              "      box-shadow: 0px 1px 3px 1px rgba(0, 0, 0, 0.15);\n",
              "      filter: drop-shadow(0px 1px 2px rgba(0, 0, 0, 0.3));\n",
              "      fill: #FFFFFF;\n",
              "    }\n",
              "  </style>\n",
              "\n",
              "      <script>\n",
              "        const buttonEl =\n",
              "          document.querySelector('#df-66b7e719-95c5-4b63-8cad-800b18013362 button.colab-df-convert');\n",
              "        buttonEl.style.display =\n",
              "          google.colab.kernel.accessAllowed ? 'block' : 'none';\n",
              "\n",
              "        async function convertToInteractive(key) {\n",
              "          const element = document.querySelector('#df-66b7e719-95c5-4b63-8cad-800b18013362');\n",
              "          const dataTable =\n",
              "            await google.colab.kernel.invokeFunction('convertToInteractive',\n",
              "                                                     [key], {});\n",
              "          if (!dataTable) return;\n",
              "\n",
              "          const docLinkHtml = 'Like what you see? Visit the ' +\n",
              "            '<a target=\"_blank\" href=https://colab.research.google.com/notebooks/data_table.ipynb>data table notebook</a>'\n",
              "            + ' to learn more about interactive tables.';\n",
              "          element.innerHTML = '';\n",
              "          dataTable['output_type'] = 'display_data';\n",
              "          await google.colab.output.renderOutput(dataTable, element);\n",
              "          const docLink = document.createElement('div');\n",
              "          docLink.innerHTML = docLinkHtml;\n",
              "          element.appendChild(docLink);\n",
              "        }\n",
              "      </script>\n",
              "    </div>\n",
              "  </div>\n",
              "  "
            ],
            "text/plain": [
              "     0    1    2    3    4    5    6    7    8    9    ...  92   93   94   \\\n",
              "0     10    0    0    0    0    0    0    0    0    0  ...    0    0    0   \n",
              "1      0   10    0    0    0    0    0    0    0    0  ...    0    0    0   \n",
              "2      0    0   25    0    0    0    0    0    0    0  ...    0    0    0   \n",
              "3      0    0    0   11    0    1    0    0    0    0  ...    0    0    0   \n",
              "4      0    0    0    0    8    0    0    0    0    0  ...    0    0    0   \n",
              "..   ...  ...  ...  ...  ...  ...  ...  ...  ...  ...  ...  ...  ...  ...   \n",
              "97     0    0    0    0    0    0    0    0    0    0  ...    0    0    0   \n",
              "98     0    0    0    0    0    0    0    0    0    0  ...    0    0    0   \n",
              "99     0    0    0    0    0    0    0    0    0    0  ...    0    0    1   \n",
              "100    0    0    0    0    0    0    0    0    0    0  ...    0    0    0   \n",
              "101    0    0    0    0    0    0    0    0    0    0  ...    0    0    0   \n",
              "\n",
              "     95   96   97   98   99   100  101  \n",
              "0      0    0    0    0    0    0    0  \n",
              "1      0    0    0    0    0    0    0  \n",
              "2      0    0    0    0    0    0    0  \n",
              "3      0    0    0    0    0    0    0  \n",
              "4      0    0    0    0    0    0    0  \n",
              "..   ...  ...  ...  ...  ...  ...  ...  \n",
              "97     0    0    9    0    0    0    0  \n",
              "98     0    0    0    4    0    0    0  \n",
              "99     0    0    0    0   24    0    1  \n",
              "100    0    0    0    0    0   16    0  \n",
              "101    0    0    0    0    0    0    5  \n",
              "\n",
              "[102 rows x 102 columns]"
            ]
          },
          "execution_count": 34,
          "metadata": {},
          "output_type": "execute_result"
        }
      ],
      "source": [
        "cm_df"
      ]
    },
    {
      "cell_type": "code",
      "execution_count": null,
      "metadata": {
        "colab": {
          "base_uri": "https://localhost:8080/",
          "height": 488
        },
        "id": "08K7y-sLB1Bn",
        "outputId": "e0b073ca-65d2-4bf9-cd88-c66ca6477ba2"
      },
      "outputs": [
        {
          "data": {
            "application/vnd.google.colaboratory.intrinsic+json": {
              "type": "string"
            },
            "text/plain": [
              "'              precision    recall  f1-score   support\\n\\n         A#d       0.59      1.00      0.74        10\\n        A#d7       1.00      1.00      1.00        10\\n         A_M       0.74      0.83      0.78        30\\n        A_M4       0.92      0.92      0.92        12\\n        A_M6       1.00      1.00      1.00         8\\n        A_M7       0.80      0.40      0.53        10\\n         A_d       0.93      1.00      0.97        14\\n         A_m       0.76      0.58      0.66        33\\n        A_m4       0.93      1.00      0.97        14\\n        A_m6       1.00      0.50      0.67         8\\n        A_m7       0.79      0.92      0.85        12\\n         AbM       0.91      1.00      0.95        10\\n         Abd       0.59      1.00      0.74        13\\n         Abm       0.86      1.00      0.92        12\\n         B_M       0.88      0.93      0.90        30\\n        B_M4       0.64      1.00      0.78         7\\n        B_M7       1.00      0.31      0.47        13\\n         B_d       0.85      0.73      0.79        15\\n        B_d7       0.88      0.64      0.74        11\\n         B_m       0.77      0.74      0.75        27\\n        B_m6       1.00      1.00      1.00        13\\n        B_m7       0.90      0.82      0.86        11\\n         BbM       0.91      0.83      0.87        24\\n        BbM7       1.00      1.00      1.00        13\\n         Bbd       0.92      1.00      0.96        12\\n         Bbm       1.00      1.00      1.00         9\\n        Bbm6       1.00      1.00      1.00        12\\n         C#M       0.45      0.71      0.56         7\\n        C#M4       1.00      1.00      1.00        12\\n        C#M7       0.64      1.00      0.78         9\\n         C#d       0.88      0.70      0.78        10\\n        C#d6       0.47      1.00      0.64         9\\n        C#d7       0.67      0.38      0.48        16\\n         C#m       0.89      0.80      0.84        10\\n        C#m7       1.00      0.71      0.83        14\\n         C_M       0.82      0.79      0.81        34\\n        C_M4       0.93      0.93      0.93        15\\n        C_M6       0.85      1.00      0.92        11\\n        C_M7       0.75      0.82      0.78        11\\n        C_d6       0.67      0.33      0.44         6\\n        C_d7       0.85      1.00      0.92        17\\n         C_m       0.60      0.71      0.65        17\\n        C_m6       1.00      0.80      0.89        10\\n        C_m7       0.90      0.75      0.82        12\\n         D#M       0.55      0.43      0.48        14\\n         D#d       0.83      1.00      0.91        10\\n        D#d6       1.00      1.00      1.00        10\\n        D#d7       0.91      1.00      0.95        10\\n         D#m       0.27      0.38      0.32         8\\n         D_M       0.76      0.95      0.84        20\\n        D_M4       0.79      1.00      0.88        11\\n        D_M6       0.94      1.00      0.97        16\\n        D_M7       0.73      0.47      0.57        17\\n        D_d7       0.82      0.75      0.78        12\\n         D_m       0.95      0.70      0.81        27\\n        D_m6       0.61      1.00      0.76        11\\n        D_m7       0.78      0.70      0.74        10\\n         DbM       1.00      0.69      0.82        13\\n        DbM7       0.91      1.00      0.95        10\\n         Dbd       0.88      1.00      0.93         7\\n        Dbd7       0.38      0.38      0.38         8\\n         Dbm       0.88      0.54      0.67        13\\n        Dbm7       0.88      1.00      0.93         7\\n         E_M       0.63      0.96      0.76        23\\n        E_M4       0.70      0.94      0.80        17\\n        E_M7       0.78      0.64      0.70        11\\n         E_d       0.83      0.83      0.83         6\\n         E_m       0.83      0.71      0.77        28\\n        E_m6       0.55      0.60      0.57        10\\n        E_m7       0.70      0.70      0.70        10\\n         EbM       0.93      0.74      0.83        35\\n        EbM7       0.92      1.00      0.96        12\\n         Ebd       1.00      1.00      1.00        15\\n         F#M       0.84      0.84      0.84        19\\n        F#M4       0.93      1.00      0.97        14\\n        F#M7       0.71      0.56      0.63         9\\n         F#d       0.67      1.00      0.80        10\\n        F#d7       0.58      1.00      0.74         7\\n         F#m       0.80      0.65      0.71        31\\n        F#m6       1.00      0.89      0.94         9\\n        F#m7       0.75      0.69      0.72        13\\n         F_M       0.86      0.75      0.80        24\\n        F_M4       1.00      1.00      1.00         9\\n        F_M6       0.85      1.00      0.92        11\\n        F_M7       0.45      0.56      0.50         9\\n         F_d       1.00      1.00      1.00         8\\n        F_d7       1.00      1.00      1.00        11\\n         F_m       0.75      0.43      0.55         7\\n        F_m6       1.00      1.00      1.00        10\\n        F_m7       0.75      0.83      0.79        18\\n         G#M       1.00      1.00      1.00        19\\n         G#d       1.00      0.23      0.38        13\\n        G#d7       0.94      1.00      0.97        15\\n         G#m       0.88      0.78      0.82         9\\n         G_M       0.89      0.81      0.85        31\\n        G_M4       0.93      1.00      0.97        14\\n        G_M6       0.92      1.00      0.96        11\\n        G_M7       0.75      0.82      0.78        11\\n         G_d       1.00      1.00      1.00         4\\n         G_m       0.96      0.77      0.86        31\\n        G_m6       0.76      1.00      0.86        16\\n        G_m7       0.71      0.71      0.71         7\\n\\n    accuracy                           0.82      1414\\n   macro avg       0.83      0.82      0.81      1414\\nweighted avg       0.83      0.82      0.81      1414\\n'"
            ]
          },
          "execution_count": 36,
          "metadata": {},
          "output_type": "execute_result"
        }
      ],
      "source": [
        "classification_report(y_test_under, Y_test_prediction_knn)"
      ]
    },
    {
      "cell_type": "code",
      "execution_count": null,
      "metadata": {
        "colab": {
          "base_uri": "https://localhost:8080/"
        },
        "id": "JHOpwQ1ZBTWl",
        "outputId": "9b330408-d6f5-41e6-ae08-4d922279ad73"
      },
      "outputs": [
        {
          "data": {
            "text/plain": [
              "0.8161244695898161"
            ]
          },
          "execution_count": 35,
          "metadata": {},
          "output_type": "execute_result"
        }
      ],
      "source": [
        "knn_clsf.score(X_test_under, y_test_under)"
      ]
    },
    {
      "cell_type": "markdown",
      "source": [
        "# Resultados para boxplot"
      ],
      "metadata": {
        "id": "AVxwaCqVgOqI"
      }
    },
    {
      "cell_type": "code",
      "source": [
        "x = [[0.81081081, 0.80945946, 0.80540541, 0.80540541, 0.82027027, 0.80784844,\n",
        "      0.81461434, 0.79431664, 0.79296346, 0.78890392],\n",
        "     [0.79459459, 0.80405405, 0.76486486, 0.77432432, 0.80135135, 0.77401894,\n",
        "      0.79566982, 0.77537212, 0.77943166, 0.76454668],\n",
        "     [0.78108108, 0.78648649, 0.79054054, 0.76486486, 0.78108108, 0.78484438,\n",
        "      0.77131258, 0.76860622, 0.7564276,  0.74966171],\n",
        "     [0.75135135, 0.76216216, 0.76216216, 0.74189189, 0.77702703, 0.74560217,\n",
        "      0.74424899, 0.74289581, 0.73612991, 0.71041949],\n",
        "     [0.81216216, 0.8, 0.78783784, 0.77567568, 0.79459459, 0.78619756,\n",
        "      0.81326116, 0.79161028, 0.79161028, 0.76589986],\n",
        "     [0.82162162, 0.81216216, 0.80135135, 0.80675676, 0.81216216, 0.80649526,\n",
        "      0.80108254, 0.79837618, 0.80108254, 0.78619756],\n",
        "     [0.73108108, 0.75, 0.73648649, 0.70945946, 0.72837838, 0.71718539,\n",
        "      0.70365359, 0.71041949, 0.72395129, 0.68335589],\n",
        "     [0.81351351, 0.80810811, 0.79864865, 0.79459459, 0.81891892, 0.797023,\n",
        "      0.8173207,  0.8037889,  0.78619756, 0.78213802,]\n",
        "     ]\n",
        "     \n",
        "plt.boxplot(x)\n",
        "     "
      ],
      "metadata": {
        "colab": {
          "base_uri": "https://localhost:8080/",
          "height": 1000
        },
        "id": "D-O5BjMCgN3a",
        "outputId": "7c28e18c-95b1-464d-c0ec-c539c5566b76"
      },
      "execution_count": null,
      "outputs": [
        {
          "output_type": "execute_result",
          "data": {
            "text/plain": [
              "{'boxes': [<matplotlib.lines.Line2D at 0x7f80250d6f90>,\n",
              "  <matplotlib.lines.Line2D at 0x7f80234d9c90>,\n",
              "  <matplotlib.lines.Line2D at 0x7f802c87ee90>,\n",
              "  <matplotlib.lines.Line2D at 0x7f802c6e74d0>,\n",
              "  <matplotlib.lines.Line2D at 0x7f802c5b6ed0>,\n",
              "  <matplotlib.lines.Line2D at 0x7f802c5d92d0>,\n",
              "  <matplotlib.lines.Line2D at 0x7f802c4a3a50>,\n",
              "  <matplotlib.lines.Line2D at 0x7f802c4af090>],\n",
              " 'caps': [<matplotlib.lines.Line2D at 0x7f802501a890>,\n",
              "  <matplotlib.lines.Line2D at 0x7f80234b7690>,\n",
              "  <matplotlib.lines.Line2D at 0x7f80285488d0>,\n",
              "  <matplotlib.lines.Line2D at 0x7f8028625910>,\n",
              "  <matplotlib.lines.Line2D at 0x7f802c748310>,\n",
              "  <matplotlib.lines.Line2D at 0x7f802c673410>,\n",
              "  <matplotlib.lines.Line2D at 0x7f802c6a52d0>,\n",
              "  <matplotlib.lines.Line2D at 0x7f802c6a5c90>,\n",
              "  <matplotlib.lines.Line2D at 0x7f802c66ce50>,\n",
              "  <matplotlib.lines.Line2D at 0x7f802c66ca10>,\n",
              "  <matplotlib.lines.Line2D at 0x7f802c4f9350>,\n",
              "  <matplotlib.lines.Line2D at 0x7f802c4f9850>,\n",
              "  <matplotlib.lines.Line2D at 0x7f802c4e8890>,\n",
              "  <matplotlib.lines.Line2D at 0x7f802c4e8e90>,\n",
              "  <matplotlib.lines.Line2D at 0x7f802c462050>,\n",
              "  <matplotlib.lines.Line2D at 0x7f802c449610>],\n",
              " 'fliers': [<matplotlib.lines.Line2D at 0x7f80234d9410>,\n",
              "  <matplotlib.lines.Line2D at 0x7f802c87ea90>,\n",
              "  <matplotlib.lines.Line2D at 0x7f802c673a50>,\n",
              "  <matplotlib.lines.Line2D at 0x7f802c5b6050>,\n",
              "  <matplotlib.lines.Line2D at 0x7f802c5d9bd0>,\n",
              "  <matplotlib.lines.Line2D at 0x7f802c4a31d0>,\n",
              "  <matplotlib.lines.Line2D at 0x7f802c4af350>,\n",
              "  <matplotlib.lines.Line2D at 0x7f802c449650>],\n",
              " 'means': [],\n",
              " 'medians': [<matplotlib.lines.Line2D at 0x7f80234d32d0>,\n",
              "  <matplotlib.lines.Line2D at 0x7f802c87e610>,\n",
              "  <matplotlib.lines.Line2D at 0x7f802c673bd0>,\n",
              "  <matplotlib.lines.Line2D at 0x7f802c6a5750>,\n",
              "  <matplotlib.lines.Line2D at 0x7f802c5d96d0>,\n",
              "  <matplotlib.lines.Line2D at 0x7f802c4f9b50>,\n",
              "  <matplotlib.lines.Line2D at 0x7f802c4af190>,\n",
              "  <matplotlib.lines.Line2D at 0x7f802c449790>],\n",
              " 'whiskers': [<matplotlib.lines.Line2D at 0x7f80234c5890>,\n",
              "  <matplotlib.lines.Line2D at 0x7f80234bd690>,\n",
              "  <matplotlib.lines.Line2D at 0x7f802349eb10>,\n",
              "  <matplotlib.lines.Line2D at 0x7f8028589dd0>,\n",
              "  <matplotlib.lines.Line2D at 0x7f802c748450>,\n",
              "  <matplotlib.lines.Line2D at 0x7f802c748250>,\n",
              "  <matplotlib.lines.Line2D at 0x7f802c6e7c50>,\n",
              "  <matplotlib.lines.Line2D at 0x7f802c6e7e10>,\n",
              "  <matplotlib.lines.Line2D at 0x7f802c5b67d0>,\n",
              "  <matplotlib.lines.Line2D at 0x7f802c66c950>,\n",
              "  <matplotlib.lines.Line2D at 0x7f802c51f810>,\n",
              "  <matplotlib.lines.Line2D at 0x7f802c51f450>,\n",
              "  <matplotlib.lines.Line2D at 0x7f802c4a3f50>,\n",
              "  <matplotlib.lines.Line2D at 0x7f802c4e80d0>,\n",
              "  <matplotlib.lines.Line2D at 0x7f802c4626d0>,\n",
              "  <matplotlib.lines.Line2D at 0x7f802c462590>]}"
            ]
          },
          "metadata": {},
          "execution_count": 70
        },
        {
          "output_type": "display_data",
          "data": {
            "text/plain": [
              "<Figure size 432x288 with 1 Axes>"
            ],
            "image/png": "[encoded data removed]"
          },
          "metadata": {
            "needs_background": "light"
          }
        }
      ]
    }
  ],
  "metadata": {
    "colab": {
      "collapsed_sections": [
        "VizHaXTsxMoo",
        "7hkctOr6whmw",
        "Sb2F-7sXCNTf"
      ],
      "name": "pf-leandro_dsq_imx_pves.ipynb",
      "provenance": [],
      "machine_shape": "hm"
    },
    "kernelspec": {
      "display_name": "Python 3",
      "name": "python3"
    },
    "language_info": {
      "name": "python"
    },
    "gpuClass": "standard"
  },
  "nbformat": 4,
  "nbformat_minor": 0
}