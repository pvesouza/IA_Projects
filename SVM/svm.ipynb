{
 "cells": [
  {
   "cell_type": "code",
   "execution_count": 5,
   "metadata": {},
   "outputs": [],
   "source": [
    "import pandas as pd\n",
    "from matplotlib import pyplot as plt\n",
    "from sklearn.model_selection import train_test_split\n",
    "from sklearn.svm import SVC\n",
    "from sklearn.model_selection import cross_val_score\n",
    "from sklearn.preprocessing import LabelEncoder\n",
    "from sklearn.preprocessing import OneHotEncoder"
   ]
  },
  {
   "cell_type": "code",
   "execution_count": 9,
   "metadata": {},
   "outputs": [
    {
     "name": "stdout",
     "output_type": "stream",
     "text": [
      "<class 'pandas.core.frame.DataFrame'>\n",
      "RangeIndex: 45211 entries, 0 to 45210\n",
      "Data columns (total 15 columns):\n",
      " #   Column     Non-Null Count  Dtype \n",
      "---  ------     --------------  ----- \n",
      " 0   age        45211 non-null  int64 \n",
      " 1   job        45211 non-null  object\n",
      " 2   marital    45211 non-null  object\n",
      " 3   education  45211 non-null  object\n",
      " 4   default    45211 non-null  object\n",
      " 5   balance    45211 non-null  int64 \n",
      " 6   housing    45211 non-null  object\n",
      " 7   loan       45211 non-null  object\n",
      " 8   contact    45211 non-null  object\n",
      " 9   day        45211 non-null  int64 \n",
      " 10  month      45211 non-null  object\n",
      " 11  campaign   45211 non-null  int64 \n",
      " 12  pdays      45211 non-null  int64 \n",
      " 13  previous   45211 non-null  int64 \n",
      " 14  poutcome   45211 non-null  object\n",
      "dtypes: int64(6), object(9)\n",
      "memory usage: 5.2+ MB\n",
      "None\n"
     ]
    },
    {
     "data": {
      "text/plain": [
       "<BarContainer object of 12 artists>"
      ]
     },
     "execution_count": 9,
     "metadata": {},
     "output_type": "execute_result"
    },
    {
     "data": {
      "image/png": "[encoded data removed]",
      "text/plain": [
       "<Figure size 432x288 with 1 Axes>"
      ]
     },
     "metadata": {
      "needs_background": "light"
     },
     "output_type": "display_data"
    }
   ],
   "source": [
    "#Fazendo o carregamento dos dados diretamente do UCI Machine Learning  \n",
    "      \n",
    "dataset = pd.read_csv('C:\\\\Users\\\\pveso\\\\Documents\\\\IA\\\\IA_Projects\\\\SVM\\\\bank-full.csv', ';')\n",
    "#Copy of the dataset to to manipulate it \n",
    "dataset_cpy = dataset.copy()\n",
    "#saving the labels\n",
    "labels = dataset_cpy.loc[:, \"y\"]\n",
    "#drops the duration table\n",
    "dataset_cpy = dataset_cpy.drop(['duration', 'y'], axis=1)\n",
    "print(dataset_cpy.info())\n",
    "#Plotagem dos dados categoricos da feature job para visualização\n",
    "plt.bar(dataset_cpy.job.value_counts().index, dataset_cpy.job.value_counts().values)"
   ]
  },
  {
   "cell_type": "code",
   "execution_count": 10,
   "metadata": {},
   "outputs": [
    {
     "name": "stdout",
     "output_type": "stream",
     "text": [
      "   age  job  marital  education  default  balance  housing  loan  contact  \\\n",
      "0   58    4        1          2        0     2143        1     0        2   \n",
      "1   44    9        2          1        0       29        1     0        2   \n",
      "2   33    2        1          1        0        2        1     1        2   \n",
      "3   47    1        1          3        0     1506        1     0        2   \n",
      "4   33   11        2          3        0        1        0     0        2   \n",
      "5   35    4        1          2        0      231        1     0        2   \n",
      "6   28    4        2          2        0      447        1     1        2   \n",
      "7   42    2        0          2        1        2        1     0        2   \n",
      "8   58    5        1          0        0      121        1     0        2   \n",
      "9   43    9        2          1        0      593        1     0        2   \n",
      "\n",
      "   day  month  campaign  pdays  previous  poutcome  \n",
      "0    5      8         1     -1         0         3  \n",
      "1    5      8         1     -1         0         3  \n",
      "2    5      8         1     -1         0         3  \n",
      "3    5      8         1     -1         0         3  \n",
      "4    5      8         1     -1         0         3  \n",
      "5    5      8         1     -1         0         3  \n",
      "6    5      8         1     -1         0         3  \n",
      "7    5      8         1     -1         0         3  \n",
      "8    5      8         1     -1         0         3  \n",
      "9    5      8         1     -1         0         3  \n",
      "        age       job  marital  education  default   balance  housing  loan  \\\n",
      "0  0.519481  0.363636      0.5   0.666667      0.0  0.092259      1.0   0.0   \n",
      "1  0.337662  0.818182      1.0   0.333333      0.0  0.073067      1.0   0.0   \n",
      "2  0.194805  0.181818      0.5   0.333333      0.0  0.072822      1.0   1.0   \n",
      "3  0.376623  0.090909      0.5   1.000000      0.0  0.086476      1.0   0.0   \n",
      "4  0.194805  1.000000      1.0   1.000000      0.0  0.072812      0.0   0.0   \n",
      "5  0.220779  0.363636      0.5   0.666667      0.0  0.074901      1.0   0.0   \n",
      "6  0.129870  0.363636      1.0   0.666667      0.0  0.076862      1.0   1.0   \n",
      "7  0.311688  0.181818      0.0   0.666667      1.0  0.072822      1.0   0.0   \n",
      "8  0.519481  0.454545      0.5   0.000000      0.0  0.073902      1.0   0.0   \n",
      "9  0.324675  0.818182      1.0   0.333333      0.0  0.078187      1.0   0.0   \n",
      "\n",
      "   contact       day     month  campaign  pdays  previous  poutcome  \n",
      "0      1.0  0.133333  0.727273       0.0    0.0       0.0       1.0  \n",
      "1      1.0  0.133333  0.727273       0.0    0.0       0.0       1.0  \n",
      "2      1.0  0.133333  0.727273       0.0    0.0       0.0       1.0  \n",
      "3      1.0  0.133333  0.727273       0.0    0.0       0.0       1.0  \n",
      "4      1.0  0.133333  0.727273       0.0    0.0       0.0       1.0  \n",
      "5      1.0  0.133333  0.727273       0.0    0.0       0.0       1.0  \n",
      "6      1.0  0.133333  0.727273       0.0    0.0       0.0       1.0  \n",
      "7      1.0  0.133333  0.727273       0.0    0.0       0.0       1.0  \n",
      "8      1.0  0.133333  0.727273       0.0    0.0       0.0       1.0  \n",
      "9      1.0  0.133333  0.727273       0.0    0.0       0.0       1.0  \n"
     ]
    }
   ],
   "source": [
    "#label encoder para transformar variáveis categóricas em números\n",
    "labelEncoder = LabelEncoder()\n",
    "\n",
    "label_job = labelEncoder.fit_transform(dataset_cpy.job)\n",
    "label_marital = labelEncoder.fit_transform(dataset_cpy.marital)\n",
    "label_education = labelEncoder.fit_transform(dataset_cpy.education)\n",
    "label_default = labelEncoder.fit_transform(dataset_cpy.default)\n",
    "label_housing = labelEncoder.fit_transform(dataset_cpy.housing)\n",
    "label_loan = labelEncoder.fit_transform(dataset_cpy.loan)\n",
    "label_contact = labelEncoder.fit_transform(dataset_cpy.contact)\n",
    "label_month = labelEncoder.fit_transform(dataset_cpy.month)\n",
    "label_poutcome = labelEncoder.fit_transform(dataset_cpy.poutcome)\n",
    "#label_day_of_week = labelEncoder.fit_transform(dataset_cpy.day_of_week)\n",
    "\n",
    "labels_1 = labelEncoder.fit_transform(labels)\n",
    "\n",
    "dataset_cpy['job'] = label_job\n",
    "dataset_cpy['marital'] = label_marital\n",
    "dataset_cpy['education'] = label_education\n",
    "dataset_cpy['default'] = label_default\n",
    "dataset_cpy['housing'] = label_housing\n",
    "dataset_cpy['loan'] = label_loan\n",
    "dataset_cpy['contact'] = label_contact\n",
    "dataset_cpy['month'] = label_month\n",
    "dataset_cpy['poutcome'] = label_poutcome\n",
    "#dataset_cpy['day_of_week'] = label_day_of_week\n",
    "\n",
    "\n",
    "#Iniciando a codificação dos dados utilizando a função dummies do pandas\n",
    "\n",
    "labelsJob = pd.get_dummies(dataset_cpy['job'], drop_first = True)\n",
    "pd.concat([dataset_cpy, labelsJob], axis=1)\n",
    "labelMarital = pd.get_dummies(dataset_cpy['marital'], drop_first = True)\n",
    "pd.concat([dataset_cpy, labelMarital], axis=1)\n",
    "labelEducation = pd.get_dummies(dataset_cpy['education'], drop_first = True)\n",
    "pd.concat([dataset_cpy, labelEducation], axis=1)\n",
    "labelDefault = pd.get_dummies(dataset_cpy['default'], drop_first = True)\n",
    "pd.concat([dataset_cpy, labelDefault], axis=1)\n",
    "labelHousing = pd.get_dummies(dataset_cpy['housing'], drop_first = True)\n",
    "pd.concat([dataset_cpy, labelHousing], axis=1)\n",
    "labelLoan = pd.get_dummies(dataset_cpy['loan'])\n",
    "pd.concat([dataset_cpy, labelLoan], axis=1)\n",
    "labelContact = pd.get_dummies(dataset_cpy['contact'], drop_first = True)\n",
    "pd.concat([dataset_cpy, labelContact], axis=1)\n",
    "labelMonth = pd.get_dummies(dataset_cpy['month'])\n",
    "pd.concat([dataset_cpy, labelMonth], axis=1)\n",
    "labelPoutcome = pd.get_dummies(dataset_cpy['poutcome'], drop_first = True)\n",
    "pd.concat([dataset_cpy, labelPoutcome], axis=1)\n",
    "#labelDayOfWeek = pd.get_dummies(dataset_cpy['day_of_week'], drop_first = True)\n",
    "#pd.concat([dataset_cpy, labelDayOfWeek], axis = 1)\n",
    "\n",
    "print(dataset_cpy.head(10))\n",
    "\n",
    "#Aplicando a normalização nos dados\n",
    "for col in dataset_cpy.columns:\n",
    "   dataset_cpy[col] = (dataset_cpy[col] - dataset_cpy[col].min()) / (dataset_cpy[col].max() - dataset_cpy[col].min())\n",
    "\n",
    "print(dataset_cpy.head(10))\n"
   ]
  },
  {
   "cell_type": "code",
   "execution_count": 11,
   "metadata": {},
   "outputs": [],
   "source": [
    "#Realizando a divisão dos dados\n",
    "X = dataset_cpy.values\n",
    "Y = labels_1\n",
    "\n",
    "#Separação dos dados em treinamento e validação\n",
    "X_train, X_valid, Y_train, Y_valid = train_test_split(X, Y, test_size=0.25, random_state=10)\n",
    "\n",
    "clf = SVC()\n",
    "\n",
    "clf.fit(X_train, Y_train)\n",
    "\n",
    "kernels_range = ['linear', 'poly', 'rbf', 'sigmoid']\n",
    "c_range = range(1,5) #0.001\n",
    "k_scores_train = []\n",
    "k_scores_valid = []\n",
    "\n",
    "# use iteration to caclulator different kernels in models, then return the average accuracy based on the cross validation\n",
    "\n",
    "for k in range(4):\n",
    "    for j in c_range:\n",
    "      svc = SVC(C=j, random_state=10, kernel=kernels_range[k])\n",
    "      scores = cross_val_score(svc, X_train, Y_train, cv=5, scoring='accuracy')\n",
    "      k_scores_train.append(scores.mean())\n",
    "      svc.fit(X_train, Y_train)\n",
    "      k_scores_valid.append(svc.score(X_valid, Y_valid))\n",
    "\n",
    "# plot to see clearly\n",
    "\n",
    "plt.plot(list(range(0,len(k_scores_train))), k_scores_train)\n",
    "plt.plot(list(range(0,len(k_scores_valid))), k_scores_valid)\n",
    "plt.legend(('Trainamento', 'Validacao'),\n",
    "           loc='upper center', shadow=True)\n",
    "plt.xlabel('Value of kernels for SVM')\n",
    "plt.ylabel('Cross-Validated Accuracy')\n",
    "plt.show()\n",
    "\n",
    "print(\"Acuracia de treinamento clf: %0.3f\" %  clf.score(X_train, Y_train))\n",
    "print(\"Acuracia de teste clf: %0.3f\" %  clf.score(X_valid, Y_valid))\n"
   ]
  }
 ],
 "metadata": {
  "interpreter": {
   "hash": "00de804c63dcff35ded7fdeeb048da6895184e278ab9043d00ccf43bc9e0bae7"
  },
  "kernelspec": {
   "display_name": "Python 3.8.8 ('base')",
   "language": "python",
   "name": "python3"
  },
  "language_info": {
   "codemirror_mode": {
    "name": "ipython",
    "version": 3
   },
   "file_extension": ".py",
   "mimetype": "text/x-python",
   "name": "python",
   "nbconvert_exporter": "python",
   "pygments_lexer": "ipython3",
   "version": "3.8.8"
  },
  "orig_nbformat": 4
 },
 "nbformat": 4,
 "nbformat_minor": 2
}
