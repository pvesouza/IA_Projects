{
  "nbformat": 4,
  "nbformat_minor": 0,
  "metadata": {
    "colab": {
      "name": "Bayes Classifier pf_francisco_q2.ipynb",
      "provenance": [],
      "collapsed_sections": []
    },
    "kernelspec": {
      "name": "python3",
      "display_name": "Python 3"
    },
    "language_info": {
      "name": "python"
    }
  },
  "cells": [
    {
      "cell_type": "code",
      "execution_count": null,
      "metadata": {
        "id": "X2nb7Kjw9aaw"
      },
      "outputs": [],
      "source": [
        "import pandas as pd\n",
        "from sklearn.naive_bayes import GaussianNB\n",
        "import numpy as np \n",
        "import matplotlib.pyplot as plt\n",
        "import math as mt\n",
        "import io "
      ]
    },
    {
      "cell_type": "markdown",
      "source": [
        "#Importando os datasets - Treinamento\n",
        "Os datasets estão na pasta info e são especificados como arquivos do tipo csv. Avila-tr - > training data set Avita-ts - > test dataset\n",
        "\n",
        "O primeiro objetivo é importar os dois datasets e dropar a coluna de labels"
      ],
      "metadata": {
        "id": "12O3DhRm92zx"
      }
    },
    {
      "cell_type": "code",
      "source": [
        "!wget -q https://raw.githubusercontent.com/pvesouza/datasets/main/avila-tr.csv\n",
        "!wget -q https://raw.githubusercontent.com/pvesouza/datasets/main/avila-ts.csv"
      ],
      "metadata": {
        "id": "CD31ZAvTJbsb"
      },
      "execution_count": null,
      "outputs": []
    },
    {
      "cell_type": "code",
      "source": [
        "avilaDatasetTr = pd.read_csv('/content/avila-tr.csv')\n",
        "print(avilaDatasetTr.head(10))\n",
        "print(avilaDatasetTr.tail(10))\n",
        "avilaDatasetTr.columns"
      ],
      "metadata": {
        "colab": {
          "base_uri": "https://localhost:8080/"
        },
        "id": "fjRkszJO-kRX",
        "outputId": "105e1b20-d1d8-4370-c54d-95a16e3e48f0"
      },
      "execution_count": null,
      "outputs": [
        {
          "output_type": "stream",
          "name": "stdout",
          "text": [
            "         F1        F2        F3        F4        F5        F6        F7  \\\n",
            "0  0.266074 -0.165620  0.320980  0.483299  0.172340  0.273364  0.371178   \n",
            "1  0.130292  0.870736 -3.210528  0.062493  0.261718  1.436060  1.465940   \n",
            "2 -0.116585  0.069915  0.068476 -0.783147  0.261718  0.439463 -0.081827   \n",
            "3  0.031541  0.297600 -3.210528 -0.583590 -0.721442 -0.307984  0.710932   \n",
            "4  0.229043  0.807926 -0.052442  0.082634  0.261718  0.148790  0.635431   \n",
            "5  0.117948 -0.220579 -3.210528 -1.623238  0.261718 -0.349509  0.257927   \n",
            "6  0.389513 -0.220579 -3.210528 -2.624155  0.261718 -0.764757  0.484429   \n",
            "7  0.019197 -0.040001  0.288973 -0.042597  0.261718 -1.013906  0.069175   \n",
            "8  0.500607  0.140576  0.388552 -0.637358  0.261718 -0.681707  0.295677   \n",
            "9 -0.252367  0.069915  0.246296  0.523550  0.261718 -1.221530  0.899684   \n",
            "\n",
            "         F8        F9       F10 F11  \n",
            "0  0.929823  0.251173  0.159345   A  \n",
            "1  0.636203  0.282354  0.515587   A  \n",
            "2 -0.888236 -0.123005  0.582939   A  \n",
            "3  1.051693  0.594169 -0.533994   A  \n",
            "4  0.051062  0.032902 -0.086652   F  \n",
            "5 -0.385979 -0.247731 -0.331310   A  \n",
            "6 -0.597510 -0.372457 -0.810261   A  \n",
            "7  0.890701  0.095265 -0.842014   F  \n",
            "8  0.931046  0.500624 -0.642297   H  \n",
            "9  1.373076  0.625350 -1.400890   E  \n",
            "             F1        F2        F3        F4        F5        F6        F7  \\\n",
            "10420 -0.005490  0.478177  0.029355 -0.247644  0.172340  0.605563  0.673182   \n",
            "10421  0.241386  0.234790  0.121822  1.037988  0.261718  0.647088  0.182426   \n",
            "10422 -0.277055 -0.251983 -3.203415  1.957926  0.261718  1.892833  0.635431   \n",
            "10423  4.969080 -0.385453  0.143160 -2.600732  0.976743 -0.764757 -0.232828   \n",
            "10424  0.216699  0.321153  0.128935  0.491087  0.261718  0.439463  0.069175   \n",
            "10425  0.080916  0.588093  0.015130  0.002250  0.261718 -0.557133  0.371178   \n",
            "10426  0.253730 -0.338346  0.352988 -1.154243  0.172340 -0.557133  0.257927   \n",
            "10427  0.229043 -0.000745  0.171611 -0.002793  0.261718  0.688613  0.295677   \n",
            "10428 -0.301743  0.352558  0.288973  1.638181  0.261718  0.688613  0.069175   \n",
            "10429 -0.104241 -1.037102  0.388552 -1.099311  0.172340 -0.307984  0.786433   \n",
            "\n",
            "             F8        F9       F10 F11  \n",
            "10420 -0.951919 -0.528364  0.286973   A  \n",
            "10421  0.684936  0.219991  0.628422   A  \n",
            "10422  1.898205  2.184424  1.427425   X  \n",
            "10423 -2.348488 -1.183175 -0.459372   I  \n",
            "10424  0.252846  0.188810  0.482857   A  \n",
            "10425  0.932346  0.282354 -0.580141   F  \n",
            "10426  0.348428  0.032902 -0.527134   F  \n",
            "10427 -1.088486 -0.590727  0.580142   A  \n",
            "10428  0.502761  0.625350  0.718969   E  \n",
            "10429 -1.337547  0.999528 -0.551063   X  \n"
          ]
        },
        {
          "output_type": "execute_result",
          "data": {
            "text/plain": [
              "Index(['F1', 'F2', 'F3', 'F4', 'F5', 'F6', 'F7', 'F8', 'F9', 'F10', 'F11'], dtype='object')"
            ]
          },
          "metadata": {},
          "execution_count": 4
        }
      ]
    },
    {
      "cell_type": "code",
      "source": [
        "avilaDatasetTs = pd.read_csv('/content/avila-ts.csv')\n",
        "print(avilaDatasetTs.head(5))\n",
        "print(avilaDatasetTs.shape)"
      ],
      "metadata": {
        "id": "xNa64Eus-uDC",
        "colab": {
          "base_uri": "https://localhost:8080/"
        },
        "outputId": "98a01ffb-7cd9-4c87-981d-a2e9a6c5c84a"
      },
      "execution_count": null,
      "outputs": [
        {
          "output_type": "stream",
          "name": "stdout",
          "text": [
            "         F1        F2        F3        F4        F5        F6        F7  \\\n",
            "0 -3.498799  0.250492  0.232070  1.224178 -4.922215  1.145386  0.182426   \n",
            "1  0.204355 -0.354049  0.320980  0.410166 -0.989576 -2.218127  0.220177   \n",
            "2  0.759828 -1.304042 -0.023991 -0.973663 -0.006417 -0.349509 -0.421580   \n",
            "3 -0.005490  0.360409  0.281860 -0.213479 -1.168333 -1.013906 -0.346080   \n",
            "4  0.080916  0.101320  0.104040  0.140490  0.261718  0.480988  0.710932   \n",
            "\n",
            "         F8        F9       F10 F11  \n",
            "0 -0.165983 -0.123005  1.087144   W  \n",
            "1  0.181844  2.090879 -2.009758   A  \n",
            "2 -0.450127  0.469443  0.060952   I  \n",
            "3  1.176165  0.968347 -0.627999   E  \n",
            "4 -0.253430 -0.497183  0.155681   A  \n",
            "(10437, 11)\n"
          ]
        }
      ]
    },
    {
      "cell_type": "markdown",
      "source": [
        "# Juntando os datasets"
      ],
      "metadata": {
        "id": "ikoAHLSa_GCK"
      }
    },
    {
      "cell_type": "code",
      "source": [
        "frames = [avilaDatasetTs, avilaDatasetTr]\n",
        "joinDataset = pd.concat(frames, ignore_index=True)\n",
        "\n",
        "print(joinDataset.head(10))\n",
        "print(joinDataset.tail(10))\n",
        "\n",
        "print(\"New dataset shape: \", joinDataset.shape)"
      ],
      "metadata": {
        "id": "XuCIlGFz_JvX",
        "colab": {
          "base_uri": "https://localhost:8080/"
        },
        "outputId": "e87db008-d6ff-4768-9810-978411ad15c4"
      },
      "execution_count": null,
      "outputs": [
        {
          "output_type": "stream",
          "name": "stdout",
          "text": [
            "         F1        F2        F3        F4        F5        F6        F7  \\\n",
            "0 -3.498799  0.250492  0.232070  1.224178 -4.922215  1.145386  0.182426   \n",
            "1  0.204355 -0.354049  0.320980  0.410166 -0.989576 -2.218127  0.220177   \n",
            "2  0.759828 -1.304042 -0.023991 -0.973663 -0.006417 -0.349509 -0.421580   \n",
            "3 -0.005490  0.360409  0.281860 -0.213479 -1.168333 -1.013906 -0.346080   \n",
            "4  0.080916  0.101320  0.104040  0.140490  0.261718  0.480988  0.710932   \n",
            "5  0.068573 -0.181323 -3.210528 -0.294311 -1.168333  0.356414 -0.006326   \n",
            "6 -0.301743 -0.314793  0.399221  0.770520  0.708609  0.564038 -1.403091   \n",
            "7  0.031541 -0.118513  0.374326 -0.066706  0.261718  0.605563  0.559930   \n",
            "8 -0.091897 -0.118513  0.189393  1.280303  0.261718  0.314889  0.069175   \n",
            "9  0.377169  0.014957  0.381439  0.292753  0.261718 -0.307984  0.522180   \n",
            "\n",
            "         F8        F9       F10 F11  \n",
            "0 -0.165983 -0.123005  1.087144   W  \n",
            "1  0.181844  2.090879 -2.009758   A  \n",
            "2 -0.450127  0.469443  0.060952   I  \n",
            "3  1.176165  0.968347 -0.627999   E  \n",
            "4 -0.253430 -0.497183  0.155681   A  \n",
            "5 -0.219550  0.126447  0.448186   F  \n",
            "6 -1.459107 -0.091823  1.627420   Y  \n",
            "7 -0.258129  0.095265  0.344766   A  \n",
            "8  1.277183  0.531806  0.359002   A  \n",
            "9  0.370989  0.562987 -0.440132   H  \n",
            "             F1        F2        F3        F4        F5        F6        F7  \\\n",
            "20857 -0.005490  0.478177  0.029355 -0.247644  0.172340  0.605563  0.673182   \n",
            "20858  0.241386  0.234790  0.121822  1.037988  0.261718  0.647088  0.182426   \n",
            "20859 -0.277055 -0.251983 -3.203415  1.957926  0.261718  1.892833  0.635431   \n",
            "20860  4.969080 -0.385453  0.143160 -2.600732  0.976743 -0.764757 -0.232828   \n",
            "20861  0.216699  0.321153  0.128935  0.491087  0.261718  0.439463  0.069175   \n",
            "20862  0.080916  0.588093  0.015130  0.002250  0.261718 -0.557133  0.371178   \n",
            "20863  0.253730 -0.338346  0.352988 -1.154243  0.172340 -0.557133  0.257927   \n",
            "20864  0.229043 -0.000745  0.171611 -0.002793  0.261718  0.688613  0.295677   \n",
            "20865 -0.301743  0.352558  0.288973  1.638181  0.261718  0.688613  0.069175   \n",
            "20866 -0.104241 -1.037102  0.388552 -1.099311  0.172340 -0.307984  0.786433   \n",
            "\n",
            "             F8        F9       F10 F11  \n",
            "20857 -0.951919 -0.528364  0.286973   A  \n",
            "20858  0.684936  0.219991  0.628422   A  \n",
            "20859  1.898205  2.184424  1.427425   X  \n",
            "20860 -2.348488 -1.183175 -0.459372   I  \n",
            "20861  0.252846  0.188810  0.482857   A  \n",
            "20862  0.932346  0.282354 -0.580141   F  \n",
            "20863  0.348428  0.032902 -0.527134   F  \n",
            "20864 -1.088486 -0.590727  0.580142   A  \n",
            "20865  0.502761  0.625350  0.718969   E  \n",
            "20866 -1.337547  0.999528 -0.551063   X  \n",
            "New dataset shape:  (20867, 11)\n"
          ]
        }
      ]
    },
    {
      "cell_type": "markdown",
      "source": [
        "# Procurando por linhas NaN"
      ],
      "metadata": {
        "id": "ZPxPkaf6_XYO"
      }
    },
    {
      "cell_type": "code",
      "source": [
        "# Procurando por linhas com linhas com NaN\n",
        "dfValues = joinDataset.values\n",
        "lenght = len(dfValues)\n",
        "columns = dfValues[0].size\n",
        "\n",
        "print(lenght)\n",
        "print(columns)\n",
        "\n",
        "for i in range(0, columns - 1):\n",
        "    print(dfValues[0][i])\n",
        "    print(type(dfValues[0][i]))\n",
        "\n",
        "for r in range(0,lenght):\n",
        "    for c in range(0, columns - 1):\n",
        "        value = dfValues[r][c]\n",
        "        if mt.isnan(value):\n",
        "            print(r)"
      ],
      "metadata": {
        "id": "BjW0X9mv_XDF",
        "colab": {
          "base_uri": "https://localhost:8080/"
        },
        "outputId": "55196481-6140-42cf-8cce-b2cbcbb805aa"
      },
      "execution_count": null,
      "outputs": [
        {
          "output_type": "stream",
          "name": "stdout",
          "text": [
            "20867\n",
            "11\n",
            "-3.498799\n",
            "<class 'float'>\n",
            "0.250492\n",
            "<class 'float'>\n",
            "0.23207\n",
            "<class 'float'>\n",
            "1.224178\n",
            "<class 'float'>\n",
            "-4.922215\n",
            "<class 'float'>\n",
            "1.145386\n",
            "<class 'float'>\n",
            "0.182426\n",
            "<class 'float'>\n",
            "-0.165983\n",
            "<class 'float'>\n",
            "-0.123005\n",
            "<class 'float'>\n",
            "1.087144\n",
            "<class 'float'>\n"
          ]
        }
      ]
    },
    {
      "cell_type": "markdown",
      "source": [
        "# Separando os conjuntos entre teste e treinamento\n"
      ],
      "metadata": {
        "id": "GYSkFyOwcdzo"
      }
    },
    {
      "cell_type": "code",
      "source": [
        "from pandas.core.common import random_state\n",
        "from sklearn.model_selection import train_test_split\n",
        "\n",
        "data = joinDataset.to_numpy()\n",
        "nRow, nCol =  data.shape\n",
        "print(nRow)\n",
        "print(nCol)\n",
        "\n",
        "Y = data[:,-1]\n",
        "X = data[:, 0 : nCol - 1]\n",
        "#Separando entre dados de treinamento e teste\n",
        "\n",
        "\n",
        "X_train, X_test, Y_train, Y_test = train_test_split(X, Y, train_size = 0.7, random_state = 10)\n",
        "\n",
        "print(np.min(X_train[:,3]))"
      ],
      "metadata": {
        "id": "V-cDRhn8c9xb",
        "colab": {
          "base_uri": "https://localhost:8080/"
        },
        "outputId": "08b63bda-796f-4a0f-d4da-3e8ba3cc8f82"
      },
      "execution_count": null,
      "outputs": [
        {
          "output_type": "stream",
          "name": "stdout",
          "text": [
            "20867\n",
            "11\n",
            "-7.0\n"
          ]
        }
      ]
    },
    {
      "cell_type": "markdown",
      "source": [
        "#Separando um conjunto de validação a partir do conjunto de teste"
      ],
      "metadata": {
        "id": "H4SZQ7GEWvbJ"
      }
    },
    {
      "cell_type": "code",
      "source": [
        "print(pd.DataFrame(Y_train).value_counts())\n",
        "print(pd.DataFrame(X_train).shape)"
      ],
      "metadata": {
        "id": "LGqmGgoaWtX0",
        "colab": {
          "base_uri": "https://localhost:8080/"
        },
        "outputId": "b4ebfc2d-1b39-44a5-acf2-1a9dc9945ab6"
      },
      "execution_count": null,
      "outputs": [
        {
          "output_type": "stream",
          "name": "stdout",
          "text": [
            "A    6005\n",
            "F    2746\n",
            "E    1537\n",
            "I    1174\n",
            "H     728\n",
            "X     718\n",
            "G     621\n",
            "D     474\n",
            "Y     375\n",
            "C     157\n",
            "W      64\n",
            "B       7\n",
            "dtype: int64\n",
            "(14606, 10)\n"
          ]
        }
      ]
    },
    {
      "cell_type": "markdown",
      "source": [
        "#Implementando o modelo Nayve Bayes Gaussiano"
      ],
      "metadata": {
        "id": "qYqv_U8o5DdR"
      }
    },
    {
      "cell_type": "code",
      "source": [
        "from scipy.stats import multivariate_normal\n",
        "\n",
        "classes = joinDataset['F11'].unique()\n",
        "\n",
        "#Matriz para armazenar as probabilidades de cada classe\n",
        "P = pd.DataFrame(data=np.zeros((X_train.shape[0], len(classes))), columns=classes)\n",
        "#Fração de elementos de cada classes\n",
        "Pc = np.zeros(len(classes))\n",
        "\n",
        "#For para iterar sobre cada classe i\n",
        "for i in range(0, len(classes)):\n",
        "  elements = tuple(np.where(Y_train == classes[i]))\n",
        "  Pc[i] = len(elements) / len(Y_train)                                  #Probabilidades a priori\n",
        "  Z = X_train[elements,:][0]\n",
        "  mean = np.mean(Z, axis=0)                                             #Vetor de médias de cada class\n",
        "  covar = np.cov(np.transpose(Z.astype(float)))                         #Covariância dos elementos xi\n",
        "  print(classes[i])\n",
        "  for j in range(0, X_test.shape[0]):\n",
        "    x = X_test[j,:]\n",
        "    pj = multivariate_normal.pdf(x, mean=mean, cov=covar, allow_singular=True)\n",
        "    P[classes[i]][j] = Pc[i] * pj"
      ],
      "metadata": {
        "id": "LdYcOBNs5C5D",
        "colab": {
          "base_uri": "https://localhost:8080/"
        },
        "outputId": "417a74b7-cf2c-49e2-8313-11bd2cbb6eef"
      },
      "execution_count": null,
      "outputs": [
        {
          "output_type": "stream",
          "name": "stdout",
          "text": [
            "W\n",
            "A\n",
            "I\n",
            "E\n",
            "F\n",
            "Y\n",
            "H\n",
            "D\n",
            "G\n",
            "X\n",
            "C\n",
            "B\n"
          ]
        }
      ]
    },
    {
      "cell_type": "code",
      "source": [
        "print(P)"
      ],
      "metadata": {
        "id": "iWZx3jwk8ZrB",
        "colab": {
          "base_uri": "https://localhost:8080/"
        },
        "outputId": "b0c6af1b-53d2-4b0e-bde5-bb1bb1c5bb67"
      },
      "execution_count": null,
      "outputs": [
        {
          "output_type": "stream",
          "name": "stdout",
          "text": [
            "                  W              A             I             E             F  \\\n",
            "0      0.000000e+00  2.266913e-265  0.000000e+00  0.000000e+00  0.000000e+00   \n",
            "1      5.638253e-60   1.708393e-12  1.051834e-11  1.026929e-11  2.240110e-11   \n",
            "2      3.542028e-39   5.558652e-12  1.052023e-10  4.000762e-12  1.448363e-10   \n",
            "3      4.712343e-42   1.822474e-13  1.524768e-09  7.019596e-13  1.610175e-12   \n",
            "4      4.363344e-11   1.844292e-12  2.359917e-13  1.404387e-12  1.810935e-11   \n",
            "...             ...            ...           ...           ...           ...   \n",
            "14601  0.000000e+00   0.000000e+00  0.000000e+00  0.000000e+00  0.000000e+00   \n",
            "14602  0.000000e+00   0.000000e+00  0.000000e+00  0.000000e+00  0.000000e+00   \n",
            "14603  0.000000e+00   0.000000e+00  0.000000e+00  0.000000e+00  0.000000e+00   \n",
            "14604  0.000000e+00   0.000000e+00  0.000000e+00  0.000000e+00  0.000000e+00   \n",
            "14605  0.000000e+00   0.000000e+00  0.000000e+00  0.000000e+00  0.000000e+00   \n",
            "\n",
            "                  Y             H             D             G             X  \\\n",
            "0      0.000000e+00  0.000000e+00  0.000000e+00  0.000000e+00  4.153586e-52   \n",
            "1      1.593343e-09  1.341420e-16  1.432063e-11  1.259549e-08  9.612587e-12   \n",
            "2      1.036829e-13  1.453181e-16  7.082860e-12  6.749588e-08  8.388676e-13   \n",
            "3      8.452066e-15  1.638440e-18  1.659714e-13  3.270500e-13  3.890176e-12   \n",
            "4      4.961881e-13  5.768653e-10  1.325001e-12  5.058458e-09  5.123229e-12   \n",
            "...             ...           ...           ...           ...           ...   \n",
            "14601  0.000000e+00  0.000000e+00  0.000000e+00  0.000000e+00  0.000000e+00   \n",
            "14602  0.000000e+00  0.000000e+00  0.000000e+00  0.000000e+00  0.000000e+00   \n",
            "14603  0.000000e+00  0.000000e+00  0.000000e+00  0.000000e+00  0.000000e+00   \n",
            "14604  0.000000e+00  0.000000e+00  0.000000e+00  0.000000e+00  0.000000e+00   \n",
            "14605  0.000000e+00  0.000000e+00  0.000000e+00  0.000000e+00  0.000000e+00   \n",
            "\n",
            "                  C              B  \n",
            "0      0.000000e+00   0.000000e+00  \n",
            "1      2.352114e-09   0.000000e+00  \n",
            "2      8.719680e-10   0.000000e+00  \n",
            "3      6.418364e-10   0.000000e+00  \n",
            "4      4.262708e-11  1.186684e-228  \n",
            "...             ...            ...  \n",
            "14601  0.000000e+00   0.000000e+00  \n",
            "14602  0.000000e+00   0.000000e+00  \n",
            "14603  0.000000e+00   0.000000e+00  \n",
            "14604  0.000000e+00   0.000000e+00  \n",
            "14605  0.000000e+00   0.000000e+00  \n",
            "\n",
            "[14606 rows x 12 columns]\n"
          ]
        }
      ]
    },
    {
      "cell_type": "code",
      "source": [
        "print(Y_test[0])"
      ],
      "metadata": {
        "colab": {
          "base_uri": "https://localhost:8080/",
          "height": 165
        },
        "id": "VV6JKQOvWOJ6",
        "outputId": "14c7c93c-da6e-4add-f533-7efa2ddb5a3c"
      },
      "execution_count": null,
      "outputs": [
        {
          "output_type": "error",
          "ename": "NameError",
          "evalue": "ignored",
          "traceback": [
            "\u001b[0;31m---------------------------------------------------------------------------\u001b[0m",
            "\u001b[0;31mNameError\u001b[0m                                 Traceback (most recent call last)",
            "\u001b[0;32m<ipython-input-1-1c0193b82dfc>\u001b[0m in \u001b[0;36m<module>\u001b[0;34m()\u001b[0m\n\u001b[0;32m----> 1\u001b[0;31m \u001b[0mprint\u001b[0m\u001b[0;34m(\u001b[0m\u001b[0mY_test\u001b[0m\u001b[0;34m[\u001b[0m\u001b[0;36m0\u001b[0m\u001b[0;34m]\u001b[0m\u001b[0;34m)\u001b[0m\u001b[0;34m\u001b[0m\u001b[0;34m\u001b[0m\u001b[0m\n\u001b[0m",
            "\u001b[0;31mNameError\u001b[0m: name 'Y_test' is not defined"
          ]
        }
      ]
    },
    {
      "cell_type": "markdown",
      "source": [
        "#Predição"
      ],
      "metadata": {
        "id": "ukt3uQ_fXfED"
      }
    },
    {
      "cell_type": "code",
      "source": [
        "from numpy.lib.function_base import append\n",
        "y_pred = []\n",
        "\n",
        "for i in range(0, Y_test.shape[0]):\n",
        "  c = np.argmax(np.array(P.iloc[[i]]))\n",
        "  y_pred.append(classes[c])\n",
        "\n",
        "#Passando para numpy\n",
        "y_pred = np.array(y_pred, dtype=str)"
      ],
      "metadata": {
        "id": "5tQxKX8KXiYL"
      },
      "execution_count": null,
      "outputs": []
    },
    {
      "cell_type": "code",
      "source": [
        "#Avaliando o preditor\n",
        "from sklearn.metrics import accuracy_score\n",
        "score = accuracy_score(y_pred, Y_test)\n",
        "\n",
        "print(\"Score: [%.2f]\" % (score * 100))"
      ],
      "metadata": {
        "colab": {
          "base_uri": "https://localhost:8080/"
        },
        "id": "Y4rCiLZkY27P",
        "outputId": "63f180ae-7156-4e13-ad21-99fe4aa918e5"
      },
      "execution_count": null,
      "outputs": [
        {
          "output_type": "stream",
          "name": "stdout",
          "text": [
            "Score: [17.20]\n"
          ]
        }
      ]
    },
    {
      "cell_type": "markdown",
      "source": [
        "# Implementando o K_Vizinhos"
      ],
      "metadata": {
        "id": "AWGDQNVfHSc5"
      }
    },
    {
      "cell_type": "code",
      "source": [
        ""
      ],
      "metadata": {
        "id": "4OAPSwLEHX8N",
        "colab": {
          "base_uri": "https://localhost:8080/",
          "height": 70
        },
        "outputId": "4a729d83-5625-4412-95d6-11631ac6561a"
      },
      "execution_count": null,
      "outputs": [
        {
          "output_type": "execute_result",
          "data": {
            "text/plain": [
              "'\\nmaior_acuracia = 0\\ndist = 0\\nviz = 0\\nfor d in distancias:\\n  for v in vizinhos:\\n    knn = KNeighborsClassifier(n_neighbors = v, metric = d)\\n    knn.fit(X_train, Y_train)\\n    accuracy = knn.score(X_valid_train, Y_valid_train)\\n    if maior_acuracia < accuracy:\\n      maior_acuracia = accuracy\\n      dist = d\\n      viz = v\\n\\nprint(dist)\\nprint(viz)\\nprint(maior_acuracia)\\n'"
            ],
            "application/vnd.google.colaboratory.intrinsic+json": {
              "type": "string"
            }
          },
          "metadata": {},
          "execution_count": 23
        }
      ]
    },
    {
      "cell_type": "code",
      "source": [
        ""
      ],
      "metadata": {
        "colab": {
          "base_uri": "https://localhost:8080/"
        },
        "id": "UEzrICBcS02m",
        "outputId": "4c9c94cc-62bd-47a2-973c-577970b2c6d8"
      },
      "execution_count": null,
      "outputs": [
        {
          "output_type": "stream",
          "name": "stdout",
          "text": [
            "0.6833122044199889\n",
            "{'n_neighbors': 16, 'metric': 'manhattan'}\n"
          ]
        }
      ]
    },
    {
      "cell_type": "code",
      "source": [
        ""
      ],
      "metadata": {
        "colab": {
          "base_uri": "https://localhost:8080/"
        },
        "id": "EDQoK-CqZsjR",
        "outputId": "5e74d9b6-d0e7-4f82-f6e2-5865dcaef2de"
      },
      "execution_count": null,
      "outputs": [
        {
          "output_type": "stream",
          "name": "stdout",
          "text": [
            "0.8191183517010062\n"
          ]
        }
      ]
    },
    {
      "cell_type": "markdown",
      "source": [
        "#Regressão Logística - um contra todos"
      ],
      "metadata": {
        "id": "JB3NT7VCafSo"
      }
    },
    {
      "cell_type": "markdown",
      "source": [
        "Transformando a base de treinamento em 12 bases (classe de interese vs ¬classe de interesse)"
      ],
      "metadata": {
        "id": "uIedz5EmPFcG"
      }
    },
    {
      "cell_type": "code",
      "source": [
        ""
      ],
      "metadata": {
        "colab": {
          "base_uri": "https://localhost:8080/"
        },
        "id": "GiLbJEctPE9o",
        "outputId": "ccd801f1-4798-432f-edc0-19ddafd95df1"
      },
      "execution_count": null,
      "outputs": [
        {
          "output_type": "execute_result",
          "data": {
            "text/plain": [
              "array([[0.15498, -0.16562, -3.210528, ..., 0.340506, 0.157628, -0.415334],\n",
              "       [0.327793, 0.50173, 0.050694, ..., 0.754385, 0.812439, -0.74098],\n",
              "       [0.080916, 0.10132, 0.10404, ..., -0.327849, -0.247731, 0.564989],\n",
              "       ...,\n",
              "       [0.080916, 0.014957, 0.064919, ..., 0.264107, 0.282354, 0.574114],\n",
              "       [0.216699, -0.291239, 0.349432, ..., 0.523361, 0.18881, -0.201646],\n",
              "       [-0.437525, 0.423218, 0.388552, ..., 1.587403, 1.155435, 0.304429]],\n",
              "      dtype=object)"
            ]
          },
          "metadata": {},
          "execution_count": 36
        }
      ]
    },
    {
      "cell_type": "code",
      "source": [
        ""
      ],
      "metadata": {
        "colab": {
          "base_uri": "https://localhost:8080/"
        },
        "id": "B9Zt9QoLPUvz",
        "outputId": "ba452f73-e4ad-4e58-d2f8-8fcc8227d6d8"
      },
      "execution_count": null,
      "outputs": [
        {
          "output_type": "execute_result",
          "data": {
            "text/plain": [
              "array(['A', 'G', 'A', ..., 'A', 'A', 'E'], dtype=object)"
            ]
          },
          "metadata": {},
          "execution_count": 37
        }
      ]
    },
    {
      "cell_type": "code",
      "source": [
        "type(Y_train)"
      ],
      "metadata": {
        "colab": {
          "base_uri": "https://localhost:8080/"
        },
        "id": "uLQuJXk4SP0X",
        "outputId": "b6b186d4-c52e-46ea-f626-2a8a5051beec"
      },
      "execution_count": null,
      "outputs": [
        {
          "output_type": "execute_result",
          "data": {
            "text/plain": [
              "numpy.ndarray"
            ]
          },
          "metadata": {},
          "execution_count": 44
        }
      ]
    },
    {
      "cell_type": "code",
      "source": [
        "ova_databases = {}"
      ],
      "metadata": {
        "id": "fHQbyO8ePZbA"
      },
      "execution_count": null,
      "outputs": []
    },
    {
      "cell_type": "code",
      "source": [
        "for scribe in np.unique(Y_train):\n",
        "  temp = np.where(Y_train == scribe)  \n",
        "  class_idx = 0\n",
        "  new_y_train = np.ndarray(Y_train.shape, dtype=object)\n",
        "  idx_cidx = []\n",
        "  for idx, line in enumerate(X_train):\n",
        "    if  class_idx < len(temp[0]) and temp[0][class_idx] == idx:\n",
        "      idx_cidx.append(idx)\n",
        "      new_y_train[idx] = Y_train[idx]\n",
        "      class_idx += 1\n",
        "    else:\n",
        "      new_y_train[idx] = '!{}'.format(scribe)\n",
        "  ova_databases[scribe] = new_y_train\n",
        "    "
      ],
      "metadata": {
        "id": "B_OWMakUPpWj"
      },
      "execution_count": null,
      "outputs": []
    },
    {
      "cell_type": "code",
      "source": [
        "ova_databases"
      ],
      "metadata": {
        "colab": {
          "base_uri": "https://localhost:8080/"
        },
        "id": "8314iloGWfXQ",
        "outputId": "a7d466ec-0ce0-4d9e-d40b-a0c878806840"
      },
      "execution_count": null,
      "outputs": [
        {
          "output_type": "execute_result",
          "data": {
            "text/plain": [
              "{'A': array(['A', '!A', 'A', ..., 'A', 'A', '!A'], dtype=object),\n",
              " 'B': array(['!B', '!B', '!B', ..., '!B', '!B', '!B'], dtype=object),\n",
              " 'C': array(['!C', '!C', '!C', ..., '!C', '!C', '!C'], dtype=object),\n",
              " 'D': array(['!D', '!D', '!D', ..., '!D', '!D', '!D'], dtype=object),\n",
              " 'E': array(['!E', '!E', '!E', ..., '!E', '!E', 'E'], dtype=object),\n",
              " 'F': array(['!F', '!F', '!F', ..., '!F', '!F', '!F'], dtype=object),\n",
              " 'G': array(['!G', 'G', '!G', ..., '!G', '!G', '!G'], dtype=object),\n",
              " 'H': array(['!H', '!H', '!H', ..., '!H', '!H', '!H'], dtype=object),\n",
              " 'I': array(['!I', '!I', '!I', ..., '!I', '!I', '!I'], dtype=object),\n",
              " 'W': array(['!W', '!W', '!W', ..., '!W', '!W', '!W'], dtype=object),\n",
              " 'X': array(['!X', '!X', '!X', ..., '!X', '!X', '!X'], dtype=object),\n",
              " 'Y': array(['!Y', '!Y', '!Y', ..., '!Y', '!Y', '!Y'], dtype=object)}"
            ]
          },
          "metadata": {},
          "execution_count": 89
        }
      ]
    },
    {
      "cell_type": "code",
      "source": [
        "params = {'penalty': ['l1', 'l2', 'none'],\n",
        "          'C': [0.5, 1.0, 1.5],\n",
        "          'class_weight': ['balanced', None],\n",
        "          'solver': ['newton-cg', 'lbfgs', 'liblinear'],\n",
        "          'max_iter': [1000],}"
      ],
      "metadata": {
        "id": "22NaN-UvXBqT"
      },
      "execution_count": null,
      "outputs": []
    },
    {
      "cell_type": "code",
      "source": [
        "ova_estimators = {}\n",
        "for scribe in np.unique(Y_train):\n",
        "  print('searching scribe: {}'.format(scribe))\n",
        "  reg_log = LogisticRegression()\n",
        "  busca = RandomizedSearchCV(reg_log, params, n_iter=10, scoring='accuracy', cv=cv, random_state=10)\n",
        "  result = busca.fit(X_train, ova_databases[scribe])\n",
        "  ova_estimators[scribe] = result.best_estimator_"
      ],
      "metadata": {
        "colab": {
          "base_uri": "https://localhost:8080/",
          "height": 539
        },
        "id": "SA5Ox9tWYv20",
        "outputId": "c581d45c-d02a-485d-c49d-0db91b5e8cfe"
      },
      "execution_count": null,
      "outputs": [
        {
          "output_type": "stream",
          "name": "stdout",
          "text": [
            "searching scribe: A\n",
            "searching scribe: B\n",
            "searching scribe: C\n",
            "searching scribe: D\n",
            "searching scribe: E\n",
            "searching scribe: F\n",
            "searching scribe: G\n",
            "searching scribe: H\n",
            "searching scribe: I\n"
          ]
        },
        {
          "output_type": "error",
          "ename": "KeyboardInterrupt",
          "evalue": "ignored",
          "traceback": [
            "\u001b[0;31m---------------------------------------------------------------------------\u001b[0m",
            "\u001b[0;31mKeyboardInterrupt\u001b[0m                         Traceback (most recent call last)",
            "\u001b[0;32m<ipython-input-98-728b55a68927>\u001b[0m in \u001b[0;36m<module>\u001b[0;34m()\u001b[0m\n\u001b[1;32m      4\u001b[0m   \u001b[0mreg_log\u001b[0m \u001b[0;34m=\u001b[0m \u001b[0mLogisticRegression\u001b[0m\u001b[0;34m(\u001b[0m\u001b[0;34m)\u001b[0m\u001b[0;34m\u001b[0m\u001b[0;34m\u001b[0m\u001b[0m\n\u001b[1;32m      5\u001b[0m   \u001b[0mbusca\u001b[0m \u001b[0;34m=\u001b[0m \u001b[0mRandomizedSearchCV\u001b[0m\u001b[0;34m(\u001b[0m\u001b[0mreg_log\u001b[0m\u001b[0;34m,\u001b[0m \u001b[0mparams\u001b[0m\u001b[0;34m,\u001b[0m \u001b[0mn_iter\u001b[0m\u001b[0;34m=\u001b[0m\u001b[0;36m10\u001b[0m\u001b[0;34m,\u001b[0m \u001b[0mscoring\u001b[0m\u001b[0;34m=\u001b[0m\u001b[0;34m'accuracy'\u001b[0m\u001b[0;34m,\u001b[0m \u001b[0mcv\u001b[0m\u001b[0;34m=\u001b[0m\u001b[0mcv\u001b[0m\u001b[0;34m,\u001b[0m \u001b[0mrandom_state\u001b[0m\u001b[0;34m=\u001b[0m\u001b[0;36m10\u001b[0m\u001b[0;34m)\u001b[0m\u001b[0;34m\u001b[0m\u001b[0;34m\u001b[0m\u001b[0m\n\u001b[0;32m----> 6\u001b[0;31m   \u001b[0mresult\u001b[0m \u001b[0;34m=\u001b[0m \u001b[0mbusca\u001b[0m\u001b[0;34m.\u001b[0m\u001b[0mfit\u001b[0m\u001b[0;34m(\u001b[0m\u001b[0mX_train\u001b[0m\u001b[0;34m,\u001b[0m \u001b[0mova_databases\u001b[0m\u001b[0;34m[\u001b[0m\u001b[0mscribe\u001b[0m\u001b[0;34m]\u001b[0m\u001b[0;34m)\u001b[0m\u001b[0;34m\u001b[0m\u001b[0;34m\u001b[0m\u001b[0m\n\u001b[0m\u001b[1;32m      7\u001b[0m   \u001b[0mova_estimators\u001b[0m\u001b[0;34m[\u001b[0m\u001b[0mscribe\u001b[0m\u001b[0;34m]\u001b[0m \u001b[0;34m=\u001b[0m \u001b[0mresult\u001b[0m\u001b[0;34m.\u001b[0m\u001b[0mbest_estimator_\u001b[0m\u001b[0;34m\u001b[0m\u001b[0;34m\u001b[0m\u001b[0m\n",
            "\u001b[0;32m/usr/local/lib/python3.7/dist-packages/sklearn/model_selection/_search.py\u001b[0m in \u001b[0;36mfit\u001b[0;34m(self, X, y, groups, **fit_params)\u001b[0m\n\u001b[1;32m    889\u001b[0m                 \u001b[0;32mreturn\u001b[0m \u001b[0mresults\u001b[0m\u001b[0;34m\u001b[0m\u001b[0;34m\u001b[0m\u001b[0m\n\u001b[1;32m    890\u001b[0m \u001b[0;34m\u001b[0m\u001b[0m\n\u001b[0;32m--> 891\u001b[0;31m             \u001b[0mself\u001b[0m\u001b[0;34m.\u001b[0m\u001b[0m_run_search\u001b[0m\u001b[0;34m(\u001b[0m\u001b[0mevaluate_candidates\u001b[0m\u001b[0;34m)\u001b[0m\u001b[0;34m\u001b[0m\u001b[0;34m\u001b[0m\u001b[0m\n\u001b[0m\u001b[1;32m    892\u001b[0m \u001b[0;34m\u001b[0m\u001b[0m\n\u001b[1;32m    893\u001b[0m             \u001b[0;31m# multimetric is determined here because in the case of a callable\u001b[0m\u001b[0;34m\u001b[0m\u001b[0;34m\u001b[0m\u001b[0;34m\u001b[0m\u001b[0m\n",
            "\u001b[0;32m/usr/local/lib/python3.7/dist-packages/sklearn/model_selection/_search.py\u001b[0m in \u001b[0;36m_run_search\u001b[0;34m(self, evaluate_candidates)\u001b[0m\n\u001b[1;32m   1766\u001b[0m         evaluate_candidates(\n\u001b[1;32m   1767\u001b[0m             ParameterSampler(\n\u001b[0;32m-> 1768\u001b[0;31m                 \u001b[0mself\u001b[0m\u001b[0;34m.\u001b[0m\u001b[0mparam_distributions\u001b[0m\u001b[0;34m,\u001b[0m \u001b[0mself\u001b[0m\u001b[0;34m.\u001b[0m\u001b[0mn_iter\u001b[0m\u001b[0;34m,\u001b[0m \u001b[0mrandom_state\u001b[0m\u001b[0;34m=\u001b[0m\u001b[0mself\u001b[0m\u001b[0;34m.\u001b[0m\u001b[0mrandom_state\u001b[0m\u001b[0;34m\u001b[0m\u001b[0;34m\u001b[0m\u001b[0m\n\u001b[0m\u001b[1;32m   1769\u001b[0m             )\n\u001b[1;32m   1770\u001b[0m         )\n",
            "\u001b[0;32m/usr/local/lib/python3.7/dist-packages/sklearn/model_selection/_search.py\u001b[0m in \u001b[0;36mevaluate_candidates\u001b[0;34m(candidate_params, cv, more_results)\u001b[0m\n\u001b[1;32m    849\u001b[0m                     )\n\u001b[1;32m    850\u001b[0m                     for (cand_idx, parameters), (split_idx, (train, test)) in product(\n\u001b[0;32m--> 851\u001b[0;31m                         \u001b[0menumerate\u001b[0m\u001b[0;34m(\u001b[0m\u001b[0mcandidate_params\u001b[0m\u001b[0;34m)\u001b[0m\u001b[0;34m,\u001b[0m \u001b[0menumerate\u001b[0m\u001b[0;34m(\u001b[0m\u001b[0mcv\u001b[0m\u001b[0;34m.\u001b[0m\u001b[0msplit\u001b[0m\u001b[0;34m(\u001b[0m\u001b[0mX\u001b[0m\u001b[0;34m,\u001b[0m \u001b[0my\u001b[0m\u001b[0;34m,\u001b[0m \u001b[0mgroups\u001b[0m\u001b[0;34m)\u001b[0m\u001b[0;34m)\u001b[0m\u001b[0;34m\u001b[0m\u001b[0;34m\u001b[0m\u001b[0m\n\u001b[0m\u001b[1;32m    852\u001b[0m                     )\n\u001b[1;32m    853\u001b[0m                 )\n",
            "\u001b[0;32m/usr/local/lib/python3.7/dist-packages/joblib/parallel.py\u001b[0m in \u001b[0;36m__call__\u001b[0;34m(self, iterable)\u001b[0m\n\u001b[1;32m   1044\u001b[0m                 \u001b[0mself\u001b[0m\u001b[0;34m.\u001b[0m\u001b[0m_iterating\u001b[0m \u001b[0;34m=\u001b[0m \u001b[0mself\u001b[0m\u001b[0;34m.\u001b[0m\u001b[0m_original_iterator\u001b[0m \u001b[0;32mis\u001b[0m \u001b[0;32mnot\u001b[0m \u001b[0;32mNone\u001b[0m\u001b[0;34m\u001b[0m\u001b[0;34m\u001b[0m\u001b[0m\n\u001b[1;32m   1045\u001b[0m \u001b[0;34m\u001b[0m\u001b[0m\n\u001b[0;32m-> 1046\u001b[0;31m             \u001b[0;32mwhile\u001b[0m \u001b[0mself\u001b[0m\u001b[0;34m.\u001b[0m\u001b[0mdispatch_one_batch\u001b[0m\u001b[0;34m(\u001b[0m\u001b[0miterator\u001b[0m\u001b[0;34m)\u001b[0m\u001b[0;34m:\u001b[0m\u001b[0;34m\u001b[0m\u001b[0;34m\u001b[0m\u001b[0m\n\u001b[0m\u001b[1;32m   1047\u001b[0m                 \u001b[0;32mpass\u001b[0m\u001b[0;34m\u001b[0m\u001b[0;34m\u001b[0m\u001b[0m\n\u001b[1;32m   1048\u001b[0m \u001b[0;34m\u001b[0m\u001b[0m\n",
            "\u001b[0;32m/usr/local/lib/python3.7/dist-packages/joblib/parallel.py\u001b[0m in \u001b[0;36mdispatch_one_batch\u001b[0;34m(self, iterator)\u001b[0m\n\u001b[1;32m    859\u001b[0m                 \u001b[0;32mreturn\u001b[0m \u001b[0;32mFalse\u001b[0m\u001b[0;34m\u001b[0m\u001b[0;34m\u001b[0m\u001b[0m\n\u001b[1;32m    860\u001b[0m             \u001b[0;32melse\u001b[0m\u001b[0;34m:\u001b[0m\u001b[0;34m\u001b[0m\u001b[0;34m\u001b[0m\u001b[0m\n\u001b[0;32m--> 861\u001b[0;31m                 \u001b[0mself\u001b[0m\u001b[0;34m.\u001b[0m\u001b[0m_dispatch\u001b[0m\u001b[0;34m(\u001b[0m\u001b[0mtasks\u001b[0m\u001b[0;34m)\u001b[0m\u001b[0;34m\u001b[0m\u001b[0;34m\u001b[0m\u001b[0m\n\u001b[0m\u001b[1;32m    862\u001b[0m                 \u001b[0;32mreturn\u001b[0m \u001b[0;32mTrue\u001b[0m\u001b[0;34m\u001b[0m\u001b[0;34m\u001b[0m\u001b[0m\n\u001b[1;32m    863\u001b[0m \u001b[0;34m\u001b[0m\u001b[0m\n",
            "\u001b[0;32m/usr/local/lib/python3.7/dist-packages/joblib/parallel.py\u001b[0m in \u001b[0;36m_dispatch\u001b[0;34m(self, batch)\u001b[0m\n\u001b[1;32m    777\u001b[0m         \u001b[0;32mwith\u001b[0m \u001b[0mself\u001b[0m\u001b[0;34m.\u001b[0m\u001b[0m_lock\u001b[0m\u001b[0;34m:\u001b[0m\u001b[0;34m\u001b[0m\u001b[0;34m\u001b[0m\u001b[0m\n\u001b[1;32m    778\u001b[0m             \u001b[0mjob_idx\u001b[0m \u001b[0;34m=\u001b[0m \u001b[0mlen\u001b[0m\u001b[0;34m(\u001b[0m\u001b[0mself\u001b[0m\u001b[0;34m.\u001b[0m\u001b[0m_jobs\u001b[0m\u001b[0;34m)\u001b[0m\u001b[0;34m\u001b[0m\u001b[0;34m\u001b[0m\u001b[0m\n\u001b[0;32m--> 779\u001b[0;31m             \u001b[0mjob\u001b[0m \u001b[0;34m=\u001b[0m \u001b[0mself\u001b[0m\u001b[0;34m.\u001b[0m\u001b[0m_backend\u001b[0m\u001b[0;34m.\u001b[0m\u001b[0mapply_async\u001b[0m\u001b[0;34m(\u001b[0m\u001b[0mbatch\u001b[0m\u001b[0;34m,\u001b[0m \u001b[0mcallback\u001b[0m\u001b[0;34m=\u001b[0m\u001b[0mcb\u001b[0m\u001b[0;34m)\u001b[0m\u001b[0;34m\u001b[0m\u001b[0;34m\u001b[0m\u001b[0m\n\u001b[0m\u001b[1;32m    780\u001b[0m             \u001b[0;31m# A job can complete so quickly than its callback is\u001b[0m\u001b[0;34m\u001b[0m\u001b[0;34m\u001b[0m\u001b[0;34m\u001b[0m\u001b[0m\n\u001b[1;32m    781\u001b[0m             \u001b[0;31m# called before we get here, causing self._jobs to\u001b[0m\u001b[0;34m\u001b[0m\u001b[0;34m\u001b[0m\u001b[0;34m\u001b[0m\u001b[0m\n",
            "\u001b[0;32m/usr/local/lib/python3.7/dist-packages/joblib/_parallel_backends.py\u001b[0m in \u001b[0;36mapply_async\u001b[0;34m(self, func, callback)\u001b[0m\n\u001b[1;32m    206\u001b[0m     \u001b[0;32mdef\u001b[0m \u001b[0mapply_async\u001b[0m\u001b[0;34m(\u001b[0m\u001b[0mself\u001b[0m\u001b[0;34m,\u001b[0m \u001b[0mfunc\u001b[0m\u001b[0;34m,\u001b[0m \u001b[0mcallback\u001b[0m\u001b[0;34m=\u001b[0m\u001b[0;32mNone\u001b[0m\u001b[0;34m)\u001b[0m\u001b[0;34m:\u001b[0m\u001b[0;34m\u001b[0m\u001b[0;34m\u001b[0m\u001b[0m\n\u001b[1;32m    207\u001b[0m         \u001b[0;34m\"\"\"Schedule a func to be run\"\"\"\u001b[0m\u001b[0;34m\u001b[0m\u001b[0;34m\u001b[0m\u001b[0m\n\u001b[0;32m--> 208\u001b[0;31m         \u001b[0mresult\u001b[0m \u001b[0;34m=\u001b[0m \u001b[0mImmediateResult\u001b[0m\u001b[0;34m(\u001b[0m\u001b[0mfunc\u001b[0m\u001b[0;34m)\u001b[0m\u001b[0;34m\u001b[0m\u001b[0;34m\u001b[0m\u001b[0m\n\u001b[0m\u001b[1;32m    209\u001b[0m         \u001b[0;32mif\u001b[0m \u001b[0mcallback\u001b[0m\u001b[0;34m:\u001b[0m\u001b[0;34m\u001b[0m\u001b[0;34m\u001b[0m\u001b[0m\n\u001b[1;32m    210\u001b[0m             \u001b[0mcallback\u001b[0m\u001b[0;34m(\u001b[0m\u001b[0mresult\u001b[0m\u001b[0;34m)\u001b[0m\u001b[0;34m\u001b[0m\u001b[0;34m\u001b[0m\u001b[0m\n",
            "\u001b[0;32m/usr/local/lib/python3.7/dist-packages/joblib/_parallel_backends.py\u001b[0m in \u001b[0;36m__init__\u001b[0;34m(self, batch)\u001b[0m\n\u001b[1;32m    570\u001b[0m         \u001b[0;31m# Don't delay the application, to avoid keeping the input\u001b[0m\u001b[0;34m\u001b[0m\u001b[0;34m\u001b[0m\u001b[0;34m\u001b[0m\u001b[0m\n\u001b[1;32m    571\u001b[0m         \u001b[0;31m# arguments in memory\u001b[0m\u001b[0;34m\u001b[0m\u001b[0;34m\u001b[0m\u001b[0;34m\u001b[0m\u001b[0m\n\u001b[0;32m--> 572\u001b[0;31m         \u001b[0mself\u001b[0m\u001b[0;34m.\u001b[0m\u001b[0mresults\u001b[0m \u001b[0;34m=\u001b[0m \u001b[0mbatch\u001b[0m\u001b[0;34m(\u001b[0m\u001b[0;34m)\u001b[0m\u001b[0;34m\u001b[0m\u001b[0;34m\u001b[0m\u001b[0m\n\u001b[0m\u001b[1;32m    573\u001b[0m \u001b[0;34m\u001b[0m\u001b[0m\n\u001b[1;32m    574\u001b[0m     \u001b[0;32mdef\u001b[0m \u001b[0mget\u001b[0m\u001b[0;34m(\u001b[0m\u001b[0mself\u001b[0m\u001b[0;34m)\u001b[0m\u001b[0;34m:\u001b[0m\u001b[0;34m\u001b[0m\u001b[0;34m\u001b[0m\u001b[0m\n",
            "\u001b[0;32m/usr/local/lib/python3.7/dist-packages/joblib/parallel.py\u001b[0m in \u001b[0;36m__call__\u001b[0;34m(self)\u001b[0m\n\u001b[1;32m    261\u001b[0m         \u001b[0;32mwith\u001b[0m \u001b[0mparallel_backend\u001b[0m\u001b[0;34m(\u001b[0m\u001b[0mself\u001b[0m\u001b[0;34m.\u001b[0m\u001b[0m_backend\u001b[0m\u001b[0;34m,\u001b[0m \u001b[0mn_jobs\u001b[0m\u001b[0;34m=\u001b[0m\u001b[0mself\u001b[0m\u001b[0;34m.\u001b[0m\u001b[0m_n_jobs\u001b[0m\u001b[0;34m)\u001b[0m\u001b[0;34m:\u001b[0m\u001b[0;34m\u001b[0m\u001b[0;34m\u001b[0m\u001b[0m\n\u001b[1;32m    262\u001b[0m             return [func(*args, **kwargs)\n\u001b[0;32m--> 263\u001b[0;31m                     for func, args, kwargs in self.items]\n\u001b[0m\u001b[1;32m    264\u001b[0m \u001b[0;34m\u001b[0m\u001b[0m\n\u001b[1;32m    265\u001b[0m     \u001b[0;32mdef\u001b[0m \u001b[0m__reduce__\u001b[0m\u001b[0;34m(\u001b[0m\u001b[0mself\u001b[0m\u001b[0;34m)\u001b[0m\u001b[0;34m:\u001b[0m\u001b[0;34m\u001b[0m\u001b[0;34m\u001b[0m\u001b[0m\n",
            "\u001b[0;32m/usr/local/lib/python3.7/dist-packages/joblib/parallel.py\u001b[0m in \u001b[0;36m<listcomp>\u001b[0;34m(.0)\u001b[0m\n\u001b[1;32m    261\u001b[0m         \u001b[0;32mwith\u001b[0m \u001b[0mparallel_backend\u001b[0m\u001b[0;34m(\u001b[0m\u001b[0mself\u001b[0m\u001b[0;34m.\u001b[0m\u001b[0m_backend\u001b[0m\u001b[0;34m,\u001b[0m \u001b[0mn_jobs\u001b[0m\u001b[0;34m=\u001b[0m\u001b[0mself\u001b[0m\u001b[0;34m.\u001b[0m\u001b[0m_n_jobs\u001b[0m\u001b[0;34m)\u001b[0m\u001b[0;34m:\u001b[0m\u001b[0;34m\u001b[0m\u001b[0;34m\u001b[0m\u001b[0m\n\u001b[1;32m    262\u001b[0m             return [func(*args, **kwargs)\n\u001b[0;32m--> 263\u001b[0;31m                     for func, args, kwargs in self.items]\n\u001b[0m\u001b[1;32m    264\u001b[0m \u001b[0;34m\u001b[0m\u001b[0m\n\u001b[1;32m    265\u001b[0m     \u001b[0;32mdef\u001b[0m \u001b[0m__reduce__\u001b[0m\u001b[0;34m(\u001b[0m\u001b[0mself\u001b[0m\u001b[0;34m)\u001b[0m\u001b[0;34m:\u001b[0m\u001b[0;34m\u001b[0m\u001b[0;34m\u001b[0m\u001b[0m\n",
            "\u001b[0;32m/usr/local/lib/python3.7/dist-packages/sklearn/utils/fixes.py\u001b[0m in \u001b[0;36m__call__\u001b[0;34m(self, *args, **kwargs)\u001b[0m\n\u001b[1;32m    214\u001b[0m     \u001b[0;32mdef\u001b[0m \u001b[0m__call__\u001b[0m\u001b[0;34m(\u001b[0m\u001b[0mself\u001b[0m\u001b[0;34m,\u001b[0m \u001b[0;34m*\u001b[0m\u001b[0margs\u001b[0m\u001b[0;34m,\u001b[0m \u001b[0;34m**\u001b[0m\u001b[0mkwargs\u001b[0m\u001b[0;34m)\u001b[0m\u001b[0;34m:\u001b[0m\u001b[0;34m\u001b[0m\u001b[0;34m\u001b[0m\u001b[0m\n\u001b[1;32m    215\u001b[0m         \u001b[0;32mwith\u001b[0m \u001b[0mconfig_context\u001b[0m\u001b[0;34m(\u001b[0m\u001b[0;34m**\u001b[0m\u001b[0mself\u001b[0m\u001b[0;34m.\u001b[0m\u001b[0mconfig\u001b[0m\u001b[0;34m)\u001b[0m\u001b[0;34m:\u001b[0m\u001b[0;34m\u001b[0m\u001b[0;34m\u001b[0m\u001b[0m\n\u001b[0;32m--> 216\u001b[0;31m             \u001b[0;32mreturn\u001b[0m \u001b[0mself\u001b[0m\u001b[0;34m.\u001b[0m\u001b[0mfunction\u001b[0m\u001b[0;34m(\u001b[0m\u001b[0;34m*\u001b[0m\u001b[0margs\u001b[0m\u001b[0;34m,\u001b[0m \u001b[0;34m**\u001b[0m\u001b[0mkwargs\u001b[0m\u001b[0;34m)\u001b[0m\u001b[0;34m\u001b[0m\u001b[0;34m\u001b[0m\u001b[0m\n\u001b[0m\u001b[1;32m    217\u001b[0m \u001b[0;34m\u001b[0m\u001b[0m\n\u001b[1;32m    218\u001b[0m \u001b[0;34m\u001b[0m\u001b[0m\n",
            "\u001b[0;32m/usr/local/lib/python3.7/dist-packages/sklearn/model_selection/_validation.py\u001b[0m in \u001b[0;36m_fit_and_score\u001b[0;34m(estimator, X, y, scorer, train, test, verbose, parameters, fit_params, return_train_score, return_parameters, return_n_test_samples, return_times, return_estimator, split_progress, candidate_progress, error_score)\u001b[0m\n\u001b[1;32m    678\u001b[0m             \u001b[0mestimator\u001b[0m\u001b[0;34m.\u001b[0m\u001b[0mfit\u001b[0m\u001b[0;34m(\u001b[0m\u001b[0mX_train\u001b[0m\u001b[0;34m,\u001b[0m \u001b[0;34m**\u001b[0m\u001b[0mfit_params\u001b[0m\u001b[0;34m)\u001b[0m\u001b[0;34m\u001b[0m\u001b[0;34m\u001b[0m\u001b[0m\n\u001b[1;32m    679\u001b[0m         \u001b[0;32melse\u001b[0m\u001b[0;34m:\u001b[0m\u001b[0;34m\u001b[0m\u001b[0;34m\u001b[0m\u001b[0m\n\u001b[0;32m--> 680\u001b[0;31m             \u001b[0mestimator\u001b[0m\u001b[0;34m.\u001b[0m\u001b[0mfit\u001b[0m\u001b[0;34m(\u001b[0m\u001b[0mX_train\u001b[0m\u001b[0;34m,\u001b[0m \u001b[0my_train\u001b[0m\u001b[0;34m,\u001b[0m \u001b[0;34m**\u001b[0m\u001b[0mfit_params\u001b[0m\u001b[0;34m)\u001b[0m\u001b[0;34m\u001b[0m\u001b[0;34m\u001b[0m\u001b[0m\n\u001b[0m\u001b[1;32m    681\u001b[0m \u001b[0;34m\u001b[0m\u001b[0m\n\u001b[1;32m    682\u001b[0m     \u001b[0;32mexcept\u001b[0m \u001b[0mException\u001b[0m\u001b[0;34m:\u001b[0m\u001b[0;34m\u001b[0m\u001b[0;34m\u001b[0m\u001b[0m\n",
            "\u001b[0;32m/usr/local/lib/python3.7/dist-packages/sklearn/linear_model/_logistic.py\u001b[0m in \u001b[0;36mfit\u001b[0;34m(self, X, y, sample_weight)\u001b[0m\n\u001b[1;32m   1539\u001b[0m                 \u001b[0mself\u001b[0m\u001b[0;34m.\u001b[0m\u001b[0mtol\u001b[0m\u001b[0;34m,\u001b[0m\u001b[0;34m\u001b[0m\u001b[0;34m\u001b[0m\u001b[0m\n\u001b[1;32m   1540\u001b[0m                 \u001b[0mself\u001b[0m\u001b[0;34m.\u001b[0m\u001b[0mrandom_state\u001b[0m\u001b[0;34m,\u001b[0m\u001b[0;34m\u001b[0m\u001b[0;34m\u001b[0m\u001b[0m\n\u001b[0;32m-> 1541\u001b[0;31m                 \u001b[0msample_weight\u001b[0m\u001b[0;34m=\u001b[0m\u001b[0msample_weight\u001b[0m\u001b[0;34m,\u001b[0m\u001b[0;34m\u001b[0m\u001b[0;34m\u001b[0m\u001b[0m\n\u001b[0m\u001b[1;32m   1542\u001b[0m             )\n\u001b[1;32m   1543\u001b[0m             \u001b[0mself\u001b[0m\u001b[0;34m.\u001b[0m\u001b[0mn_iter_\u001b[0m \u001b[0;34m=\u001b[0m \u001b[0mnp\u001b[0m\u001b[0;34m.\u001b[0m\u001b[0marray\u001b[0m\u001b[0;34m(\u001b[0m\u001b[0;34m[\u001b[0m\u001b[0mn_iter_\u001b[0m\u001b[0;34m]\u001b[0m\u001b[0;34m)\u001b[0m\u001b[0;34m\u001b[0m\u001b[0;34m\u001b[0m\u001b[0m\n",
            "\u001b[0;32m/usr/local/lib/python3.7/dist-packages/sklearn/svm/_base.py\u001b[0m in \u001b[0;36m_fit_liblinear\u001b[0;34m(X, y, C, fit_intercept, intercept_scaling, class_weight, penalty, dual, verbose, max_iter, tol, random_state, multi_class, loss, epsilon, sample_weight)\u001b[0m\n\u001b[1;32m   1196\u001b[0m         \u001b[0mrnd\u001b[0m\u001b[0;34m.\u001b[0m\u001b[0mrandint\u001b[0m\u001b[0;34m(\u001b[0m\u001b[0mnp\u001b[0m\u001b[0;34m.\u001b[0m\u001b[0miinfo\u001b[0m\u001b[0;34m(\u001b[0m\u001b[0;34m\"i\"\u001b[0m\u001b[0;34m)\u001b[0m\u001b[0;34m.\u001b[0m\u001b[0mmax\u001b[0m\u001b[0;34m)\u001b[0m\u001b[0;34m,\u001b[0m\u001b[0;34m\u001b[0m\u001b[0;34m\u001b[0m\u001b[0m\n\u001b[1;32m   1197\u001b[0m         \u001b[0mepsilon\u001b[0m\u001b[0;34m,\u001b[0m\u001b[0;34m\u001b[0m\u001b[0;34m\u001b[0m\u001b[0m\n\u001b[0;32m-> 1198\u001b[0;31m         \u001b[0msample_weight\u001b[0m\u001b[0;34m,\u001b[0m\u001b[0;34m\u001b[0m\u001b[0;34m\u001b[0m\u001b[0m\n\u001b[0m\u001b[1;32m   1199\u001b[0m     )\n\u001b[1;32m   1200\u001b[0m     \u001b[0;31m# Regarding rnd.randint(..) in the above signature:\u001b[0m\u001b[0;34m\u001b[0m\u001b[0;34m\u001b[0m\u001b[0;34m\u001b[0m\u001b[0m\n",
            "\u001b[0;31mKeyboardInterrupt\u001b[0m: "
          ]
        }
      ]
    },
    {
      "cell_type": "code",
      "source": [
        "b1 = ova_estimators['A']"
      ],
      "metadata": {
        "id": "vMNmjUm320Vq"
      },
      "execution_count": null,
      "outputs": []
    },
    {
      "cell_type": "code",
      "source": [
        "ova_estimators"
      ],
      "metadata": {
        "colab": {
          "base_uri": "https://localhost:8080/"
        },
        "id": "qZgrICuda_kR",
        "outputId": "78f51063-5d59-45ac-f20d-5d7c6eabcb26"
      },
      "execution_count": null,
      "outputs": [
        {
          "output_type": "execute_result",
          "data": {
            "text/plain": [
              "{'A': LogisticRegression(C=1.5, class_weight='balanced', max_iter=1000,\n",
              "                    solver='newton-cg'),\n",
              " 'B': LogisticRegression(C=1.5, class_weight='balanced', max_iter=1000, penalty='l1',\n",
              "                    solver='liblinear'),\n",
              " 'C': LogisticRegression(max_iter=1000),\n",
              " 'D': LogisticRegression(max_iter=1000),\n",
              " 'E': LogisticRegression(max_iter=1000),\n",
              " 'F': LogisticRegression(max_iter=1000),\n",
              " 'G': LogisticRegression(max_iter=1000),\n",
              " 'H': LogisticRegression(max_iter=1000),\n",
              " 'I': LogisticRegression(max_iter=1000),\n",
              " 'W': LogisticRegression(max_iter=1000),\n",
              " 'X': LogisticRegression(max_iter=1000),\n",
              " 'Y': LogisticRegression(max_iter=1000)}"
            ]
          },
          "metadata": {},
          "execution_count": 116
        }
      ]
    },
    {
      "cell_type": "code",
      "source": [
        "ova_estimators['I'] = LogisticRegression(max_iter=1000).fit(X_train, ova_databases['I'])\n",
        "ova_estimators['W'] = LogisticRegression(max_iter=1000).fit(X_train, ova_databases['W'])\n",
        "ova_estimators['X'] = LogisticRegression(max_iter=1000).fit(X_train, ova_databases['X'])\n",
        "ova_estimators['Y'] = LogisticRegression(max_iter=1000).fit(X_train, ova_databases['Y'])"
      ],
      "metadata": {
        "id": "aQswjLHA5B0K"
      },
      "execution_count": null,
      "outputs": []
    },
    {
      "cell_type": "code",
      "source": [
        "for scribe in ova_estimators.keys():\n",
        "  temp = np.where(Y_test == scribe)  \n",
        "  class_idx = 0\n",
        "  new_y_test = np.ndarray(Y_test.shape, dtype=object)\n",
        "  idx_cidx = []\n",
        "  for idx, line in enumerate(X_test):\n",
        "    if  class_idx < len(temp[0]) and temp[0][class_idx] == idx:\n",
        "      idx_cidx.append(idx)\n",
        "      new_y_test[idx] = Y_test[idx]\n",
        "      class_idx += 1\n",
        "    else:\n",
        "      new_y_test[idx] = '!{}'.format(scribe)\n",
        "  a_test_y = new_y_test\n",
        "  print('scribe {} acc: {}'.format(scribe, ova_estimators[scribe].score(X_test, a_test_y)))"
      ],
      "metadata": {
        "colab": {
          "base_uri": "https://localhost:8080/"
        },
        "id": "msqyIDkU3VCe",
        "outputId": "fa3ec4c0-7f8f-4681-95d2-833d0b723ed2"
      },
      "execution_count": null,
      "outputs": [
        {
          "output_type": "stream",
          "name": "stdout",
          "text": [
            "scribe A acc: 0.6818399616674653\n",
            "scribe B acc: 0.9997604216578821\n",
            "scribe C acc: 0.9913751796837565\n",
            "scribe D acc: 0.9664590321034978\n",
            "scribe E acc: 0.8852419741255391\n",
            "scribe F acc: 0.8047436511739339\n",
            "scribe G acc: 0.9551988500239579\n",
            "scribe H acc: 0.9465740297077144\n",
            "scribe I acc: 0.9750838524197413\n",
            "scribe W acc: 0.9956875898418783\n",
            "scribe X acc: 0.9753234307618591\n",
            "scribe Y acc: 0.9712505989458553\n"
          ]
        }
      ]
    },
    {
      "cell_type": "code",
      "source": [
        "X_test[0]"
      ],
      "metadata": {
        "colab": {
          "base_uri": "https://localhost:8080/"
        },
        "id": "ANDuxz_-6RaP",
        "outputId": "126b8455-72ca-4ef8-9ae0-7c0da17d57f8"
      },
      "execution_count": null,
      "outputs": [
        {
          "output_type": "execute_result",
          "data": {
            "text/plain": [
              "array([-0.128929, -0.511072, 0.342319, 0.170775, 0.261718, 1.685209,\n",
              "       -0.044076, -1096.0, -0.559546, 1.709756], dtype=object)"
            ]
          },
          "metadata": {},
          "execution_count": 119
        }
      ]
    },
    {
      "cell_type": "code",
      "source": [
        "ova_estimators['E'].predict([X_test[1]])"
      ],
      "metadata": {
        "colab": {
          "base_uri": "https://localhost:8080/"
        },
        "id": "d46EmIV46Div",
        "outputId": "307af79e-3ec4-44ca-8799-589f0db1b77a"
      },
      "execution_count": null,
      "outputs": [
        {
          "output_type": "execute_result",
          "data": {
            "text/plain": [
              "array(['!E'], dtype=object)"
            ]
          },
          "metadata": {},
          "execution_count": 157
        }
      ]
    },
    {
      "cell_type": "code",
      "source": [
        "ova_estimators['E'].predict_proba([X_test[1]])"
      ],
      "metadata": {
        "colab": {
          "base_uri": "https://localhost:8080/"
        },
        "id": "eP7cnGtV7g2a",
        "outputId": "d25a7212-89aa-4166-e7dd-a0b50a469f36"
      },
      "execution_count": null,
      "outputs": [
        {
          "output_type": "execute_result",
          "data": {
            "text/plain": [
              "array([[0.81330864, 0.18669136]])"
            ]
          },
          "metadata": {},
          "execution_count": 158
        }
      ]
    },
    {
      "cell_type": "code",
      "source": [
        "ova_estimators['D'].classes_"
      ],
      "metadata": {
        "colab": {
          "base_uri": "https://localhost:8080/"
        },
        "id": "tWQfmrfl7uPc",
        "outputId": "d7e029d0-3525-4a4e-dc58-2f60540ea37d"
      },
      "execution_count": null,
      "outputs": [
        {
          "output_type": "execute_result",
          "data": {
            "text/plain": [
              "array(['!D', 'D'], dtype=object)"
            ]
          },
          "metadata": {},
          "execution_count": 128
        }
      ]
    },
    {
      "cell_type": "code",
      "source": [
        "Y_test[1]"
      ],
      "metadata": {
        "colab": {
          "base_uri": "https://localhost:8080/",
          "height": 35
        },
        "id": "tcLX541Z6lzx",
        "outputId": "9391cc7c-04dc-4343-af39-8075df688fe1"
      },
      "execution_count": null,
      "outputs": [
        {
          "output_type": "execute_result",
          "data": {
            "text/plain": [
              "'E'"
            ],
            "application/vnd.google.colaboratory.intrinsic+json": {
              "type": "string"
            }
          },
          "metadata": {},
          "execution_count": 156
        }
      ]
    },
    {
      "cell_type": "code",
      "source": [
        "def ova_classify_one(estimators_dict, x):\n",
        "  probabilities = []\n",
        "  idx = 0\n",
        "  for scribe in estimators_dict.keys():\n",
        "    aux_prob = estimators_dict[scribe].predict_proba([x])\n",
        "    aux_answer = estimators_dict[scribe].predict([x])\n",
        "    #print('scribe: {}'.format(scribe))\n",
        "    #print(aux_answer[0][0])\n",
        "    idx+=1\n",
        "    #print(idx, scribe)\n",
        "    probabilities.append((scribe, aux_prob[0][1]))\n",
        "    #print(probabilities)\n",
        "    #print('entrou')\n",
        "  \n",
        "  sorted_probabilites = sorted(probabilities, key=lambda tup: tup[1], reverse=True)\n",
        "  #print(sorted_probabilites)\n",
        "  return sorted_probabilites[0]\n",
        "\n",
        "def ova_classify_all(estimators_dict, X):\n",
        "  predicted_y = []\n",
        "  for x in X:\n",
        "    predicted_y.append(ova_classify_one(estimators_dict, x))\n",
        "  return predicted_y\n",
        "\n",
        "pred_y = ova_classify_all(ova_estimators, X_test)"
      ],
      "metadata": {
        "id": "yIpgWSsK5jIv"
      },
      "execution_count": null,
      "outputs": []
    },
    {
      "cell_type": "code",
      "source": [
        "pred_y"
      ],
      "metadata": {
        "colab": {
          "base_uri": "https://localhost:8080/"
        },
        "id": "MMvMDe7s-TMV",
        "outputId": "d7501f87-1487-432e-d32c-34173f8c4070"
      },
      "execution_count": null,
      "outputs": [
        {
          "output_type": "execute_result",
          "data": {
            "text/plain": [
              "[('A', 0.6884275401087053),\n",
              " ('A', 0.30375032524266676),\n",
              " ('A', 0.600781627414917),\n",
              " ('I', 0.7547908727923179),\n",
              " ('A', 0.5638701986730569),\n",
              " ('A', 0.27289529964233644),\n",
              " ('A', 0.4256775264074503),\n",
              " ('I', 0.6226894593131106),\n",
              " ('A', 0.33217669110018944),\n",
              " ('A', 0.6179314921908232),\n",
              " ('A', 0.5423583211743783),\n",
              " ('F', 0.2433094734781482),\n",
              " ('A', 0.5829638480868351),\n",
              " ('A', 0.6232258456177857),\n",
              " ('A', 0.2686930781686193),\n",
              " ('A', 0.5307274052505351),\n",
              " ('A', 0.4990577776554794),\n",
              " ('A', 0.6111042623000866),\n",
              " ('A', 0.5285926771008088),\n",
              " ('X', 0.754773593175922),\n",
              " ('A', 0.35073337821931166),\n",
              " ('A', 0.47263409519483146),\n",
              " ('A', 0.6174956228514774),\n",
              " ('A', 0.4246747021479826),\n",
              " ('A', 0.6786483036381646),\n",
              " ('A', 0.9156370103031369),\n",
              " ('A', 0.8957772252233445),\n",
              " ('A', 0.3966353655535212),\n",
              " ('A', 0.8526227434659265),\n",
              " ('A', 0.6314638194999338),\n",
              " ('A', 0.33931187695685916),\n",
              " ('X', 0.8204333317723075),\n",
              " ('A', 0.42639983807198706),\n",
              " ('A', 0.24685359588105527),\n",
              " ('A', 0.48792720042307525),\n",
              " ('A', 0.8181298076159789),\n",
              " ('A', 0.5761068343470453),\n",
              " ('A', 0.43892175020528756),\n",
              " ('A', 0.6057204935741036),\n",
              " ('A', 0.8274882036321533),\n",
              " ('X', 0.9152751107438978),\n",
              " ('X', 0.6230166065543324),\n",
              " ('A', 0.3567331690197893),\n",
              " ('A', 0.5162383961261389),\n",
              " ('A', 0.6090845128116291),\n",
              " ('A', 0.8692406439225552),\n",
              " ('A', 0.4727620502869515),\n",
              " ('A', 0.46010358439838633),\n",
              " ('A', 0.2640168392496353),\n",
              " ('A', 0.3813987905048269),\n",
              " ('A', 0.31211338837452235),\n",
              " ('A', 0.8053754009205644),\n",
              " ('X', 0.527629000685901),\n",
              " ('A', 0.5628075606864676),\n",
              " ('A', 0.5322545085035666),\n",
              " ('A', 0.4294266344020139),\n",
              " ('A', 0.6686298593697553),\n",
              " ('A', 0.40591808543963237),\n",
              " ('A', 0.7454477575688986),\n",
              " ('A', 0.79785341317486),\n",
              " ('A', 0.568618550630705),\n",
              " ('A', 0.5664422400443039),\n",
              " ('A', 0.8463964314163053),\n",
              " ('A', 0.9338069057963271),\n",
              " ('A', 0.4547819673883847),\n",
              " ('A', 0.5035949374507173),\n",
              " ('A', 0.48787682259030407),\n",
              " ('A', 0.6972758757905587),\n",
              " ('A', 0.4554414577958002),\n",
              " ('A', 0.3692280821312524),\n",
              " ('X', 0.6623692436659758),\n",
              " ('A', 0.9518780643241564),\n",
              " ('A', 0.9849397267055918),\n",
              " ('A', 0.5734662024092582),\n",
              " ('A', 0.9433460869264105),\n",
              " ('E', 0.5648944595268894),\n",
              " ('I', 0.7749377112556572),\n",
              " ('A', 0.5564668279742858),\n",
              " ('A', 0.26758597838773424),\n",
              " ('A', 0.23159502298629842),\n",
              " ('A', 0.5709842233454717),\n",
              " ('X', 0.8270194782312416),\n",
              " ('A', 0.5934428414364081),\n",
              " ('A', 0.7075340484596468),\n",
              " ('A', 0.42750811511891973),\n",
              " ('I', 0.26056349834793774),\n",
              " ('A', 0.2921163173985766),\n",
              " ('A', 0.46771377619880805),\n",
              " ('A', 0.5815771016175678),\n",
              " ('A', 0.8755750184440747),\n",
              " ('X', 0.3601630740616866),\n",
              " ('A', 0.6898379232849976),\n",
              " ('A', 0.308486734743331),\n",
              " ('A', 0.52766798833369),\n",
              " ('A', 0.38480917407873244),\n",
              " ('A', 0.5788054583140709),\n",
              " ('A', 0.4351764699645139),\n",
              " ('A', 0.6936712770402632),\n",
              " ('A', 0.3599681584134094),\n",
              " ('A', 0.33613372947890485),\n",
              " ('A', 0.33729776691699276),\n",
              " ('A', 0.43724849513640246),\n",
              " ('A', 0.3065871978738689),\n",
              " ('A', 0.4695996400500966),\n",
              " ('A', 0.42030456930752336),\n",
              " ('A', 0.6728993280614786),\n",
              " ('A', 0.5096368785961197),\n",
              " ('A', 0.5453263013902439),\n",
              " ('A', 0.35660463404371284),\n",
              " ('A', 0.3267854472309034),\n",
              " ('A', 0.46818226192502654),\n",
              " ('A', 0.4885805679654214),\n",
              " ('A', 0.6713081511978559),\n",
              " ('I', 0.7664401475103294),\n",
              " ('I', 0.7582336751648171),\n",
              " ('A', 0.5838526856950234),\n",
              " ('A', 0.4867050099439907),\n",
              " ('I', 0.6553385493229532),\n",
              " ('A', 0.6568705043344711),\n",
              " ('A', 0.6551008147471747),\n",
              " ('A', 0.3566446191559594),\n",
              " ('A', 0.4087214399119362),\n",
              " ('A', 0.7564721436561191),\n",
              " ('A', 0.660746972985922),\n",
              " ('A', 0.5895452851788205),\n",
              " ('A', 0.3897519030334333),\n",
              " ('A', 0.6292934651020053),\n",
              " ('A', 0.6703353077336823),\n",
              " ('A', 0.6864160486500538),\n",
              " ('A', 0.46806136103124923),\n",
              " ('A', 0.9824650885553974),\n",
              " ('A', 0.453967049407607),\n",
              " ('A', 0.8505198602435664),\n",
              " ('A', 0.3900358511637451),\n",
              " ('A', 0.3328450709863519),\n",
              " ('A', 0.5088577742912626),\n",
              " ('A', 0.3402796754430822),\n",
              " ('A', 0.4362333507922982),\n",
              " ('A', 0.6919178398529756),\n",
              " ('A', 0.3911100281861241),\n",
              " ('A', 0.42758480019404604),\n",
              " ('A', 0.49027173055887474),\n",
              " ('X', 0.8607381004944333),\n",
              " ('A', 0.5404169356567718),\n",
              " ('A', 0.5609647349874419),\n",
              " ('A', 0.45352321457385736),\n",
              " ('A', 0.8456353808968645),\n",
              " ('A', 0.5639059952515162),\n",
              " ('G', 0.5716449391243517),\n",
              " ('A', 0.3412099389624881),\n",
              " ('A', 0.3280542718949356),\n",
              " ('A', 0.7104581208558108),\n",
              " ('A', 0.5237276563504498),\n",
              " ('A', 0.6429634893547058),\n",
              " ('A', 0.3106335133859366),\n",
              " ('A', 0.4675985713991609),\n",
              " ('A', 0.6526218260460797),\n",
              " ('X', 0.8878734290318417),\n",
              " ('A', 0.7367398093630559),\n",
              " ('A', 0.5835128623675492),\n",
              " ('A', 0.5081493956547657),\n",
              " ('A', 0.655430407294239),\n",
              " ('A', 0.22550950906366438),\n",
              " ('A', 0.5749239415833103),\n",
              " ('A', 0.5231959410533549),\n",
              " ('A', 0.4942555696553538),\n",
              " ('A', 0.34220461974851896),\n",
              " ('A', 0.5387413609775927),\n",
              " ('A', 0.3885971674526465),\n",
              " ('F', 0.30950104914725096),\n",
              " ('A', 0.5082727154150318),\n",
              " ('A', 0.36252535301540845),\n",
              " ('X', 0.7754814067897718),\n",
              " ('A', 0.6120135936466109),\n",
              " ('I', 0.7804807564806227),\n",
              " ('A', 0.3320384010400076),\n",
              " ('A', 0.5808570263318413),\n",
              " ('A', 0.5325157687028845),\n",
              " ('A', 0.36644400546440425),\n",
              " ('A', 0.456402015122678),\n",
              " ('A', 0.8312208674300178),\n",
              " ('X', 0.5776261196202638),\n",
              " ('A', 0.39858853114041737),\n",
              " ('A', 0.4852827688262676),\n",
              " ('A', 0.505123274223768),\n",
              " ('A', 0.43028925343790697),\n",
              " ('A', 0.3520862223147353),\n",
              " ('A', 0.47043342384955833),\n",
              " ('A', 0.7228353309362008),\n",
              " ('A', 0.6568978433613712),\n",
              " ('A', 0.589920716984515),\n",
              " ('I', 0.7018368486372291),\n",
              " ('A', 0.4020872911317188),\n",
              " ('A', 0.7887449297029308),\n",
              " ('A', 0.3492730167523216),\n",
              " ('A', 0.5721270960585675),\n",
              " ('A', 0.6139464276800114),\n",
              " ('I', 0.8107938060044212),\n",
              " ('A', 0.33560131244400926),\n",
              " ('A', 0.5031934493271967),\n",
              " ('A', 0.5273149028510642),\n",
              " ('A', 0.736677271622805),\n",
              " ('A', 0.8724475029168224),\n",
              " ('A', 0.6670020935035292),\n",
              " ('A', 0.3636614783591358),\n",
              " ('A', 0.5377078502474976),\n",
              " ('I', 0.7697061148997828),\n",
              " ('A', 0.8151209599384621),\n",
              " ('A', 0.6461848998626399),\n",
              " ('A', 0.4711317175495591),\n",
              " ('I', 0.23317651855664578),\n",
              " ('A', 0.8913130278992007),\n",
              " ('A', 0.6684596016245996),\n",
              " ('I', 0.8012817758579454),\n",
              " ('A', 0.5560687452937898),\n",
              " ('A', 0.5516792683482697),\n",
              " ('A', 0.6051147980782343),\n",
              " ('A', 0.4960215447700179),\n",
              " ('A', 0.5150190591146298),\n",
              " ('A', 0.7138923843149759),\n",
              " ('A', 0.6287179634476334),\n",
              " ('A', 0.802486997028475),\n",
              " ('A', 0.4423025748633025),\n",
              " ('X', 0.7017479726077938),\n",
              " ('E', 0.20045377770735248),\n",
              " ('A', 0.3551211114825987),\n",
              " ('A', 0.5792029406890988),\n",
              " ('A', 0.46709007577176903),\n",
              " ('A', 0.38076329649483004),\n",
              " ('A', 0.402920548805003),\n",
              " ('A', 0.5396743739170659),\n",
              " ('A', 0.41799284711321677),\n",
              " ('A', 0.5426656945225188),\n",
              " ('A', 0.5417037605361261),\n",
              " ('A', 0.5829425871113796),\n",
              " ('A', 0.5121967649501104),\n",
              " ('A', 0.9269935758010586),\n",
              " ('A', 0.4005055562225737),\n",
              " ('A', 0.33866342186230564),\n",
              " ('A', 0.6382144626466602),\n",
              " ('A', 0.5394126605656491),\n",
              " ('A', 0.2481952286029498),\n",
              " ('A', 0.36275835662643907),\n",
              " ('A', 0.5011592289101032),\n",
              " ('X', 0.4680863136634394),\n",
              " ('A', 0.7316919871816555),\n",
              " ('A', 0.3479085696103523),\n",
              " ('A', 0.6412536417383774),\n",
              " ('A', 0.552805209361107),\n",
              " ('A', 0.29496119612347277),\n",
              " ('I', 0.7013937980980418),\n",
              " ('A', 0.44117202028092856),\n",
              " ('A', 0.9002551063448822),\n",
              " ('A', 0.2644832501960571),\n",
              " ('X', 0.5589572420067643),\n",
              " ('A', 0.6646410871113179),\n",
              " ('A', 0.2373037195228338),\n",
              " ('A', 0.29187019022000793),\n",
              " ('X', 0.8618407999456225),\n",
              " ('A', 0.5340500819276065),\n",
              " ('A', 0.6251311072504857),\n",
              " ('A', 0.5372347245178521),\n",
              " ('I', 0.35647997861088465),\n",
              " ('A', 0.6006457549952511),\n",
              " ('A', 0.7128880745437811),\n",
              " ('A', 0.5140971084862388),\n",
              " ('A', 0.5350448697218447),\n",
              " ('A', 0.9490783854841417),\n",
              " ('A', 0.6511920567109841),\n",
              " ('A', 0.6929992835269952),\n",
              " ('A', 0.6638423664711407),\n",
              " ('A', 0.8537929955209048),\n",
              " ('A', 0.6729907160672838),\n",
              " ('A', 0.43914422067056036),\n",
              " ('A', 0.35040598280430607),\n",
              " ('A', 0.6403716218903758),\n",
              " ('A', 0.5265633953721188),\n",
              " ('A', 0.5476368419273582),\n",
              " ('A', 0.3260785790925045),\n",
              " ('A', 0.48262107296574114),\n",
              " ('A', 0.6013335218316329),\n",
              " ('A', 0.5459516622908192),\n",
              " ('A', 0.6791080219389284),\n",
              " ('A', 0.6925229479971374),\n",
              " ('A', 0.6792751067705279),\n",
              " ('A', 0.2567854037221904),\n",
              " ('A', 0.4019039144045845),\n",
              " ('F', 0.599714076429413),\n",
              " ('A', 0.6149715594740199),\n",
              " ('A', 0.24403947324658254),\n",
              " ('A', 0.6119491673884229),\n",
              " ('A', 0.6917433621346887),\n",
              " ('A', 0.2871938448364967),\n",
              " ('A', 0.7252926895421571),\n",
              " ('A', 0.5325718649993023),\n",
              " ('A', 0.7078268802048174),\n",
              " ('A', 0.45838319373203856),\n",
              " ('A', 0.5878017097596062),\n",
              " ('I', 0.5430705015198823),\n",
              " ('A', 0.6614704889241612),\n",
              " ('A', 0.4654706057063002),\n",
              " ('A', 0.4898790862003388),\n",
              " ('A', 0.5823871965729013),\n",
              " ('F', 0.24582539602160522),\n",
              " ('A', 0.5975114796695512),\n",
              " ('A', 0.4757384427807503),\n",
              " ('A', 0.5400896468124038),\n",
              " ('A', 0.6556243380120252),\n",
              " ('A', 0.4583174118638026),\n",
              " ('A', 0.7282840141274879),\n",
              " ('A', 0.5688251669787565),\n",
              " ('A', 0.630984694754741),\n",
              " ('A', 0.5858930424699087),\n",
              " ('A', 0.4229248108087646),\n",
              " ('A', 0.532966173563594),\n",
              " ('X', 0.696331528061738),\n",
              " ('A', 0.5736105218680637),\n",
              " ('A', 0.48751520727300945),\n",
              " ('A', 0.31047279750906204),\n",
              " ('A', 0.3193281540337842),\n",
              " ('A', 0.2683377498716485),\n",
              " ('X', 0.9921059941942134),\n",
              " ('A', 0.4694302642868787),\n",
              " ('A', 0.6072040097064553),\n",
              " ('A', 0.37028302888178183),\n",
              " ('E', 0.404028099506283),\n",
              " ('A', 0.33511988224161016),\n",
              " ('A', 0.609471910901822),\n",
              " ('A', 0.4375776573409767),\n",
              " ('A', 0.3795774017310417),\n",
              " ('A', 0.5019018665239836),\n",
              " ('A', 0.29031342318719316),\n",
              " ('A', 0.4617364599915464),\n",
              " ('A', 0.5370540983124883),\n",
              " ('A', 0.51993920472129),\n",
              " ('A', 0.6960320980672099),\n",
              " ('A', 0.5180636343931645),\n",
              " ('A', 0.48301342215215026),\n",
              " ('A', 0.38813522885665963),\n",
              " ('A', 0.6720786890735448),\n",
              " ('A', 0.29385368501421977),\n",
              " ('A', 0.5006578642072386),\n",
              " ('A', 0.3990731395760963),\n",
              " ('A', 0.40788385841596475),\n",
              " ('A', 0.4435404729103653),\n",
              " ('A', 0.5498351279589602),\n",
              " ('A', 0.5569176807704713),\n",
              " ('I', 0.8514490252695391),\n",
              " ('A', 0.8398197006692886),\n",
              " ('A', 0.40697294410673146),\n",
              " ('A', 0.6634304947088606),\n",
              " ('A', 0.8259221610868303),\n",
              " ('A', 0.7741814324796671),\n",
              " ('A', 0.6030187801229512),\n",
              " ('A', 0.5517176497807449),\n",
              " ('A', 0.4489804717345368),\n",
              " ('A', 0.548856904541719),\n",
              " ('A', 0.3568687988040127),\n",
              " ('A', 0.5688726209878489),\n",
              " ('A', 0.3021627933645333),\n",
              " ('I', 0.47156862280592465),\n",
              " ('I', 0.3465636584740347),\n",
              " ('F', 0.2204018700879899),\n",
              " ('A', 0.42667885723576304),\n",
              " ('A', 0.45015554294373933),\n",
              " ('A', 0.3619399152530849),\n",
              " ('A', 0.7011678361697854),\n",
              " ('A', 0.28069925503412424),\n",
              " ('A', 0.7078493111438717),\n",
              " ('A', 0.39605224498884484),\n",
              " ('A', 0.5225907143495748),\n",
              " ('A', 0.34842518946457346),\n",
              " ('A', 0.4007250156933908),\n",
              " ('A', 0.5879693253494813),\n",
              " ('A', 0.459781756618542),\n",
              " ('A', 0.405597976991291),\n",
              " ('A', 0.3314100993652663),\n",
              " ('I', 0.5656693058912339),\n",
              " ('A', 0.524974652529746),\n",
              " ('A', 0.46935885123866333),\n",
              " ('I', 0.8445427976860371),\n",
              " ('A', 0.7942101218595253),\n",
              " ('A', 0.4405825115858852),\n",
              " ('A', 0.6191145657825742),\n",
              " ('X', 0.8612696242656289),\n",
              " ('I', 0.6770082359730641),\n",
              " ('A', 0.5944495417098373),\n",
              " ('A', 0.4924197501552127),\n",
              " ('A', 0.7527166982356213),\n",
              " ('A', 0.5224531651458739),\n",
              " ('A', 0.33940768116627096),\n",
              " ('A', 0.43139522966894683),\n",
              " ('A', 0.3821536522873665),\n",
              " ('A', 0.5491023900881741),\n",
              " ('A', 0.4062308865943101),\n",
              " ('A', 0.2214023705155914),\n",
              " ('A', 0.3635990889331458),\n",
              " ('A', 0.7400906020824819),\n",
              " ('A', 0.5908330867690765),\n",
              " ('A', 0.3856734366008202),\n",
              " ('A', 0.7501096070607115),\n",
              " ('A', 0.8116916507267853),\n",
              " ('X', 0.74651782180691),\n",
              " ('A', 0.7171453087664883),\n",
              " ('A', 0.8789459062670052),\n",
              " ('A', 0.5174264575725888),\n",
              " ('X', 0.8815633305932772),\n",
              " ('A', 0.6087996931547068),\n",
              " ('A', 0.3919157727874245),\n",
              " ('A', 0.5363291913249649),\n",
              " ('A', 0.9112391678583914),\n",
              " ('A', 0.44226139051128877),\n",
              " ('X', 0.6980915245321245),\n",
              " ('A', 0.5640167972517076),\n",
              " ('A', 0.4305780829479102),\n",
              " ('A', 0.6838695214636425),\n",
              " ('A', 0.5656953147873071),\n",
              " ('A', 0.5252022398530656),\n",
              " ('A', 0.32706971013244807),\n",
              " ('A', 0.8527246604183901),\n",
              " ('A', 0.49092763825015273),\n",
              " ('A', 0.27348021092722413),\n",
              " ('A', 0.6976814365160451),\n",
              " ('A', 0.2835104748253113),\n",
              " ('A', 0.3179623271918868),\n",
              " ('A', 0.5513587982400258),\n",
              " ('A', 0.2199361233525992),\n",
              " ('A', 0.8868161382792881),\n",
              " ('A', 0.4419386108975585),\n",
              " ('A', 0.41628232246156044),\n",
              " ('A', 0.6759116832684279),\n",
              " ('A', 0.24147420410622292),\n",
              " ('A', 0.4874738864371243),\n",
              " ('A', 0.2410439534770509),\n",
              " ('A', 0.5327591974303554),\n",
              " ('A', 0.5532958130149404),\n",
              " ('A', 0.5614748301911756),\n",
              " ('A', 0.46047983487456334),\n",
              " ('A', 0.8504426333004242),\n",
              " ('E', 0.22852723608821615),\n",
              " ('A', 0.5155123467086508),\n",
              " ('A', 0.2087677014873784),\n",
              " ('A', 0.3970310617165729),\n",
              " ('X', 0.971166113297825),\n",
              " ('A', 0.31063573225523344),\n",
              " ('E', 0.6097539300101732),\n",
              " ('A', 0.9022512889617377),\n",
              " ('I', 0.9459487931447513),\n",
              " ('A', 0.38355774923113495),\n",
              " ('A', 0.38778604216763174),\n",
              " ('A', 0.45342435334495645),\n",
              " ('A', 0.3209052508210102),\n",
              " ('A', 0.45805730011235835),\n",
              " ('A', 0.5002595576737037),\n",
              " ('A', 0.32503047549787634),\n",
              " ('A', 0.6254850132759393),\n",
              " ('F', 0.21677102336853782),\n",
              " ('A', 0.5941318179548415),\n",
              " ('A', 0.7111338102928348),\n",
              " ('A', 0.4396749029338534),\n",
              " ('X', 0.3635486984695865),\n",
              " ('A', 0.4572232452938363),\n",
              " ('A', 0.7935302067338668),\n",
              " ('A', 0.8845040012580049),\n",
              " ('A', 0.4076221504572721),\n",
              " ('A', 0.26619819897673974),\n",
              " ('A', 0.541566457747391),\n",
              " ('A', 0.42265185483376905),\n",
              " ('A', 0.23733671136403864),\n",
              " ('A', 0.507869665359397),\n",
              " ('A', 0.4899048925059188),\n",
              " ('A', 0.5840395784172305),\n",
              " ('A', 0.3154291415603889),\n",
              " ('A', 0.48110524543881983),\n",
              " ('A', 0.3667964487831945),\n",
              " ('A', 0.54804732316087),\n",
              " ('A', 0.47467411962571404),\n",
              " ('A', 0.6173073667306674),\n",
              " ('A', 0.5873803998277322),\n",
              " ('A', 0.6894500701251389),\n",
              " ('A', 0.44882065279089983),\n",
              " ('E', 0.2193350874654953),\n",
              " ('A', 0.5624448949256051),\n",
              " ('A', 0.6305760095786986),\n",
              " ('A', 0.5026681586432689),\n",
              " ('A', 0.5060575419918121),\n",
              " ('I', 0.7835506069588241),\n",
              " ('A', 0.6577630417357341),\n",
              " ('A', 0.49017799562088143),\n",
              " ('A', 0.40551552643086),\n",
              " ('I', 0.7682793123076173),\n",
              " ('A', 0.4871940972143606),\n",
              " ('A', 0.45631354023055587),\n",
              " ('A', 0.5098526464026142),\n",
              " ('A', 0.954657571406188),\n",
              " ('A', 0.58410197865567),\n",
              " ('A', 0.6391409244321381),\n",
              " ('A', 0.6250388685870321),\n",
              " ('A', 0.5312434977812642),\n",
              " ('I', 0.41579988942711865),\n",
              " ('A', 0.588421649939362),\n",
              " ('I', 0.712528886121662),\n",
              " ('A', 0.5956238770271909),\n",
              " ('A', 0.4538588248355722),\n",
              " ('A', 0.8504689264015232),\n",
              " ('A', 0.3010949372245021),\n",
              " ('A', 0.5328959605597208),\n",
              " ('A', 0.5497731361596541),\n",
              " ('A', 0.3486133945400881),\n",
              " ('A', 0.5401272132924385),\n",
              " ('I', 0.7796460032202531),\n",
              " ('A', 0.792900363323622),\n",
              " ('A', 0.6645306483234117),\n",
              " ('A', 0.5630909974436745),\n",
              " ('A', 0.5995764259582292),\n",
              " ('A', 0.7997290281705259),\n",
              " ('X', 0.9552284829898118),\n",
              " ('A', 0.583180924648666),\n",
              " ('A', 0.6448883303557901),\n",
              " ('A', 0.574858710547821),\n",
              " ('A', 0.7337372030171299),\n",
              " ('I', 0.4691093644286665),\n",
              " ('X', 0.7855033316831417),\n",
              " ('A', 0.8087968785806462),\n",
              " ('A', 0.4185128032997829),\n",
              " ('A', 0.4137414414509037),\n",
              " ('A', 0.1664834539097535),\n",
              " ('A', 0.5441727919535222),\n",
              " ('A', 0.5088477146427225),\n",
              " ('A', 0.26211926705551464),\n",
              " ('I', 0.8745037547839671),\n",
              " ('A', 0.5527461911823986),\n",
              " ('A', 0.37093367201567),\n",
              " ('A', 0.48994556792184824),\n",
              " ('A', 0.665874683465963),\n",
              " ('A', 0.4734746688225548),\n",
              " ('A', 0.3501546144571786),\n",
              " ('I', 0.3704866920708909),\n",
              " ('A', 0.552954159754011),\n",
              " ('A', 0.8893883684894699),\n",
              " ('A', 0.3388505750336684),\n",
              " ('A', 0.5014353517175782),\n",
              " ('A', 0.49745786562134675),\n",
              " ('A', 0.584179610495283),\n",
              " ('A', 0.31588347844756304),\n",
              " ('A', 0.2844332034256337),\n",
              " ('A', 0.8397042413619622),\n",
              " ('A', 0.3147623679209705),\n",
              " ('A', 0.5996337042237779),\n",
              " ('A', 0.44356280039546564),\n",
              " ('A', 0.5583910800819575),\n",
              " ('A', 0.4949961487783508),\n",
              " ('A', 0.6321769079282121),\n",
              " ('A', 0.48289889481438386),\n",
              " ('A', 0.5812483334480449),\n",
              " ('A', 0.4640555230280493),\n",
              " ('A', 0.41480455080828016),\n",
              " ('A', 0.6829800151965105),\n",
              " ('A', 0.49446540174574005),\n",
              " ('A', 0.49520249416641465),\n",
              " ('A', 0.6915062680212755),\n",
              " ('A', 0.5362957439085809),\n",
              " ('A', 0.5326951586377981),\n",
              " ('I', 0.38035443536331676),\n",
              " ('A', 0.37982905329260275),\n",
              " ('A', 0.5131562576531111),\n",
              " ('A', 0.6633247604578579),\n",
              " ('A', 0.5528569911621597),\n",
              " ('A', 0.6273033238271445),\n",
              " ('A', 0.3764900126511108),\n",
              " ('X', 0.512648750303781),\n",
              " ('A', 0.5143512086235706),\n",
              " ('A', 0.6108589942106287),\n",
              " ('A', 0.6264536804626262),\n",
              " ('A', 0.7035492448382845),\n",
              " ('A', 0.8302984605210137),\n",
              " ('A', 0.3503119527806725),\n",
              " ('A', 0.6776845386433547),\n",
              " ('A', 0.3367630758995343),\n",
              " ('Y', 0.20365225757891436),\n",
              " ('A', 0.5680099212642848),\n",
              " ('A', 0.7029895044621254),\n",
              " ('A', 0.42788547036072727),\n",
              " ('A', 0.6562865978670928),\n",
              " ('I', 0.4286016940690578),\n",
              " ('A', 0.3737934472854651),\n",
              " ('A', 0.42641582615406265),\n",
              " ('F', 0.32780195948206164),\n",
              " ('A', 0.5674197277236017),\n",
              " ('A', 0.5688530388195867),\n",
              " ('A', 0.41653882770772044),\n",
              " ('A', 0.5011876399184688),\n",
              " ('A', 0.40905551348284225),\n",
              " ('A', 0.9068742686362677),\n",
              " ('A', 0.5241367829776449),\n",
              " ('A', 0.415560526201584),\n",
              " ('A', 0.4788927286834604),\n",
              " ('A', 0.49589012845465463),\n",
              " ('A', 0.454465521022744),\n",
              " ('A', 0.6845497191194584),\n",
              " ('I', 0.6884550981210055),\n",
              " ('A', 0.8363045348647606),\n",
              " ('A', 0.5565185091776333),\n",
              " ('A', 0.4474013762949672),\n",
              " ('A', 0.7681565391129149),\n",
              " ('I', 0.797027848490824),\n",
              " ('A', 0.7728770484892729),\n",
              " ('A', 0.7948848043324501),\n",
              " ('A', 0.5065933245721621),\n",
              " ('E', 0.13070277213491494),\n",
              " ('A', 0.43493359535434317),\n",
              " ('A', 0.5953898435037358),\n",
              " ('A', 0.3710202198265878),\n",
              " ('A', 0.3848459325079366),\n",
              " ('F', 0.697255731398422),\n",
              " ('A', 0.36883904958884556),\n",
              " ('A', 0.6440414463034217),\n",
              " ('A', 0.7251397436399224),\n",
              " ('A', 0.5695794632860433),\n",
              " ('A', 0.5701586565120891),\n",
              " ('A', 0.4451051928089009),\n",
              " ('A', 0.9876589663243027),\n",
              " ('E', 0.22827881363048816),\n",
              " ('A', 0.5670353821107339),\n",
              " ('I', 0.5250871305596323),\n",
              " ('A', 0.34085268846255695),\n",
              " ('A', 0.4382028069420681),\n",
              " ('A', 0.49056234297198503),\n",
              " ('A', 0.4959274890248844),\n",
              " ('A', 0.5169885039763408),\n",
              " ('A', 0.35385839892783183),\n",
              " ('A', 0.6124389414523883),\n",
              " ('A', 0.614419250380264),\n",
              " ('A', 0.47377869071779655),\n",
              " ('A', 0.6215958597162649),\n",
              " ('A', 0.49770717262079095),\n",
              " ('A', 0.407279234811015),\n",
              " ('X', 0.4465410527887099),\n",
              " ('A', 0.7222827936676954),\n",
              " ('A', 0.40977411044953804),\n",
              " ('I', 0.8452416557664088),\n",
              " ('A', 0.6503160647924451),\n",
              " ('A', 0.5283551388316216),\n",
              " ('A', 0.6338132502378425),\n",
              " ('A', 0.31192986212763346),\n",
              " ('E', 0.6468744953674233),\n",
              " ('A', 0.3546917140832435),\n",
              " ('A', 0.5807920827401153),\n",
              " ('X', 0.7598861531765639),\n",
              " ('A', 0.45915786672142095),\n",
              " ('A', 0.42021498400290863),\n",
              " ('I', 0.4524892223842568),\n",
              " ('A', 0.5623680341107445),\n",
              " ('A', 0.7507155209606523),\n",
              " ('E', 0.21569938611246334),\n",
              " ('A', 0.49030212515865895),\n",
              " ('X', 0.5767217526913407),\n",
              " ('A', 0.2927332084327891),\n",
              " ('A', 0.5688671353519346),\n",
              " ('A', 0.6152554161294564),\n",
              " ('A', 0.575067417338759),\n",
              " ('A', 0.3577353317706922),\n",
              " ('A', 0.421696075543232),\n",
              " ('A', 0.5038749487849004),\n",
              " ('A', 0.5356544551973907),\n",
              " ('A', 0.4528931483838778),\n",
              " ('A', 0.4115530303495142),\n",
              " ('A', 0.5773488204161726),\n",
              " ('A', 0.5783326717337235),\n",
              " ('A', 0.4971139735997675),\n",
              " ('A', 0.40788192870081225),\n",
              " ('A', 0.3662622164755454),\n",
              " ('A', 0.6119264067147001),\n",
              " ('A', 0.4382904717671002),\n",
              " ('A', 0.5460184104880993),\n",
              " ('X', 0.7755710006749496),\n",
              " ('A', 0.4164765776983895),\n",
              " ('A', 0.36621275564674954),\n",
              " ('A', 0.3354319358514068),\n",
              " ('A', 0.6186342810687798),\n",
              " ('A', 0.591894762155799),\n",
              " ('A', 0.523017695195256),\n",
              " ('A', 0.4957259218436903),\n",
              " ('A', 0.5295513625800475),\n",
              " ('A', 0.6093543353227089),\n",
              " ('A', 0.6491877365967972),\n",
              " ('A', 0.355984569274266),\n",
              " ('A', 0.2790386175192969),\n",
              " ('X', 0.7659102442832776),\n",
              " ('A', 0.6092841853211693),\n",
              " ('A', 0.3927338609018215),\n",
              " ('A', 0.4968947306284871),\n",
              " ('A', 0.6567935785596374),\n",
              " ('A', 0.5541892322306754),\n",
              " ('A', 0.8774481953106523),\n",
              " ('A', 0.4786397735529943),\n",
              " ('A', 0.41421344731534376),\n",
              " ('X', 0.6546546064889719),\n",
              " ('I', 0.9777480470637597),\n",
              " ('A', 0.3762611033171927),\n",
              " ('A', 0.4429370509369587),\n",
              " ('A', 0.48939742818624665),\n",
              " ('A', 0.6063613322867698),\n",
              " ('A', 0.271095302854569),\n",
              " ('A', 0.47933242891853006),\n",
              " ('E', 0.28883560014131093),\n",
              " ('A', 0.37465946247361315),\n",
              " ('A', 0.5123728041231754),\n",
              " ('I', 0.8267464662965663),\n",
              " ('I', 0.9886877750223361),\n",
              " ('A', 0.41805067428396314),\n",
              " ('A', 0.49551518597330735),\n",
              " ('A', 0.6444744107438689),\n",
              " ('A', 0.6191700447039286),\n",
              " ('A', 0.6057374806010218),\n",
              " ('A', 0.6979421211327663),\n",
              " ('I', 0.776311752136745),\n",
              " ('A', 0.7552780790634239),\n",
              " ('X', 0.9907361882535146),\n",
              " ('H', 0.673141269203101),\n",
              " ('A', 0.29870282612195415),\n",
              " ('A', 0.38416788531959306),\n",
              " ('A', 0.5089806089717864),\n",
              " ('A', 0.4983075493083778),\n",
              " ('A', 0.6066324958109965),\n",
              " ('A', 0.2709692206770778),\n",
              " ('A', 0.4350485038684521),\n",
              " ('A', 0.7431995622900479),\n",
              " ('A', 0.5008917547927274),\n",
              " ('A', 0.6244222538211878),\n",
              " ('A', 0.47843354898487933),\n",
              " ('A', 0.6345799717457661),\n",
              " ('A', 0.5746568005991005),\n",
              " ('A', 0.6364836474686282),\n",
              " ('A', 0.3661655862890738),\n",
              " ('I', 0.2942028427016136),\n",
              " ('A', 0.32877790105139),\n",
              " ('I', 0.8817045278223541),\n",
              " ('A', 0.6824523354561693),\n",
              " ('A', 0.5404845735375823),\n",
              " ('A', 0.8333903799896201),\n",
              " ('A', 0.32762203296251624),\n",
              " ('A', 0.6619045184364715),\n",
              " ('A', 0.6853626331567307),\n",
              " ('A', 0.5371719546273315),\n",
              " ('A', 0.5710362574324642),\n",
              " ('A', 0.6121966957468332),\n",
              " ('A', 0.62585320265271),\n",
              " ('A', 0.4208912169003435),\n",
              " ('A', 0.7079119746438629),\n",
              " ('I', 0.738457874638733),\n",
              " ('A', 0.5492279259805397),\n",
              " ('I', 0.6495320450691651),\n",
              " ('A', 0.5688111031227826),\n",
              " ('A', 0.5125789261916127),\n",
              " ('A', 0.486702520324139),\n",
              " ('A', 0.8052224590009402),\n",
              " ('A', 0.6744251291306805),\n",
              " ('A', 0.39365217915145445),\n",
              " ('A', 0.5277943398481071),\n",
              " ('I', 0.5240112992835047),\n",
              " ('A', 0.48265277051860694),\n",
              " ('A', 0.5140540330475379),\n",
              " ('A', 0.5861669284619014),\n",
              " ('A', 0.6968325778324087),\n",
              " ('A', 0.36973304845600646),\n",
              " ('A', 0.5919446858391052),\n",
              " ('A', 0.3465272303319225),\n",
              " ('X', 0.5298118326035375),\n",
              " ('A', 0.7256603156095838),\n",
              " ('A', 0.677490460193787),\n",
              " ('I', 0.9272562357227291),\n",
              " ('X', 0.9111466163771607),\n",
              " ('A', 0.4828084186869465),\n",
              " ('A', 0.2640354398395892),\n",
              " ('A', 0.5152839828792621),\n",
              " ('A', 0.44797538283538413),\n",
              " ('A', 0.2524902694863361),\n",
              " ('A', 0.556970629417127),\n",
              " ('A', 0.7618177701371248),\n",
              " ('A', 0.5154738384708156),\n",
              " ('A', 0.686210509158395),\n",
              " ('A', 0.8061398008365983),\n",
              " ('X', 0.9345352411223203),\n",
              " ('Y', 0.43049637990753464),\n",
              " ('A', 0.5833600627822939),\n",
              " ('A', 0.5657537104293515),\n",
              " ('A', 0.3074383659511082),\n",
              " ('A', 0.580898827485863),\n",
              " ('A', 0.5057078431737347),\n",
              " ('A', 0.40795020876810134),\n",
              " ('A', 0.8115858588836601),\n",
              " ('A', 0.5216407178727701),\n",
              " ('X', 0.796756592633941),\n",
              " ('A', 0.43894425420147737),\n",
              " ('A', 0.6183483653918067),\n",
              " ('A', 0.5666274257247647),\n",
              " ('A', 0.6308381197411093),\n",
              " ('A', 0.5773620328054987),\n",
              " ('A', 0.2651701950203482),\n",
              " ('F', 0.20490832433606562),\n",
              " ('A', 0.27516574347385486),\n",
              " ('A', 0.3136905421188175),\n",
              " ('A', 0.5160034041587261),\n",
              " ('A', 0.8728465084766117),\n",
              " ('A', 0.7414400977162713),\n",
              " ('I', 0.7499009796968469),\n",
              " ('A', 0.3696154149487266),\n",
              " ('A', 0.6930494248715005),\n",
              " ('A', 0.5213008538640175),\n",
              " ('A', 0.7419005932868908),\n",
              " ('A', 0.4675688370386861),\n",
              " ('A', 0.34394392264410895),\n",
              " ('A', 0.4284627941061424),\n",
              " ('A', 0.2917546022725369),\n",
              " ('A', 0.7642275946424115),\n",
              " ('A', 0.41780042250563415),\n",
              " ('A', 0.49355947942339223),\n",
              " ('A', 0.798896353649707),\n",
              " ('A', 0.38755097603855143),\n",
              " ('A', 0.5277677815159002),\n",
              " ('A', 0.4816950627624172),\n",
              " ('A', 0.2998557460031372),\n",
              " ('A', 0.5320669782163345),\n",
              " ('A', 0.3243573781212009),\n",
              " ('A', 0.4140654353209293),\n",
              " ('A', 0.5073701397064366),\n",
              " ('A', 0.2556938975289379),\n",
              " ('A', 0.5938706357880494),\n",
              " ('A', 0.7731285983075318),\n",
              " ('A', 0.34248784404799965),\n",
              " ('A', 0.23145969417228993),\n",
              " ('X', 0.6601563342014587),\n",
              " ('A', 0.4102778826527129),\n",
              " ('A', 0.30454338310663004),\n",
              " ('A', 0.3134632867319976),\n",
              " ('A', 0.5258642242598736),\n",
              " ('A', 0.8108188985400723),\n",
              " ('I', 0.9083315476431618),\n",
              " ('I', 0.5884561680199112),\n",
              " ('X', 0.835010332739799),\n",
              " ('A', 0.8949277109260699),\n",
              " ('A', 0.27357017695472446),\n",
              " ('A', 0.3300835633489607),\n",
              " ('A', 0.37188225225539057),\n",
              " ('A', 0.3668155728724056),\n",
              " ('A', 0.33293361084058665),\n",
              " ('A', 0.48912188083380653),\n",
              " ('A', 0.5698883229106606),\n",
              " ('A', 0.7859067872538615),\n",
              " ('X', 0.3025934236627677),\n",
              " ('A', 0.7164881994038695),\n",
              " ('A', 0.5843970469075018),\n",
              " ('A', 0.8082840919833539),\n",
              " ('A', 0.6810693129544144),\n",
              " ('A', 0.5269876155297349),\n",
              " ('A', 0.7609016810427056),\n",
              " ('A', 0.8993140960676208),\n",
              " ('A', 0.5500028185539811),\n",
              " ('A', 0.33234820977689955),\n",
              " ('A', 0.8103201572927378),\n",
              " ('A', 0.503593466293222),\n",
              " ('A', 0.5154459396884302),\n",
              " ('A', 0.3638733382341407),\n",
              " ('A', 0.6532942215975069),\n",
              " ('A', 0.8745505076729158),\n",
              " ('A', 0.4395715269477662),\n",
              " ('X', 0.5597373098295801),\n",
              " ('A', 0.489200955795293),\n",
              " ('A', 0.4908322961713215),\n",
              " ('A', 0.7316767949751269),\n",
              " ('A', 0.6310993239373202),\n",
              " ('A', 0.637608180931747),\n",
              " ('A', 0.4357761634425784),\n",
              " ('A', 0.5858473873005018),\n",
              " ('A', 0.5264078664031205),\n",
              " ('I', 0.6650909857476895),\n",
              " ('A', 0.6394270470165424),\n",
              " ('A', 0.3161486924175588),\n",
              " ('I', 0.3087604603198434),\n",
              " ('A', 0.32028756356426585),\n",
              " ('A', 0.3541959164218449),\n",
              " ('A', 0.5915510132494515),\n",
              " ('A', 0.5023292119858046),\n",
              " ('A', 0.4924215296337413),\n",
              " ('X', 0.9280536735946829),\n",
              " ('I', 0.7692710168800877),\n",
              " ('A', 0.5597848545317979),\n",
              " ('A', 0.628545909690413),\n",
              " ('A', 0.8967129506063615),\n",
              " ('A', 0.4359540801885625),\n",
              " ('A', 0.44577066704335466),\n",
              " ('A', 0.4226682059585613),\n",
              " ('A', 0.35753578760226384),\n",
              " ('A', 0.7963607873653202),\n",
              " ('A', 0.5890914133690196),\n",
              " ('A', 0.4736424134162282),\n",
              " ('A', 0.30278444515324027),\n",
              " ('A', 0.3894784434752604),\n",
              " ('A', 0.7827521000737745),\n",
              " ('I', 0.9795330777448705),\n",
              " ('A', 0.4842463699725587),\n",
              " ('A', 0.4081304366968649),\n",
              " ('A', 0.6390390197616098),\n",
              " ('A', 0.5648325466395389),\n",
              " ('Y', 0.5122749916839596),\n",
              " ('A', 0.632973627875101),\n",
              " ('A', 0.4853138112430925),\n",
              " ('X', 0.8884259407187669),\n",
              " ('X', 0.4131004969774563),\n",
              " ('A', 0.537455609421173),\n",
              " ('A', 0.6385892288417647),\n",
              " ('A', 0.5822588746066862),\n",
              " ('A', 0.365279664825459),\n",
              " ('A', 0.3687153887849222),\n",
              " ('A', 0.5437813852136444),\n",
              " ('A', 0.6343478005344911),\n",
              " ('A', 0.5327409143071229),\n",
              " ('A', 0.9215597981207556),\n",
              " ('A', 0.4917981608403534),\n",
              " ('A', 0.4626633344738405),\n",
              " ('X', 0.26664261803029754),\n",
              " ('F', 0.3417706303064414),\n",
              " ('A', 0.4509314649048947),\n",
              " ('A', 0.5168111478728507),\n",
              " ('A', 0.4860929812265644),\n",
              " ('A', 0.7418803618406354),\n",
              " ('A', 0.8099043952338344),\n",
              " ('A', 0.4119332365305941),\n",
              " ('A', 0.6750590383903393),\n",
              " ('A', 0.3941966312011971),\n",
              " ('A', 0.845618098383337),\n",
              " ('A', 0.47378362955164266),\n",
              " ('A', 0.5600085286747293),\n",
              " ('A', 0.4195551238710031),\n",
              " ('A', 0.2542997557436958),\n",
              " ('A', 0.7080637819550385),\n",
              " ('A', 0.5480176239148165),\n",
              " ('A', 0.4342018472875107),\n",
              " ('A', 0.30206671454755857),\n",
              " ('X', 0.8561337657939811),\n",
              " ('X', 0.7971948828110734),\n",
              " ('A', 0.3539237382356545),\n",
              " ('A', 0.40475871062270957),\n",
              " ('A', 0.8128722556930644),\n",
              " ('A', 0.31520804278421083),\n",
              " ('A', 0.4973624545441742),\n",
              " ('I', 0.3716763922768993),\n",
              " ('A', 0.5109607206501006),\n",
              " ('A', 0.2823865013045299),\n",
              " ('I', 0.29121787870528126),\n",
              " ('A', 0.5620027101037047),\n",
              " ('A', 0.49975758871337445),\n",
              " ('A', 0.4884191964910714),\n",
              " ('A', 0.6869628128088227),\n",
              " ('A', 0.5384082170849707),\n",
              " ('A', 0.7312992037998353),\n",
              " ('A', 0.3037663324556571),\n",
              " ('A', 0.6452552015184236),\n",
              " ('A', 0.5744253805052653),\n",
              " ('A', 0.5240905771001535),\n",
              " ('A', 0.5740307524103964),\n",
              " ('X', 0.9765740116136034),\n",
              " ('X', 0.7634399499689677),\n",
              " ('A', 0.4923759154417351),\n",
              " ('A', 0.46854541620843243),\n",
              " ('A', 0.45833870309214136),\n",
              " ('I', 0.6641061771792095),\n",
              " ('A', 0.5284880680075503),\n",
              " ('X', 0.7641730073672939),\n",
              " ('A', 0.6343474346833436),\n",
              " ('A', 0.7467911068143872),\n",
              " ('A', 0.4465806403107842),\n",
              " ('A', 0.28889220412090605),\n",
              " ('A', 0.25673591494683035),\n",
              " ('A', 0.2073656991757248),\n",
              " ('X', 0.9369673568811926),\n",
              " ('A', 0.31826870350530895),\n",
              " ('A', 0.7523835451863466),\n",
              " ('A', 0.8582914483961216),\n",
              " ('A', 0.36138019574507685),\n",
              " ('I', 0.6690817039881566),\n",
              " ('A', 0.746065521425866),\n",
              " ('I', 0.7874882053506609),\n",
              " ('A', 0.5871590690874764),\n",
              " ('A', 0.3628887235994531),\n",
              " ('A', 0.39818884747347955),\n",
              " ('A', 0.23810736295259582),\n",
              " ('A', 0.43530238476449523),\n",
              " ('A', 0.37559371946613734),\n",
              " ('A', 0.7573116627079861),\n",
              " ('A', 0.5366776656815556),\n",
              " ('A', 0.5806807931373958),\n",
              " ('A', 0.6070383053388841),\n",
              " ('X', 0.6549303291037575),\n",
              " ('A', 0.4166628993512433),\n",
              " ('A', 0.6140064559879784),\n",
              " ('A', 0.30593551610889963),\n",
              " ('I', 0.7885401353453212),\n",
              " ('A', 0.34717052004200466),\n",
              " ...]"
            ]
          },
          "metadata": {},
          "execution_count": 163
        }
      ]
    },
    {
      "cell_type": "code",
      "source": [
        "list_y = []\n",
        "for entry in pred_y:\n",
        "  list_y.append(entry[0])\n",
        "\n",
        "correct = 0\n",
        "total = len(list_y)\n",
        "for idx, pred in enumerate(list_y):\n",
        "  if pred == Y_test[idx]:\n",
        "    correct += 1\n",
        "\n",
        "print('acc: {}%'.format(correct/total * 100))"
      ],
      "metadata": {
        "colab": {
          "base_uri": "https://localhost:8080/"
        },
        "id": "2EkK07Fm3kG-",
        "outputId": "0f0fe05d-53c8-436c-827f-c07ab9c37515"
      },
      "execution_count": null,
      "outputs": [
        {
          "output_type": "stream",
          "name": "stdout",
          "text": [
            "acc: 50.143747005270725%\n"
          ]
        }
      ]
    },
    {
      "cell_type": "code",
      "source": [
        "from sklearn.metrics import classification_report"
      ],
      "metadata": {
        "id": "UyjsU7b_EQ6S"
      },
      "execution_count": null,
      "outputs": []
    },
    {
      "cell_type": "code",
      "source": [
        "classification_report(Y_test, list_y)"
      ],
      "metadata": {
        "colab": {
          "base_uri": "https://localhost:8080/",
          "height": 105
        },
        "id": "0zuymprQEWsl",
        "outputId": "cd7162a8-b95a-4946-a386-4dbe847c4d1a"
      },
      "execution_count": null,
      "outputs": [
        {
          "output_type": "execute_result",
          "data": {
            "text/plain": [
              "'              precision    recall  f1-score   support\\n\\n           A       0.46      0.98      0.63      1686\\n           B       0.50      1.00      0.67         1\\n           C       0.00      0.00      0.00        35\\n           D       0.00      0.00      0.00       140\\n           E       0.26      0.02      0.04       465\\n           F       0.00      0.00      0.00       784\\n           G       0.00      0.00      0.00       177\\n           H       0.53      0.04      0.07       215\\n           I       0.91      0.80      0.85       328\\n           W       0.00      0.00      0.00        17\\n           X       0.81      0.68      0.74       218\\n           Y       0.42      0.05      0.08       108\\n\\n    accuracy                           0.50      4174\\n   macro avg       0.32      0.30      0.26      4174\\nweighted avg       0.37      0.50      0.37      4174\\n'"
            ],
            "application/vnd.google.colaboratory.intrinsic+json": {
              "type": "string"
            }
          },
          "metadata": {},
          "execution_count": 168
        }
      ]
    },
    {
      "cell_type": "markdown",
      "source": [
        "              precision    recall  f1-score   support\n",
        "\n",
        "           A       0.46      0.98      0.63      1686\n",
        "           B       0.50      1.00      0.67         1\n",
        "           C       0.00      0.00      0.00        35\n",
        "           D       0.00      0.00      0.00       140\n",
        "           E       0.26      0.02      0.04       465\n",
        "           F       0.00      0.00      0.00       784\n",
        "           G       0.00      0.00      0.00       177\n",
        "           H       0.53      0.04      0.07       215\n",
        "           I       0.91      0.80      0.85       328\n",
        "           W       0.00      0.00      0.00        17\n",
        "           X       0.81      0.68      0.74       218\n",
        "           Y       0.42      0.05      0.08       108\n",
        "\n",
        "    accuracy                           0.50      4174\n",
        "   macro avg       0.32      0.30      0.26      4174\n",
        "weighted avg       0.37      0.50      0.37      4174"
      ],
      "metadata": {
        "id": "dfvYoyH4EinG"
      }
    },
    {
      "cell_type": "code",
      "source": [
        "b1.score(X_test, a_test_y)"
      ],
      "metadata": {
        "colab": {
          "base_uri": "https://localhost:8080/"
        },
        "id": "g6-snCh026V1",
        "outputId": "ea7b2ded-0fa4-464f-f6ed-902e5b05ab8a"
      },
      "execution_count": null,
      "outputs": [
        {
          "output_type": "execute_result",
          "data": {
            "text/plain": [
              "0.6818399616674653"
            ]
          },
          "metadata": {},
          "execution_count": 111
        }
      ]
    },
    {
      "cell_type": "code",
      "source": [
        "reg_log_ova = OneVsRestClassifier(LogisticRegression(max_iter=1000, random_state=10))\n",
        "reg_log_ova.fit(X_train, Y_train)\n"
      ],
      "metadata": {
        "colab": {
          "base_uri": "https://localhost:8080/"
        },
        "id": "J7m1Xs7mNBtW",
        "outputId": "454257b8-848b-457b-9e7d-33d902221f79"
      },
      "execution_count": null,
      "outputs": [
        {
          "output_type": "execute_result",
          "data": {
            "text/plain": [
              "OneVsRestClassifier(estimator=LogisticRegression(max_iter=1000,\n",
              "                                                 random_state=10))"
            ]
          },
          "metadata": {},
          "execution_count": 34
        }
      ]
    },
    {
      "cell_type": "code",
      "source": [
        "reg_log_ova.score(X_test, Y_test)"
      ],
      "metadata": {
        "colab": {
          "base_uri": "https://localhost:8080/"
        },
        "id": "jF39Xs_lOLYL",
        "outputId": "b44509b6-38b6-48d4-ebac-7dd6b1865fe0"
      },
      "execution_count": null,
      "outputs": [
        {
          "output_type": "execute_result",
          "data": {
            "text/plain": [
              "0.5069477719214183"
            ]
          },
          "metadata": {},
          "execution_count": 35
        }
      ]
    },
    {
      "cell_type": "markdown",
      "source": [
        "Observando a frequencia de cada classe"
      ],
      "metadata": {
        "id": "7GkyFEEtAs8x"
      }
    },
    {
      "cell_type": "code",
      "source": [
        "df_X = pd.DataFrame(X_train)\n",
        "df_Y = pd.DataFrame(Y_train)\n",
        "\n",
        "frames = [df_X, df_Y]\n",
        "df_Data = pd.concat(frames, axis=1, ignore_index = True)\n",
        "df_Data.columns = joinDataset.columns\n",
        "\n",
        "classes_frequency = df_Data.F11.value_counts()\n",
        "classes = df_Data.F11.unique()\n",
        "\n",
        "print(classes_frequency)\n",
        "\n",
        "# Numero de elementos de cada classe\n",
        "N_A = classes_frequency[0]\n",
        "N_F = classes_frequency[1]\n",
        "N_E = classes_frequency[2]\n",
        "N_I = classes_frequency[3]\n",
        "N_X = classes_frequency[4]\n",
        "N_H = classes_frequency[5]\n",
        "N_G = classes_frequency[6]\n",
        "N_D = classes_frequency[7]\n",
        "N_Y = classes_frequency[8]\n",
        "N_C = classes_frequency[9]\n",
        "N_W = classes_frequency[10]\n",
        "N_B = classes_frequency[11]\n",
        "\n",
        "frequencias = [N_A, N_F, N_E, N_I, N_X, N_H, N_G, N_D, N_Y, N_C, N_W, N_B]\n",
        "\n",
        "#Recuperando os dataframes de cada classe\n",
        "\n",
        "dfmask = df_Data['F11'] == 'A'\n",
        "df_A = df_Data[dfmask]\n",
        "dfmask = df_Data['F11'] == 'F'\n",
        "df_F = df_Data[dfmask]\n",
        "dfmask = df_Data['F11'] == 'E'\n",
        "df_E = df_Data[dfmask]\n",
        "dfmask = df_Data['F11'] == 'I'\n",
        "df_I = df_Data[dfmask]\n",
        "dfmask = df_Data['F11'] == 'X'\n",
        "df_X = df_Data[dfmask]\n",
        "dfmask = df_Data['F11'] == 'H'\n",
        "df_H = df_Data[dfmask]\n",
        "dfmask = df_Data['F11'] == 'G'\n",
        "df_G = df_Data[dfmask]\n",
        "dfmask = df_Data['F11'] == 'D'\n",
        "df_D = df_Data[dfmask]\n",
        "dfmask = df_Data['F11'] == 'Y'\n",
        "df_Y = df_Data[dfmask]\n",
        "dfmask = df_Data['F11'] == 'C'\n",
        "df_C = df_Data[dfmask]\n",
        "dfmask = df_Data['F11'] == 'W'\n",
        "df_W = df_Data[dfmask]\n",
        "dfmask = df_Data['F11'] == 'B'\n",
        "df_B = df_Data[dfmask]\n",
        "\n",
        "print(df_A.head(2))\n",
        "print(df_F.head(2))\n",
        "print(df_E.head(2))\n",
        "print(df_I.head(2))\n",
        "print(df_X.head(2))\n",
        "print(df_H.head(2))\n",
        "print(df_G.head(2))\n",
        "print(df_D.head(2))\n",
        "print(df_Y.head(2))\n",
        "print(df_C.head(2))\n",
        "print(df_W.head(2))\n",
        "print(df_B.head(2))\n",
        "\n",
        "#print(classes)\n",
        "#print(N_B)'''"
      ],
      "metadata": {
        "colab": {
          "base_uri": "https://localhost:8080/"
        },
        "id": "ALy_LBE-AxGo",
        "outputId": "e37c6ddb-f3f2-48bf-856b-81781951716a"
      },
      "execution_count": null,
      "outputs": [
        {
          "output_type": "stream",
          "name": "stdout",
          "text": [
            "A    6886\n",
            "F    3139\n",
            "E    1725\n",
            "I    1335\n",
            "X     826\n",
            "H     824\n",
            "G     716\n",
            "D     565\n",
            "Y     425\n",
            "C     171\n",
            "W      72\n",
            "B       9\n",
            "Name: F11, dtype: int64\n",
            "         F1       F2        F3       F4        F5        F6        F7  \\\n",
            "0   0.15498 -0.16562 -3.210528 -1.32068 -0.185173 -0.307984  0.484429   \n",
            "2  0.080916  0.10132   0.10404  0.14049  0.261718  0.647088  0.257927   \n",
            "\n",
            "         F8        F9       F10 F11  \n",
            "0  0.340506  0.157628 -0.415334   A  \n",
            "2 -0.327849 -0.247731  0.564989   A  \n",
            "         F1        F2        F3        F4        F5        F6        F7  \\\n",
            "4  0.142636 -0.000745  0.153829  0.955845  0.261718  0.024215 -0.119577   \n",
            "8 -0.042522 -0.322644  0.310311  0.287293  0.261718   0.06574  0.333428   \n",
            "\n",
            "         F8        F9       F10 F11  \n",
            "4  0.312063 -0.247731  0.209808   F  \n",
            "8  0.205842 -0.123005  0.005293   F  \n",
            "         F1        F2        F3        F4        F5        F6        F7  \\\n",
            "5 -0.425181 -0.220579  0.306755  0.496637  0.261718 -0.972381 -0.006326   \n",
            "6  0.043885  0.007106  1.348781 -1.249397 -0.185173 -0.515608  0.182426   \n",
            "\n",
            "         F8        F9       F10 F11  \n",
            "5  0.792381  0.687713 -0.769032   E  \n",
            "6  1.268777 -0.247731 -0.438469   E  \n",
            "          F1        F2        F3        F4        F5        F6        F7  \\\n",
            "12  0.364825 -0.000745 -0.052442  1.293223  0.976743  0.564038 -0.534832   \n",
            "14  0.907954  1.467426   0.37077 -1.242027  0.708609 -0.723232 -1.025587   \n",
            "\n",
            "          F8        F9      F10 F11  \n",
            "12    0.5048  1.342524  1.00124   I  \n",
            "14  1.087709  1.779065  0.03519   I  \n",
            "          F1        F2        F3        F4        F5        F6        F7  \\\n",
            "33 -3.498799 -0.754459  0.477462  1.600496 -4.922215  1.560634  0.597681   \n",
            "58  -0.32643 -0.157769  0.424116  1.924954   0.17234  0.771662 -0.195078   \n",
            "\n",
            "          F8        F9       F10 F11  \n",
            "33  0.778363 -0.684271  1.162995   X  \n",
            "58  0.967042  1.280161  0.965099   X  \n",
            "          F1        F2        F3        F4        F5        F6        F7  \\\n",
            "23  0.031541  0.195534  0.246296  0.627208  0.261718 -0.266459  0.144676   \n",
            "36  0.043885  0.069915  0.285416  0.372779  0.261718 -0.598658   0.52218   \n",
            "\n",
            "          F8        F9       F10 F11  \n",
            "23  1.388279  0.531806   -0.2249   H  \n",
            "36  0.490898  0.656532 -0.689589   H  \n",
            "          F1        F2        F3        F4        F5        F6        F7  \\\n",
            "1   0.327793   0.50173  0.050694 -1.018301  0.261718 -0.764757  0.333428   \n",
            "52  0.080916  0.438921   0.14316 -0.523288  0.261718 -0.889332   0.55993   \n",
            "\n",
            "          F8        F9       F10 F11  \n",
            "1   0.754385  0.812439  -0.74098   G  \n",
            "52 -0.969276 -0.902542 -0.960311   G  \n",
            "          F1       F2        F3        F4       F5        F6        F7  \\\n",
            "3  -0.128929 -0.22843 -3.210528 -0.892742  0.17234 -0.391033 -2.799857   \n",
            "30  0.340137 -0.29909  0.719297 -0.434818  0.17234   0.14879  0.673182   \n",
            "\n",
            "          F8        F9       F10 F11  \n",
            "3   0.296162  0.157628 -1.805496   D  \n",
            "30 -0.356526 -0.029461 -0.135572   D  \n",
            "          F1        F2        F3       F4        F5        F6        F7  \\\n",
            "57 -0.178304 -0.338346   0.45968  1.40246  0.797987 -0.183409  -1.32759   \n",
            "86 -3.498799  0.870736 -3.210528 -0.06954 -4.922215   0.06574 -1.101088   \n",
            "\n",
            "          F8        F9       F10 F11  \n",
            "57  0.473852  0.843621  0.806911   Y  \n",
            "86  -0.61178 -2.243345  0.867705   Y  \n",
            "           F1         F2        F3        F4        F5        F6        F7  \\\n",
            "152 -3.498799  17.570202   0.05425  0.428308 -4.922215 -1.968978 -0.195078   \n",
            "162 -0.363462  -0.189174  0.641057  0.681245   0.17234 -0.764757  0.069175   \n",
            "\n",
            "           F8        F9       F10 F11  \n",
            "152  1.507858 -1.775623 -1.602343   C  \n",
            "162  0.983642  0.750076 -0.611773   C  \n",
            "           F1        F2        F3        F4        F5        F6        F7  \\\n",
            "118 -3.498799  0.250492   0.23207  1.224178 -4.922215  1.145386  0.182426   \n",
            "488 -3.498799 -0.063555  7.458681  0.129002 -4.922215   0.14879  0.031425   \n",
            "\n",
            "           F8        F9       F10 F11  \n",
            "118 -0.165983 -0.123005  1.087144   W  \n",
            "488 -1.382921 -1.619716  0.240139   W  \n",
            "            F1         F2       F3        F4       F5        F6        F7  \\\n",
            "953  -0.128929  12.655362 -0.16269  1.993015 -3.22403  0.647088  0.220177   \n",
            "1015 -0.128929  12.655362 -0.16269  1.993015 -3.22403 -0.584816 -0.610333   \n",
            "\n",
            "            F8        F9       F10 F11  \n",
            "953   1.470347  1.903791  0.584096   B  \n",
            "1015  0.763432  1.165829 -0.158452   B  \n"
          ]
        }
      ]
    },
    {
      "cell_type": "markdown",
      "source": [
        "#Transformando os labels em números"
      ],
      "metadata": {
        "id": "lMDTm3CMDw--"
      }
    },
    {
      "cell_type": "code",
      "source": [
        "from sklearn.preprocessing import LabelEncoder\n",
        "labelEncoder = LabelEncoder()\n",
        "labelsLetters = df_Data['F11']\n",
        "\n",
        "labelsClasses = labelEncoder.fit_transform(labelsLetters)\n",
        "\n",
        "print(labelsClasses[1])\n",
        "print(labelsLetters[1])\n",
        "\n",
        "df_Data['Labels'] = labelsClasses\n",
        "\n",
        "df_Data.head(3)\n",
        "\n",
        "newDataSetJoined = df_Data.drop(labels=['F11'], axis = 1, inplace=False)\n",
        "\n",
        "newDataSetJoined.head(3)\n"
      ],
      "metadata": {
        "colab": {
          "base_uri": "https://localhost:8080/",
          "height": 178
        },
        "id": "ZtIVj2QOD07f",
        "outputId": "a6244ac1-49c3-45be-aed9-06dcb1c813a9"
      },
      "execution_count": null,
      "outputs": [
        {
          "output_type": "stream",
          "name": "stdout",
          "text": [
            "6\n",
            "G\n"
          ]
        },
        {
          "output_type": "execute_result",
          "data": {
            "text/plain": [
              "         F1       F2        F3        F4        F5        F6        F7  \\\n",
              "0   0.15498 -0.16562 -3.210528  -1.32068 -0.185173 -0.307984  0.484429   \n",
              "1  0.327793  0.50173  0.050694 -1.018301  0.261718 -0.764757  0.333428   \n",
              "2  0.080916  0.10132   0.10404   0.14049  0.261718  0.647088  0.257927   \n",
              "\n",
              "         F8        F9       F10  Labels  \n",
              "0  0.340506  0.157628 -0.415334       0  \n",
              "1  0.754385  0.812439  -0.74098       6  \n",
              "2 -0.327849 -0.247731  0.564989       0  "
            ],
            "text/html": [
              "\n",
              "  <div id=\"df-0c066deb-ba99-46be-ab55-233337ddb7d6\">\n",
              "    <div class=\"colab-df-container\">\n",
              "      <div>\n",
              "<style scoped>\n",
              "    .dataframe tbody tr th:only-of-type {\n",
              "        vertical-align: middle;\n",
              "    }\n",
              "\n",
              "    .dataframe tbody tr th {\n",
              "        vertical-align: top;\n",
              "    }\n",
              "\n",
              "    .dataframe thead th {\n",
              "        text-align: right;\n",
              "    }\n",
              "</style>\n",
              "<table border=\"1\" class=\"dataframe\">\n",
              "  <thead>\n",
              "    <tr style=\"text-align: right;\">\n",
              "      <th></th>\n",
              "      <th>F1</th>\n",
              "      <th>F2</th>\n",
              "      <th>F3</th>\n",
              "      <th>F4</th>\n",
              "      <th>F5</th>\n",
              "      <th>F6</th>\n",
              "      <th>F7</th>\n",
              "      <th>F8</th>\n",
              "      <th>F9</th>\n",
              "      <th>F10</th>\n",
              "      <th>Labels</th>\n",
              "    </tr>\n",
              "  </thead>\n",
              "  <tbody>\n",
              "    <tr>\n",
              "      <th>0</th>\n",
              "      <td>0.15498</td>\n",
              "      <td>-0.16562</td>\n",
              "      <td>-3.210528</td>\n",
              "      <td>-1.32068</td>\n",
              "      <td>-0.185173</td>\n",
              "      <td>-0.307984</td>\n",
              "      <td>0.484429</td>\n",
              "      <td>0.340506</td>\n",
              "      <td>0.157628</td>\n",
              "      <td>-0.415334</td>\n",
              "      <td>0</td>\n",
              "    </tr>\n",
              "    <tr>\n",
              "      <th>1</th>\n",
              "      <td>0.327793</td>\n",
              "      <td>0.50173</td>\n",
              "      <td>0.050694</td>\n",
              "      <td>-1.018301</td>\n",
              "      <td>0.261718</td>\n",
              "      <td>-0.764757</td>\n",
              "      <td>0.333428</td>\n",
              "      <td>0.754385</td>\n",
              "      <td>0.812439</td>\n",
              "      <td>-0.74098</td>\n",
              "      <td>6</td>\n",
              "    </tr>\n",
              "    <tr>\n",
              "      <th>2</th>\n",
              "      <td>0.080916</td>\n",
              "      <td>0.10132</td>\n",
              "      <td>0.10404</td>\n",
              "      <td>0.14049</td>\n",
              "      <td>0.261718</td>\n",
              "      <td>0.647088</td>\n",
              "      <td>0.257927</td>\n",
              "      <td>-0.327849</td>\n",
              "      <td>-0.247731</td>\n",
              "      <td>0.564989</td>\n",
              "      <td>0</td>\n",
              "    </tr>\n",
              "  </tbody>\n",
              "</table>\n",
              "</div>\n",
              "      <button class=\"colab-df-convert\" onclick=\"convertToInteractive('df-0c066deb-ba99-46be-ab55-233337ddb7d6')\"\n",
              "              title=\"Convert this dataframe to an interactive table.\"\n",
              "              style=\"display:none;\">\n",
              "        \n",
              "  <svg xmlns=\"http://www.w3.org/2000/svg\" height=\"24px\"viewBox=\"0 0 24 24\"\n",
              "       width=\"24px\">\n",
              "    <path d=\"M0 0h24v24H0V0z\" fill=\"none\"/>\n",
              "    <path d=\"M18.56 5.44l.94 2.06.94-2.06 2.06-.94-2.06-.94-.94-2.06-.94 2.06-2.06.94zm-11 1L8.5 8.5l.94-2.06 2.06-.94-2.06-.94L8.5 2.5l-.94 2.06-2.06.94zm10 10l.94 2.06.94-2.06 2.06-.94-2.06-.94-.94-2.06-.94 2.06-2.06.94z\"/><path d=\"M17.41 7.96l-1.37-1.37c-.4-.4-.92-.59-1.43-.59-.52 0-1.04.2-1.43.59L10.3 9.45l-7.72 7.72c-.78.78-.78 2.05 0 2.83L4 21.41c.39.39.9.59 1.41.59.51 0 1.02-.2 1.41-.59l7.78-7.78 2.81-2.81c.8-.78.8-2.07 0-2.86zM5.41 20L4 18.59l7.72-7.72 1.47 1.35L5.41 20z\"/>\n",
              "  </svg>\n",
              "      </button>\n",
              "      \n",
              "  <style>\n",
              "    .colab-df-container {\n",
              "      display:flex;\n",
              "      flex-wrap:wrap;\n",
              "      gap: 12px;\n",
              "    }\n",
              "\n",
              "    .colab-df-convert {\n",
              "      background-color: #E8F0FE;\n",
              "      border: none;\n",
              "      border-radius: 50%;\n",
              "      cursor: pointer;\n",
              "      display: none;\n",
              "      fill: #1967D2;\n",
              "      height: 32px;\n",
              "      padding: 0 0 0 0;\n",
              "      width: 32px;\n",
              "    }\n",
              "\n",
              "    .colab-df-convert:hover {\n",
              "      background-color: #E2EBFA;\n",
              "      box-shadow: 0px 1px 2px rgba(60, 64, 67, 0.3), 0px 1px 3px 1px rgba(60, 64, 67, 0.15);\n",
              "      fill: #174EA6;\n",
              "    }\n",
              "\n",
              "    [theme=dark] .colab-df-convert {\n",
              "      background-color: #3B4455;\n",
              "      fill: #D2E3FC;\n",
              "    }\n",
              "\n",
              "    [theme=dark] .colab-df-convert:hover {\n",
              "      background-color: #434B5C;\n",
              "      box-shadow: 0px 1px 3px 1px rgba(0, 0, 0, 0.15);\n",
              "      filter: drop-shadow(0px 1px 2px rgba(0, 0, 0, 0.3));\n",
              "      fill: #FFFFFF;\n",
              "    }\n",
              "  </style>\n",
              "\n",
              "      <script>\n",
              "        const buttonEl =\n",
              "          document.querySelector('#df-0c066deb-ba99-46be-ab55-233337ddb7d6 button.colab-df-convert');\n",
              "        buttonEl.style.display =\n",
              "          google.colab.kernel.accessAllowed ? 'block' : 'none';\n",
              "\n",
              "        async function convertToInteractive(key) {\n",
              "          const element = document.querySelector('#df-0c066deb-ba99-46be-ab55-233337ddb7d6');\n",
              "          const dataTable =\n",
              "            await google.colab.kernel.invokeFunction('convertToInteractive',\n",
              "                                                     [key], {});\n",
              "          if (!dataTable) return;\n",
              "\n",
              "          const docLinkHtml = 'Like what you see? Visit the ' +\n",
              "            '<a target=\"_blank\" href=https://colab.research.google.com/notebooks/data_table.ipynb>data table notebook</a>'\n",
              "            + ' to learn more about interactive tables.';\n",
              "          element.innerHTML = '';\n",
              "          dataTable['output_type'] = 'display_data';\n",
              "          await google.colab.output.renderOutput(dataTable, element);\n",
              "          const docLink = document.createElement('div');\n",
              "          docLink.innerHTML = docLinkHtml;\n",
              "          element.appendChild(docLink);\n",
              "        }\n",
              "      </script>\n",
              "    </div>\n",
              "  </div>\n",
              "  "
            ]
          },
          "metadata": {},
          "execution_count": 27
        }
      ]
    },
    {
      "cell_type": "markdown",
      "source": [
        "# Vetor de médias\n",
        "\n",
        "---\n",
        "\n"
      ],
      "metadata": {
        "id": "rJ9v4LnuG9vg"
      }
    },
    {
      "cell_type": "code",
      "source": [
        " #Calculando o vetor de médias para cada classe\n",
        "def calcMedClasses(df):\n",
        "  # Classe\n",
        "  m = np.zeros([1, df.shape[1] - 1])\n",
        "  vector = df.values\n",
        "\n",
        "  for c in range(0, df.shape[1] - 1):\n",
        "    sum = 0;\n",
        "    for l in range(0, len(df)):\n",
        "      sum += vector[l][c]\n",
        "    m[0][c] = sum / len(df)\n",
        "\n",
        "  #print(\"\\n\", m)\n",
        "\n",
        "  return m\n",
        "\n",
        "#Classe a\n",
        "media_A = calcMedClasses(df_A)\n",
        "media_F = calcMedClasses(df_F)\n",
        "media_E = calcMedClasses(df_E)\n",
        "media_I = calcMedClasses(df_I)\n",
        "media_X = calcMedClasses(df_X)\n",
        "media_H = calcMedClasses(df_H)\n",
        "media_G = calcMedClasses(df_G)\n",
        "media_D = calcMedClasses(df_D)\n",
        "media_Y = calcMedClasses(df_Y)\n",
        "media_C = calcMedClasses(df_C)\n",
        "media_W = calcMedClasses(df_W)\n",
        "media_B = calcMedClasses(df_B)\n",
        "\n",
        "medias = [media_A, media_F, media_E, media_I, media_X, media_H, media_G, media_D, media_Y, media_C, media_W, media_B]\n",
        "print(medias)"
      ],
      "metadata": {
        "id": "ftFY26ZxHLjy",
        "colab": {
          "base_uri": "https://localhost:8080/"
        },
        "outputId": "3e07e0d9-d8fd-4cef-b9c1-a1ac791dadaf"
      },
      "execution_count": null,
      "outputs": [
        {
          "output_type": "stream",
          "name": "stdout",
          "text": [
            "[array([[-0.0202005 ,  0.01440285, -0.10033515, -0.001378  , -0.16722192,\n",
            "         0.22226106,  0.11939734, -0.30827088, -0.30869756,  0.30248587]]), array([[ 0.0806884 ,  0.03097947,  0.03565124, -0.22942204,  0.05337774,\n",
            "        -0.12013641,  0.11408497, -0.263208  , -0.26209476,  0.01500051]]), array([[-0.25886491, -0.06019597,  0.12641111,  0.02222732, -0.06263406,\n",
            "        -0.0602068 ,  0.19954698,  0.58174968,  0.27518996,  1.62631333]]), array([[ 0.64950097, -0.29666741, -0.08396211, -0.11542882,  0.69950337,\n",
            "        -0.7550005 , -1.14640732, -0.00810636,  0.71261177,  0.0343572 ]]), array([[-0.34025369, -0.24834286, -0.03543062,  1.16516851,  0.05342142,\n",
            "         0.56206061, -0.11770334,  3.90134549,  1.37983374,  1.55948325]]), array([[ 0.2469292 ,  0.12117656,  0.29065167, -0.46375071,  0.18850163,\n",
            "        -0.56291136,  0.17776845, -0.09941374,  0.17147833, -1.88447164]]), array([[ 0.03376505,  0.47952543,  0.18017457, -0.20481933,  0.12103476,\n",
            "        -0.16152553,  0.29302362, -0.03926143,  0.15852831, -0.25467401]]), array([[-0.23397182, -0.20219433, -0.18069278, -0.23400691, -0.00119626,\n",
            "         0.13970061, -1.17256178, -0.04661993, -0.08823623, -0.76965355]]), array([[-0.337932  , -0.06887511,  0.31268772,  0.99609611,  0.25772218,\n",
            "        -0.02004558, -1.12740959,  0.31617131,  0.555993  ,  0.79647113]]), array([[-0.48004278,  0.3605467 ,  0.08509305, -0.88956749, -0.51864219,\n",
            "        -0.42859196, -0.11177685, -0.44388361, -0.29775489, -0.43167509]]), array([[-1.58790294,  0.07111458,  0.35051797,  0.87632183, -1.72942886,\n",
            "         0.7549369 ,  0.39844246,  0.24719951, -0.08662653,  0.59018863]]), array([[-0.128929  , 12.655362  , -0.16269   ,  1.993015  , -3.22403   ,\n",
            "         0.86086389, -0.03149267,  0.87961844,  1.229347  ,  0.93745456]])]\n"
          ]
        }
      ]
    },
    {
      "cell_type": "markdown",
      "source": [
        "#Matriz de Probabilidades"
      ],
      "metadata": {
        "id": "AUt1ZZdiREp7"
      }
    },
    {
      "cell_type": "code",
      "source": [
        "def p_W1(df, n):\n",
        "  return n / len(df)\n",
        "\n",
        "P_Wi = np.zeros([1, len(frequencias)])\n",
        "\n",
        "for i in range(0, len(frequencias)):\n",
        "  P_Wi[0][i] = p_W1(df_Data, frequencias[i])\n",
        "\n",
        "print(P_Wi)"
      ],
      "metadata": {
        "id": "YP2V978DOvA_"
      },
      "execution_count": null,
      "outputs": []
    }
  ]
}