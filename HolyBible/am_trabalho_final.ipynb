{
  "cells": [
    {
      "cell_type": "code",
      "source": [
        "!wget -q https://raw.githubusercontent.com/pvesouza/datasets/main/avila-tr.csv\n",
        "!wget -q https://raw.githubusercontent.com/pvesouza/datasets/main/avila-ts.csv"
      ],
      "metadata": {
        "id": "82B2A07t7u6E"
      },
      "execution_count": null,
      "outputs": []
    },
    {
      "cell_type": "code",
      "execution_count": null,
      "metadata": {
        "id": "1pBhI8samJp4"
      },
      "outputs": [],
      "source": [
        "import pandas as pd \n",
        "import numpy as np \n",
        "import matplotlib.pyplot as plt\n",
        "import math as mt\n",
        "import io "
      ]
    },
    {
      "cell_type": "markdown",
      "metadata": {
        "id": "-6ocGuNtmJp7"
      },
      "source": [
        "# Importando os datasets - Treinamento\n",
        "\n",
        "Os datasets estão na pasta info e são especificados como arquivos do tipo csv.\n",
        "Avila-tr - > training data set\n",
        "Avita-ts - > test dataset \n",
        "\n",
        "O primeiro objetivo é importar os dois datasets e dropar a coluna de labels."
      ]
    },
    {
      "cell_type": "code",
      "source": [
        "avilaDatasetTr = pd.read_csv('/content/avila-tr.csv')\n",
        "\n",
        "print(avilaDatasetTr.head(10))\n",
        "\n",
        "print(avilaDatasetTr.tail(10))\n",
        "\n",
        "avilaDatasetTr.columns\n",
        "\n",
        "newAvilaDatasetTr = avilaDatasetTr.drop(columns = ['F11'], axis = 1, inplace=False)\n",
        "\n",
        "print('Dataset shape: ', newAvilaDatasetTr.shape)"
      ],
      "metadata": {
        "colab": {
          "base_uri": "https://localhost:8080/"
        },
        "id": "_v2siUrLnKos",
        "outputId": "e4f46cb9-6998-419e-ce19-6990c6bee6f3"
      },
      "execution_count": null,
      "outputs": [
        {
          "output_type": "stream",
          "name": "stdout",
          "text": [
            "         F1        F2        F3        F4        F5        F6        F7  \\\n",
            "0  0.266074 -0.165620  0.320980  0.483299  0.172340  0.273364  0.371178   \n",
            "1  0.130292  0.870736 -3.210528  0.062493  0.261718  1.436060  1.465940   \n",
            "2 -0.116585  0.069915  0.068476 -0.783147  0.261718  0.439463 -0.081827   \n",
            "3  0.031541  0.297600 -3.210528 -0.583590 -0.721442 -0.307984  0.710932   \n",
            "4  0.229043  0.807926 -0.052442  0.082634  0.261718  0.148790  0.635431   \n",
            "5  0.117948 -0.220579 -3.210528 -1.623238  0.261718 -0.349509  0.257927   \n",
            "6  0.389513 -0.220579 -3.210528 -2.624155  0.261718 -0.764757  0.484429   \n",
            "7  0.019197 -0.040001  0.288973 -0.042597  0.261718 -1.013906  0.069175   \n",
            "8  0.500607  0.140576  0.388552 -0.637358  0.261718 -0.681707  0.295677   \n",
            "9 -0.252367  0.069915  0.246296  0.523550  0.261718 -1.221530  0.899684   \n",
            "\n",
            "         F8        F9       F10 F11  \n",
            "0  0.929823  0.251173  0.159345   A  \n",
            "1  0.636203  0.282354  0.515587   A  \n",
            "2 -0.888236 -0.123005  0.582939   A  \n",
            "3  1.051693  0.594169 -0.533994   A  \n",
            "4  0.051062  0.032902 -0.086652   F  \n",
            "5 -0.385979 -0.247731 -0.331310   A  \n",
            "6 -0.597510 -0.372457 -0.810261   A  \n",
            "7  0.890701  0.095265 -0.842014   F  \n",
            "8  0.931046  0.500624 -0.642297   H  \n",
            "9  1.373076  0.625350 -1.400890   E  \n",
            "             F1        F2        F3        F4        F5        F6        F7  \\\n",
            "10420 -0.005490  0.478177  0.029355 -0.247644  0.172340  0.605563  0.673182   \n",
            "10421  0.241386  0.234790  0.121822  1.037988  0.261718  0.647088  0.182426   \n",
            "10422 -0.277055 -0.251983 -3.203415  1.957926  0.261718  1.892833  0.635431   \n",
            "10423  4.969080 -0.385453  0.143160 -2.600732  0.976743 -0.764757 -0.232828   \n",
            "10424  0.216699  0.321153  0.128935  0.491087  0.261718  0.439463  0.069175   \n",
            "10425  0.080916  0.588093  0.015130  0.002250  0.261718 -0.557133  0.371178   \n",
            "10426  0.253730 -0.338346  0.352988 -1.154243  0.172340 -0.557133  0.257927   \n",
            "10427  0.229043 -0.000745  0.171611 -0.002793  0.261718  0.688613  0.295677   \n",
            "10428 -0.301743  0.352558  0.288973  1.638181  0.261718  0.688613  0.069175   \n",
            "10429 -0.104241 -1.037102  0.388552 -1.099311  0.172340 -0.307984  0.786433   \n",
            "\n",
            "             F8        F9       F10 F11  \n",
            "10420 -0.951919 -0.528364  0.286973   A  \n",
            "10421  0.684936  0.219991  0.628422   A  \n",
            "10422  1.898205  2.184424  1.427425   X  \n",
            "10423 -2.348488 -1.183175 -0.459372   I  \n",
            "10424  0.252846  0.188810  0.482857   A  \n",
            "10425  0.932346  0.282354 -0.580141   F  \n",
            "10426  0.348428  0.032902 -0.527134   F  \n",
            "10427 -1.088486 -0.590727  0.580142   A  \n",
            "10428  0.502761  0.625350  0.718969   E  \n",
            "10429 -1.337547  0.999528 -0.551063   X  \n",
            "Dataset shape:  (10430, 10)\n"
          ]
        }
      ]
    },
    {
      "cell_type": "markdown",
      "metadata": {
        "id": "dRNoAkcYmJp9"
      },
      "source": [
        "# Dataset de teste"
      ]
    },
    {
      "cell_type": "code",
      "execution_count": null,
      "metadata": {
        "colab": {
          "base_uri": "https://localhost:8080/"
        },
        "id": "3o5MSTnNmJp-",
        "outputId": "588095ae-578f-42f6-8760-c2ea9c746f41"
      },
      "outputs": [
        {
          "output_type": "stream",
          "name": "stdout",
          "text": [
            "         F1        F2        F3        F4        F5        F6        F7  \\\n",
            "0 -3.498799  0.250492  0.232070  1.224178 -4.922215  1.145386  0.182426   \n",
            "1  0.204355 -0.354049  0.320980  0.410166 -0.989576 -2.218127  0.220177   \n",
            "2  0.759828 -1.304042 -0.023991 -0.973663 -0.006417 -0.349509 -0.421580   \n",
            "3 -0.005490  0.360409  0.281860 -0.213479 -1.168333 -1.013906 -0.346080   \n",
            "4  0.080916  0.101320  0.104040  0.140490  0.261718  0.480988  0.710932   \n",
            "\n",
            "         F8        F9       F10  \n",
            "0 -0.165983 -0.123005  1.087144  \n",
            "1  0.181844  2.090879 -2.009758  \n",
            "2 -0.450127  0.469443  0.060952  \n",
            "3  1.176165  0.968347 -0.627999  \n",
            "4 -0.253430 -0.497183  0.155681  \n",
            "(10437, 10)\n"
          ]
        }
      ],
      "source": [
        "avilaDatasetTs = pd.read_csv('/content/avila-ts.csv')\n",
        "\n",
        "newAvilaDatasetTs = avilaDatasetTs.drop(columns = ['F11'], axis = 1, inplace=False)\n",
        "print(newAvilaDatasetTs.head(5))\n",
        "print(newAvilaDatasetTs.shape)\n"
      ]
    },
    {
      "cell_type": "markdown",
      "metadata": {
        "id": "g2aF92bSmJp-"
      },
      "source": [
        "# Juntando os dois datasets\n",
        "\n"
      ]
    },
    {
      "cell_type": "code",
      "execution_count": null,
      "metadata": {
        "colab": {
          "base_uri": "https://localhost:8080/"
        },
        "id": "kPXde908mJp_",
        "outputId": "794b7fdd-76d2-449b-b640-401ab0c8f57d"
      },
      "outputs": [
        {
          "output_type": "stream",
          "name": "stdout",
          "text": [
            "         F1        F2        F3        F4        F5        F6        F7  \\\n",
            "0 -3.498799  0.250492  0.232070  1.224178 -4.922215  1.145386  0.182426   \n",
            "1  0.204355 -0.354049  0.320980  0.410166 -0.989576 -2.218127  0.220177   \n",
            "2  0.759828 -1.304042 -0.023991 -0.973663 -0.006417 -0.349509 -0.421580   \n",
            "3 -0.005490  0.360409  0.281860 -0.213479 -1.168333 -1.013906 -0.346080   \n",
            "4  0.080916  0.101320  0.104040  0.140490  0.261718  0.480988  0.710932   \n",
            "5  0.068573 -0.181323 -3.210528 -0.294311 -1.168333  0.356414 -0.006326   \n",
            "6 -0.301743 -0.314793  0.399221  0.770520  0.708609  0.564038 -1.403091   \n",
            "7  0.031541 -0.118513  0.374326 -0.066706  0.261718  0.605563  0.559930   \n",
            "8 -0.091897 -0.118513  0.189393  1.280303  0.261718  0.314889  0.069175   \n",
            "9  0.377169  0.014957  0.381439  0.292753  0.261718 -0.307984  0.522180   \n",
            "\n",
            "         F8        F9       F10  \n",
            "0 -0.165983 -0.123005  1.087144  \n",
            "1  0.181844  2.090879 -2.009758  \n",
            "2 -0.450127  0.469443  0.060952  \n",
            "3  1.176165  0.968347 -0.627999  \n",
            "4 -0.253430 -0.497183  0.155681  \n",
            "5 -0.219550  0.126447  0.448186  \n",
            "6 -1.459107 -0.091823  1.627420  \n",
            "7 -0.258129  0.095265  0.344766  \n",
            "8  1.277183  0.531806  0.359002  \n",
            "9  0.370989  0.562987 -0.440132  \n",
            "             F1        F2        F3        F4        F5        F6        F7  \\\n",
            "20857 -0.005490  0.478177  0.029355 -0.247644  0.172340  0.605563  0.673182   \n",
            "20858  0.241386  0.234790  0.121822  1.037988  0.261718  0.647088  0.182426   \n",
            "20859 -0.277055 -0.251983 -3.203415  1.957926  0.261718  1.892833  0.635431   \n",
            "20860  4.969080 -0.385453  0.143160 -2.600732  0.976743 -0.764757 -0.232828   \n",
            "20861  0.216699  0.321153  0.128935  0.491087  0.261718  0.439463  0.069175   \n",
            "20862  0.080916  0.588093  0.015130  0.002250  0.261718 -0.557133  0.371178   \n",
            "20863  0.253730 -0.338346  0.352988 -1.154243  0.172340 -0.557133  0.257927   \n",
            "20864  0.229043 -0.000745  0.171611 -0.002793  0.261718  0.688613  0.295677   \n",
            "20865 -0.301743  0.352558  0.288973  1.638181  0.261718  0.688613  0.069175   \n",
            "20866 -0.104241 -1.037102  0.388552 -1.099311  0.172340 -0.307984  0.786433   \n",
            "\n",
            "             F8        F9       F10  \n",
            "20857 -0.951919 -0.528364  0.286973  \n",
            "20858  0.684936  0.219991  0.628422  \n",
            "20859  1.898205  2.184424  1.427425  \n",
            "20860 -2.348488 -1.183175 -0.459372  \n",
            "20861  0.252846  0.188810  0.482857  \n",
            "20862  0.932346  0.282354 -0.580141  \n",
            "20863  0.348428  0.032902 -0.527134  \n",
            "20864 -1.088486 -0.590727  0.580142  \n",
            "20865  0.502761  0.625350  0.718969  \n",
            "20866 -1.337547  0.999528 -0.551063  \n",
            "New dataset shape:  (20867, 10)\n"
          ]
        }
      ],
      "source": [
        "# creating a list of dataframes\n",
        "frames = [newAvilaDatasetTs, newAvilaDatasetTr]\n",
        "joinDataset = pd.concat(frames, ignore_index=True)\n",
        "\n",
        "print(joinDataset.head(10))\n",
        "print(joinDataset.tail(10))\n",
        "\n",
        "print(\"New dataset shape: \", joinDataset.shape)"
      ]
    },
    {
      "cell_type": "markdown",
      "metadata": {
        "id": "5E3qCNk0mJp_"
      },
      "source": [
        "\n",
        "\n",
        "```\n",
        "# Isto está formatado como código\n",
        "```\n",
        "\n",
        "# Procurando por linhas com linhas com NaN"
      ]
    },
    {
      "cell_type": "code",
      "execution_count": null,
      "metadata": {
        "colab": {
          "base_uri": "https://localhost:8080/"
        },
        "id": "0lUIsKL3mJqA",
        "outputId": "22c42e72-9099-45f3-b1fe-b0f43dea87f9"
      },
      "outputs": [
        {
          "output_type": "stream",
          "name": "stdout",
          "text": [
            "20867\n",
            "10\n",
            "-3.498799\n",
            "<class 'numpy.float64'>\n",
            "0.250492\n",
            "<class 'numpy.float64'>\n",
            "0.23207\n",
            "<class 'numpy.float64'>\n",
            "1.224178\n",
            "<class 'numpy.float64'>\n",
            "-4.922215\n",
            "<class 'numpy.float64'>\n",
            "1.145386\n",
            "<class 'numpy.float64'>\n",
            "0.182426\n",
            "<class 'numpy.float64'>\n",
            "-0.165983\n",
            "<class 'numpy.float64'>\n",
            "-0.123005\n",
            "<class 'numpy.float64'>\n",
            "1.087144\n",
            "<class 'numpy.float64'>\n"
          ]
        }
      ],
      "source": [
        "dfValues = joinDataset.values\n",
        "lenght = len(dfValues)\n",
        "columns = dfValues[0].size\n",
        "\n",
        "print(lenght)\n",
        "print(columns)\n",
        "\n",
        "for i in range(0, columns):\n",
        "    print(dfValues[0][i])\n",
        "    print(type(dfValues[0][i]))\n",
        "\n",
        "for r in range(0,lenght):\n",
        "    for c in range(0, columns):\n",
        "        value = dfValues[r][c]\n",
        "        if mt.isnan(value):\n",
        "            print(r)"
      ]
    },
    {
      "cell_type": "markdown",
      "metadata": {
        "id": "6qhuU7n9mJqA"
      },
      "source": [
        "# Funções de distâncias entre dois pontos"
      ]
    },
    {
      "cell_type": "code",
      "execution_count": null,
      "metadata": {
        "id": "3hpddifwmJqB"
      },
      "outputs": [],
      "source": [
        "# Definindo a fórmula para a distância Euclidiana\n",
        "def euclidian(x, y):\n",
        "    sum = 0\n",
        "    for i in range (0, len(x)):\n",
        "        dif = x[i] - y[i]\n",
        "        sum = sum + mt.pow(dif,2)\n",
        "        \n",
        "    return sum"
      ]
    },
    {
      "cell_type": "code",
      "execution_count": null,
      "metadata": {
        "id": "lAWB8CvsmJqB"
      },
      "outputs": [],
      "source": [
        "# Definindo a fórmula para a distância city-block\n",
        "def city_block(x, y):\n",
        "    sum = 0\n",
        "    for i in range (0, len(x)):\n",
        "        dif = x[i] - y[i]\n",
        "        sum = sum + abs(dif)\n",
        "        \n",
        "    return sum"
      ]
    },
    {
      "cell_type": "code",
      "execution_count": null,
      "metadata": {
        "id": "0LMCiPb5mJqC"
      },
      "outputs": [],
      "source": [
        "# Definindo uma função para a distância de Chebyshev\n",
        "def chebyshev (x, y):\n",
        "   result = 0\n",
        "   for i in range(0, len(x)):\n",
        "      d = abs(x[i] - y[i])\n",
        "      result = max(result, d)\n",
        "      \n",
        "   return result"
      ]
    },
    {
      "cell_type": "markdown",
      "metadata": {
        "id": "tvi9YLM-mJqC"
      },
      "source": [
        "# Separando as amostras para montar as matrizes de dissimilaridade"
      ]
    },
    {
      "cell_type": "code",
      "execution_count": null,
      "metadata": {
        "colab": {
          "base_uri": "https://localhost:8080/"
        },
        "id": "h1r2ENNSmJqC",
        "outputId": "ec529175-c0f7-4628-a868-2198269d8cce"
      },
      "outputs": [
        {
          "output_type": "stream",
          "name": "stdout",
          "text": [
            "20867\n",
            "20867\n",
            "[-3.498799  0.250492  0.23207   1.224178 -4.922215  1.145386  0.182426\n",
            " -0.165983 -0.123005  1.087144]\n",
            "[-3.498799  0.250492  0.23207   1.224178 -4.922215  1.145386  0.182426\n",
            " -0.165983 -0.123005  1.087144]\n",
            "[-0.104241 -1.037102  0.388552 -1.099311  0.17234  -0.307984  0.786433\n",
            " -1.337547  0.999528 -0.551063]\n",
            "[-0.104241 -1.037102  0.388552 -1.099311  0.17234  -0.307984  0.786433\n",
            " -1.337547  0.999528 -0.551063]\n",
            "20867\n",
            "[[ 0.         56.14270222 53.69795893 ... 43.89049453 38.64365626\n",
            "  52.35197425]\n",
            " [56.14270222  0.         15.43149349 ... 25.85118486 21.99886364\n",
            "  13.79160773]\n",
            " [53.69795893 15.43149349  0.         ...  6.42623665 13.54665513\n",
            "   3.93989187]\n",
            " ...\n",
            " [43.89049453 25.85118486  6.42623665 ...  0.          7.19461267\n",
            "   7.54713174]\n",
            " [38.64365626 21.99886364 13.54665513 ...  7.19461267  0.\n",
            "  16.12931742]\n",
            " [52.35197425 13.79160773  3.93989187 ...  7.54713174 16.12931742\n",
            "   0.        ]]\n",
            "[[ 0.       18.203133 17.184546 ... 12.917693 11.309259 18.246359]\n",
            " [18.203133  0.       11.051917 ... 11.71569  11.296936 10.27645 ]\n",
            " [17.184546 11.051917  0.       ...  7.241787  9.206803  5.127015]\n",
            " ...\n",
            " [12.917693 11.71569   7.241787 ...  0.        5.815078  7.230352]\n",
            " [11.309259 11.296936  9.206803 ...  5.815078  0.        9.711984]\n",
            " [18.246359 10.27645   5.127015 ...  7.230352  9.711984  0.      ]]\n",
            "[[0.       3.932639 4.915798 ... 5.183933 5.183933 5.094555]\n",
            " [3.932639 0.       2.07071  ... 2.90674  2.90674  1.910143]\n",
            " [4.915798 2.07071  0.       ... 1.303297 2.611844 1.208013]\n",
            " ...\n",
            " [5.183933 2.90674  1.303297 ... 0.       1.640974 1.590255]\n",
            " [5.183933 2.90674  2.611844 ... 1.640974 0.       2.737492]\n",
            " [5.094555 1.910143 1.208013 ... 1.590255 2.737492 0.      ]]\n"
          ]
        }
      ],
      "source": [
        "# Declarando as matrizes\n",
        "lenghtDataset = len(dfValues)\n",
        "\n",
        "#lenghtDataset = 3\n",
        "\n",
        "matriz_1 = np.zeros(shape = [lenghtDataset, lenghtDataset])\n",
        "matriz_2 = np.zeros(shape = [lenghtDataset,lenghtDataset])\n",
        "matriz_3 = np.zeros(shape = [lenghtDataset,lenghtDataset])\n",
        "\n",
        "bigDataSet1 = dfValues\n",
        "\n",
        "bigDataSet2 = dfValues\n",
        "\n",
        "print(len(bigDataSet1))\n",
        "\n",
        "print(len(bigDataSet2))\n",
        "\n",
        "print(bigDataSet1[0])\n",
        "\n",
        "print(bigDataSet2[0])\n",
        "\n",
        "print(bigDataSet1[-1])\n",
        "\n",
        "print(bigDataSet2[-1])\n",
        "\n",
        "print(len(matriz_1))\n",
        "\n",
        "for c in range(0, len(matriz_1)):\n",
        "    for r in range(0, len(matriz_1)):\n",
        "        if (c < r):\n",
        "            matriz_1[r][c] = euclidian(bigDataSet1[r], bigDataSet2[c])\n",
        "            matriz_1[c][r] = matriz_1[r][c]\n",
        "            matriz_2[r][c] = city_block(bigDataSet1[r], bigDataSet2[c])\n",
        "            matriz_2[c][r] = matriz_2[r][c]\n",
        "            matriz_3[r][c] = chebyshev(bigDataSet1[r], bigDataSet2[c])\n",
        "            matriz_3[c][r] = matriz_3[r][c]\n",
        "\n",
        "print(matriz_1)\n",
        "print(matriz_2)\n",
        "print(matriz_3)\n"
      ]
    },
    {
      "cell_type": "code",
      "execution_count": null,
      "metadata": {
        "colab": {
          "base_uri": "https://localhost:8080/",
          "height": 382
        },
        "id": "rSzxLt16mJqD",
        "outputId": "c773e807-ebd6-4498-8a8c-18542b0912a9"
      },
      "outputs": [
        {
          "output_type": "error",
          "ename": "KeyboardInterrupt",
          "evalue": "ignored",
          "traceback": [
            "\u001b[0;31m---------------------------------------------------------------------------\u001b[0m",
            "\u001b[0;31mKeyboardInterrupt\u001b[0m                         Traceback (most recent call last)",
            "\u001b[0;32m<ipython-input-114-2f9f35e89724>\u001b[0m in \u001b[0;36m<module>\u001b[0;34m()\u001b[0m\n\u001b[1;32m      5\u001b[0m    \u001b[0;31m###   print(\"\\n\")\u001b[0m\u001b[0;34m\u001b[0m\u001b[0;34m\u001b[0m\u001b[0;34m\u001b[0m\u001b[0m\n\u001b[1;32m      6\u001b[0m \u001b[0;34m\u001b[0m\u001b[0m\n\u001b[0;32m----> 7\u001b[0;31m \u001b[0mpd\u001b[0m\u001b[0;34m.\u001b[0m\u001b[0mDataFrame\u001b[0m\u001b[0;34m(\u001b[0m\u001b[0mmatriz_1\u001b[0m\u001b[0;34m)\u001b[0m\u001b[0;34m.\u001b[0m\u001b[0mto_csv\u001b[0m\u001b[0;34m(\u001b[0m\u001b[0;34m\"./matriz_1.csv\"\u001b[0m\u001b[0;34m)\u001b[0m\u001b[0;34m\u001b[0m\u001b[0;34m\u001b[0m\u001b[0m\n\u001b[0m\u001b[1;32m      8\u001b[0m \u001b[0mpd\u001b[0m\u001b[0;34m.\u001b[0m\u001b[0mDataFrame\u001b[0m\u001b[0;34m(\u001b[0m\u001b[0mmatriz_2\u001b[0m\u001b[0;34m)\u001b[0m\u001b[0;34m.\u001b[0m\u001b[0mto_csv\u001b[0m\u001b[0;34m(\u001b[0m\u001b[0;34m\"./matriz_2.csv\"\u001b[0m\u001b[0;34m)\u001b[0m\u001b[0;34m\u001b[0m\u001b[0;34m\u001b[0m\u001b[0m\n\u001b[1;32m      9\u001b[0m \u001b[0mpd\u001b[0m\u001b[0;34m.\u001b[0m\u001b[0mDataFrame\u001b[0m\u001b[0;34m(\u001b[0m\u001b[0mmatriz_3\u001b[0m\u001b[0;34m)\u001b[0m\u001b[0;34m.\u001b[0m\u001b[0mto_csv\u001b[0m\u001b[0;34m(\u001b[0m\u001b[0;34m\"./matriz_3.csv\"\u001b[0m\u001b[0;34m)\u001b[0m\u001b[0;34m\u001b[0m\u001b[0;34m\u001b[0m\u001b[0m\n",
            "\u001b[0;32m/usr/local/lib/python3.7/dist-packages/pandas/core/generic.py\u001b[0m in \u001b[0;36mto_csv\u001b[0;34m(self, path_or_buf, sep, na_rep, float_format, columns, header, index, index_label, mode, encoding, compression, quoting, quotechar, line_terminator, chunksize, date_format, doublequote, escapechar, decimal, errors, storage_options)\u001b[0m\n\u001b[1;32m   3480\u001b[0m             \u001b[0mdoublequote\u001b[0m\u001b[0;34m=\u001b[0m\u001b[0mdoublequote\u001b[0m\u001b[0;34m,\u001b[0m\u001b[0;34m\u001b[0m\u001b[0;34m\u001b[0m\u001b[0m\n\u001b[1;32m   3481\u001b[0m             \u001b[0mescapechar\u001b[0m\u001b[0;34m=\u001b[0m\u001b[0mescapechar\u001b[0m\u001b[0;34m,\u001b[0m\u001b[0;34m\u001b[0m\u001b[0;34m\u001b[0m\u001b[0m\n\u001b[0;32m-> 3482\u001b[0;31m             \u001b[0mstorage_options\u001b[0m\u001b[0;34m=\u001b[0m\u001b[0mstorage_options\u001b[0m\u001b[0;34m,\u001b[0m\u001b[0;34m\u001b[0m\u001b[0;34m\u001b[0m\u001b[0m\n\u001b[0m\u001b[1;32m   3483\u001b[0m         )\n\u001b[1;32m   3484\u001b[0m \u001b[0;34m\u001b[0m\u001b[0m\n",
            "\u001b[0;32m/usr/local/lib/python3.7/dist-packages/pandas/io/formats/format.py\u001b[0m in \u001b[0;36mto_csv\u001b[0;34m(self, path_or_buf, encoding, sep, columns, index_label, mode, compression, quoting, quotechar, line_terminator, chunksize, date_format, doublequote, escapechar, errors, storage_options)\u001b[0m\n\u001b[1;32m   1103\u001b[0m             \u001b[0mformatter\u001b[0m\u001b[0;34m=\u001b[0m\u001b[0mself\u001b[0m\u001b[0;34m.\u001b[0m\u001b[0mfmt\u001b[0m\u001b[0;34m,\u001b[0m\u001b[0;34m\u001b[0m\u001b[0;34m\u001b[0m\u001b[0m\n\u001b[1;32m   1104\u001b[0m         )\n\u001b[0;32m-> 1105\u001b[0;31m         \u001b[0mcsv_formatter\u001b[0m\u001b[0;34m.\u001b[0m\u001b[0msave\u001b[0m\u001b[0;34m(\u001b[0m\u001b[0;34m)\u001b[0m\u001b[0;34m\u001b[0m\u001b[0;34m\u001b[0m\u001b[0m\n\u001b[0m\u001b[1;32m   1106\u001b[0m \u001b[0;34m\u001b[0m\u001b[0m\n\u001b[1;32m   1107\u001b[0m         \u001b[0;32mif\u001b[0m \u001b[0mcreated_buffer\u001b[0m\u001b[0;34m:\u001b[0m\u001b[0;34m\u001b[0m\u001b[0;34m\u001b[0m\u001b[0m\n",
            "\u001b[0;32m/usr/local/lib/python3.7/dist-packages/pandas/io/formats/csvs.py\u001b[0m in \u001b[0;36msave\u001b[0;34m(self)\u001b[0m\n\u001b[1;32m    255\u001b[0m             )\n\u001b[1;32m    256\u001b[0m \u001b[0;34m\u001b[0m\u001b[0m\n\u001b[0;32m--> 257\u001b[0;31m             \u001b[0mself\u001b[0m\u001b[0;34m.\u001b[0m\u001b[0m_save\u001b[0m\u001b[0;34m(\u001b[0m\u001b[0;34m)\u001b[0m\u001b[0;34m\u001b[0m\u001b[0;34m\u001b[0m\u001b[0m\n\u001b[0m\u001b[1;32m    258\u001b[0m \u001b[0;34m\u001b[0m\u001b[0m\n\u001b[1;32m    259\u001b[0m     \u001b[0;32mdef\u001b[0m \u001b[0m_save\u001b[0m\u001b[0;34m(\u001b[0m\u001b[0mself\u001b[0m\u001b[0;34m)\u001b[0m \u001b[0;34m->\u001b[0m \u001b[0;32mNone\u001b[0m\u001b[0;34m:\u001b[0m\u001b[0;34m\u001b[0m\u001b[0;34m\u001b[0m\u001b[0m\n",
            "\u001b[0;32m/usr/local/lib/python3.7/dist-packages/pandas/io/formats/csvs.py\u001b[0m in \u001b[0;36m_save\u001b[0;34m(self)\u001b[0m\n\u001b[1;32m    260\u001b[0m         \u001b[0;32mif\u001b[0m \u001b[0mself\u001b[0m\u001b[0;34m.\u001b[0m\u001b[0m_need_to_save_header\u001b[0m\u001b[0;34m:\u001b[0m\u001b[0;34m\u001b[0m\u001b[0;34m\u001b[0m\u001b[0m\n\u001b[1;32m    261\u001b[0m             \u001b[0mself\u001b[0m\u001b[0;34m.\u001b[0m\u001b[0m_save_header\u001b[0m\u001b[0;34m(\u001b[0m\u001b[0;34m)\u001b[0m\u001b[0;34m\u001b[0m\u001b[0;34m\u001b[0m\u001b[0m\n\u001b[0;32m--> 262\u001b[0;31m         \u001b[0mself\u001b[0m\u001b[0;34m.\u001b[0m\u001b[0m_save_body\u001b[0m\u001b[0;34m(\u001b[0m\u001b[0;34m)\u001b[0m\u001b[0;34m\u001b[0m\u001b[0;34m\u001b[0m\u001b[0m\n\u001b[0m\u001b[1;32m    263\u001b[0m \u001b[0;34m\u001b[0m\u001b[0m\n\u001b[1;32m    264\u001b[0m     \u001b[0;32mdef\u001b[0m \u001b[0m_save_header\u001b[0m\u001b[0;34m(\u001b[0m\u001b[0mself\u001b[0m\u001b[0;34m)\u001b[0m \u001b[0;34m->\u001b[0m \u001b[0;32mNone\u001b[0m\u001b[0;34m:\u001b[0m\u001b[0;34m\u001b[0m\u001b[0;34m\u001b[0m\u001b[0m\n",
            "\u001b[0;32m/usr/local/lib/python3.7/dist-packages/pandas/io/formats/csvs.py\u001b[0m in \u001b[0;36m_save_body\u001b[0;34m(self)\u001b[0m\n\u001b[1;32m    298\u001b[0m             \u001b[0;32mif\u001b[0m \u001b[0mstart_i\u001b[0m \u001b[0;34m>=\u001b[0m \u001b[0mend_i\u001b[0m\u001b[0;34m:\u001b[0m\u001b[0;34m\u001b[0m\u001b[0;34m\u001b[0m\u001b[0m\n\u001b[1;32m    299\u001b[0m                 \u001b[0;32mbreak\u001b[0m\u001b[0;34m\u001b[0m\u001b[0;34m\u001b[0m\u001b[0m\n\u001b[0;32m--> 300\u001b[0;31m             \u001b[0mself\u001b[0m\u001b[0;34m.\u001b[0m\u001b[0m_save_chunk\u001b[0m\u001b[0;34m(\u001b[0m\u001b[0mstart_i\u001b[0m\u001b[0;34m,\u001b[0m \u001b[0mend_i\u001b[0m\u001b[0;34m)\u001b[0m\u001b[0;34m\u001b[0m\u001b[0;34m\u001b[0m\u001b[0m\n\u001b[0m\u001b[1;32m    301\u001b[0m \u001b[0;34m\u001b[0m\u001b[0m\n\u001b[1;32m    302\u001b[0m     \u001b[0;32mdef\u001b[0m \u001b[0m_save_chunk\u001b[0m\u001b[0;34m(\u001b[0m\u001b[0mself\u001b[0m\u001b[0;34m,\u001b[0m \u001b[0mstart_i\u001b[0m\u001b[0;34m:\u001b[0m \u001b[0mint\u001b[0m\u001b[0;34m,\u001b[0m \u001b[0mend_i\u001b[0m\u001b[0;34m:\u001b[0m \u001b[0mint\u001b[0m\u001b[0;34m)\u001b[0m \u001b[0;34m->\u001b[0m \u001b[0;32mNone\u001b[0m\u001b[0;34m:\u001b[0m\u001b[0;34m\u001b[0m\u001b[0;34m\u001b[0m\u001b[0m\n",
            "\u001b[0;32m/usr/local/lib/python3.7/dist-packages/pandas/io/formats/csvs.py\u001b[0m in \u001b[0;36m_save_chunk\u001b[0;34m(self, start_i, end_i)\u001b[0m\n\u001b[1;32m    305\u001b[0m         \u001b[0mdf\u001b[0m \u001b[0;34m=\u001b[0m \u001b[0mself\u001b[0m\u001b[0;34m.\u001b[0m\u001b[0mobj\u001b[0m\u001b[0;34m.\u001b[0m\u001b[0miloc\u001b[0m\u001b[0;34m[\u001b[0m\u001b[0mslicer\u001b[0m\u001b[0;34m]\u001b[0m\u001b[0;34m\u001b[0m\u001b[0;34m\u001b[0m\u001b[0m\n\u001b[1;32m    306\u001b[0m \u001b[0;34m\u001b[0m\u001b[0m\n\u001b[0;32m--> 307\u001b[0;31m         \u001b[0mres\u001b[0m \u001b[0;34m=\u001b[0m \u001b[0mdf\u001b[0m\u001b[0;34m.\u001b[0m\u001b[0m_mgr\u001b[0m\u001b[0;34m.\u001b[0m\u001b[0mto_native_types\u001b[0m\u001b[0;34m(\u001b[0m\u001b[0;34m**\u001b[0m\u001b[0mself\u001b[0m\u001b[0;34m.\u001b[0m\u001b[0m_number_format\u001b[0m\u001b[0;34m)\u001b[0m\u001b[0;34m\u001b[0m\u001b[0;34m\u001b[0m\u001b[0m\n\u001b[0m\u001b[1;32m    308\u001b[0m         \u001b[0mdata\u001b[0m \u001b[0;34m=\u001b[0m \u001b[0;34m[\u001b[0m\u001b[0mres\u001b[0m\u001b[0;34m.\u001b[0m\u001b[0miget_values\u001b[0m\u001b[0;34m(\u001b[0m\u001b[0mi\u001b[0m\u001b[0;34m)\u001b[0m \u001b[0;32mfor\u001b[0m \u001b[0mi\u001b[0m \u001b[0;32min\u001b[0m \u001b[0mrange\u001b[0m\u001b[0;34m(\u001b[0m\u001b[0mlen\u001b[0m\u001b[0;34m(\u001b[0m\u001b[0mres\u001b[0m\u001b[0;34m.\u001b[0m\u001b[0mitems\u001b[0m\u001b[0;34m)\u001b[0m\u001b[0;34m)\u001b[0m\u001b[0;34m]\u001b[0m\u001b[0;34m\u001b[0m\u001b[0;34m\u001b[0m\u001b[0m\n\u001b[1;32m    309\u001b[0m \u001b[0;34m\u001b[0m\u001b[0m\n",
            "\u001b[0;32m/usr/local/lib/python3.7/dist-packages/pandas/core/internals/managers.py\u001b[0m in \u001b[0;36mto_native_types\u001b[0;34m(self, **kwargs)\u001b[0m\n\u001b[1;32m    464\u001b[0m         \u001b[0;32min\u001b[0m \u001b[0mformatting\u001b[0m \u001b[0;34m(\u001b[0m\u001b[0mrepr\u001b[0m \u001b[0;34m/\u001b[0m \u001b[0mcsv\u001b[0m\u001b[0;34m)\u001b[0m\u001b[0;34m.\u001b[0m\u001b[0;34m\u001b[0m\u001b[0;34m\u001b[0m\u001b[0m\n\u001b[1;32m    465\u001b[0m         \"\"\"\n\u001b[0;32m--> 466\u001b[0;31m         \u001b[0;32mreturn\u001b[0m \u001b[0mself\u001b[0m\u001b[0;34m.\u001b[0m\u001b[0mapply\u001b[0m\u001b[0;34m(\u001b[0m\u001b[0;34m\"to_native_types\"\u001b[0m\u001b[0;34m,\u001b[0m \u001b[0;34m**\u001b[0m\u001b[0mkwargs\u001b[0m\u001b[0;34m)\u001b[0m\u001b[0;34m\u001b[0m\u001b[0;34m\u001b[0m\u001b[0m\n\u001b[0m\u001b[1;32m    467\u001b[0m \u001b[0;34m\u001b[0m\u001b[0m\n\u001b[1;32m    468\u001b[0m     \u001b[0;32mdef\u001b[0m \u001b[0mis_consolidated\u001b[0m\u001b[0;34m(\u001b[0m\u001b[0mself\u001b[0m\u001b[0;34m)\u001b[0m \u001b[0;34m->\u001b[0m \u001b[0mbool\u001b[0m\u001b[0;34m:\u001b[0m\u001b[0;34m\u001b[0m\u001b[0;34m\u001b[0m\u001b[0m\n",
            "\u001b[0;32m/usr/local/lib/python3.7/dist-packages/pandas/core/internals/managers.py\u001b[0m in \u001b[0;36mapply\u001b[0;34m(self, f, align_keys, ignore_failures, **kwargs)\u001b[0m\n\u001b[1;32m    325\u001b[0m                     \u001b[0mapplied\u001b[0m \u001b[0;34m=\u001b[0m \u001b[0mb\u001b[0m\u001b[0;34m.\u001b[0m\u001b[0mapply\u001b[0m\u001b[0;34m(\u001b[0m\u001b[0mf\u001b[0m\u001b[0;34m,\u001b[0m \u001b[0;34m**\u001b[0m\u001b[0mkwargs\u001b[0m\u001b[0;34m)\u001b[0m\u001b[0;34m\u001b[0m\u001b[0;34m\u001b[0m\u001b[0m\n\u001b[1;32m    326\u001b[0m                 \u001b[0;32melse\u001b[0m\u001b[0;34m:\u001b[0m\u001b[0;34m\u001b[0m\u001b[0;34m\u001b[0m\u001b[0m\n\u001b[0;32m--> 327\u001b[0;31m                     \u001b[0mapplied\u001b[0m \u001b[0;34m=\u001b[0m \u001b[0mgetattr\u001b[0m\u001b[0;34m(\u001b[0m\u001b[0mb\u001b[0m\u001b[0;34m,\u001b[0m \u001b[0mf\u001b[0m\u001b[0;34m)\u001b[0m\u001b[0;34m(\u001b[0m\u001b[0;34m**\u001b[0m\u001b[0mkwargs\u001b[0m\u001b[0;34m)\u001b[0m\u001b[0;34m\u001b[0m\u001b[0;34m\u001b[0m\u001b[0m\n\u001b[0m\u001b[1;32m    328\u001b[0m             \u001b[0;32mexcept\u001b[0m \u001b[0;34m(\u001b[0m\u001b[0mTypeError\u001b[0m\u001b[0;34m,\u001b[0m \u001b[0mNotImplementedError\u001b[0m\u001b[0;34m)\u001b[0m\u001b[0;34m:\u001b[0m\u001b[0;34m\u001b[0m\u001b[0;34m\u001b[0m\u001b[0m\n\u001b[1;32m    329\u001b[0m                 \u001b[0;32mif\u001b[0m \u001b[0;32mnot\u001b[0m \u001b[0mignore_failures\u001b[0m\u001b[0;34m:\u001b[0m\u001b[0;34m\u001b[0m\u001b[0;34m\u001b[0m\u001b[0m\n",
            "\u001b[0;32m/usr/local/lib/python3.7/dist-packages/pandas/core/internals/blocks.py\u001b[0m in \u001b[0;36mto_native_types\u001b[0;34m(self, na_rep, quoting, **kwargs)\u001b[0m\n\u001b[1;32m    639\u001b[0m     \u001b[0;32mdef\u001b[0m \u001b[0mto_native_types\u001b[0m\u001b[0;34m(\u001b[0m\u001b[0mself\u001b[0m\u001b[0;34m,\u001b[0m \u001b[0mna_rep\u001b[0m\u001b[0;34m=\u001b[0m\u001b[0;34m\"nan\"\u001b[0m\u001b[0;34m,\u001b[0m \u001b[0mquoting\u001b[0m\u001b[0;34m=\u001b[0m\u001b[0;32mNone\u001b[0m\u001b[0;34m,\u001b[0m \u001b[0;34m**\u001b[0m\u001b[0mkwargs\u001b[0m\u001b[0;34m)\u001b[0m\u001b[0;34m:\u001b[0m\u001b[0;34m\u001b[0m\u001b[0;34m\u001b[0m\u001b[0m\n\u001b[1;32m    640\u001b[0m         \u001b[0;34m\"\"\"convert to our native types format\"\"\"\u001b[0m\u001b[0;34m\u001b[0m\u001b[0;34m\u001b[0m\u001b[0m\n\u001b[0;32m--> 641\u001b[0;31m         \u001b[0mresult\u001b[0m \u001b[0;34m=\u001b[0m \u001b[0mto_native_types\u001b[0m\u001b[0;34m(\u001b[0m\u001b[0mself\u001b[0m\u001b[0;34m.\u001b[0m\u001b[0mvalues\u001b[0m\u001b[0;34m,\u001b[0m \u001b[0mna_rep\u001b[0m\u001b[0;34m=\u001b[0m\u001b[0mna_rep\u001b[0m\u001b[0;34m,\u001b[0m \u001b[0mquoting\u001b[0m\u001b[0;34m=\u001b[0m\u001b[0mquoting\u001b[0m\u001b[0;34m,\u001b[0m \u001b[0;34m**\u001b[0m\u001b[0mkwargs\u001b[0m\u001b[0;34m)\u001b[0m\u001b[0;34m\u001b[0m\u001b[0;34m\u001b[0m\u001b[0m\n\u001b[0m\u001b[1;32m    642\u001b[0m         \u001b[0;32mreturn\u001b[0m \u001b[0mself\u001b[0m\u001b[0;34m.\u001b[0m\u001b[0mmake_block\u001b[0m\u001b[0;34m(\u001b[0m\u001b[0mresult\u001b[0m\u001b[0;34m)\u001b[0m\u001b[0;34m\u001b[0m\u001b[0;34m\u001b[0m\u001b[0m\n\u001b[1;32m    643\u001b[0m \u001b[0;34m\u001b[0m\u001b[0m\n",
            "\u001b[0;32m/usr/local/lib/python3.7/dist-packages/pandas/core/internals/blocks.py\u001b[0m in \u001b[0;36mto_native_types\u001b[0;34m(values, na_rep, quoting, float_format, decimal, **kwargs)\u001b[0m\n\u001b[1;32m   2077\u001b[0m \u001b[0;34m\u001b[0m\u001b[0m\n\u001b[1;32m   2078\u001b[0m             \u001b[0mvalues\u001b[0m\u001b[0;34m[\u001b[0m\u001b[0mmask\u001b[0m\u001b[0;34m]\u001b[0m \u001b[0;34m=\u001b[0m \u001b[0mna_rep\u001b[0m\u001b[0;34m\u001b[0m\u001b[0;34m\u001b[0m\u001b[0m\n\u001b[0;32m-> 2079\u001b[0;31m             \u001b[0mvalues\u001b[0m \u001b[0;34m=\u001b[0m \u001b[0mvalues\u001b[0m\u001b[0;34m.\u001b[0m\u001b[0mastype\u001b[0m\u001b[0;34m(\u001b[0m\u001b[0mobject\u001b[0m\u001b[0;34m,\u001b[0m \u001b[0mcopy\u001b[0m\u001b[0;34m=\u001b[0m\u001b[0;32mFalse\u001b[0m\u001b[0;34m)\u001b[0m\u001b[0;34m\u001b[0m\u001b[0;34m\u001b[0m\u001b[0m\n\u001b[0m\u001b[1;32m   2080\u001b[0m             \u001b[0;32mreturn\u001b[0m \u001b[0mvalues\u001b[0m\u001b[0;34m\u001b[0m\u001b[0;34m\u001b[0m\u001b[0m\n\u001b[1;32m   2081\u001b[0m \u001b[0;34m\u001b[0m\u001b[0m\n",
            "\u001b[0;31mKeyboardInterrupt\u001b[0m: "
          ]
        }
      ],
      "source": [
        "# Imprimindo os dados das matrizes de dissimilaridade\n",
        "#for i in range(0,3):\n",
        " #   for j in range(0,3):\n",
        "  #      print(matriz_1[i][j])\n",
        "   ###   print(\"\\n\")\n",
        "        \n",
        "pd.DataFrame(matriz_1).to_csv(\"./matriz_1.csv\")\n",
        "pd.DataFrame(matriz_2).to_csv(\"./matriz_2.csv\")\n",
        "pd.DataFrame(matriz_3).to_csv(\"./matriz_3.csv\")"
      ]
    },
    {
      "cell_type": "code",
      "execution_count": null,
      "metadata": {
        "id": "J5Zi_msLmJqD"
      },
      "outputs": [],
      "source": [
        "#Lendo as matrizes a partir do cvs\n",
        "\n",
        "m1_dataset = pd.read_csv(\"./matriz_1.csv\")\n",
        "m2_dataset = pd.read_csv(\"./matriz_2.csv\")\n",
        "m3_dataset = pd.read_csv(\"./matriz_3.csv\")"
      ]
    },
    {
      "cell_type": "code",
      "execution_count": null,
      "metadata": {
        "id": "JNULR97XmJqD",
        "outputId": "03b509f0-e8f3-486a-abeb-cb66579c091a"
      },
      "outputs": [
        {
          "data": {
            "text/plain": [
              "(20864, 20865)"
            ]
          },
          "execution_count": 12,
          "metadata": {},
          "output_type": "execute_result"
        }
      ],
      "source": [
        "m1_dataset.shape"
      ]
    },
    {
      "cell_type": "code",
      "source": [
        "#Finding the argmin for three matrices\n",
        "\n",
        "argMin1 = 0\n",
        "argMin2 = 0\n",
        "argMin3 = 0\n",
        "\n",
        "index1 = 0\n",
        "index2 = 0\n",
        "index3 = 0\n",
        "\n",
        "sum1 = 0\n",
        "sum2 = 0\n",
        "sum3 = 0\n",
        "\n",
        "sum1_aux = 99999999\n",
        "sum2_aux = 99999999\n",
        "sum3_aux = 99999999\n",
        "\n",
        "for r in range(0, len(matriz_1)):\n",
        "    sum1 = 0\n",
        "    sum2 = 0\n",
        "    sum3 = 0 \n",
        "    for c in range(0, len(matriz_1)):\n",
        "        if r != c:\n",
        "          sum1 = matriz_1[r][c] + sum1\n",
        "          sum2 = matriz_2[r][c] + sum2\n",
        "          sum3 = matriz_3[r][c] + sum3    \n",
        "    if (sum1 < sum1_aux):\n",
        "      sum1_aux = sum1\n",
        "      index1 = r\n",
        "    if (sum2 < sum2_aux):\n",
        "      sum2_aux = sum2\n",
        "      index2 = r\n",
        "    if (sum3 < sum3_aux):\n",
        "      sum3_aux = sum3\n",
        "      index3 = r\n",
        "\n",
        "\n",
        "matriz_1_1 = matriz_1 / sum1_aux\n",
        "matriz_2_1 = matriz_2 / sum2_aux\n",
        "matriz_3_1 = matriz_3 / sum3_aux\n",
        "\n",
        "          \n"
      ],
      "metadata": {
        "id": "-BJThKitnVm0"
      },
      "execution_count": null,
      "outputs": []
    },
    {
      "cell_type": "code",
      "source": [
        "import random\n",
        "distances =[euclidian, city_block, chebyshev]  \n",
        "\n",
        "def MVFCMddV(diss_matrices, m=2, e=10**(-10), K=12, T=150, E=joinDataset, distances=distances):\n",
        "  '''\n",
        "  Returns:\n",
        "  - G, a K-dimensional vector of medoids (12x3)\n",
        "  - Λ, a K-dimensional vector of relevance weight vectors\n",
        "  - U, a n-dimensional vector of membership degree vectors\n",
        "  '''\n",
        "\n",
        "  t = 0\n",
        "  G = [] # 12x3\n",
        "  n = 0\n",
        "  while n < K:\n",
        "    g_index = random.randint(0, len(E))\n",
        "    g_temp = [] # 1x3\n",
        "    j = 0\n",
        "    if g_index not in G:\n",
        "      while j < len(diss_matrices):\n",
        "        g_j = random.randint(0, len(E))\n",
        "        if g_j not in G:\n",
        "          g_temp.append(g_j)\n",
        "          j += 1\n",
        "      G.append(g_temp)\n",
        "      n += 1\n",
        "\n",
        "  A = np.ones(shape=(K, len(diss_matrices)))\n",
        "  \n",
        "  cur_U = []\n",
        "  for idx, e in enumerate(E.iterrows()):\n",
        "    u_i = []\n",
        "    for k in range(K):\n",
        "      u_aux = eq6(k, K, m, idx, G, A, diss_matrices)\n",
        "      u_i.append(u_aux)\n",
        "    cur_U.append(u_i)\n",
        "  \n",
        "  cur_u_t = eq1(G, A, cur_U, m, diss_matrices)\n",
        "\n",
        "  while True:\n",
        "    t += 1\n",
        "\n",
        "    G_aux = []\n",
        "    for k in range(K):\n",
        "      g_aux = []\n",
        "      for j in range(len(diss_matrices)):\n",
        "        g_kj = eq4(cur_U, k, j, diss_matrices, m)\n",
        "        g_aux.append(g_kj)\n",
        "\n",
        "    G = G_aux\n",
        "\n",
        "    A_aux = []\n",
        "    for k in range(K):\n",
        "      a_aux = []\n",
        "      for j in range(len(diss_matrices)):\n",
        "        a_kj = eq5(G, prev_U, diss_matrices, m,  k, j)\n",
        "        a_aux.append(a_kj)\n",
        "\n",
        "    A = A_aux\n",
        "\n",
        "    U_aux = []\n",
        "    for k in range(K):\n",
        "      u_aux = []\n",
        "      for i in range(len(E)):\n",
        "        # (k, K, m, ei, G, A, diss_matrices)\n",
        "        u_ij = eq6(k, K, m, G, A, diss_matrices)\n",
        "        u_aux.append(u_ij)\n",
        "    \n",
        "    prev_U = cur_U\n",
        "    cur_U = U_aux\n",
        "    \n",
        "    u_t_aux = eq1(G, A, cur_U, m, diss_matrices)\n",
        "    prev_u_t = cur_u_t\n",
        "    cur_u_t = u_t_aux\n",
        "\n",
        "    print('t: {}\\nu_t: {}'.format(t, cur_u_t))\n",
        "    if(t > T) or (np.abs(cur_u_t - prev_u_t)<e):\n",
        "      break\n",
        "  \n",
        "  return (G, A, cur_U)\n",
        "\n",
        "\n",
        "def eq1(G, A, U, m, dis_mt, K=12, n=20867, p=3):\n",
        "  sum_k = 0\n",
        "  for k in range(K):\n",
        "    sum_i = 0\n",
        "    for i in range(n):\n",
        "      sum_j = 0\n",
        "      for j in range(p):\n",
        "        sum_j += A[k][j] * dis_mt[j][i][G[k][j]]\n",
        "      sum_i += (U[i][k] ** m) * sum_j\n",
        "    sum_k += sum_i\n",
        "\n",
        "    return sum_k\n",
        "\n",
        "\n",
        "def eq4(U, k, j, dis_mt, m, n=20867):\n",
        "\n",
        "  l_aux = []\n",
        "  for h in range(len(matriz_1)):\n",
        "    sum_i = 0\n",
        "    for  i in range(len(matriz_1)):\n",
        "      sum_i += (U[i][k] ** m) * dis_mt[j][i][h]\n",
        "\n",
        "  l_aux.append(sum_i)\n",
        "  max_val =  np.max(l_aux)\n",
        "\n",
        "  min_index = 99999999999999999999999999999\n",
        "\n",
        "  for idx,_ in enumerate(l_aux):\n",
        "    if l_aux[idx] < max_val:\n",
        "      max_val = l_aux[idx]\n",
        "      min_index = idx\n",
        "\n",
        "  '''list_aux = []\n",
        "  for h in range(n):\n",
        "    sum_i = 0\n",
        "    for i in range(n):\n",
        "      sum_i += (U[i][k] ** m) * dis_mt[j][i][h]\n",
        "    list_aux.append(sum_i)'''\n",
        "  return min_index\n",
        "  \n",
        "def eq5(G, prev_U, dis_mt, m, k, j, K=12, n=20867, p=3):\n",
        "  sum_deno = 0\n",
        "  for i in range(n):\n",
        "    sum_deno += (prev_U[i][k] ** m) * dis_mt[j][i][G[k][j]]\n",
        "  \n",
        "  prod_h = 1\n",
        "  for h in range(p):\n",
        "    sum_i = 0\n",
        "    for i in range(n):\n",
        "      sum_i = (prev_U[i][k] ** m) * dis_mt[h][i][G[k][h]]\n",
        "    prod_h *= sum_i\n",
        "  prod_h **= (1/p)\n",
        "\n",
        "  return prod_h / sum_deno\n",
        "\n",
        "\n",
        "def eq6 (k, K, m, ei, G, A, diss_matrices):\n",
        "  sum_final = 0\n",
        "  for h in range(K):\n",
        "    sum_numerator = 0\n",
        "    for j in range (len(diss_matrices)):\n",
        "      try:\n",
        "        sum_numerator += A[k][j] * diss_matrices[j][ei][G[k][j]]\n",
        "      except IndexError:\n",
        "        print(k, j, ei, G[k][j])\n",
        "        break\n",
        "      #print('..sum_numerator: {}'.format(sum_numerator))\n",
        "    \n",
        "    sum_denominator = 0\n",
        "    for j in range (len(diss_matrices)):\n",
        "      sum_denominator += A[h][j] * diss_matrices[j][ei][G[h][j]]\n",
        "      #print('..sum_denominator: {}'.format(sum_denominator))\n",
        "\n",
        "    #print('sum_numerator: {}'.format(sum_numerator))\n",
        "    #print('sum_denominator: {}'.format(sum_denominator))\n",
        "    sum_final += (sum_numerator/sum_denominator)**(1/(m-1))\n",
        "  #print('..sum_final: {}'.format(sum_final))\n",
        "\n",
        "  #print('.sum_final: {}'.format(sum_final))\n",
        "  sum_final = sum_final**(-1)\n",
        "  #print('sum_final: {}'.format(sum_final))\n",
        "  return sum_final"
      ],
      "metadata": {
        "id": "9e63l3DtGPUu"
      },
      "execution_count": null,
      "outputs": []
    },
    {
      "cell_type": "code",
      "source": [
        "diss_mt = [matriz_1, matriz_2, matriz_3]\n",
        "G, A, U = MVFCMddV(diss_mt, 2)"
      ],
      "metadata": {
        "colab": {
          "base_uri": "https://localhost:8080/",
          "height": 330
        },
        "id": "dcX90txIUJcx",
        "outputId": "1dc61ad3-4183-4a4a-c5d7-a733a027c835"
      },
      "execution_count": null,
      "outputs": [
        {
          "output_type": "error",
          "ename": "KeyboardInterrupt",
          "evalue": "ignored",
          "traceback": [
            "\u001b[0;31m---------------------------------------------------------------------------\u001b[0m",
            "\u001b[0;31mKeyboardInterrupt\u001b[0m                         Traceback (most recent call last)",
            "\u001b[0;32m<ipython-input-113-bc576a81ddfd>\u001b[0m in \u001b[0;36m<module>\u001b[0;34m()\u001b[0m\n\u001b[1;32m      1\u001b[0m \u001b[0mdiss_mt\u001b[0m \u001b[0;34m=\u001b[0m \u001b[0;34m[\u001b[0m\u001b[0mmatriz_1\u001b[0m\u001b[0;34m,\u001b[0m \u001b[0mmatriz_2\u001b[0m\u001b[0;34m,\u001b[0m \u001b[0mmatriz_3\u001b[0m\u001b[0;34m]\u001b[0m\u001b[0;34m\u001b[0m\u001b[0;34m\u001b[0m\u001b[0m\n\u001b[0;32m----> 2\u001b[0;31m \u001b[0mG\u001b[0m\u001b[0;34m,\u001b[0m \u001b[0mA\u001b[0m\u001b[0;34m,\u001b[0m \u001b[0mU\u001b[0m \u001b[0;34m=\u001b[0m \u001b[0mMVFCMddV\u001b[0m\u001b[0;34m(\u001b[0m\u001b[0mdiss_mt\u001b[0m\u001b[0;34m,\u001b[0m \u001b[0;36m2\u001b[0m\u001b[0;34m)\u001b[0m\u001b[0;34m\u001b[0m\u001b[0;34m\u001b[0m\u001b[0m\n\u001b[0m",
            "\u001b[0;32m<ipython-input-112-b2612b590ed2>\u001b[0m in \u001b[0;36mMVFCMddV\u001b[0;34m(diss_matrices, m, e, K, T, E, distances)\u001b[0m\n\u001b[1;32m     45\u001b[0m       \u001b[0mg_aux\u001b[0m \u001b[0;34m=\u001b[0m \u001b[0;34m[\u001b[0m\u001b[0;34m]\u001b[0m\u001b[0;34m\u001b[0m\u001b[0;34m\u001b[0m\u001b[0m\n\u001b[1;32m     46\u001b[0m       \u001b[0;32mfor\u001b[0m \u001b[0mj\u001b[0m \u001b[0;32min\u001b[0m \u001b[0mrange\u001b[0m\u001b[0;34m(\u001b[0m\u001b[0mlen\u001b[0m\u001b[0;34m(\u001b[0m\u001b[0mdiss_matrices\u001b[0m\u001b[0;34m)\u001b[0m\u001b[0;34m)\u001b[0m\u001b[0;34m:\u001b[0m\u001b[0;34m\u001b[0m\u001b[0;34m\u001b[0m\u001b[0m\n\u001b[0;32m---> 47\u001b[0;31m         \u001b[0mg_kj\u001b[0m \u001b[0;34m=\u001b[0m \u001b[0meq4\u001b[0m\u001b[0;34m(\u001b[0m\u001b[0mcur_U\u001b[0m\u001b[0;34m,\u001b[0m \u001b[0mk\u001b[0m\u001b[0;34m,\u001b[0m \u001b[0mj\u001b[0m\u001b[0;34m,\u001b[0m \u001b[0mdiss_matrices\u001b[0m\u001b[0;34m,\u001b[0m \u001b[0mm\u001b[0m\u001b[0;34m)\u001b[0m\u001b[0;34m\u001b[0m\u001b[0;34m\u001b[0m\u001b[0m\n\u001b[0m\u001b[1;32m     48\u001b[0m         \u001b[0mg_aux\u001b[0m\u001b[0;34m.\u001b[0m\u001b[0mappend\u001b[0m\u001b[0;34m(\u001b[0m\u001b[0mg_kj\u001b[0m\u001b[0;34m)\u001b[0m\u001b[0;34m\u001b[0m\u001b[0;34m\u001b[0m\u001b[0m\n\u001b[1;32m     49\u001b[0m \u001b[0;34m\u001b[0m\u001b[0m\n",
            "\u001b[0;32m<ipython-input-112-b2612b590ed2>\u001b[0m in \u001b[0;36meq4\u001b[0;34m(U, k, j, dis_mt, m, n)\u001b[0m\n\u001b[1;32m    101\u001b[0m     \u001b[0msum_i\u001b[0m \u001b[0;34m=\u001b[0m \u001b[0;36m0\u001b[0m\u001b[0;34m\u001b[0m\u001b[0;34m\u001b[0m\u001b[0m\n\u001b[1;32m    102\u001b[0m     \u001b[0;32mfor\u001b[0m  \u001b[0mi\u001b[0m \u001b[0;32min\u001b[0m \u001b[0mrange\u001b[0m\u001b[0;34m(\u001b[0m\u001b[0mlen\u001b[0m\u001b[0;34m(\u001b[0m\u001b[0mmatriz_1\u001b[0m\u001b[0;34m)\u001b[0m\u001b[0;34m)\u001b[0m\u001b[0;34m:\u001b[0m\u001b[0;34m\u001b[0m\u001b[0;34m\u001b[0m\u001b[0m\n\u001b[0;32m--> 103\u001b[0;31m       \u001b[0msum_i\u001b[0m \u001b[0;34m+=\u001b[0m \u001b[0;34m(\u001b[0m\u001b[0mU\u001b[0m\u001b[0;34m[\u001b[0m\u001b[0mi\u001b[0m\u001b[0;34m]\u001b[0m\u001b[0;34m[\u001b[0m\u001b[0mk\u001b[0m\u001b[0;34m]\u001b[0m \u001b[0;34m**\u001b[0m \u001b[0mm\u001b[0m\u001b[0;34m)\u001b[0m \u001b[0;34m*\u001b[0m \u001b[0mdis_mt\u001b[0m\u001b[0;34m[\u001b[0m\u001b[0mj\u001b[0m\u001b[0;34m]\u001b[0m\u001b[0;34m[\u001b[0m\u001b[0mi\u001b[0m\u001b[0;34m]\u001b[0m\u001b[0;34m[\u001b[0m\u001b[0mh\u001b[0m\u001b[0;34m]\u001b[0m\u001b[0;34m\u001b[0m\u001b[0;34m\u001b[0m\u001b[0m\n\u001b[0m\u001b[1;32m    104\u001b[0m \u001b[0;34m\u001b[0m\u001b[0m\n\u001b[1;32m    105\u001b[0m   \u001b[0ml_aux\u001b[0m\u001b[0;34m.\u001b[0m\u001b[0mappend\u001b[0m\u001b[0;34m(\u001b[0m\u001b[0msum_i\u001b[0m\u001b[0;34m)\u001b[0m\u001b[0;34m\u001b[0m\u001b[0;34m\u001b[0m\u001b[0m\n",
            "\u001b[0;31mKeyboardInterrupt\u001b[0m: "
          ]
        }
      ]
    },
    {
      "cell_type": "code",
      "source": [
        "from google.colab import files"
      ],
      "metadata": {
        "id": "pWBitkYZB4w8"
      },
      "execution_count": null,
      "outputs": []
    },
    {
      "cell_type": "code",
      "source": [
        "results = []\n",
        "m = 2\n",
        "for n in range(50):\n",
        "  G, A, U  = MVFCMddV(diss_mt, m) \n",
        "  G_df = pd.DataFrame(G)\n",
        "  A_df = pd.DataFrame(A)\n",
        "  U_df = pd.DataFrame(U)\n",
        "  \n",
        "  g_file = 'G{}.csv'.format(n)\n",
        "  G_df.to_csv(g_file)\n",
        "  files.download(g_file)\n",
        "\n",
        "  a_file = 'A{}.csv'.format(n)\n",
        "  A_df.to_csv(a_file)\n",
        "  files.download(a_file)\n",
        "\n",
        "  u_file = 'U{}.csv'.format(n)\n",
        "  U_df.to_csv(u_file)\n",
        "  files.download(u_file)\n",
        "\n",
        "\n",
        "  results.append((G, A, U))"
      ],
      "metadata": {
        "id": "4wLyrdfF98sN"
      },
      "execution_count": null,
      "outputs": []
    },
    {
      "cell_type": "markdown",
      "source": [
        "# Normalizando as matrizes de dissimilaridade"
      ],
      "metadata": {
        "id": "08gTNqgfACTx"
      }
    },
    {
      "cell_type": "code",
      "source": [
        "l_aux_1 = []\n",
        "l_aux_2 = []\n",
        "l_aux_3 = []\n",
        "for h in range(len(matriz_1)):\n",
        "  sum_1 = 0\n",
        "  sum_2 = 0\n",
        "  sum_3 = 0\n",
        "  for  i in range(len(matriz_1)):\n",
        "    sum_1 += matriz_1[h][i]\n",
        "    sum_2 += matriz_2[h][i]\n",
        "    sum_3 += matriz_3[h][i]\n",
        "  \n",
        "  l_aux_1.append(sum_1)\n",
        "  l_aux_2.append(sum_2)\n",
        "  l_aux_3.append(sum_3)"
      ],
      "metadata": {
        "id": "VzrL1QCpeCcc"
      },
      "execution_count": null,
      "outputs": []
    },
    {
      "cell_type": "code",
      "source": [
        "max_val_1 =  np.max(l_aux_1)\n",
        "max_val_2 =  np.max(l_aux_2)\n",
        "max_val_3 =  np.max(l_aux_3)\n",
        "\n",
        "min_index_1 = 99999999999999999999999999999\n",
        "min_index_2 = 99999999999999999999999999999\n",
        "min_index_3 = 99999999999999999999999999999\n",
        "\n",
        "for idx,_ in enumerate(l_aux_1):\n",
        "  if l_aux_1[idx] < max_val_1:\n",
        "    max_val_1 = l_aux_1[idx]\n",
        "    min_index_1 = idx\n",
        "  \n",
        "  if l_aux_2[idx] < max_val_2:\n",
        "    max_val_2 = l_aux_2[idx]\n",
        "    min_index_2 = idx\n",
        "  \n",
        "  if l_aux_3[idx] < max_val_3:\n",
        "    max_val_3 = l_aux_3[idx]\n",
        "    min_index_3 = idx"
      ],
      "metadata": {
        "id": "alH4tyW-gK3w"
      },
      "execution_count": null,
      "outputs": []
    },
    {
      "cell_type": "code",
      "source": [
        "print('min index 1: {}'.format(min_index_1))\n",
        "print('min index 2: {}'.format(min_index_2))\n",
        "print('min index 3: {}'.format(min_index_3))"
      ],
      "metadata": {
        "colab": {
          "base_uri": "https://localhost:8080/"
        },
        "id": "JaqXw18lgvU2",
        "outputId": "b9d786e6-8241-4add-d923-d0f80f884944"
      },
      "execution_count": null,
      "outputs": [
        {
          "output_type": "stream",
          "name": "stdout",
          "text": [
            "min index 1: 15295\n",
            "min index 2: 12622\n",
            "min index 3: 5739\n"
          ]
        }
      ]
    },
    {
      "cell_type": "code",
      "source": [
        "overall_g_1 = min_index_1\n",
        "overall_g_2 = min_index_2\n",
        "overall_g_3 = min_index_3"
      ],
      "metadata": {
        "id": "K9cNvQuLgzL8"
      },
      "execution_count": null,
      "outputs": []
    },
    {
      "cell_type": "code",
      "source": [
        "phi_1 = 0\n",
        "phi_2 = 0\n",
        "phi_3 = 0\n",
        "\n",
        "for idx in range(len(matriz_1)):\n",
        "  phi_1 += matriz_1[idx][overall_g_1]\n",
        "  phi_2 += matriz_2[idx][overall_g_2]\n",
        "  phi_3 += matriz_3[idx][overall_g_3]"
      ],
      "metadata": {
        "id": "SooMnwzvi0jS"
      },
      "execution_count": null,
      "outputs": []
    },
    {
      "cell_type": "code",
      "source": [
        "normal_m1 = matriz_1 / phi_1\n",
        "normal_m2 = matriz_2 / phi_2\n",
        "normal_m3 = matriz_3 / phi_3"
      ],
      "metadata": {
        "id": "cwQf10V2jYQI"
      },
      "execution_count": null,
      "outputs": []
    },
    {
      "cell_type": "code",
      "source": [
        "np.save('m1_normalized.txt', normal_m1,delimiter=',')\n",
        "np.save('m2_normalized.txt', normal_m2,delimiter=',')\n",
        "np.save('m3_normalized.txt', normal_m3,delimiter=',')"
      ],
      "metadata": {
        "id": "R8Q4m1oi7y79"
      },
      "execution_count": null,
      "outputs": []
    },
    {
      "cell_type": "code",
      "source": [
        "type(normal_m1[0][0])"
      ],
      "metadata": {
        "colab": {
          "base_uri": "https://localhost:8080/"
        },
        "id": "rkpxEBI_FCpb",
        "outputId": "aeaa874a-0bd4-49ab-a62d-de5f58bdac49"
      },
      "execution_count": null,
      "outputs": [
        {
          "output_type": "execute_result",
          "data": {
            "text/plain": [
              "numpy.float64"
            ]
          },
          "metadata": {},
          "execution_count": 120
        }
      ]
    },
    {
      "cell_type": "code",
      "source": [
        "#normal_m1_32bits = np.float32(normal_m1)\n",
        "normal_m1_32bits = np.float16(normal_m2)"
      ],
      "metadata": {
        "id": "jj18LPVJBQSP"
      },
      "execution_count": null,
      "outputs": []
    },
    {
      "cell_type": "code",
      "source": [
        "np.save('m2_normalized_16bits.npy', normal_m1_32bits)"
      ],
      "metadata": {
        "id": "XlyYXw93BbZp"
      },
      "execution_count": null,
      "outputs": []
    },
    {
      "cell_type": "code",
      "source": [
        "a = np.zeros(shape=(2,3), dtype=np.float32)"
      ],
      "metadata": {
        "id": "xoDuJq32Lc51"
      },
      "execution_count": null,
      "outputs": []
    },
    {
      "cell_type": "code",
      "source": [
        "a"
      ],
      "metadata": {
        "id": "Iv-ot6jlLxcq",
        "outputId": "8e205e09-f0c9-4660-a461-be82b1827442",
        "colab": {
          "base_uri": "https://localhost:8080/"
        }
      },
      "execution_count": null,
      "outputs": [
        {
          "output_type": "execute_result",
          "data": {
            "text/plain": [
              "array([[0., 0., 0.],\n",
              "       [0., 0., 0.]], dtype=float32)"
            ]
          },
          "metadata": {},
          "execution_count": 6
        }
      ]
    },
    {
      "cell_type": "code",
      "source": [
        "import sys\n",
        "\n",
        "def sizeof_fmt(num, suffix='B'):\n",
        "    ''' by Fred Cirera,  https://stackoverflow.com/a/1094933/1870254, modified'''\n",
        "    for unit in ['','Ki','Mi','Gi','Ti','Pi','Ei','Zi']:\n",
        "        if abs(num) < 1024.0:\n",
        "            return \"%3.1f %s%s\" % (num, unit, suffix)\n",
        "        num /= 1024.0\n",
        "    return \"%.1f %s%s\" % (num, 'Yi', suffix)\n",
        "\n",
        "for name, size in sorted(((name, sys.getsizeof(value)) for name, value in locals().items()),\n",
        "                         key= lambda x: -x[1])[:20]:\n",
        "    print(\"{:>30}: {:>8}\".format(name, sizeof_fmt(size)))"
      ],
      "metadata": {
        "colab": {
          "base_uri": "https://localhost:8080/"
        },
        "id": "wVRirvtDDIW3",
        "outputId": "d27b8931-d761-4660-ac5d-58c681ad1b18"
      },
      "execution_count": null,
      "outputs": [
        {
          "output_type": "stream",
          "name": "stdout",
          "text": [
            "                           _i1:  588.0 B\n",
            "                           _oh:  248.0 B\n",
            "                           Out:  248.0 B\n",
            "                    sizeof_fmt:  144.0 B\n",
            "                       __doc__:  113.0 B\n",
            "                           _ih:  104.0 B\n",
            "                            In:  104.0 B\n",
            "                   __builtin__:   88.0 B\n",
            "                  __builtins__:   88.0 B\n",
            "                           _sh:   88.0 B\n",
            "                           sys:   88.0 B\n",
            "                           _dh:   80.0 B\n",
            "                   get_ipython:   72.0 B\n",
            "                          exit:   64.0 B\n",
            "                          quit:   64.0 B\n",
            "                      __name__:   57.0 B\n",
            "                             _:   53.0 B\n",
            "                            __:   53.0 B\n",
            "                           ___:   53.0 B\n",
            "                            _i:   53.0 B\n"
          ]
        }
      ]
    },
    {
      "cell_type": "code",
      "source": [
        "!cat /proc/cpuinfo"
      ],
      "metadata": {
        "colab": {
          "base_uri": "https://localhost:8080/"
        },
        "id": "Y3Ljonn6GhwT",
        "outputId": "93a185e2-8a2c-4aba-9c72-149915d78af4"
      },
      "execution_count": null,
      "outputs": [
        {
          "output_type": "stream",
          "name": "stdout",
          "text": [
            "processor\t: 0\n",
            "vendor_id\t: AuthenticAMD\n",
            "cpu family\t: 23\n",
            "model\t\t: 49\n",
            "model name\t: AMD EPYC 7B12\n",
            "stepping\t: 0\n",
            "microcode\t: 0x1000065\n",
            "cpu MHz\t\t: 2249.998\n",
            "cache size\t: 512 KB\n",
            "physical id\t: 0\n",
            "siblings\t: 4\n",
            "core id\t\t: 0\n",
            "cpu cores\t: 2\n",
            "apicid\t\t: 0\n",
            "initial apicid\t: 0\n",
            "fpu\t\t: yes\n",
            "fpu_exception\t: yes\n",
            "cpuid level\t: 13\n",
            "wp\t\t: yes\n",
            "flags\t\t: fpu vme de pse tsc msr pae mce cx8 apic sep mtrr pge mca cmov pat pse36 clflush mmx fxsr sse sse2 ht syscall nx mmxext fxsr_opt pdpe1gb rdtscp lm constant_tsc rep_good nopl nonstop_tsc cpuid extd_apicid tsc_known_freq pni pclmulqdq ssse3 fma cx16 sse4_1 sse4_2 movbe popcnt aes xsave avx f16c rdrand hypervisor lahf_lm cmp_legacy cr8_legacy abm sse4a misalignsse 3dnowprefetch osvw topoext ssbd ibrs ibpb stibp vmmcall fsgsbase tsc_adjust bmi1 avx2 smep bmi2 rdseed adx smap clflushopt clwb sha_ni xsaveopt xsavec xgetbv1 clzero xsaveerptr arat npt nrip_save umip rdpid\n",
            "bugs\t\t: sysret_ss_attrs null_seg spectre_v1 spectre_v2 spec_store_bypass\n",
            "bogomips\t: 4499.99\n",
            "TLB size\t: 3072 4K pages\n",
            "clflush size\t: 64\n",
            "cache_alignment\t: 64\n",
            "address sizes\t: 48 bits physical, 48 bits virtual\n",
            "power management:\n",
            "\n",
            "processor\t: 1\n",
            "vendor_id\t: AuthenticAMD\n",
            "cpu family\t: 23\n",
            "model\t\t: 49\n",
            "model name\t: AMD EPYC 7B12\n",
            "stepping\t: 0\n",
            "microcode\t: 0x1000065\n",
            "cpu MHz\t\t: 2249.998\n",
            "cache size\t: 512 KB\n",
            "physical id\t: 0\n",
            "siblings\t: 4\n",
            "core id\t\t: 1\n",
            "cpu cores\t: 2\n",
            "apicid\t\t: 2\n",
            "initial apicid\t: 2\n",
            "fpu\t\t: yes\n",
            "fpu_exception\t: yes\n",
            "cpuid level\t: 13\n",
            "wp\t\t: yes\n",
            "flags\t\t: fpu vme de pse tsc msr pae mce cx8 apic sep mtrr pge mca cmov pat pse36 clflush mmx fxsr sse sse2 ht syscall nx mmxext fxsr_opt pdpe1gb rdtscp lm constant_tsc rep_good nopl nonstop_tsc cpuid extd_apicid tsc_known_freq pni pclmulqdq ssse3 fma cx16 sse4_1 sse4_2 movbe popcnt aes xsave avx f16c rdrand hypervisor lahf_lm cmp_legacy cr8_legacy abm sse4a misalignsse 3dnowprefetch osvw topoext ssbd ibrs ibpb stibp vmmcall fsgsbase tsc_adjust bmi1 avx2 smep bmi2 rdseed adx smap clflushopt clwb sha_ni xsaveopt xsavec xgetbv1 clzero xsaveerptr arat npt nrip_save umip rdpid\n",
            "bugs\t\t: sysret_ss_attrs null_seg spectre_v1 spectre_v2 spec_store_bypass\n",
            "bogomips\t: 4499.99\n",
            "TLB size\t: 3072 4K pages\n",
            "clflush size\t: 64\n",
            "cache_alignment\t: 64\n",
            "address sizes\t: 48 bits physical, 48 bits virtual\n",
            "power management:\n",
            "\n",
            "processor\t: 2\n",
            "vendor_id\t: AuthenticAMD\n",
            "cpu family\t: 23\n",
            "model\t\t: 49\n",
            "model name\t: AMD EPYC 7B12\n",
            "stepping\t: 0\n",
            "microcode\t: 0x1000065\n",
            "cpu MHz\t\t: 2249.998\n",
            "cache size\t: 512 KB\n",
            "physical id\t: 0\n",
            "siblings\t: 4\n",
            "core id\t\t: 0\n",
            "cpu cores\t: 2\n",
            "apicid\t\t: 1\n",
            "initial apicid\t: 1\n",
            "fpu\t\t: yes\n",
            "fpu_exception\t: yes\n",
            "cpuid level\t: 13\n",
            "wp\t\t: yes\n",
            "flags\t\t: fpu vme de pse tsc msr pae mce cx8 apic sep mtrr pge mca cmov pat pse36 clflush mmx fxsr sse sse2 ht syscall nx mmxext fxsr_opt pdpe1gb rdtscp lm constant_tsc rep_good nopl nonstop_tsc cpuid extd_apicid tsc_known_freq pni pclmulqdq ssse3 fma cx16 sse4_1 sse4_2 movbe popcnt aes xsave avx f16c rdrand hypervisor lahf_lm cmp_legacy cr8_legacy abm sse4a misalignsse 3dnowprefetch osvw topoext ssbd ibrs ibpb stibp vmmcall fsgsbase tsc_adjust bmi1 avx2 smep bmi2 rdseed adx smap clflushopt clwb sha_ni xsaveopt xsavec xgetbv1 clzero xsaveerptr arat npt nrip_save umip rdpid\n",
            "bugs\t\t: sysret_ss_attrs null_seg spectre_v1 spectre_v2 spec_store_bypass\n",
            "bogomips\t: 4499.99\n",
            "TLB size\t: 3072 4K pages\n",
            "clflush size\t: 64\n",
            "cache_alignment\t: 64\n",
            "address sizes\t: 48 bits physical, 48 bits virtual\n",
            "power management:\n",
            "\n",
            "processor\t: 3\n",
            "vendor_id\t: AuthenticAMD\n",
            "cpu family\t: 23\n",
            "model\t\t: 49\n",
            "model name\t: AMD EPYC 7B12\n",
            "stepping\t: 0\n",
            "microcode\t: 0x1000065\n",
            "cpu MHz\t\t: 2249.998\n",
            "cache size\t: 512 KB\n",
            "physical id\t: 0\n",
            "siblings\t: 4\n",
            "core id\t\t: 1\n",
            "cpu cores\t: 2\n",
            "apicid\t\t: 3\n",
            "initial apicid\t: 3\n",
            "fpu\t\t: yes\n",
            "fpu_exception\t: yes\n",
            "cpuid level\t: 13\n",
            "wp\t\t: yes\n",
            "flags\t\t: fpu vme de pse tsc msr pae mce cx8 apic sep mtrr pge mca cmov pat pse36 clflush mmx fxsr sse sse2 ht syscall nx mmxext fxsr_opt pdpe1gb rdtscp lm constant_tsc rep_good nopl nonstop_tsc cpuid extd_apicid tsc_known_freq pni pclmulqdq ssse3 fma cx16 sse4_1 sse4_2 movbe popcnt aes xsave avx f16c rdrand hypervisor lahf_lm cmp_legacy cr8_legacy abm sse4a misalignsse 3dnowprefetch osvw topoext ssbd ibrs ibpb stibp vmmcall fsgsbase tsc_adjust bmi1 avx2 smep bmi2 rdseed adx smap clflushopt clwb sha_ni xsaveopt xsavec xgetbv1 clzero xsaveerptr arat npt nrip_save umip rdpid\n",
            "bugs\t\t: sysret_ss_attrs null_seg spectre_v1 spectre_v2 spec_store_bypass\n",
            "bogomips\t: 4499.99\n",
            "TLB size\t: 3072 4K pages\n",
            "clflush size\t: 64\n",
            "cache_alignment\t: 64\n",
            "address sizes\t: 48 bits physical, 48 bits virtual\n",
            "power management:\n",
            "\n"
          ]
        }
      ]
    }
  ],
  "metadata": {
    "interpreter": {
      "hash": "4668b2b94aebe22ab6a379c52b27e87f14fb5565ac42686a2db709d03229b54e"
    },
    "kernelspec": {
      "display_name": "Python 3.8.8 ('base')",
      "language": "python",
      "name": "python3"
    },
    "language_info": {
      "codemirror_mode": {
        "name": "ipython",
        "version": 3
      },
      "file_extension": ".py",
      "mimetype": "text/x-python",
      "name": "python",
      "nbconvert_exporter": "python",
      "pygments_lexer": "ipython3",
      "version": "3.8.8"
    },
    "orig_nbformat": 4,
    "colab": {
      "name": "am_trabalho_final.ipynb",
      "provenance": [],
      "machine_shape": "hm"
    },
    "gpuClass": "standard"
  },
  "nbformat": 4,
  "nbformat_minor": 0
}