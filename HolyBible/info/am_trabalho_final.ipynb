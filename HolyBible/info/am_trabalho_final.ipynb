{
 "cells": [
  {
   "cell_type": "code",
   "execution_count": 1,
   "metadata": {},
   "outputs": [],
   "source": [
    "import pandas as pd \n",
    "import numpy as np \n",
    "import matplotlib.pyplot as plt\n",
    "import math as mt"
   ]
  },
  {
   "cell_type": "markdown",
   "metadata": {},
   "source": [
    "# Importando os datasets - Treinamento\n",
    "\n",
    "Os datasets estão na pasta info e são especificados como arquivos do tipo csv.\n",
    "Avila-tr - > training data set\n",
    "Avita-ts - > test dataset \n",
    "\n",
    "O primeiro objetivo é importar os dois datasets e dropar a coluna de labels."
   ]
  },
  {
   "cell_type": "code",
   "execution_count": 2,
   "metadata": {},
   "outputs": [
    {
     "name": "stdout",
     "output_type": "stream",
     "text": [
      "         F1        F2        F3        F4        F5        F6        F7  \\\n",
      "0  0.266074 -0.165620  0.320980  0.483299  0.172340  0.273364  0.371178   \n",
      "1  0.130292  0.870736 -3.210528  0.062493  0.261718  1.436060  1.465940   \n",
      "2 -0.116585  0.069915  0.068476 -0.783147  0.261718  0.439463 -0.081827   \n",
      "3  0.031541  0.297600 -3.210528 -0.583590 -0.721442 -0.307984  0.710932   \n",
      "4  0.229043  0.807926 -0.052442  0.082634  0.261718  0.148790  0.635431   \n",
      "5  0.117948 -0.220579 -3.210528 -1.623238  0.261718 -0.349509  0.257927   \n",
      "6  0.389513 -0.220579 -3.210528 -2.624155  0.261718 -0.764757  0.484429   \n",
      "7  0.019197 -0.040001  0.288973 -0.042597  0.261718 -1.013906  0.069175   \n",
      "8  0.500607  0.140576  0.388552 -0.637358  0.261718 -0.681707  0.295677   \n",
      "9 -0.252367  0.069915  0.246296  0.523550  0.261718 -1.221530  0.899684   \n",
      "\n",
      "         F8        F9       F10 F11  \n",
      "0  0.929823  0.251173  0.159345   A  \n",
      "1  0.636203  0.282354  0.515587   A  \n",
      "2 -0.888236 -0.123005  0.582939   A  \n",
      "3  1.051693  0.594169 -0.533994   A  \n",
      "4  0.051062  0.032902 -0.086652   F  \n",
      "5 -0.385979 -0.247731 -0.331310   A  \n",
      "6 -0.597510 -0.372457 -0.810261   A  \n",
      "7  0.890701  0.095265 -0.842014   F  \n",
      "8  0.931046  0.500624 -0.642297   H  \n",
      "9  1.373076  0.625350 -1.400890   E  \n",
      "             F1        F2        F3        F4        F5        F6        F7  \\\n",
      "10420 -0.005490  0.478177  0.029355 -0.247644  0.172340  0.605563  0.673182   \n",
      "10421  0.241386  0.234790  0.121822  1.037988  0.261718  0.647088  0.182426   \n",
      "10422 -0.277055 -0.251983 -3.203415  1.957926  0.261718  1.892833  0.635431   \n",
      "10423  4.969080 -0.385453  0.143160 -2.600732  0.976743 -0.764757 -0.232828   \n",
      "10424  0.216699  0.321153  0.128935  0.491087  0.261718  0.439463  0.069175   \n",
      "10425  0.080916  0.588093  0.015130  0.002250  0.261718 -0.557133  0.371178   \n",
      "10426  0.253730 -0.338346  0.352988 -1.154243  0.172340 -0.557133  0.257927   \n",
      "10427  0.229043 -0.000745  0.171611 -0.002793  0.261718  0.688613  0.295677   \n",
      "10428 -0.301743  0.352558  0.288973  1.638181  0.261718  0.688613  0.069175   \n",
      "10429 -0.104241 -1.037102  0.388552 -1.099311  0.172340 -0.307984  0.786433   \n",
      "\n",
      "             F8        F9       F10 F11  \n",
      "10420 -0.951919 -0.528364  0.286973   A  \n",
      "10421  0.684936  0.219991  0.628422   A  \n",
      "10422  1.898205  2.184424  1.427425   X  \n",
      "10423 -2.348488 -1.183175 -0.459372   I  \n",
      "10424  0.252846  0.188810  0.482857   A  \n",
      "10425  0.932346  0.282354 -0.580141   F  \n",
      "10426  0.348428  0.032902 -0.527134   F  \n",
      "10427 -1.088486 -0.590727  0.580142   A  \n",
      "10428  0.502761  0.625350  0.718969   E  \n",
      "10429 -1.337547  0.999528 -0.551063   X  \n",
      "Dataset shape:  (10430, 10)\n"
     ]
    }
   ],
   "source": [
    "avilaDatasetTr = pd.read_csv('./info/avila-tr.csv')\n",
    "\n",
    "print(avilaDatasetTr.head(10))\n",
    "\n",
    "print(avilaDatasetTr.tail(10))\n",
    "\n",
    "avilaDatasetTr.columns\n",
    "\n",
    "newAvilaDatasetTr = avilaDatasetTr.drop(columns = ['F11'], axis = 1, inplace=False)\n",
    "\n",
    "print('Dataset shape: ', newAvilaDatasetTr.shape)"
   ]
  },
  {
   "cell_type": "markdown",
   "metadata": {},
   "source": [
    "# Dataset de teste"
   ]
  },
  {
   "cell_type": "code",
   "execution_count": 3,
   "metadata": {},
   "outputs": [
    {
     "name": "stdout",
     "output_type": "stream",
     "text": [
      "         F1        F2        F3        F4        F5        F6        F7  \\\n",
      "0 -3.498799  0.250492  0.232070  1.224178 -4.922215  1.145386  0.182426   \n",
      "1  0.204355 -0.354049  0.320980  0.410166 -0.989576 -2.218127  0.220177   \n",
      "2  0.759828 -1.304042 -0.023991 -0.973663 -0.006417 -0.349509 -0.421580   \n",
      "3 -0.005490  0.360409  0.281860 -0.213479 -1.168333 -1.013906 -0.346080   \n",
      "4  0.080916  0.101320  0.104040  0.140490  0.261718  0.480988  0.710932   \n",
      "\n",
      "         F8        F9       F10  \n",
      "0 -0.165983 -0.123005  1.087144  \n",
      "1  0.181844  2.090879 -2.009758  \n",
      "2 -0.450127  0.469443  0.060952  \n",
      "3  1.176165  0.968347 -0.627999  \n",
      "4 -0.253430 -0.497183  0.155681  \n",
      "(10434, 10)\n"
     ]
    }
   ],
   "source": [
    "avilaDatasetTs = pd.read_csv('./info/avila_ts.csv')\n",
    "\n",
    "newAvilaDatasetTs = avilaDatasetTs.drop(columns = ['F11'], axis = 1, inplace=False)\n",
    "print(newAvilaDatasetTs.head(5))\n",
    "print(newAvilaDatasetTs.shape)\n"
   ]
  },
  {
   "cell_type": "markdown",
   "metadata": {},
   "source": [
    "# Juntando os dois datasets\n",
    "\n"
   ]
  },
  {
   "cell_type": "code",
   "execution_count": 4,
   "metadata": {},
   "outputs": [
    {
     "name": "stdout",
     "output_type": "stream",
     "text": [
      "         F1        F2        F3        F4        F5        F6        F7  \\\n",
      "0 -3.498799  0.250492  0.232070  1.224178 -4.922215  1.145386  0.182426   \n",
      "1  0.204355 -0.354049  0.320980  0.410166 -0.989576 -2.218127  0.220177   \n",
      "2  0.759828 -1.304042 -0.023991 -0.973663 -0.006417 -0.349509 -0.421580   \n",
      "3 -0.005490  0.360409  0.281860 -0.213479 -1.168333 -1.013906 -0.346080   \n",
      "4  0.080916  0.101320  0.104040  0.140490  0.261718  0.480988  0.710932   \n",
      "5  0.068573 -0.181323 -3.210528 -0.294311 -1.168333  0.356414 -0.006326   \n",
      "6 -0.301743 -0.314793  0.399221  0.770520  0.708609  0.564038 -1.403091   \n",
      "7  0.031541 -0.118513  0.374326 -0.066706  0.261718  0.605563  0.559930   \n",
      "8 -0.091897 -0.118513  0.189393  1.280303  0.261718  0.314889  0.069175   \n",
      "9  0.377169  0.014957  0.381439  0.292753  0.261718 -0.307984  0.522180   \n",
      "\n",
      "         F8        F9       F10  \n",
      "0 -0.165983 -0.123005  1.087144  \n",
      "1  0.181844  2.090879 -2.009758  \n",
      "2 -0.450127  0.469443  0.060952  \n",
      "3  1.176165  0.968347 -0.627999  \n",
      "4 -0.253430 -0.497183  0.155681  \n",
      "5 -0.219550  0.126447  0.448186  \n",
      "6 -1.459107 -0.091823  1.627420  \n",
      "7 -0.258129  0.095265  0.344766  \n",
      "8  1.277183  0.531806  0.359002  \n",
      "9  0.370989  0.562987 -0.440132  \n",
      "             F1        F2        F3        F4        F5        F6        F7  \\\n",
      "20854 -0.005490  0.478177  0.029355 -0.247644  0.172340  0.605563  0.673182   \n",
      "20855  0.241386  0.234790  0.121822  1.037988  0.261718  0.647088  0.182426   \n",
      "20856 -0.277055 -0.251983 -3.203415  1.957926  0.261718  1.892833  0.635431   \n",
      "20857  4.969080 -0.385453  0.143160 -2.600732  0.976743 -0.764757 -0.232828   \n",
      "20858  0.216699  0.321153  0.128935  0.491087  0.261718  0.439463  0.069175   \n",
      "20859  0.080916  0.588093  0.015130  0.002250  0.261718 -0.557133  0.371178   \n",
      "20860  0.253730 -0.338346  0.352988 -1.154243  0.172340 -0.557133  0.257927   \n",
      "20861  0.229043 -0.000745  0.171611 -0.002793  0.261718  0.688613  0.295677   \n",
      "20862 -0.301743  0.352558  0.288973  1.638181  0.261718  0.688613  0.069175   \n",
      "20863 -0.104241 -1.037102  0.388552 -1.099311  0.172340 -0.307984  0.786433   \n",
      "\n",
      "             F8        F9       F10  \n",
      "20854 -0.951919 -0.528364  0.286973  \n",
      "20855  0.684936  0.219991  0.628422  \n",
      "20856  1.898205  2.184424  1.427425  \n",
      "20857 -2.348488 -1.183175 -0.459372  \n",
      "20858  0.252846  0.188810  0.482857  \n",
      "20859  0.932346  0.282354 -0.580141  \n",
      "20860  0.348428  0.032902 -0.527134  \n",
      "20861 -1.088486 -0.590727  0.580142  \n",
      "20862  0.502761  0.625350  0.718969  \n",
      "20863 -1.337547  0.999528 -0.551063  \n",
      "New dataset shape:  (20864, 10)\n"
     ]
    }
   ],
   "source": [
    "# creating a list of dataframes\n",
    "frames = [newAvilaDatasetTs, newAvilaDatasetTr]\n",
    "joinDataset = pd.concat(frames, ignore_index=True)\n",
    "\n",
    "print(joinDataset.head(10))\n",
    "print(joinDataset.tail(10))\n",
    "\n",
    "print(\"New dataset shape: \", joinDataset.shape)"
   ]
  },
  {
   "cell_type": "markdown",
   "metadata": {},
   "source": [
    "# Procurando por linhas com linhas com NaN"
   ]
  },
  {
   "cell_type": "code",
   "execution_count": 5,
   "metadata": {},
   "outputs": [
    {
     "name": "stdout",
     "output_type": "stream",
     "text": [
      "20864\n",
      "10\n",
      "-3.498799\n",
      "<class 'numpy.float64'>\n",
      "0.250492\n",
      "<class 'numpy.float64'>\n",
      "0.23207\n",
      "<class 'numpy.float64'>\n",
      "1.224178\n",
      "<class 'numpy.float64'>\n",
      "-4.922215\n",
      "<class 'numpy.float64'>\n",
      "1.145386\n",
      "<class 'numpy.float64'>\n",
      "0.182426\n",
      "<class 'numpy.float64'>\n",
      "-0.165983\n",
      "<class 'numpy.float64'>\n",
      "-0.123005\n",
      "<class 'numpy.float64'>\n",
      "1.087144\n",
      "<class 'numpy.float64'>\n"
     ]
    }
   ],
   "source": [
    "dfValues = joinDataset.values\n",
    "lenght = len(dfValues)\n",
    "columns = dfValues[0].size\n",
    "\n",
    "print(lenght)\n",
    "print(columns)\n",
    "\n",
    "for i in range(0, columns):\n",
    "    print(dfValues[0][i])\n",
    "    print(type(dfValues[0][i]))\n",
    "\n",
    "for r in range(0,lenght):\n",
    "    for c in range(0, columns):\n",
    "        value = dfValues[r][c]\n",
    "        if mt.isnan(value):\n",
    "            print(r)"
   ]
  },
  {
   "cell_type": "markdown",
   "metadata": {},
   "source": [
    "# Funções de distâncias entre dois pontos"
   ]
  },
  {
   "cell_type": "code",
   "execution_count": 6,
   "metadata": {},
   "outputs": [],
   "source": [
    "# Definindo a fórmula para a distância Euclidiana\n",
    "def euclidian(x, y):\n",
    "    sum = 0\n",
    "    for i in range (0, len(x)):\n",
    "        dif = x[i] - y[i]\n",
    "        sum = sum + mt.pow(dif,2)\n",
    "        \n",
    "    return sum"
   ]
  },
  {
   "cell_type": "code",
   "execution_count": 7,
   "metadata": {},
   "outputs": [],
   "source": [
    "# Definindo a fórmula para a distância city-block\n",
    "def city_block(x, y):\n",
    "    sum = 0\n",
    "    for i in range (0, len(x)):\n",
    "        dif = x[i] - y[i]\n",
    "        sum = sum + abs(dif)\n",
    "        \n",
    "    return sum"
   ]
  },
  {
   "cell_type": "code",
   "execution_count": 8,
   "metadata": {},
   "outputs": [],
   "source": [
    "# Definindo uma função para a distância de Chebyshev\n",
    "def chebyshev (x, y):\n",
    "   result = 0\n",
    "   for i in range(0, len(x)):\n",
    "      d = abs(x[i] - y[i])\n",
    "      result = max(result, d)\n",
    "      \n",
    "   return result"
   ]
  },
  {
   "cell_type": "markdown",
   "metadata": {},
   "source": [
    "# Separando as amostras para montar as matrizes de dissimilaridade"
   ]
  },
  {
   "cell_type": "code",
   "execution_count": 9,
   "metadata": {},
   "outputs": [
    {
     "name": "stdout",
     "output_type": "stream",
     "text": [
      "20864\n",
      "20864\n",
      "[-3.498799  0.250492  0.23207   1.224178 -4.922215  1.145386  0.182426\n",
      " -0.165983 -0.123005  1.087144]\n",
      "[-3.498799  0.250492  0.23207   1.224178 -4.922215  1.145386  0.182426\n",
      " -0.165983 -0.123005  1.087144]\n",
      "[-0.104241 -1.037102  0.388552 -1.099311  0.17234  -0.307984  0.786433\n",
      " -1.337547  0.999528 -0.551063]\n",
      "[-0.104241 -1.037102  0.388552 -1.099311  0.17234  -0.307984  0.786433\n",
      " -1.337547  0.999528 -0.551063]\n",
      "20864\n"
     ]
    },
    {
     "ename": "KeyboardInterrupt",
     "evalue": "",
     "output_type": "error",
     "traceback": [
      "\u001b[0;31m---------------------------------------------------------------------------\u001b[0m",
      "\u001b[0;31mKeyboardInterrupt\u001b[0m                         Traceback (most recent call last)",
      "\u001b[0;32m<ipython-input-9-4bc1b8cfdd6f>\u001b[0m in \u001b[0;36m<module>\u001b[0;34m\u001b[0m\n\u001b[1;32m     30\u001b[0m         \u001b[0;32mif\u001b[0m \u001b[0;34m(\u001b[0m\u001b[0mc\u001b[0m \u001b[0;34m<\u001b[0m \u001b[0mr\u001b[0m\u001b[0;34m)\u001b[0m\u001b[0;34m:\u001b[0m\u001b[0;34m\u001b[0m\u001b[0;34m\u001b[0m\u001b[0m\n\u001b[1;32m     31\u001b[0m             \u001b[0mmatriz_1\u001b[0m\u001b[0;34m[\u001b[0m\u001b[0mr\u001b[0m\u001b[0;34m]\u001b[0m\u001b[0;34m[\u001b[0m\u001b[0mc\u001b[0m\u001b[0;34m]\u001b[0m \u001b[0;34m=\u001b[0m \u001b[0meuclidian\u001b[0m\u001b[0;34m(\u001b[0m\u001b[0mbigDataSet1\u001b[0m\u001b[0;34m[\u001b[0m\u001b[0mr\u001b[0m\u001b[0;34m]\u001b[0m\u001b[0;34m,\u001b[0m \u001b[0mbigDataSet2\u001b[0m\u001b[0;34m[\u001b[0m\u001b[0mc\u001b[0m\u001b[0;34m]\u001b[0m\u001b[0;34m)\u001b[0m\u001b[0;34m\u001b[0m\u001b[0;34m\u001b[0m\u001b[0m\n\u001b[0;32m---> 32\u001b[0;31m             \u001b[0mmatriz_1\u001b[0m\u001b[0;34m[\u001b[0m\u001b[0mc\u001b[0m\u001b[0;34m]\u001b[0m\u001b[0;34m[\u001b[0m\u001b[0mr\u001b[0m\u001b[0;34m]\u001b[0m \u001b[0;34m=\u001b[0m \u001b[0mmatriz_1\u001b[0m\u001b[0;34m[\u001b[0m\u001b[0mr\u001b[0m\u001b[0;34m]\u001b[0m\u001b[0;34m[\u001b[0m\u001b[0mc\u001b[0m\u001b[0;34m]\u001b[0m\u001b[0;34m\u001b[0m\u001b[0;34m\u001b[0m\u001b[0m\n\u001b[0m\u001b[1;32m     33\u001b[0m             \u001b[0mmatriz_2\u001b[0m\u001b[0;34m[\u001b[0m\u001b[0mr\u001b[0m\u001b[0;34m]\u001b[0m\u001b[0;34m[\u001b[0m\u001b[0mc\u001b[0m\u001b[0;34m]\u001b[0m \u001b[0;34m=\u001b[0m \u001b[0mcity_block\u001b[0m\u001b[0;34m(\u001b[0m\u001b[0mbigDataSet1\u001b[0m\u001b[0;34m[\u001b[0m\u001b[0mr\u001b[0m\u001b[0;34m]\u001b[0m\u001b[0;34m,\u001b[0m \u001b[0mbigDataSet2\u001b[0m\u001b[0;34m[\u001b[0m\u001b[0mc\u001b[0m\u001b[0;34m]\u001b[0m\u001b[0;34m)\u001b[0m\u001b[0;34m\u001b[0m\u001b[0;34m\u001b[0m\u001b[0m\n\u001b[1;32m     34\u001b[0m             \u001b[0mmatriz_2\u001b[0m\u001b[0;34m[\u001b[0m\u001b[0mc\u001b[0m\u001b[0;34m]\u001b[0m\u001b[0;34m[\u001b[0m\u001b[0mr\u001b[0m\u001b[0;34m]\u001b[0m \u001b[0;34m=\u001b[0m \u001b[0mmatriz_2\u001b[0m\u001b[0;34m[\u001b[0m\u001b[0mr\u001b[0m\u001b[0;34m]\u001b[0m\u001b[0;34m[\u001b[0m\u001b[0mc\u001b[0m\u001b[0;34m]\u001b[0m\u001b[0;34m\u001b[0m\u001b[0;34m\u001b[0m\u001b[0m\n",
      "\u001b[0;31mKeyboardInterrupt\u001b[0m: "
     ]
    }
   ],
   "source": [
    "# Declarando as matrizes\n",
    "lenghtDataset = len(dfValues)\n",
    "\n",
    "#lenghtDataset = 3\n",
    "\n",
    "matriz_1 = np.zeros(shape = [lenghtDataset, lenghtDataset])\n",
    "matriz_2 = np.zeros(shape = [lenghtDataset,lenghtDataset])\n",
    "matriz_3 = np.zeros(shape = [lenghtDataset,lenghtDataset])\n",
    "\n",
    "bigDataSet1 = dfValues\n",
    "\n",
    "bigDataSet2 = dfValues\n",
    "\n",
    "print(len(bigDataSet1))\n",
    "\n",
    "print(len(bigDataSet2))\n",
    "\n",
    "print(bigDataSet1[0])\n",
    "\n",
    "print(bigDataSet2[0])\n",
    "\n",
    "print(bigDataSet1[-1])\n",
    "\n",
    "print(bigDataSet2[-1])\n",
    "\n",
    "print(len(matriz_1))\n",
    "\n",
    "for c in range(0, len(matriz_1)):\n",
    "    for r in range(0, len(matriz_1)):\n",
    "        if (c < r):\n",
    "            matriz_1[r][c] = euclidian(bigDataSet1[r], bigDataSet2[c])\n",
    "            matriz_1[c][r] = matriz_1[r][c]\n",
    "            matriz_2[r][c] = city_block(bigDataSet1[r], bigDataSet2[c])\n",
    "            matriz_2[c][r] = matriz_2[r][c]\n",
    "            matriz_3[r][c] = chebyshev(bigDataSet1[r], bigDataSet2[c])\n",
    "            matriz_3[c][r] = matriz_3[r][c]\n",
    "\n",
    "print(matriz_1)\n",
    "print(matriz_2)\n",
    "print(matriz_3)\n"
   ]
  },
  {
   "cell_type": "code",
   "execution_count": 14,
   "metadata": {},
   "outputs": [
    {
     "name": "stdout",
     "output_type": "stream",
     "text": [
      "0.0\n",
      "0.0\n",
      "0.0\n",
      "\n",
      "\n",
      "56.142702221121\n",
      "18.203133\n",
      "3.9326389999999996\n",
      "\n",
      "\n",
      "53.69795893145599\n",
      "17.184546\n",
      "4.915798\n",
      "\n",
      "\n",
      "56.142702221121\n",
      "18.203133\n",
      "3.9326389999999996\n",
      "\n",
      "\n",
      "0.0\n",
      "0.0\n",
      "0.0\n",
      "\n",
      "\n",
      "15.431493493151\n",
      "11.051917\n",
      "2.07071\n",
      "\n",
      "\n",
      "53.69795893145599\n",
      "17.184546\n",
      "4.915798\n",
      "\n",
      "\n",
      "15.431493493151\n",
      "11.051917\n",
      "2.07071\n",
      "\n",
      "\n",
      "0.0\n",
      "0.0\n",
      "0.0\n",
      "\n",
      "\n"
     ]
    }
   ],
   "source": [
    "# Imprimindo os dados das matrizes de dissimilaridade\n",
    "for i in range(0,3):\n",
    "    for j in range(0,3):\n",
    "        print(matriz_1[i][j])\n",
    "        print(matriz_2[i][j])\n",
    "        print(matriz_3[i][j])\n",
    "        print(\"\\n\")\n",
    "        \n",
    "pd.DataFrame(matriz_1).to_csv(\"./matriz_1.csv\")\n",
    "pd.DataFrame(matriz_2).to_csv(\"./matriz_2.csv\")\n",
    "pd.DataFrame(matriz_3).to_csv(\"./matriz_3.csv\")"
   ]
  },
  {
   "cell_type": "code",
   "execution_count": 10,
   "metadata": {},
   "outputs": [],
   "source": [
    "#Lendo as matrizes a partir do cvs\n",
    "\n",
    "m1_dataset = pd.read_csv(\"./matriz_1.csv\")\n",
    "m2_dataset = pd.read_csv(\"./matriz_2.csv\")\n",
    "m3_dataset = pd.read_csv(\"./matriz_3.csv\")"
   ]
  },
  {
   "cell_type": "code",
   "execution_count": 12,
   "metadata": {},
   "outputs": [
    {
     "data": {
      "text/plain": [
       "(20864, 20865)"
      ]
     },
     "execution_count": 12,
     "metadata": {},
     "output_type": "execute_result"
    }
   ],
   "source": [
    "m1_dataset.shape"
   ]
  }
 ],
 "metadata": {
  "interpreter": {
   "hash": "4668b2b94aebe22ab6a379c52b27e87f14fb5565ac42686a2db709d03229b54e"
  },
  "kernelspec": {
   "display_name": "Python 3.8.8 ('base')",
   "language": "python",
   "name": "python3"
  },
  "language_info": {
   "codemirror_mode": {
    "name": "ipython",
    "version": 3
   },
   "file_extension": ".py",
   "mimetype": "text/x-python",
   "name": "python",
   "nbconvert_exporter": "python",
   "pygments_lexer": "ipython3",
   "version": "3.8.8"
  },
  "orig_nbformat": 4
 },
 "nbformat": 4,
 "nbformat_minor": 2
}
